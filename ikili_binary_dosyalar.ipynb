{
 "cells": [
  {
   "cell_type": "code",
   "execution_count": 1,
   "metadata": {},
   "outputs": [
    {
     "data": {
      "text/plain": [
       "b'%PDF-1.5\\r\\n'"
      ]
     },
     "execution_count": 1,
     "metadata": {},
     "output_type": "execute_result"
    }
   ],
   "source": [
    "# Pdf Dosyalarından Bilgi Almak\n",
    "\n",
    "f = open(\"Yazılım cv.pdf\",\"rb\")\n",
    "f.read(10)"
   ]
  },
  {
   "cell_type": "code",
   "execution_count": 2,
   "metadata": {},
   "outputs": [
    {
     "ename": "UnicodeDecodeError",
     "evalue": "'charmap' codec can't decode byte 0x9d in position 673: character maps to <undefined>",
     "output_type": "error",
     "traceback": [
      "\u001b[1;31m---------------------------------------------------------------------------\u001b[0m",
      "\u001b[1;31mUnicodeDecodeError\u001b[0m                        Traceback (most recent call last)",
      "Cell \u001b[1;32mIn [2], line 2\u001b[0m\n\u001b[0;32m      1\u001b[0m f \u001b[39m=\u001b[39m \u001b[39mopen\u001b[39m(\u001b[39m\"\u001b[39m\u001b[39mYazılım cv.pdf\u001b[39m\u001b[39m\"\u001b[39m)\n\u001b[1;32m----> 2\u001b[0m f\u001b[39m.\u001b[39;49mread(\u001b[39m10\u001b[39;49m)\n",
      "File \u001b[1;32mc:\\Users\\Fallrytme\\AppData\\Local\\Programs\\Python\\Python311\\Lib\\encodings\\cp1254.py:23\u001b[0m, in \u001b[0;36mIncrementalDecoder.decode\u001b[1;34m(self, input, final)\u001b[0m\n\u001b[0;32m     22\u001b[0m \u001b[39mdef\u001b[39;00m \u001b[39mdecode\u001b[39m(\u001b[39mself\u001b[39m, \u001b[39minput\u001b[39m, final\u001b[39m=\u001b[39m\u001b[39mFalse\u001b[39;00m):\n\u001b[1;32m---> 23\u001b[0m     \u001b[39mreturn\u001b[39;00m codecs\u001b[39m.\u001b[39mcharmap_decode(\u001b[39minput\u001b[39m,\u001b[39mself\u001b[39m\u001b[39m.\u001b[39merrors,decoding_table)[\u001b[39m0\u001b[39m]\n",
      "\u001b[1;31mUnicodeDecodeError\u001b[0m: 'charmap' codec can't decode byte 0x9d in position 673: character maps to <undefined>"
     ]
    }
   ],
   "source": [
    "f = open(\"Yazılım cv.pdf\")\n",
    "f.read(10)"
   ]
  },
  {
   "cell_type": "code",
   "execution_count": 3,
   "metadata": {},
   "outputs": [],
   "source": [
    "# /Creator\n",
    "# Belgeyi oluşturan yazılım\n",
    "\n",
    "# /Producer\n",
    "# Belgeyi PDF’e çeviren yazılım\n",
    "\n",
    "# /Title\n",
    "# Belgenin başlığı\n",
    "\n",
    "# /Author\n",
    "# Belgenin yazarı\n",
    "\n",
    "# /Subject\n",
    "# Belgenin konusu\n",
    "\n",
    "# /Keywords\n",
    "# Belgenin anahtar kelimeleri\n",
    "\n",
    "# /CreationDate\n",
    "# Belgenin oluşturulma zamanı\n",
    "\n",
    "# /ModDate\n",
    "# Belgenin değiştirilme zamanı"
   ]
  },
  {
   "cell_type": "code",
   "execution_count": 5,
   "metadata": {},
   "outputs": [],
   "source": [
    "f = open(\"Yazılım cv.pdf\",\"rb\")\n",
    "okunan = f.read()"
   ]
  },
  {
   "cell_type": "code",
   "execution_count": 7,
   "metadata": {},
   "outputs": [
    {
     "data": {
      "text/plain": [
       "23306"
      ]
     },
     "execution_count": 7,
     "metadata": {},
     "output_type": "execute_result"
    }
   ],
   "source": [
    "producer_index = okunan.index(b\"/Producer\")\n",
    "producer_index"
   ]
  },
  {
   "cell_type": "code",
   "execution_count": 8,
   "metadata": {},
   "outputs": [
    {
     "data": {
      "text/plain": [
       "47"
      ]
     },
     "execution_count": 8,
     "metadata": {},
     "output_type": "execute_result"
    }
   ],
   "source": [
    "okunan[producer_index]"
   ]
  },
  {
   "cell_type": "code",
   "execution_count": 9,
   "metadata": {},
   "outputs": [
    {
     "data": {
      "text/plain": [
       "'/'"
      ]
     },
     "execution_count": 9,
     "metadata": {},
     "output_type": "execute_result"
    }
   ],
   "source": [
    "chr(okunan[producer_index])"
   ]
  },
  {
   "cell_type": "code",
   "execution_count": 11,
   "metadata": {},
   "outputs": [
    {
     "data": {
      "text/plain": [
       "b'/Producer(\\xfe\\xff\\x00M\\x00i\\x00c\\x00r\\x00o\\x00s\\x00o\\x00f\\x00t\\x00\\xae\\x00 \\x00W\\x00o\\x00r\\x00d\\x00 \\x002\\x000\\x001'"
      ]
     },
     "execution_count": 11,
     "metadata": {},
     "output_type": "execute_result"
    }
   ],
   "source": [
    "okunan[producer_index : producer_index+50]"
   ]
  },
  {
   "cell_type": "code",
   "execution_count": 12,
   "metadata": {},
   "outputs": [
    {
     "data": {
      "text/plain": [
       "[b'/Producer(\\xfe\\xff\\x00M\\x00i\\x00c\\x00r\\x00o\\x00s\\x00o\\x00f\\x00t\\x00\\xae\\x00',\n",
       " b'\\x00W\\x00o\\x00r\\x00d\\x00',\n",
       " b'\\x002\\x000\\x001']"
      ]
     },
     "execution_count": 12,
     "metadata": {},
     "output_type": "execute_result"
    }
   ],
   "source": [
    "producer = okunan[producer_index:producer_index+50].split()\n",
    "producer"
   ]
  },
  {
   "cell_type": "code",
   "execution_count": 13,
   "metadata": {},
   "outputs": [
    {
     "name": "stdout",
     "output_type": "stream",
     "text": [
      "Bu dosya JPEG değil!\n"
     ]
    }
   ],
   "source": [
    "# Resim Dosyalarının Türünü Tespit Etme\n",
    "\n",
    "# JPEG\n",
    "\n",
    "f = open(\"Yazılım cv.pdf\", 'rb')\n",
    "data = f.read(10)\n",
    "if data[6:11] in [b\"JFIF\", b\"Exif\"]:\n",
    "    print(\"Bu dosya JPEG!\")\n",
    "else:\n",
    "    print(\"Bu dosya JPEG değil!\")"
   ]
  },
  {
   "cell_type": "code",
   "execution_count": 14,
   "metadata": {},
   "outputs": [
    {
     "name": "stdout",
     "output_type": "stream",
     "text": [
      "Bu dosya JPEG!\n"
     ]
    }
   ],
   "source": [
    "f = open(\"GreenCard Photo Sonay.jpg\", 'rb')\n",
    "data = f.read(10)\n",
    "if data[6:11] in [b\"JFIF\", b\"Exif\"]:\n",
    "    print(\"Bu dosya JPEG!\")\n",
    "else:\n",
    "    print(\"Bu dosya JPEG değil!\")"
   ]
  },
  {
   "cell_type": "code",
   "execution_count": 15,
   "metadata": {},
   "outputs": [
    {
     "data": {
      "text/plain": [
       "b'\\x89PNG\\r\\n\\x1a\\n'"
      ]
     },
     "execution_count": 15,
     "metadata": {},
     "output_type": "execute_result"
    }
   ],
   "source": [
    "# PNG\n",
    "\n",
    "f = open(\"Java 101 Sertifika.png\", \"rb\")\n",
    "okunan = f.read(8)\n",
    "okunan"
   ]
  },
  {
   "cell_type": "code",
   "execution_count": 16,
   "metadata": {},
   "outputs": [
    {
     "data": {
      "text/plain": [
       "True"
      ]
     },
     "execution_count": 16,
     "metadata": {},
     "output_type": "execute_result"
    }
   ],
   "source": [
    "okunan == b\"\\211PNG\\r\\n\\032\\n\""
   ]
  },
  {
   "cell_type": "code",
   "execution_count": 18,
   "metadata": {},
   "outputs": [
    {
     "name": "stdout",
     "output_type": "stream",
     "text": [
      "<_io.BufferedReader name='Java 101 Sertifika.png'> adlı dosya bir PNG!\n"
     ]
    }
   ],
   "source": [
    "# GIF\n",
    "\n",
    "f = open(\"Java 101 Sertifika.png\", \"rb\")\n",
    "okunan = f.read(10)\n",
    "if okunan[6:11] in [b'JFIF', b'Exif']:\n",
    "    print(\"{} adlı dosya bir JPEG!\".format(f))\n",
    "elif okunan[:8] == b\"\\211PNG\\r\\n\\032\\n\":\n",
    "    print(\"{} adlı dosya bir PNG!\".format(f))\n",
    "elif okunan[:3] == b'GIF':\n",
    "    print(\"{} adlı dosya bir GIF!\".format(f))\n",
    "else:\n",
    "    print(\"Türü bilinmeyen dosya: {}\".format(f))"
   ]
  },
  {
   "cell_type": "code",
   "execution_count": 19,
   "metadata": {},
   "outputs": [
    {
     "name": "stdout",
     "output_type": "stream",
     "text": [
      "<_io.BufferedReader name='Java 101 Sertifika.png'> adlı dosya bir PNG!\n"
     ]
    }
   ],
   "source": [
    "# TIFF\n",
    "\n",
    "f = open(\"Java 101 Sertifika.png\", \"rb\")\n",
    "okunan = f.read(10)\n",
    "if okunan[6:11] in [b'JFIF', b'Exif']:\n",
    "    print(\"{} adlı dosya bir JPEG!\".format(f))\n",
    "elif okunan[:8] == b\"\\211PNG\\r\\n\\032\\n\":\n",
    "    print(\"{} adlı dosya bir PNG!\".format(f))\n",
    "elif okunan[:3] == b'GIF':\n",
    "    print(\"{} adlı dosya bir GIF!\".format(f))\n",
    "elif okunan[:2] in [b'II', b'MM']:\n",
    "    print(\"{} adlı dosya bir TIFF!\".format(f))\n",
    "else:\n",
    "    print(\"Türü bilinmeyen dosya: {}\".format(f))"
   ]
  },
  {
   "cell_type": "code",
   "execution_count": 20,
   "metadata": {},
   "outputs": [
    {
     "name": "stdout",
     "output_type": "stream",
     "text": [
      "<_io.BufferedReader name='Java 101 Sertifika.png'> adlı dosya bir PNG!\n"
     ]
    }
   ],
   "source": [
    "f = open(\"Java 101 Sertifika.png\", \"rb\")\n",
    "okunan = f.read(10)\n",
    "if okunan[6:11] in [b'JFIF', b'Exif']:\n",
    "    print(\"{} adlı dosya bir JPEG!\".format(f))\n",
    "elif okunan[:8] == b\"\\211PNG\\r\\n\\032\\n\":\n",
    "    print(\"{} adlı dosya bir PNG!\".format(f))\n",
    "elif okunan[:3] == b'GIF':\n",
    "    print(\"{} adlı dosya bir GIF!\".format(f))\n",
    "elif okunan[:2] in [b'II', b'MM']:\n",
    "    print(\"{} adlı dosya bir TIFF!\".format(f))\n",
    "elif okunan[:2] in [b'BM']:\n",
    "    print(\"{} adlı dosya bir BMP!\".format(f))\n",
    "else:\n",
    "    print(\"Türü bilinmeyen dosya: {}\".format(f))"
   ]
  },
  {
   "cell_type": "code",
   "execution_count": null,
   "metadata": {},
   "outputs": [],
   "source": []
  }
 ],
 "metadata": {
  "kernelspec": {
   "display_name": "Python 3.11.0 64-bit",
   "language": "python",
   "name": "python3"
  },
  "language_info": {
   "codemirror_mode": {
    "name": "ipython",
    "version": 3
   },
   "file_extension": ".py",
   "mimetype": "text/x-python",
   "name": "python",
   "nbconvert_exporter": "python",
   "pygments_lexer": "ipython3",
   "version": "3.11.0"
  },
  "orig_nbformat": 4,
  "vscode": {
   "interpreter": {
    "hash": "7c542dbbc07e6010b76b61de8a453dc04d29cd1fae7fbaa29851ecbad9aefb83"
   }
  }
 },
 "nbformat": 4,
 "nbformat_minor": 2
}
