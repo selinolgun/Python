{
 "cells": [
  {
   "cell_type": "code",
   "execution_count": 1,
   "metadata": {},
   "outputs": [
    {
     "name": "stdout",
     "output_type": "stream",
     "text": [
      "Modül eklendi.\n"
     ]
    }
   ],
   "source": [
    "'''\n",
    "modül hakkında bilgilendirme\n",
    "'''\n",
    "print(\"Modül eklendi.\")\n",
    "\n",
    "number = 10\n",
    "numbers = [1,2,3]\n",
    "person = {\n",
    "    \"name\": \"Ali\",\n",
    "    \"age\":\"25\",\n",
    "    \"city\":\"istanbul\"\n",
    "}\n",
    "\n",
    "def func(x):\n",
    "    '''\n",
    "    fonksiyon hakkında bilgilendirme\n",
    "    '''\n",
    "    print(f\"x:{x}\")\n",
    "\n",
    "class Person:\n",
    "    def speak(self):\n",
    "        print(\"I am speaking...\")"
   ]
  }
 ],
 "metadata": {
  "kernelspec": {
   "display_name": "Python 3.11.0 64-bit",
   "language": "python",
   "name": "python3"
  },
  "language_info": {
   "codemirror_mode": {
    "name": "ipython",
    "version": 3
   },
   "file_extension": ".py",
   "mimetype": "text/x-python",
   "name": "python",
   "nbconvert_exporter": "python",
   "pygments_lexer": "ipython3",
   "version": "3.11.0"
  },
  "orig_nbformat": 4,
  "vscode": {
   "interpreter": {
    "hash": "7c542dbbc07e6010b76b61de8a453dc04d29cd1fae7fbaa29851ecbad9aefb83"
   }
  }
 },
 "nbformat": 4,
 "nbformat_minor": 2
}
