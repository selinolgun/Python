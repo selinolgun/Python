{
 "cells": [
  {
   "cell_type": "code",
   "execution_count": 1,
   "metadata": {},
   "outputs": [],
   "source": [
    "çeviri_tablosu = {\"Ö\": \"O\",\n",
    "                  \"ç\": \"c\",\n",
    "                  \"Ü\": \"U\",\n",
    "                  \"Ç\": \"C\",\n",
    "                  \"İ\": \"I\",\n",
    "                  \"ı\": \"i\",\n",
    "                  \"Ğ\": \"G\",\n",
    "                  \"ö\": \"o\",\n",
    "                  \"ş\": \"s\",\n",
    "                  \"ü\": \"u\",\n",
    "                  \"Ş\": \"S\",\n",
    "                  \"ğ\": \"g\"}"
   ]
  },
  {
   "cell_type": "code",
   "execution_count": 2,
   "metadata": {},
   "outputs": [],
   "source": [
    "# Sözlük Tanımlamak\n",
    "\n",
    "kelimeler = {\"kitap\": \"book\"}"
   ]
  },
  {
   "cell_type": "code",
   "execution_count": 3,
   "metadata": {},
   "outputs": [],
   "source": [
    "sözlük = {}"
   ]
  },
  {
   "cell_type": "code",
   "execution_count": 4,
   "metadata": {},
   "outputs": [
    {
     "data": {
      "text/plain": [
       "dict"
      ]
     },
     "execution_count": 4,
     "metadata": {},
     "output_type": "execute_result"
    }
   ],
   "source": [
    "type(sözlük)"
   ]
  },
  {
   "cell_type": "code",
   "execution_count": 5,
   "metadata": {},
   "outputs": [
    {
     "data": {
      "text/plain": [
       "1"
      ]
     },
     "execution_count": 5,
     "metadata": {},
     "output_type": "execute_result"
    }
   ],
   "source": [
    "kelimeler = {\"kitap\": \"book\"}\n",
    "len(kelimeler)"
   ]
  },
  {
   "cell_type": "code",
   "execution_count": 6,
   "metadata": {},
   "outputs": [
    {
     "data": {
      "text/plain": [
       "2"
      ]
     },
     "execution_count": 6,
     "metadata": {},
     "output_type": "execute_result"
    }
   ],
   "source": [
    "kelimeler = {\"kitap\": \"book\", \"bilgisayar\": \"computer\"}\n",
    "len(kelimeler)"
   ]
  },
  {
   "cell_type": "code",
   "execution_count": 7,
   "metadata": {},
   "outputs": [],
   "source": [
    "# sözlük = {\"kitap\": \"book\", \"bilgisayar\": \"computer\", \"programlama\": \"programming\",\n",
    "# \"dil\": \"language\", \"defter\": \"notebook\"}\n",
    "\n",
    "sözlük = {\"kitap\"      : \"book\",\n",
    "          \"bilgisayar\" : \"computer\",\n",
    "          \"programlama\": \"programming\",\n",
    "          \"dil\"        : \"language\",\n",
    "          \"defter\"     : \"notebook\"}\n",
    "\n",
    "# okunaklı olması açısından daha önemli"
   ]
  },
  {
   "cell_type": "code",
   "execution_count": 9,
   "metadata": {},
   "outputs": [
    {
     "name": "stdout",
     "output_type": "stream",
     "text": [
      "book\n"
     ]
    }
   ],
   "source": [
    "# Sözlük Ögelerine Erişmek\n",
    "\n",
    "sözlük = {\"kitap\"      : \"book\",\n",
    "          \"bilgisayar\" : \"computer\",\n",
    "          \"programlama\": \"programming\",\n",
    "          \"dil\"        : \"language\",\n",
    "          \"defter\"     : \"notebook\"}\n",
    "\n",
    "print(sözlük[\"kitap\"])"
   ]
  },
  {
   "cell_type": "code",
   "execution_count": 10,
   "metadata": {},
   "outputs": [
    {
     "name": "stdout",
     "output_type": "stream",
     "text": [
      "computer\n"
     ]
    }
   ],
   "source": [
    "print(sözlük[\"bilgisayar\"])"
   ]
  },
  {
   "cell_type": "code",
   "execution_count": 11,
   "metadata": {},
   "outputs": [
    {
     "name": "stdout",
     "output_type": "stream",
     "text": [
      "O\n"
     ]
    }
   ],
   "source": [
    "çeviri_tablosu = {\"Ö\": \"O\",\n",
    "                  \"ç\": \"c\",\n",
    "                  \"Ü\": \"U\",\n",
    "                  \"Ç\": \"C\",\n",
    "                  \"İ\": \"I\",\n",
    "                  \"ı\": \"i\",\n",
    "                  \"Ğ\": \"G\",\n",
    "                  \"ö\": \"o\",\n",
    "                  \"ş\": \"s\",\n",
    "                  \"ü\": \"u\",\n",
    "                  \"Ş\": \"S\",\n",
    "                  \"ğ\": \"g\"}\n",
    "\n",
    "print(çeviri_tablosu[\"Ö\"])"
   ]
  },
  {
   "cell_type": "code",
   "execution_count": 12,
   "metadata": {},
   "outputs": [
    {
     "name": "stdout",
     "output_type": "stream",
     "text": [
      "O\n",
      "c\n",
      "U\n",
      "C\n",
      "I\n",
      "i\n",
      "G\n",
      "o\n",
      "S\n",
      "g\n"
     ]
    }
   ],
   "source": [
    "print(çeviri_tablosu[\"Ö\"])\n",
    "print(çeviri_tablosu[\"ç\"])\n",
    "print(çeviri_tablosu[\"Ü\"])\n",
    "print(çeviri_tablosu[\"Ç\"])\n",
    "print(çeviri_tablosu[\"İ\"])\n",
    "print(çeviri_tablosu[\"ı\"])\n",
    "print(çeviri_tablosu[\"Ğ\"])\n",
    "print(çeviri_tablosu[\"ö\"])\n",
    "print(çeviri_tablosu[\"Ş\"])\n",
    "print(çeviri_tablosu[\"ğ\"])"
   ]
  },
  {
   "cell_type": "code",
   "execution_count": 13,
   "metadata": {},
   "outputs": [
    {
     "name": "stdout",
     "output_type": "stream",
     "text": [
      "O\n",
      "c\n",
      "U\n",
      "C\n",
      "I\n",
      "i\n",
      "G\n",
      "o\n",
      "s\n",
      "u\n",
      "S\n",
      "g\n"
     ]
    }
   ],
   "source": [
    "for i in çeviri_tablosu:\n",
    "    print(çeviri_tablosu[i])"
   ]
  },
  {
   "cell_type": "code",
   "execution_count": 14,
   "metadata": {},
   "outputs": [
    {
     "ename": "KeyError",
     "evalue": "'Z'",
     "output_type": "error",
     "traceback": [
      "\u001b[1;31m---------------------------------------------------------------------------\u001b[0m",
      "\u001b[1;31mKeyError\u001b[0m                                  Traceback (most recent call last)",
      "Cell \u001b[1;32mIn [14], line 1\u001b[0m\n\u001b[1;32m----> 1\u001b[0m \u001b[39mprint\u001b[39m(çeviri_tablosu[\u001b[39m\"\u001b[39;49m\u001b[39mZ\u001b[39;49m\u001b[39m\"\u001b[39;49m])\n",
      "\u001b[1;31mKeyError\u001b[0m: 'Z'"
     ]
    }
   ],
   "source": [
    "print(çeviri_tablosu[\"Z\"])"
   ]
  },
  {
   "cell_type": "code",
   "execution_count": 15,
   "metadata": {},
   "outputs": [
    {
     "name": "stdout",
     "output_type": "stream",
     "text": [
      "seda naz adlı kişinin telefon numarası: 0533 533 33 33\n"
     ]
    }
   ],
   "source": [
    "telefon_defteri = {\"ahmet öz\" : \"0532 532 32 32\",\n",
    "                   \"mehmet su\": \"0543 543 42 42\",\n",
    "                   \"seda naz\" : \"0533 533 33 33\",\n",
    "                   \"eda ala\"  : \"0212 212 12 12\"}\n",
    "\n",
    "kişi = input(\"Telefon numarasını öğrenmek için bir kişi adı girin: \")\n",
    "\n",
    "if kişi in telefon_defteri:\n",
    "    cevap = \"{} adlı kişinin telefon numarası: {}\"\n",
    "    print(cevap.format(kişi, telefon_defteri[kişi]))\n",
    "else:\n",
    "    print(\"Aradığınız kişi telefon rehberinde yok!\")\n"
   ]
  },
  {
   "cell_type": "code",
   "execution_count": 16,
   "metadata": {},
   "outputs": [],
   "source": [
    "# Sözlüklerin Yapısı\n",
    "\n",
    "sözlük = {\"sıfır\": 0,\n",
    "          \"bir\"  : 1,\n",
    "          \"iki\"  : 2,\n",
    "          \"üç\"   : 3,\n",
    "          \"dört\" : 4,\n",
    "          \"beş\"  : 5}"
   ]
  },
  {
   "cell_type": "code",
   "execution_count": 18,
   "metadata": {},
   "outputs": [
    {
     "name": "stdout",
     "output_type": "stream",
     "text": [
      "['İskenderun', 'Doktor', 30]\n"
     ]
    }
   ],
   "source": [
    "sözlük = {\"Ahmet Özkoparan\": [\"İstanbul\", \"Öğretmen\", 34],\n",
    "          \"Mehmet Yağız\"   : [\"Adana\", \"Mühendis\", 40],\n",
    "          \"Seda Bayrak\"    : [\"İskenderun\", \"Doktor\", 30]}\n",
    "\n",
    "print(sözlük[\"Seda Bayrak\"])"
   ]
  },
  {
   "cell_type": "code",
   "execution_count": 19,
   "metadata": {},
   "outputs": [
    {
     "name": "stdout",
     "output_type": "stream",
     "text": [
      "Adana\n",
      "30\n",
      "Öğretmen\n"
     ]
    }
   ],
   "source": [
    "kişiler = {\"Ahmet Özkoparan\": {\"Memleket\": \"İstanbul\",\n",
    "                               \"Meslek\"  : \"Öğretmen\",\n",
    "                               \"Yaş\"     : 34},\n",
    "\n",
    "           \"Mehmet Yağız\"   : {\"Memleket\": \"Adana\",\n",
    "                               \"Meslek\"  : \"Mühendis\",\n",
    "                               \"Yaş\"     : 40},\n",
    "\n",
    "           \"Seda Bayrak\"    : {\"Memleket\": \"İskenderun\",\n",
    "                               \"Meslek\"  : \"Doktor\",\n",
    "                               \"Yaş\"     : 30}}\n",
    "\n",
    "print(kişiler[\"Mehmet Yağız\"][\"Memleket\"])\n",
    "print(kişiler[\"Seda Bayrak\"][\"Yaş\"])\n",
    "print(kişiler[\"Ahmet Özkoparan\"][\"Meslek\"])"
   ]
  },
  {
   "cell_type": "code",
   "execution_count": 20,
   "metadata": {},
   "outputs": [
    {
     "name": "stdout",
     "output_type": "stream",
     "text": [
      "34\n"
     ]
    }
   ],
   "source": [
    "kişiler = {\"Ahmet Özkoparan\": {\"Memleket\": \"İstanbul\",\n",
    "                               \"Meslek\"  : \"Öğretmen\",\n",
    "                               \"Yaş\"     : 34},\n",
    "\n",
    "           \"Mehmet Yağız\"   : {\"Memleket\": \"Adana\",\n",
    "                               \"Meslek\"  : \"Mühendis\",\n",
    "                               \"Yaş\"     : 40},\n",
    "\n",
    "           \"Seda Bayrak\"    : {\"Memleket\": \"İskenderun\",\n",
    "                               \"Meslek\"  : \"Doktor\",\n",
    "                               \"Yaş\"     : 30}}\n",
    "\n",
    "isim = \"Hakkında ayrıntılı bilgi edinmek \\\n",
    "istediğiniz kişinin adını girin: \"\n",
    "\n",
    "arama = input(isim)\n",
    "\n",
    "ayrıntı = input(\"Memleket/Meslek/Yaş? \")\n",
    "\n",
    "print(kişiler[arama][ayrıntı])"
   ]
  },
  {
   "cell_type": "code",
   "execution_count": 21,
   "metadata": {},
   "outputs": [
    {
     "ename": "KeyError",
     "evalue": "0",
     "output_type": "error",
     "traceback": [
      "\u001b[1;31m---------------------------------------------------------------------------\u001b[0m",
      "\u001b[1;31mKeyError\u001b[0m                                  Traceback (most recent call last)",
      "Cell \u001b[1;32mIn [21], line 4\u001b[0m\n\u001b[0;32m      1\u001b[0m sözlük \u001b[39m=\u001b[39m {\u001b[39m'\u001b[39m\u001b[39melma\u001b[39m\u001b[39m'\u001b[39m: \u001b[39m'\u001b[39m\u001b[39mapple\u001b[39m\u001b[39m'\u001b[39m,\n\u001b[0;32m      2\u001b[0m           \u001b[39m'\u001b[39m\u001b[39marmut\u001b[39m\u001b[39m'\u001b[39m: \u001b[39m'\u001b[39m\u001b[39mpear\u001b[39m\u001b[39m'\u001b[39m,\n\u001b[0;32m      3\u001b[0m           \u001b[39m'\u001b[39m\u001b[39mçilek\u001b[39m\u001b[39m'\u001b[39m: \u001b[39m'\u001b[39m\u001b[39mstrawberry\u001b[39m\u001b[39m'\u001b[39m}\n\u001b[1;32m----> 4\u001b[0m sözlük[\u001b[39m0\u001b[39;49m]\n",
      "\u001b[1;31mKeyError\u001b[0m: 0"
     ]
    }
   ],
   "source": [
    "sözlük = {'elma': 'apple',\n",
    "          'armut': 'pear',\n",
    "          'çilek': 'strawberry'}\n",
    "sözlük[0]"
   ]
  },
  {
   "cell_type": "code",
   "execution_count": 22,
   "metadata": {},
   "outputs": [
    {
     "data": {
      "text/plain": [
       "{'a': '0', 'b': '1', 'c': '2'}"
      ]
     },
     "execution_count": 22,
     "metadata": {},
     "output_type": "execute_result"
    }
   ],
   "source": [
    "sözlük = {'a': '0', 'b': '1', 'c': '2'}\n",
    "sözlük"
   ]
  },
  {
   "cell_type": "code",
   "execution_count": 23,
   "metadata": {},
   "outputs": [],
   "source": [
    "# Sözlüklere Öge Eklemek\n",
    "\n",
    "sözlük = {}"
   ]
  },
  {
   "cell_type": "code",
   "execution_count": 24,
   "metadata": {},
   "outputs": [],
   "source": [
    "sözlük[\"Ahmet\"] = \"Adana\""
   ]
  },
  {
   "cell_type": "code",
   "execution_count": 25,
   "metadata": {},
   "outputs": [
    {
     "name": "stdout",
     "output_type": "stream",
     "text": [
      "{'Ahmet': 'Adana'}\n"
     ]
    }
   ],
   "source": [
    "print(sözlük)"
   ]
  },
  {
   "cell_type": "code",
   "execution_count": 26,
   "metadata": {},
   "outputs": [
    {
     "name": "stdout",
     "output_type": "stream",
     "text": [
      "Adana\n"
     ]
    }
   ],
   "source": [
    "print(sözlük[\"Ahmet\"])"
   ]
  },
  {
   "cell_type": "code",
   "execution_count": 27,
   "metadata": {},
   "outputs": [
    {
     "data": {
      "text/plain": [
       "{(1, 2, 3): 'falanca'}"
      ]
     },
     "execution_count": 27,
     "metadata": {},
     "output_type": "execute_result"
    }
   ],
   "source": [
    "sözlük = {}\n",
    "l = (1,2,3)\n",
    "sözlük[l] = 'falanca'\n",
    "sözlük"
   ]
  },
  {
   "cell_type": "code",
   "execution_count": 28,
   "metadata": {},
   "outputs": [
    {
     "data": {
      "text/plain": [
       "{(1, 2, 3): 'falanca', 45: 'falanca'}"
      ]
     },
     "execution_count": 28,
     "metadata": {},
     "output_type": "execute_result"
    }
   ],
   "source": [
    "l = 45\n",
    "sözlük[l] = 'falanca'\n",
    "sözlük"
   ]
  },
  {
   "cell_type": "code",
   "execution_count": 29,
   "metadata": {},
   "outputs": [
    {
     "data": {
      "text/plain": [
       "{(1, 2, 3): 'falanca', 45: 'falanca', 'kardiz': 'falanca'}"
      ]
     },
     "execution_count": 29,
     "metadata": {},
     "output_type": "execute_result"
    }
   ],
   "source": [
    "l = 'kardiz'\n",
    "sözlük[l] = 'falanca'\n",
    "sözlük"
   ]
  },
  {
   "cell_type": "code",
   "execution_count": 30,
   "metadata": {},
   "outputs": [
    {
     "ename": "TypeError",
     "evalue": "unhashable type: 'list'",
     "output_type": "error",
     "traceback": [
      "\u001b[1;31m---------------------------------------------------------------------------\u001b[0m",
      "\u001b[1;31mTypeError\u001b[0m                                 Traceback (most recent call last)",
      "Cell \u001b[1;32mIn [30], line 2\u001b[0m\n\u001b[0;32m      1\u001b[0m l \u001b[39m=\u001b[39m [\u001b[39m1\u001b[39m,\u001b[39m2\u001b[39m,\u001b[39m3\u001b[39m]\n\u001b[1;32m----> 2\u001b[0m sözlük[l] \u001b[39m=\u001b[39m \u001b[39m'\u001b[39m\u001b[39mfalanca\u001b[39m\u001b[39m'\u001b[39m\n",
      "\u001b[1;31mTypeError\u001b[0m: unhashable type: 'list'"
     ]
    }
   ],
   "source": [
    "l = [1,2,3]\n",
    "sözlük[l] = 'falanca'"
   ]
  },
  {
   "cell_type": "code",
   "execution_count": 31,
   "metadata": {},
   "outputs": [
    {
     "ename": "TypeError",
     "evalue": "unhashable type: 'dict'",
     "output_type": "error",
     "traceback": [
      "\u001b[1;31m---------------------------------------------------------------------------\u001b[0m",
      "\u001b[1;31mTypeError\u001b[0m                                 Traceback (most recent call last)",
      "Cell \u001b[1;32mIn [31], line 2\u001b[0m\n\u001b[0;32m      1\u001b[0m l \u001b[39m=\u001b[39m {\u001b[39m\"\u001b[39m\u001b[39ma\u001b[39m\u001b[39m\"\u001b[39m: \u001b[39m1\u001b[39m, \u001b[39m\"\u001b[39m\u001b[39mb\u001b[39m\u001b[39m\"\u001b[39m: \u001b[39m2\u001b[39m, \u001b[39m\"\u001b[39m\u001b[39mc\u001b[39m\u001b[39m\"\u001b[39m: \u001b[39m3\u001b[39m}\n\u001b[1;32m----> 2\u001b[0m sözlük[l] \u001b[39m=\u001b[39m \u001b[39m'\u001b[39m\u001b[39mfalanca\u001b[39m\u001b[39m'\u001b[39m\n",
      "\u001b[1;31mTypeError\u001b[0m: unhashable type: 'dict'"
     ]
    }
   ],
   "source": [
    "l = {\"a\": 1, \"b\": 2, \"c\": 3}\n",
    "sözlük[l] = 'falanca'"
   ]
  },
  {
   "cell_type": "code",
   "execution_count": 32,
   "metadata": {},
   "outputs": [
    {
     "name": "stdout",
     "output_type": "stream",
     "text": [
      "{'Seda': 98, 'Ege': 95, 'Mehmet': 77, 'Zeynep': 100, 'Deniz': 95, 'Ahmet': 65}\n"
     ]
    }
   ],
   "source": [
    "# Sözlük Ögeleri Üzerinde Değişiklik Yapmak\n",
    "\n",
    "notlar = {'Seda': 98, 'Ege': 95, 'Mehmet': 77,\n",
    "'Zeynep': 100, 'Deniz': 95, 'Ahmet': 45}\n",
    "notlar[\"Ahmet\"] = 65\n",
    "print(notlar)\n"
   ]
  },
  {
   "cell_type": "code",
   "execution_count": 34,
   "metadata": {},
   "outputs": [
    {
     "name": "stdout",
     "output_type": "stream",
     "text": [
      "{'a': 0, 'b': 1, 'c': 2, 'ç': 3, 'd': 4, 'e': 5, 'f': 6, 'g': 7, 'ğ': 8, 'h': 9, 'ı': 10, 'i': 11, 'j': 12, 'k': 13, 'l': 14, 'm': 15, 'n': 16, 'o': 17, 'ö': 18, 'p': 19, 'r': 20, 's': 21, 'ş': 22, 't': 23, 'u': 24, 'ü': 25, 'v': 26, 'y': 27, 'z': 28}\n"
     ]
    }
   ],
   "source": [
    "# Sözlük Üreteçleri (Dictionary Comprehensions)\n",
    "\n",
    "harfler = 'abcçdefgğhıijklmnoöprsştuüvyz'\n",
    "\n",
    "sözlük = {}\n",
    "for i in harfler:\n",
    "    sözlük[i] = harfler.index(i)\n",
    "print(sözlük)"
   ]
  },
  {
   "cell_type": "code",
   "execution_count": 38,
   "metadata": {},
   "outputs": [
    {
     "data": {
      "text/plain": [
       "{'a': 0,\n",
       " 'b': 1,\n",
       " 'c': 2,\n",
       " 'ç': 3,\n",
       " 'd': 4,\n",
       " 'e': 5,\n",
       " 'f': 6,\n",
       " 'g': 7,\n",
       " 'ğ': 8,\n",
       " 'h': 9,\n",
       " 'ı': 10,\n",
       " 'i': 11,\n",
       " 'j': 12,\n",
       " 'k': 13,\n",
       " 'l': 14,\n",
       " 'm': 15,\n",
       " 'n': 16,\n",
       " 'o': 17,\n",
       " 'ö': 18,\n",
       " 'p': 19,\n",
       " 'r': 20,\n",
       " 's': 21,\n",
       " 'ş': 22,\n",
       " 't': 23,\n",
       " 'u': 24,\n",
       " 'ü': 25,\n",
       " 'v': 26,\n",
       " 'y': 27,\n",
       " 'z': 28}"
      ]
     },
     "execution_count": 38,
     "metadata": {},
     "output_type": "execute_result"
    }
   ],
   "source": [
    "sözlük = {i: harfler.index(i) for i in harfler}\n",
    "sözlük"
   ]
  },
  {
   "cell_type": "code",
   "execution_count": 37,
   "metadata": {},
   "outputs": [
    {
     "data": {
      "text/plain": [
       "{'ahmet': 5,\n",
       " 'mehmet': 6,\n",
       " 'fırat': 5,\n",
       " 'zeynep': 6,\n",
       " 'selma': 5,\n",
       " 'abdullah': 8,\n",
       " 'cem': 3}"
      ]
     },
     "execution_count": 37,
     "metadata": {},
     "output_type": "execute_result"
    }
   ],
   "source": [
    "isimler = [\"ahmet\", \"mehmet\", \"fırat\", \"zeynep\", \"selma\", \"abdullah\", \"cem\"]\n",
    "\n",
    "sözlük = {i: len(i) for i in isimler}\n",
    "sözlük"
   ]
  },
  {
   "cell_type": "code",
   "execution_count": null,
   "metadata": {},
   "outputs": [],
   "source": []
  }
 ],
 "metadata": {
  "kernelspec": {
   "display_name": "Python 3.11.0 64-bit",
   "language": "python",
   "name": "python3"
  },
  "language_info": {
   "codemirror_mode": {
    "name": "ipython",
    "version": 3
   },
   "file_extension": ".py",
   "mimetype": "text/x-python",
   "name": "python",
   "nbconvert_exporter": "python",
   "pygments_lexer": "ipython3",
   "version": "3.11.0"
  },
  "orig_nbformat": 4,
  "vscode": {
   "interpreter": {
    "hash": "7c542dbbc07e6010b76b61de8a453dc04d29cd1fae7fbaa29851ecbad9aefb83"
   }
  }
 },
 "nbformat": 4,
 "nbformat_minor": 2
}
