{
 "cells": [
  {
   "cell_type": "code",
   "execution_count": 1,
   "metadata": {},
   "outputs": [
    {
     "name": "stdout",
     "output_type": "stream",
     "text": [
      "\n",
      "(1) topla\n",
      "(2) çıkar\n",
      "(3) çarp\n",
      "(4) böl\n",
      "(5) karesini hesapla\n",
      "(6) kare kök hesapla\n",
      "\n",
      "3 x 3 = 9\n"
     ]
    }
   ],
   "source": [
    "giriş = \"\"\"\n",
    "(1) topla\n",
    "(2) çıkar\n",
    "(3) çarp\n",
    "(4) böl\n",
    "(5) karesini hesapla\n",
    "(6) kare kök hesapla\n",
    "\"\"\"\n",
    "\n",
    "print(giriş)\n",
    "\n",
    "soru = input(\"Yapmak istediğiniz işlemin numarasını girin: \")\n",
    "\n",
    "if soru == \"1\":\n",
    "    sayı1 = int(input(\"Toplama işlemi için ilk sayıyı girin: \"))\n",
    "    sayı2 = int(input(\"Toplama işlemi için ikinci sayıyı girin: \"))\n",
    "    print(sayı1, \"+\", sayı2, \"=\", sayı1 + sayı2)\n",
    "elif soru == \"2\":\n",
    "    sayı3 = int(input(\"Çıkarma işlemi için ilk sayıyı girin: \"))\n",
    "    sayı4 = int(input(\"Çıkarma işlemi için ikinci sayıyı girin: \"))\n",
    "    print(sayı3, \"-\", sayı4, \"=\", sayı3 - sayı4)\n",
    "elif soru == \"3\":\n",
    "    sayı5 = int(input(\"Çarpma işlemi için ilk sayıyı girin: \"))\n",
    "    sayı6 = int(input(\"Çarpma işlemi için ikinci sayıyı girin: \"))\n",
    "    print(sayı5, \"x\", sayı6, \"=\", sayı5 * sayı6)\n",
    "elif soru == \"4\":\n",
    "    sayı7 = int(input(\"Bölme işlemi için ilk sayıyı girin: \"))\n",
    "    sayı8 = int(input(\"Bölme işlemi için ikinci sayıyı girin: \"))\n",
    "    print(sayı7, \"/\", sayı8, \"=\", sayı7 / sayı8)\n",
    "elif soru == \"5\":\n",
    "    sayı9 = int(input(\"Karesini hesaplamak istediğiniz sayıyı girin: \"))\n",
    "    print(sayı9, \"sayısının karesi =\", sayı9 ** 2)\n",
    "elif soru == \"6\":\n",
    "    sayı10 = int(input(\"Karekökünü hesaplamak istediğiniz sayıyı girin: \"))\n",
    "    print(sayı10, \"sayısının karekökü = \", sayı10 ** 0.5)\n",
    "else:\n",
    "    print(\"Yanlış giriş.\")\n",
    "    print(\"Aşağıdaki seçeneklerden birini giriniz:\", giriş)"
   ]
  },
  {
   "cell_type": "code",
   "execution_count": null,
   "metadata": {},
   "outputs": [],
   "source": []
  }
 ],
 "metadata": {
  "kernelspec": {
   "display_name": "Python 3.11.0 64-bit",
   "language": "python",
   "name": "python3"
  },
  "language_info": {
   "codemirror_mode": {
    "name": "ipython",
    "version": 3
   },
   "file_extension": ".py",
   "mimetype": "text/x-python",
   "name": "python",
   "nbconvert_exporter": "python",
   "pygments_lexer": "ipython3",
   "version": "3.11.0"
  },
  "orig_nbformat": 4,
  "vscode": {
   "interpreter": {
    "hash": "7c542dbbc07e6010b76b61de8a453dc04d29cd1fae7fbaa29851ecbad9aefb83"
   }
  }
 },
 "nbformat": 4,
 "nbformat_minor": 2
}
