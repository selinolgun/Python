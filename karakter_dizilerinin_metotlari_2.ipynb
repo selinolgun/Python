{
 "cells": [
  {
   "cell_type": "code",
   "execution_count": 1,
   "metadata": {},
   "outputs": [
    {
     "data": {
      "text/plain": [
       "'Python'"
      ]
     },
     "execution_count": 1,
     "metadata": {},
     "output_type": "execute_result"
    }
   ],
   "source": [
    "# capitalize()\n",
    "\n",
    "a = \"python\"\n",
    "a.capitalize()"
   ]
  },
  {
   "cell_type": "code",
   "execution_count": 2,
   "metadata": {},
   "outputs": [
    {
     "data": {
      "text/plain": [
       "'Python programlama dili'"
      ]
     },
     "execution_count": 2,
     "metadata": {},
     "output_type": "execute_result"
    }
   ],
   "source": [
    "a = \"python programlama dili\"\n",
    "a.capitalize()"
   ]
  },
  {
   "cell_type": "code",
   "execution_count": 3,
   "metadata": {},
   "outputs": [
    {
     "data": {
      "text/plain": [
       "'Istanbul'"
      ]
     },
     "execution_count": 3,
     "metadata": {},
     "output_type": "execute_result"
    }
   ],
   "source": [
    "kardiz = \"istanbul\"\n",
    "kardiz.capitalize()\n",
    "# Türkçe karakter sorunu"
   ]
  },
  {
   "cell_type": "code",
   "execution_count": 4,
   "metadata": {},
   "outputs": [
    {
     "name": "stdout",
     "output_type": "stream",
     "text": [
      "İstanbul büyükşehir belediyesi\n"
     ]
    }
   ],
   "source": [
    "kardiz = \"istanbul büyükşehir belediyesi\"\n",
    "\n",
    "if kardiz.startswith(\"i\"):\n",
    "    kardiz = \"İ\" + kardiz[1:]\n",
    "\n",
    "kardiz = kardiz.capitalize()\n",
    "\n",
    "print(kardiz)"
   ]
  },
  {
   "cell_type": "code",
   "execution_count": 5,
   "metadata": {},
   "outputs": [
    {
     "data": {
      "text/plain": [
       "'Python Programlama Dili'"
      ]
     },
     "execution_count": 5,
     "metadata": {},
     "output_type": "execute_result"
    }
   ],
   "source": [
    "# title()\n",
    "\n",
    "a.title()"
   ]
  },
  {
   "cell_type": "code",
   "execution_count": 6,
   "metadata": {},
   "outputs": [
    {
     "data": {
      "text/plain": [
       "'Istanbul'"
      ]
     },
     "execution_count": 6,
     "metadata": {},
     "output_type": "execute_result"
    }
   ],
   "source": [
    "kardiz = \"istanbul\"\n",
    "kardiz.title()\n",
    "# Türkçe karakter sorunu"
   ]
  },
  {
   "cell_type": "code",
   "execution_count": 7,
   "metadata": {},
   "outputs": [
    {
     "name": "stdout",
     "output_type": "stream",
     "text": [
      "İstanbul\n"
     ]
    }
   ],
   "source": [
    "kardiz = \"istanbul\"\n",
    "\n",
    "if kardiz.startswith(\"i\"):\n",
    "    kardiz = \"İ\" + kardiz[1:]\n",
    "    kardiz = kardiz.title()\n",
    "else:\n",
    "    kardiz = kardiz.title()\n",
    "\n",
    "print(kardiz)"
   ]
  },
  {
   "cell_type": "code",
   "execution_count": 8,
   "metadata": {},
   "outputs": [
    {
     "name": "stdout",
     "output_type": "stream",
     "text": [
      "İstanbul Büyükşehir Belediyesi\n"
     ]
    }
   ],
   "source": [
    "kardiz = \"istanbul büyükşehir belediyesi\"\n",
    "\n",
    "if kardiz.startswith(\"i\"):\n",
    "    kardiz = \"İ\" + kardiz[1:]\n",
    "\n",
    "kardiz = kardiz.title()\n",
    "\n",
    "print(kardiz)"
   ]
  },
  {
   "cell_type": "code",
   "execution_count": 9,
   "metadata": {},
   "outputs": [
    {
     "name": "stdout",
     "output_type": "stream",
     "text": [
      "On İki Ada "
     ]
    }
   ],
   "source": [
    "kardiz = \"on iki ada\"\n",
    "\n",
    "for kelime in kardiz.split():\n",
    "    if kelime.startswith(\"i\"):\n",
    "        kelime = \"İ\" + kelime[1:]\n",
    "\n",
    "    kelime = kelime.title()\n",
    "\n",
    "    print(kelime, end=\" \")"
   ]
  },
  {
   "cell_type": "code",
   "execution_count": 10,
   "metadata": {},
   "outputs": [
    {
     "data": {
      "text/plain": [
       "'PyThOn'"
      ]
     },
     "execution_count": 10,
     "metadata": {},
     "output_type": "execute_result"
    }
   ],
   "source": [
    "# swapcase()\n",
    "\n",
    "kardiz = \"pYtHoN\"\n",
    "kardiz.swapcase()\n",
    "# büyükleri küçük küçükleri büyük yapar"
   ]
  },
  {
   "cell_type": "code",
   "execution_count": 11,
   "metadata": {},
   "outputs": [
    {
     "data": {
      "text/plain": [
       "'ISTIHZA'"
      ]
     },
     "execution_count": 11,
     "metadata": {},
     "output_type": "execute_result"
    }
   ],
   "source": [
    "kardiz = \"istihza\"\n",
    "kardiz.swapcase()\n",
    "# Türkçe karakter sorunu"
   ]
  },
  {
   "cell_type": "code",
   "execution_count": 12,
   "metadata": {},
   "outputs": [
    {
     "name": "stdout",
     "output_type": "stream",
     "text": [
      "İSTANBUL\n"
     ]
    }
   ],
   "source": [
    "kardiz = \"istanbul\"\n",
    "\n",
    "for i in kardiz:\n",
    "    if i == 'İ':\n",
    "        kardiz = kardiz.replace('İ', 'i')\n",
    "    elif i == 'i':\n",
    "        kardiz = kardiz.replace('i', 'İ')\n",
    "    else:\n",
    "        kardiz = kardiz.replace(i, i.swapcase())\n",
    "\n",
    "print(kardiz)"
   ]
  },
  {
   "cell_type": "code",
   "execution_count": 13,
   "metadata": {},
   "outputs": [
    {
     "data": {
      "text/plain": [
       "'ß'"
      ]
     },
     "execution_count": 13,
     "metadata": {},
     "output_type": "execute_result"
    }
   ],
   "source": [
    "# casefold()\n",
    "\n",
    "\"ß\".lower()"
   ]
  },
  {
   "cell_type": "code",
   "execution_count": 14,
   "metadata": {},
   "outputs": [
    {
     "data": {
      "text/plain": [
       "'ss'"
      ]
     },
     "execution_count": 14,
     "metadata": {},
     "output_type": "execute_result"
    }
   ],
   "source": [
    "\"ß\".casefold()"
   ]
  },
  {
   "cell_type": "code",
   "execution_count": 16,
   "metadata": {},
   "outputs": [
    {
     "name": "stdout",
     "output_type": "stream",
     "text": [
      " istihza \n"
     ]
    }
   ],
   "source": [
    "# strip() lstrip() rstrip()\n",
    "\n",
    "kardiz = \" istihza \"\n",
    "print(kardiz)"
   ]
  },
  {
   "cell_type": "code",
   "execution_count": 17,
   "metadata": {},
   "outputs": [
    {
     "data": {
      "text/plain": [
       "'istihza'"
      ]
     },
     "execution_count": 17,
     "metadata": {},
     "output_type": "execute_result"
    }
   ],
   "source": [
    "kardiz.strip()"
   ]
  },
  {
   "cell_type": "code",
   "execution_count": 18,
   "metadata": {},
   "outputs": [],
   "source": [
    "# Ön tanımlı olarak kırptığı karakterler\n",
    "# ‘ ‘\n",
    "# boşluk karakteri\n",
    "\n",
    "# \\t\n",
    "# sekme (TAB) oluşturan kaçış dizisi\n",
    "\n",
    "# \\n\n",
    "# satır başına geçiren kaçış dizisi\n",
    "\n",
    "# \\r\n",
    "# imleci aynı satırın başına döndüren kaçış dizisi\n",
    "\n",
    "# \\v\n",
    "# düşey sekme oluşturan kaçış dizisi\n",
    "\n",
    "# \\f\n",
    "# yeni bir sayfaya geçiren kaçış dizisi"
   ]
  },
  {
   "cell_type": "code",
   "execution_count": 19,
   "metadata": {},
   "outputs": [
    {
     "data": {
      "text/plain": [
       "'ython'"
      ]
     },
     "execution_count": 19,
     "metadata": {},
     "output_type": "execute_result"
    }
   ],
   "source": [
    "kardiz = \"python\"\n",
    "kardiz.strip(\"p\")"
   ]
  },
  {
   "cell_type": "code",
   "execution_count": 20,
   "metadata": {},
   "outputs": [
    {
     "data": {
      "text/plain": [
       "'aza'"
      ]
     },
     "execution_count": 20,
     "metadata": {},
     "output_type": "execute_result"
    }
   ],
   "source": [
    "kardiz = \"kazak\"\n",
    "kardiz.strip(\"k\")\n",
    "# hem başına hem sonuna bakar"
   ]
  },
  {
   "cell_type": "code",
   "execution_count": 21,
   "metadata": {},
   "outputs": [
    {
     "name": "stdout",
     "output_type": "stream",
     "text": [
      " Python programlama dili Guido Van Rossum adlı Hollandalı bir programcı tarafından  90'lı yılların başında geliştirilmeye başlanmıştır. Çoğu insan, isminin Python  olmasına bakarak, bu programlama dilinin, adını piton yılanından aldığını düşünür.  Ancak zannedildiğinin aksine bu programlama dilinin adı piton yılanından gelmez.  Guido Van Rossum bu programlama dilini, The Monty Python adlı bir İngiliz komedi  grubunun, Monty Python's Flying Circus adlı gösterisinden esinlenerek adlandırmıştır.  Ancak her ne kadar gerçek böyle olsa da, Python programlama dilinin pek çok yerde  bir yılan figürü ile temsil edilmesi neredeyse bir gelenek halini almıştır diyebiliriz. "
     ]
    }
   ],
   "source": [
    "metin = \"\"\"\n",
    "> Python programlama dili Guido Van Rossum adlı Hollandalı bir programcı tarafından\n",
    "> 90'lı yılların başında geliştirilmeye başlanmıştır. Çoğu insan, isminin Python\n",
    "> olmasına bakarak, bu programlama dilinin, adını piton yılanından aldığını düşünür.\n",
    "> Ancak zannedildiğinin aksine bu programlama dilinin adı piton yılanından gelmez.\n",
    "> Guido Van Rossum bu programlama dilini, The Monty Python adlı bir İngiliz komedi\n",
    "> grubunun, Monty Python's Flying Circus adlı gösterisinden esinlenerek adlandırmıştır.\n",
    "> Ancak her ne kadar gerçek böyle olsa da, Python programlama dilinin pek çok yerde\n",
    "> bir yılan figürü ile temsil edilmesi neredeyse bir gelenek halini almıştır diyebiliriz.\n",
    "\"\"\"\n",
    "\n",
    "for i in metin.split():\n",
    "    print(i.strip(\"> \"), end=\" \")"
   ]
  },
  {
   "cell_type": "code",
   "execution_count": 22,
   "metadata": {},
   "outputs": [
    {
     "data": {
      "text/plain": [
       "'azak'"
      ]
     },
     "execution_count": 22,
     "metadata": {},
     "output_type": "execute_result"
    }
   ],
   "source": [
    "\"kazak\".lstrip(\"k\")"
   ]
  },
  {
   "cell_type": "code",
   "execution_count": 23,
   "metadata": {},
   "outputs": [
    {
     "data": {
      "text/plain": [
       "'kaza'"
      ]
     },
     "execution_count": 23,
     "metadata": {},
     "output_type": "execute_result"
    }
   ],
   "source": [
    "\"kazak\".rstrip(\"k\")"
   ]
  },
  {
   "cell_type": "code",
   "execution_count": 24,
   "metadata": {},
   "outputs": [
    {
     "data": {
      "text/plain": [
       "'azak'"
      ]
     },
     "execution_count": 24,
     "metadata": {},
     "output_type": "execute_result"
    }
   ],
   "source": [
    "kardiz = \"kazak\"\n",
    "kardiz.lstrip(\"k\")"
   ]
  },
  {
   "cell_type": "code",
   "execution_count": 25,
   "metadata": {},
   "outputs": [
    {
     "data": {
      "text/plain": [
       "'kaza'"
      ]
     },
     "execution_count": 25,
     "metadata": {},
     "output_type": "execute_result"
    }
   ],
   "source": [
    "kardiz.rstrip(\"k\")"
   ]
  },
  {
   "cell_type": "code",
   "execution_count": 26,
   "metadata": {},
   "outputs": [
    {
     "name": "stdout",
     "output_type": "stream",
     "text": [
      "['Beşiktaş', 'Jimnastik', 'Kulübü']\n"
     ]
    }
   ],
   "source": [
    "# join()\n",
    "\n",
    "kardiz = \"Beşiktaş Jimnastik Kulübü\"\n",
    "bölünmüş = kardiz.split()\n",
    "print(bölünmüş)"
   ]
  },
  {
   "cell_type": "code",
   "execution_count": 27,
   "metadata": {},
   "outputs": [
    {
     "data": {
      "text/plain": [
       "'Beşiktaş Jimnastik Kulübü'"
      ]
     },
     "execution_count": 27,
     "metadata": {},
     "output_type": "execute_result"
    }
   ],
   "source": [
    "\" \".join(bölünmüş)"
   ]
  },
  {
   "cell_type": "code",
   "execution_count": 28,
   "metadata": {},
   "outputs": [
    {
     "data": {
      "text/plain": [
       "'Beşiktaş Jimnastik Kulübü'"
      ]
     },
     "execution_count": 28,
     "metadata": {},
     "output_type": "execute_result"
    }
   ],
   "source": [
    "birleştirme_karakteri = \" \"\n",
    "birleştirme_karakteri.join(bölünmüş)"
   ]
  },
  {
   "cell_type": "code",
   "execution_count": 30,
   "metadata": {},
   "outputs": [
    {
     "name": "stdout",
     "output_type": "stream",
     "text": [
      "Beşiktaş-Jimnastik-Kulübü\n"
     ]
    }
   ],
   "source": [
    "kardiz = \"-\".join(bölünmüş)\n",
    "print(kardiz)"
   ]
  },
  {
   "cell_type": "code",
   "execution_count": 31,
   "metadata": {},
   "outputs": [
    {
     "data": {
      "text/plain": [
       "5"
      ]
     },
     "execution_count": 31,
     "metadata": {},
     "output_type": "execute_result"
    }
   ],
   "source": [
    "# count()\n",
    "\n",
    "# sorgulayıcı metot\n",
    "\n",
    "şehir = \"Kahramanmaraş\"\n",
    "şehir.count(\"a\")"
   ]
  },
  {
   "cell_type": "code",
   "execution_count": 32,
   "metadata": {},
   "outputs": [
    {
     "data": {
      "text/plain": [
       "3"
      ]
     },
     "execution_count": 32,
     "metadata": {},
     "output_type": "execute_result"
    }
   ],
   "source": [
    "şehir = \"adana\"\n",
    "şehir.count(\"a\")"
   ]
  },
  {
   "cell_type": "code",
   "execution_count": 33,
   "metadata": {},
   "outputs": [
    {
     "data": {
      "text/plain": [
       "2"
      ]
     },
     "execution_count": 33,
     "metadata": {},
     "output_type": "execute_result"
    }
   ],
   "source": [
    "şehir.count(\"a\", 1)"
   ]
  },
  {
   "cell_type": "code",
   "execution_count": 34,
   "metadata": {},
   "outputs": [
    {
     "data": {
      "text/plain": [
       "2"
      ]
     },
     "execution_count": 34,
     "metadata": {},
     "output_type": "execute_result"
    }
   ],
   "source": [
    "şehir.count(\"a\", 2)"
   ]
  },
  {
   "cell_type": "code",
   "execution_count": 35,
   "metadata": {},
   "outputs": [
    {
     "data": {
      "text/plain": [
       "1"
      ]
     },
     "execution_count": 35,
     "metadata": {},
     "output_type": "execute_result"
    }
   ],
   "source": [
    "şehir.count(\"a\", 3)"
   ]
  },
  {
   "cell_type": "code",
   "execution_count": 36,
   "metadata": {},
   "outputs": [
    {
     "data": {
      "text/plain": [
       "1"
      ]
     },
     "execution_count": 36,
     "metadata": {},
     "output_type": "execute_result"
    }
   ],
   "source": [
    "şehir.count(\"a\", 4)\n",
    "# ikinci parametre kaçıncı karakterden başlayacağını söylüyor"
   ]
  },
  {
   "cell_type": "code",
   "execution_count": 37,
   "metadata": {},
   "outputs": [
    {
     "name": "stdout",
     "output_type": "stream",
     "text": [
      "Parolanızda aynı harfi bir kez kullanabilirsiniz!\n"
     ]
    }
   ],
   "source": [
    "parola = input(\"parolanız: \")\n",
    "\n",
    "kontrol = True\n",
    "\n",
    "for i in parola:\n",
    "    if parola.count(i) > 1:\n",
    "        kontrol = False\n",
    "\n",
    "if kontrol:\n",
    "    print('Parolanız onaylandı!')\n",
    "else:\n",
    "    print('Parolanızda aynı harfi bir kez kullanabilirsiniz!')"
   ]
  },
  {
   "cell_type": "code",
   "execution_count": 38,
   "metadata": {},
   "outputs": [
    {
     "name": "stdout",
     "output_type": "stream",
     "text": [
      "a harfi adana kelimesinde 3 kez geçiyor!\n",
      "d harfi adana kelimesinde 1 kez geçiyor!\n",
      "a harfi adana kelimesinde 3 kez geçiyor!\n",
      "n harfi adana kelimesinde 1 kez geçiyor!\n",
      "a harfi adana kelimesinde 3 kez geçiyor!\n"
     ]
    }
   ],
   "source": [
    "kelime = input(\"Herhangi bir kelime: \")\n",
    "\n",
    "for harf in kelime:\n",
    "    print(\"{} harfi {} kelimesinde {} kez geçiyor!\".format(harf,\n",
    "                                                           kelime,\n",
    "                                                           kelime.count(harf)))"
   ]
  },
  {
   "cell_type": "code",
   "execution_count": 39,
   "metadata": {},
   "outputs": [
    {
     "name": "stdout",
     "output_type": "stream",
     "text": [
      "a harfi adana kelimesinde 3 kez geçiyor!\n",
      "d harfi adana kelimesinde 1 kez geçiyor!\n",
      "n harfi adana kelimesinde 1 kez geçiyor!\n"
     ]
    }
   ],
   "source": [
    "kelime = input(\"Herhangi bir kelime: \")\n",
    "sayaç = \"\"\n",
    "\n",
    "for harf in kelime:\n",
    "    if harf not in sayaç:\n",
    "        sayaç += harf\n",
    "\n",
    "for harf in sayaç:\n",
    "    print(\"{} harfi {} kelimesinde {} kez geçiyor!\".format(harf,\n",
    "                                                           kelime,\n",
    "                                                           kelime.count(harf)))"
   ]
  },
  {
   "cell_type": "code",
   "execution_count": 40,
   "metadata": {},
   "outputs": [
    {
     "data": {
      "text/plain": [
       "1"
      ]
     },
     "execution_count": 40,
     "metadata": {},
     "output_type": "execute_result"
    }
   ],
   "source": [
    "kardiz = \"python programlama dili\"\n",
    "kardiz.count(\"a\", 15, 17)\n",
    "# üçüncü parametre bakılmasını istediği son karakteri söylüyor"
   ]
  },
  {
   "cell_type": "code",
   "execution_count": 41,
   "metadata": {},
   "outputs": [
    {
     "data": {
      "text/plain": [
       "0"
      ]
     },
     "execution_count": 41,
     "metadata": {},
     "output_type": "execute_result"
    }
   ],
   "source": [
    "# index() rindex()\n",
    "\n",
    "kardiz = \"python\"\n",
    "kardiz.index(\"p\")"
   ]
  },
  {
   "cell_type": "code",
   "execution_count": 42,
   "metadata": {},
   "outputs": [
    {
     "data": {
      "text/plain": [
       "5"
      ]
     },
     "execution_count": 42,
     "metadata": {},
     "output_type": "execute_result"
    }
   ],
   "source": [
    "kardiz.index(\"n\")"
   ]
  },
  {
   "cell_type": "code",
   "execution_count": 43,
   "metadata": {},
   "outputs": [
    {
     "data": {
      "text/plain": [
       "0"
      ]
     },
     "execution_count": 43,
     "metadata": {},
     "output_type": "execute_result"
    }
   ],
   "source": [
    "kardiz = \"adana\"\n",
    "kardiz.index(\"a\")"
   ]
  },
  {
   "cell_type": "code",
   "execution_count": 44,
   "metadata": {},
   "outputs": [
    {
     "data": {
      "text/plain": [
       "2"
      ]
     },
     "execution_count": 44,
     "metadata": {},
     "output_type": "execute_result"
    }
   ],
   "source": [
    "kardiz.index(\"a\", 1)\n",
    "# kaçıncıdan başlayacağımızı belirttik"
   ]
  },
  {
   "cell_type": "code",
   "execution_count": 45,
   "metadata": {},
   "outputs": [
    {
     "data": {
      "text/plain": [
       "2"
      ]
     },
     "execution_count": 45,
     "metadata": {},
     "output_type": "execute_result"
    }
   ],
   "source": [
    "kardiz.index(\"a\", 1, 3)\n",
    "# kaçıncı da biteceğini belirttik"
   ]
  },
  {
   "cell_type": "code",
   "execution_count": 46,
   "metadata": {},
   "outputs": [
    {
     "name": "stdout",
     "output_type": "stream",
     "text": [
      "0\n",
      "2\n",
      "2\n",
      "4\n",
      "4\n"
     ]
    }
   ],
   "source": [
    "kardiz = \"adana\"\n",
    "\n",
    "print(kardiz.index(\"a\", 0))\n",
    "print(kardiz.index(\"a\", 1))\n",
    "print(kardiz.index(\"a\", 2))\n",
    "print(kardiz.index(\"a\", 3))\n",
    "print(kardiz.index(\"a\", 4))"
   ]
  },
  {
   "cell_type": "code",
   "execution_count": 47,
   "metadata": {},
   "outputs": [
    {
     "name": "stdout",
     "output_type": "stream",
     "text": [
      "0\n",
      "2\n",
      "2\n",
      "4\n",
      "4\n"
     ]
    }
   ],
   "source": [
    "kardiz = \"adana\"\n",
    "\n",
    "for i in range(len(kardiz)):\n",
    "    print(kardiz.index(\"a\", i))"
   ]
  },
  {
   "cell_type": "code",
   "execution_count": 48,
   "metadata": {},
   "outputs": [
    {
     "name": "stdout",
     "output_type": "stream",
     "text": [
      "0\n",
      "2\n",
      "2\n",
      "4\n",
      "4\n"
     ]
    }
   ],
   "source": [
    "kardiz = input(\"Metin girin: \")\n",
    "aranacak = input(\"Aradığınız harf: \")\n",
    "\n",
    "for i in range(len(kardiz)):\n",
    "    print(kardiz.index(aranacak, i))"
   ]
  },
  {
   "cell_type": "code",
   "execution_count": 49,
   "metadata": {},
   "outputs": [
    {
     "name": "stdout",
     "output_type": "stream",
     "text": [
      "0\n",
      "2\n",
      "4\n"
     ]
    }
   ],
   "source": [
    "kardiz = input(\"Metin girin: \")\n",
    "aranacak = input(\"Aradığınız harf: \")\n",
    "\n",
    "for i in range(len(kardiz)):\n",
    "    if i == kardiz.index(aranacak, i):\n",
    "        print(i)"
   ]
  },
  {
   "cell_type": "code",
   "execution_count": 50,
   "metadata": {},
   "outputs": [
    {
     "data": {
      "text/plain": [
       "4"
      ]
     },
     "execution_count": 50,
     "metadata": {},
     "output_type": "execute_result"
    }
   ],
   "source": [
    "kardiz.rindex(\"a\")\n",
    "# sağdan sola arama yapar"
   ]
  },
  {
   "cell_type": "code",
   "execution_count": 51,
   "metadata": {},
   "outputs": [
    {
     "data": {
      "text/plain": [
       "0"
      ]
     },
     "execution_count": 51,
     "metadata": {},
     "output_type": "execute_result"
    }
   ],
   "source": [
    "# find() rfind()\n",
    "\n",
    "kardiz = \"adana\"\n",
    "kardiz.find(\"a\")"
   ]
  },
  {
   "cell_type": "code",
   "execution_count": 52,
   "metadata": {},
   "outputs": [
    {
     "data": {
      "text/plain": [
       "4"
      ]
     },
     "execution_count": 52,
     "metadata": {},
     "output_type": "execute_result"
    }
   ],
   "source": [
    "kardiz.rfind(\"a\")"
   ]
  },
  {
   "cell_type": "code",
   "execution_count": 53,
   "metadata": {},
   "outputs": [
    {
     "ename": "ValueError",
     "evalue": "substring not found",
     "output_type": "error",
     "traceback": [
      "\u001b[1;31m---------------------------------------------------------------------------\u001b[0m",
      "\u001b[1;31mValueError\u001b[0m                                Traceback (most recent call last)",
      "Cell \u001b[1;32mIn [53], line 2\u001b[0m\n\u001b[0;32m      1\u001b[0m kardiz \u001b[39m=\u001b[39m \u001b[39m\"\u001b[39m\u001b[39madana\u001b[39m\u001b[39m\"\u001b[39m\n\u001b[1;32m----> 2\u001b[0m kardiz\u001b[39m.\u001b[39;49mindex(\u001b[39m\"\u001b[39;49m\u001b[39mz\u001b[39;49m\u001b[39m\"\u001b[39;49m)\n",
      "\u001b[1;31mValueError\u001b[0m: substring not found"
     ]
    }
   ],
   "source": [
    "kardiz = \"adana\"\n",
    "kardiz.index(\"z\")"
   ]
  },
  {
   "cell_type": "code",
   "execution_count": 54,
   "metadata": {},
   "outputs": [
    {
     "data": {
      "text/plain": [
       "-1"
      ]
     },
     "execution_count": 54,
     "metadata": {},
     "output_type": "execute_result"
    }
   ],
   "source": [
    "kardiz = \"adana\"\n",
    "kardiz.find(\"z\")\n",
    "# index ve find farkı budur"
   ]
  },
  {
   "cell_type": "code",
   "execution_count": 55,
   "metadata": {},
   "outputs": [
    {
     "name": "stdout",
     "output_type": "stream",
     "text": [
      "    __add__    \n",
      "   __class__   \n",
      "  __contains__ \n",
      "  __delattr__  \n",
      "    __dir__    \n",
      "    __doc__    \n",
      "     __eq__    \n",
      "   __format__  \n",
      "     __ge__    \n",
      "__getattribute__\n",
      "  __getitem__  \n",
      " __getnewargs__\n",
      "  __getstate__ \n",
      "     __gt__    \n",
      "    __hash__   \n",
      "    __init__   \n",
      "__init_subclass__\n",
      "    __iter__   \n",
      "     __le__    \n",
      "    __len__    \n",
      "     __lt__    \n",
      "    __mod__    \n",
      "    __mul__    \n",
      "     __ne__    \n",
      "    __new__    \n",
      "   __reduce__  \n",
      " __reduce_ex__ \n",
      "    __repr__   \n",
      "    __rmod__   \n",
      "    __rmul__   \n",
      "  __setattr__  \n",
      "   __sizeof__  \n",
      "    __str__    \n",
      "__subclasshook__\n",
      "   capitalize  \n",
      "    casefold   \n",
      "     center    \n",
      "     count     \n",
      "     encode    \n",
      "    endswith   \n",
      "   expandtabs  \n",
      "      find     \n",
      "     format    \n",
      "   format_map  \n",
      "     index     \n",
      "    isalnum    \n",
      "    isalpha    \n",
      "    isascii    \n",
      "   isdecimal   \n",
      "    isdigit    \n",
      "  isidentifier \n",
      "    islower    \n",
      "   isnumeric   \n",
      "  isprintable  \n",
      "    isspace    \n",
      "    istitle    \n",
      "    isupper    \n",
      "      join     \n",
      "     ljust     \n",
      "     lower     \n",
      "     lstrip    \n",
      "   maketrans   \n",
      "   partition   \n",
      "  removeprefix \n",
      "  removesuffix \n",
      "    replace    \n",
      "     rfind     \n",
      "     rindex    \n",
      "     rjust     \n",
      "   rpartition  \n",
      "     rsplit    \n",
      "     rstrip    \n",
      "     split     \n",
      "   splitlines  \n",
      "   startswith  \n",
      "     strip     \n",
      "    swapcase   \n",
      "     title     \n",
      "   translate   \n",
      "     upper     \n",
      "     zfill     \n"
     ]
    }
   ],
   "source": [
    "# center()\n",
    "\n",
    "for metot in dir(\"\"):\n",
    "    print(metot.center(15))"
   ]
  },
  {
   "cell_type": "code",
   "execution_count": 56,
   "metadata": {},
   "outputs": [
    {
     "data": {
      "text/plain": [
       "'python'"
      ]
     },
     "execution_count": 56,
     "metadata": {},
     "output_type": "execute_result"
    }
   ],
   "source": [
    "kardiz = \"python\"\n",
    "kardiz.center(1)"
   ]
  },
  {
   "cell_type": "code",
   "execution_count": 57,
   "metadata": {},
   "outputs": [
    {
     "data": {
      "text/plain": [
       "'  python  '"
      ]
     },
     "execution_count": 57,
     "metadata": {},
     "output_type": "execute_result"
    }
   ],
   "source": [
    "kardiz.center(10)"
   ]
  },
  {
   "cell_type": "code",
   "execution_count": 58,
   "metadata": {},
   "outputs": [
    {
     "data": {
      "text/plain": [
       "'---elma---'"
      ]
     },
     "execution_count": 58,
     "metadata": {},
     "output_type": "execute_result"
    }
   ],
   "source": [
    "kardiz = \"elma\"\n",
    "kardiz.center(10, \"-\")"
   ]
  },
  {
   "cell_type": "code",
   "execution_count": 59,
   "metadata": {},
   "outputs": [
    {
     "name": "stdout",
     "output_type": "stream",
     "text": [
      "__add__             \n",
      "__class__           \n",
      "__contains__        \n",
      "__delattr__         \n",
      "__dir__             \n",
      "__doc__             \n",
      "__eq__              \n",
      "__format__          \n",
      "__ge__              \n",
      "__getattribute__    \n",
      "__getitem__         \n",
      "__getnewargs__      \n",
      "__getstate__        \n",
      "__gt__              \n",
      "__hash__            \n",
      "__init__            \n",
      "__init_subclass__   \n",
      "__iter__            \n",
      "__le__              \n",
      "__len__             \n",
      "__lt__              \n",
      "__mod__             \n",
      "__mul__             \n",
      "__ne__              \n",
      "__new__             \n",
      "__reduce__          \n",
      "__reduce_ex__       \n",
      "__repr__            \n",
      "__rmod__            \n",
      "__rmul__            \n",
      "__setattr__         \n",
      "__sizeof__          \n",
      "__str__             \n",
      "__subclasshook__    \n",
      "capitalize          \n",
      "casefold            \n",
      "center              \n",
      "count               \n",
      "encode              \n",
      "endswith            \n",
      "expandtabs          \n",
      "find                \n",
      "format              \n",
      "format_map          \n",
      "index               \n",
      "isalnum             \n",
      "isalpha             \n",
      "isascii             \n",
      "isdecimal           \n",
      "isdigit             \n",
      "isidentifier        \n",
      "islower             \n",
      "isnumeric           \n",
      "isprintable         \n",
      "isspace             \n",
      "istitle             \n",
      "isupper             \n",
      "join                \n",
      "ljust               \n",
      "lower               \n",
      "lstrip              \n",
      "maketrans           \n",
      "partition           \n",
      "removeprefix        \n",
      "removesuffix        \n",
      "replace             \n",
      "rfind               \n",
      "rindex              \n",
      "rjust               \n",
      "rpartition          \n",
      "rsplit              \n",
      "rstrip              \n",
      "split               \n",
      "splitlines          \n",
      "startswith          \n",
      "strip               \n",
      "swapcase            \n",
      "title               \n",
      "translate           \n",
      "upper               \n",
      "zfill               \n"
     ]
    }
   ],
   "source": [
    "# rjust() ljust()\n",
    "\n",
    "for i in dir(\"\"):\n",
    "    print(i.ljust(20))"
   ]
  },
  {
   "cell_type": "code",
   "execution_count": 60,
   "metadata": {},
   "outputs": [
    {
     "name": "stdout",
     "output_type": "stream",
     "text": [
      "             __add__\n",
      "           __class__\n",
      "        __contains__\n",
      "         __delattr__\n",
      "             __dir__\n",
      "             __doc__\n",
      "              __eq__\n",
      "          __format__\n",
      "              __ge__\n",
      "    __getattribute__\n",
      "         __getitem__\n",
      "      __getnewargs__\n",
      "        __getstate__\n",
      "              __gt__\n",
      "            __hash__\n",
      "            __init__\n",
      "   __init_subclass__\n",
      "            __iter__\n",
      "              __le__\n",
      "             __len__\n",
      "              __lt__\n",
      "             __mod__\n",
      "             __mul__\n",
      "              __ne__\n",
      "             __new__\n",
      "          __reduce__\n",
      "       __reduce_ex__\n",
      "            __repr__\n",
      "            __rmod__\n",
      "            __rmul__\n",
      "         __setattr__\n",
      "          __sizeof__\n",
      "             __str__\n",
      "    __subclasshook__\n",
      "          capitalize\n",
      "            casefold\n",
      "              center\n",
      "               count\n",
      "              encode\n",
      "            endswith\n",
      "          expandtabs\n",
      "                find\n",
      "              format\n",
      "          format_map\n",
      "               index\n",
      "             isalnum\n",
      "             isalpha\n",
      "             isascii\n",
      "           isdecimal\n",
      "             isdigit\n",
      "        isidentifier\n",
      "             islower\n",
      "           isnumeric\n",
      "         isprintable\n",
      "             isspace\n",
      "             istitle\n",
      "             isupper\n",
      "                join\n",
      "               ljust\n",
      "               lower\n",
      "              lstrip\n",
      "           maketrans\n",
      "           partition\n",
      "        removeprefix\n",
      "        removesuffix\n",
      "             replace\n",
      "               rfind\n",
      "              rindex\n",
      "               rjust\n",
      "          rpartition\n",
      "              rsplit\n",
      "              rstrip\n",
      "               split\n",
      "          splitlines\n",
      "          startswith\n",
      "               strip\n",
      "            swapcase\n",
      "               title\n",
      "           translate\n",
      "               upper\n",
      "               zfill\n"
     ]
    }
   ],
   "source": [
    "for i in dir(\"\"):\n",
    "    print(i.rjust(20))"
   ]
  },
  {
   "cell_type": "code",
   "execution_count": 61,
   "metadata": {},
   "outputs": [
    {
     "data": {
      "text/plain": [
       "'tel no....'"
      ]
     },
     "execution_count": 61,
     "metadata": {},
     "output_type": "execute_result"
    }
   ],
   "source": [
    "kardiz = \"tel no\"\n",
    "kardiz.ljust(10, \".\")"
   ]
  },
  {
   "cell_type": "code",
   "execution_count": 62,
   "metadata": {},
   "outputs": [
    {
     "data": {
      "text/plain": [
       "'012'"
      ]
     },
     "execution_count": 62,
     "metadata": {},
     "output_type": "execute_result"
    }
   ],
   "source": [
    "# zfiil()\n",
    "\n",
    "a = \"12\"\n",
    "a.zfill(3)"
   ]
  },
  {
   "cell_type": "code",
   "execution_count": 63,
   "metadata": {},
   "outputs": [
    {
     "name": "stdout",
     "output_type": "stream",
     "text": [
      "00\n",
      "01\n",
      "02\n",
      "03\n",
      "04\n",
      "05\n",
      "06\n",
      "07\n",
      "08\n",
      "09\n",
      "10\n"
     ]
    }
   ],
   "source": [
    "for i in range(11):\n",
    "    print(str(i).zfill(2))\n",
    "# zfiil() str metodunda kullanılır bu yüzden str ile rangeten gelen sayıları\n",
    "# str formatına dönüştürdük"
   ]
  },
  {
   "cell_type": "code",
   "execution_count": 64,
   "metadata": {},
   "outputs": [
    {
     "data": {
      "text/plain": [
       "('ist', 'an', 'bul')"
      ]
     },
     "execution_count": 64,
     "metadata": {},
     "output_type": "execute_result"
    }
   ],
   "source": [
    "# partition() rpartition()\n",
    "\n",
    "a = \"istanbul\"\n",
    "a.partition(\"an\")"
   ]
  },
  {
   "cell_type": "code",
   "execution_count": 65,
   "metadata": {},
   "outputs": [
    {
     "data": {
      "text/plain": [
       "('istanbul', '', '')"
      ]
     },
     "execution_count": 65,
     "metadata": {},
     "output_type": "execute_result"
    }
   ],
   "source": [
    "a = \"istanbul\"\n",
    "a.partition(\"h\")\n",
    "# ifade yoksa yine 3 e böler ancak 2 si boş eleman kalır"
   ]
  },
  {
   "cell_type": "code",
   "execution_count": 66,
   "metadata": {},
   "outputs": [
    {
     "data": {
      "text/plain": [
       "('', 'i', 'stihza')"
      ]
     },
     "execution_count": 66,
     "metadata": {},
     "output_type": "execute_result"
    }
   ],
   "source": [
    "b = \"istihza\"\n",
    "b.partition(\"i\")"
   ]
  },
  {
   "cell_type": "code",
   "execution_count": 67,
   "metadata": {},
   "outputs": [
    {
     "data": {
      "text/plain": [
       "('ist', 'i', 'hza')"
      ]
     },
     "execution_count": 67,
     "metadata": {},
     "output_type": "execute_result"
    }
   ],
   "source": [
    "b.rpartition(\"i\")"
   ]
  },
  {
   "cell_type": "code",
   "execution_count": 68,
   "metadata": {},
   "outputs": [
    {
     "data": {
      "text/plain": [
       "b'\\xe7ilek'"
      ]
     },
     "execution_count": 68,
     "metadata": {},
     "output_type": "execute_result"
    }
   ],
   "source": [
    "# encode()\n",
    "\n",
    "\"çilek\".encode(\"cp1254\")\n",
    "# farklı karakter kodlamalarına göre kodlayabiliyoruz"
   ]
  },
  {
   "cell_type": "code",
   "execution_count": 69,
   "metadata": {},
   "outputs": [
    {
     "data": {
      "text/plain": [
       "'elma      bir       meyvedir'"
      ]
     },
     "execution_count": 69,
     "metadata": {},
     "output_type": "execute_result"
    }
   ],
   "source": [
    "# expandtabs()\n",
    "\n",
    "a = \"elma\\tbir\\tmeyvedir\"\n",
    "a.expandtabs(10)"
   ]
  },
  {
   "cell_type": "code",
   "execution_count": null,
   "metadata": {},
   "outputs": [],
   "source": []
  }
 ],
 "metadata": {
  "kernelspec": {
   "display_name": "Python 3.11.0 64-bit",
   "language": "python",
   "name": "python3"
  },
  "language_info": {
   "codemirror_mode": {
    "name": "ipython",
    "version": 3
   },
   "file_extension": ".py",
   "mimetype": "text/x-python",
   "name": "python",
   "nbconvert_exporter": "python",
   "pygments_lexer": "ipython3",
   "version": "3.11.0"
  },
  "orig_nbformat": 4,
  "vscode": {
   "interpreter": {
    "hash": "7c542dbbc07e6010b76b61de8a453dc04d29cd1fae7fbaa29851ecbad9aefb83"
   }
  }
 },
 "nbformat": 4,
 "nbformat_minor": 2
}
