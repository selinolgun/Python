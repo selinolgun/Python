{
 "cells": [
  {
   "cell_type": "code",
   "execution_count": 2,
   "metadata": {},
   "outputs": [
    {
     "name": "stdout",
     "output_type": "stream",
     "text": [
      "110\n"
     ]
    }
   ],
   "source": [
    "x = int(input(\"Birinci sayı: \"))\n",
    "y = int(input(\"İkinci sayı: \"))\n",
    "\n",
    "if (x*y) > 1000:\n",
    "    toplam = x + y\n",
    "    print(toplam)\n",
    "else:\n",
    "    çarpım = x * y\n",
    "    print(çarpım)"
   ]
  },
  {
   "cell_type": "code",
   "execution_count": 4,
   "metadata": {},
   "outputs": [
    {
     "name": "stdout",
     "output_type": "stream",
     "text": [
      "Şimdiki sayı 0, Önceki sayı None, İkisinin toplamı 0\n",
      "Şimdiki sayı 1, Önceki sayı 0, İkisinin toplamı 1\n",
      "Şimdiki sayı 2, Önceki sayı 1, İkisinin toplamı 3\n",
      "Şimdiki sayı 3, Önceki sayı 2, İkisinin toplamı 5\n",
      "Şimdiki sayı 4, Önceki sayı 3, İkisinin toplamı 7\n",
      "Şimdiki sayı 5, Önceki sayı 4, İkisinin toplamı 9\n",
      "Şimdiki sayı 6, Önceki sayı 5, İkisinin toplamı 11\n",
      "Şimdiki sayı 7, Önceki sayı 6, İkisinin toplamı 13\n",
      "Şimdiki sayı 8, Önceki sayı 7, İkisinin toplamı 15\n",
      "Şimdiki sayı 9, Önceki sayı 8, İkisinin toplamı 17\n"
     ]
    }
   ],
   "source": [
    "for i in range(0,10):\n",
    "    if i == 0:\n",
    "        print(f\"Şimdiki sayı {i}, Önceki sayı None, İkisinin toplamı {i+i}\")\n",
    "    else:\n",
    "        print(f\"Şimdiki sayı {i}, Önceki sayı {i-1}, İkisinin toplamı {i+(i-1)}\")"
   ]
  },
  {
   "cell_type": "code",
   "execution_count": 15,
   "metadata": {},
   "outputs": [
    {
     "name": "stdout",
     "output_type": "stream",
     "text": [
      "p\n",
      "n\n",
      "t\n",
      "v\n"
     ]
    }
   ],
   "source": [
    "kelime = \"pynative\"\n",
    "\n",
    "for i in range(len(kelime)):\n",
    "    numara = kelime.index(kelime[i])\n",
    "    if numara % 2 == 0:\n",
    "        print(kelime[i])"
   ]
  },
  {
   "cell_type": "code",
   "execution_count": 22,
   "metadata": {},
   "outputs": [
    {
     "name": "stdout",
     "output_type": "stream",
     "text": [
      "native\n"
     ]
    }
   ],
   "source": [
    "def silgitsin(x,y):\n",
    "    if y > len(x):\n",
    "        print(\"Sileceğiniz harf sayısı kelimenin uzunluğundan büyük olamaz.\")\n",
    "    else:\n",
    "        x = x[y:]\n",
    "        print(x)\n",
    "\n",
    "silgitsin(\"pynative\",2)"
   ]
  },
  {
   "cell_type": "code",
   "execution_count": 29,
   "metadata": {},
   "outputs": [
    {
     "name": "stdout",
     "output_type": "stream",
     "text": [
      "Hayır aynı değil.\n"
     ]
    }
   ],
   "source": [
    "liste1 = [10, 20, 30, 40, 10]\n",
    "liste2 = [75, 65, 35, 75, 30]\n",
    "\n",
    "def karsılastır(liste):\n",
    "    if liste[:1] == liste[-1:]:\n",
    "        print(\"Evet aynı.\")\n",
    "    else:\n",
    "        print(\"Hayır aynı değil.\")\n",
    "\n",
    "karsılastır(liste2)"
   ]
  },
  {
   "cell_type": "code",
   "execution_count": 30,
   "metadata": {},
   "outputs": [
    {
     "name": "stdout",
     "output_type": "stream",
     "text": [
      "6\n"
     ]
    }
   ],
   "source": [
    "x = int(input(\"Birinci sayı: \"))\n",
    "y = int(input(\"İkinci sayı: \"))\n",
    "\n",
    "çarpım = x * y\n",
    "print(çarpım)"
   ]
  },
  {
   "cell_type": "code",
   "execution_count": 33,
   "metadata": {},
   "outputs": [
    {
     "name": "stdout",
     "output_type": "stream",
     "text": [
      "Name**Is**James\n"
     ]
    }
   ],
   "source": [
    "print('Name', 'Is', 'James', sep='**')"
   ]
  },
  {
   "cell_type": "code",
   "execution_count": 4,
   "metadata": {},
   "outputs": [
    {
     "name": "stdout",
     "output_type": "stream",
     "text": [
      "30\n"
     ]
    }
   ],
   "source": [
    "x = int(input(\"Bir sayı giriniz: \"))\n",
    "\n",
    "y = oct(x)\n",
    "print(y[2:])"
   ]
  },
  {
   "cell_type": "code",
   "execution_count": 28,
   "metadata": {},
   "outputs": [
    {
     "name": "stdout",
     "output_type": "stream",
     "text": [
      "37483783.6237137123\n",
      "37483783.62371371\n",
      "37483783\n",
      "37483783\n",
      "8\n",
      "37483783.62\n"
     ]
    }
   ],
   "source": [
    "num = input(\"Bir float değer giriniz: \")\n",
    "print(num)\n",
    "x = float(num)\n",
    "print(x)\n",
    "z = int(x)\n",
    "print(z)\n",
    "y = str(z)\n",
    "print(y)\n",
    "print(len(y))\n",
    "\n",
    "print(num[:len(y)+3])"
   ]
  },
  {
   "cell_type": "code",
   "execution_count": 2,
   "metadata": {},
   "outputs": [
    {
     "name": "stdout",
     "output_type": "stream",
     "text": [
      "[1.12, 2.12, 3.12, 4.12, 5.12]\n"
     ]
    }
   ],
   "source": [
    "x = 0\n",
    "y = []\n",
    "\n",
    "while x < 5:\n",
    "    z = float(input(\"Float sayı giriniz: \"))\n",
    "    y.append(z)\n",
    "    x += 1\n",
    "print(y)"
   ]
  },
  {
   "cell_type": "code",
   "execution_count": 4,
   "metadata": {},
   "outputs": [
    {
     "name": "stdout",
     "output_type": "stream",
     "text": [
      "1\n",
      "2\n",
      "3\n",
      "4\n",
      "5\n",
      "6\n",
      "7\n",
      "8\n",
      "9\n",
      "10\n"
     ]
    }
   ],
   "source": [
    "for i in range(1,11):\n",
    "    print(i)"
   ]
  },
  {
   "cell_type": "code",
   "execution_count": 11,
   "metadata": {},
   "outputs": [
    {
     "name": "stdout",
     "output_type": "stream",
     "text": [
      "1\n",
      "1 2\n",
      "1 2 3\n",
      "1 2 3 4\n",
      "1 2 3 4 5\n"
     ]
    }
   ],
   "source": [
    "a = (1,2,3,4,5)\n",
    "print(a[0])\n",
    "print(a[0],a[1])\n",
    "print(a[0],a[1],a[2])\n",
    "print(a[0],a[1],a[2],a[3])\n",
    "print(a[0],a[1],a[2],a[3],a[4])"
   ]
  },
  {
   "cell_type": "code",
   "execution_count": 4,
   "metadata": {},
   "outputs": [
    {
     "name": "stdout",
     "output_type": "stream",
     "text": [
      "55\n"
     ]
    }
   ],
   "source": [
    "x = int(input(\"1'den belirlediğiniz sayıya kadar toplamasını istediğiniz sayıyı girin: \"))\n",
    "y = 0\n",
    "\n",
    "for i in range(0,x+1):\n",
    "    y += i\n",
    "print(y)"
   ]
  },
  {
   "cell_type": "code",
   "execution_count": 1,
   "metadata": {},
   "outputs": [
    {
     "name": "stdout",
     "output_type": "stream",
     "text": [
      "2\n",
      "4\n",
      "6\n",
      "8\n",
      "10\n",
      "12\n",
      "14\n",
      "16\n",
      "18\n"
     ]
    }
   ],
   "source": [
    "x = int(input(\"Bir sayı giriniz: \"))\n",
    "\n",
    "for i in range(1,10):\n",
    "    print(x*i)"
   ]
  },
  {
   "cell_type": "code",
   "execution_count": 3,
   "metadata": {},
   "outputs": [
    {
     "name": "stdout",
     "output_type": "stream",
     "text": [
      "75\n",
      "150\n",
      "145\n"
     ]
    }
   ],
   "source": [
    "numbers = [12, 75, 150, 180, 145, 525, 50]\n",
    "\n",
    "for i in numbers:\n",
    "    if i > 500:\n",
    "        break\n",
    "    elif i > 150:\n",
    "        pass\n",
    "    elif i % 5 == 0:\n",
    "        print(i)"
   ]
  },
  {
   "cell_type": "code",
   "execution_count": 3,
   "metadata": {},
   "outputs": [
    {
     "name": "stdout",
     "output_type": "stream",
     "text": [
      "İsminiz: Sonay, Yaşınız: 26\n"
     ]
    }
   ],
   "source": [
    "def isimyas(isim,yas):\n",
    "    print(f\"İsminiz: {isim}, Yaşınız: {yas}\")\n",
    "\n",
    "isimyas(\"Sonay\",26)"
   ]
  },
  {
   "cell_type": "code",
   "execution_count": 6,
   "metadata": {},
   "outputs": [
    {
     "name": "stdout",
     "output_type": "stream",
     "text": [
      "25\n",
      "27\n",
      "32\n"
     ]
    }
   ],
   "source": [
    "def sonsuz(*args):\n",
    "    for i in args:\n",
    "        print(i)\n",
    "\n",
    "sonsuz(25,27,32)"
   ]
  },
  {
   "cell_type": "code",
   "execution_count": 7,
   "metadata": {},
   "outputs": [
    {
     "name": "stdout",
     "output_type": "stream",
     "text": [
      "50\n",
      "30\n"
     ]
    }
   ],
   "source": [
    "def hesapla(sayi1,sayi2):\n",
    "    print(sayi1+sayi2)\n",
    "    print(sayi1-sayi2)\n",
    "\n",
    "hesapla(40,10)"
   ]
  },
  {
   "cell_type": "code",
   "execution_count": 9,
   "metadata": {},
   "outputs": [
    {
     "name": "stdout",
     "output_type": "stream",
     "text": [
      "İsim: Ben, Maaş: 12000\n",
      "İsim: Jessa, Maaş: 9000\n"
     ]
    }
   ],
   "source": [
    "def maas(isim,maas=9000):\n",
    "    print(f\"İsim: {isim}, Maaş: {maas}\")\n",
    "\n",
    "maas(\"Ben\", 12000)\n",
    "maas(\"Jessa\")"
   ]
  },
  {
   "cell_type": "code",
   "execution_count": 12,
   "metadata": {},
   "outputs": [
    {
     "name": "stdout",
     "output_type": "stream",
     "text": [
      "Jms\n"
     ]
    }
   ],
   "source": [
    "str1 = \"James\"\n",
    "\n",
    "print(str1[0::2])"
   ]
  },
  {
   "cell_type": "code",
   "execution_count": 9,
   "metadata": {},
   "outputs": [
    {
     "name": "stdout",
     "output_type": "stream",
     "text": [
      "Son\n"
     ]
    }
   ],
   "source": [
    "x = input(\"Bir kelime giriniz: \")\n",
    "\n",
    "orta = len(x)/2\n",
    "orta = int(orta)\n",
    "\n",
    "print(x[orta-1:orta+2])\n"
   ]
  },
  {
   "cell_type": "code",
   "execution_count": 12,
   "metadata": {},
   "outputs": [
    {
     "name": "stdout",
     "output_type": "stream",
     "text": [
      "AuKellylt\n"
     ]
    }
   ],
   "source": [
    "s1 = \"Ault\"\n",
    "s2 = \"Kelly\"\n",
    "\n",
    "print(s1[:2]+s2+s1[2:])"
   ]
  },
  {
   "cell_type": "code",
   "execution_count": 16,
   "metadata": {},
   "outputs": [
    {
     "name": "stdout",
     "output_type": "stream",
     "text": [
      "AJrpan\n"
     ]
    }
   ],
   "source": [
    "s1 = \"America\"\n",
    "s2 = \"Japan\"\n",
    "\n",
    "print(s1[0] + s2[0] + s1[int(len(s1)/2)] + s2[int(len(s2)/2)] + s1[-1] + s2[-1])"
   ]
  },
  {
   "cell_type": "code",
   "execution_count": 21,
   "metadata": {},
   "outputs": [
    {
     "name": "stdout",
     "output_type": "stream",
     "text": [
      "['y', 'a', 'i', 'v', 'e', 'P', 'N', 'T']\n"
     ]
    }
   ],
   "source": [
    "str1 = \"PyNaTive\"\n",
    "x = []\n",
    "y = []\n",
    "\n",
    "for i in str1:\n",
    "    if i.islower():\n",
    "        x.append(i)\n",
    "    else:\n",
    "        y.append(i)\n",
    "\n",
    "print(x+y)"
   ]
  },
  {
   "cell_type": "code",
   "execution_count": 2,
   "metadata": {},
   "outputs": [
    {
     "name": "stdout",
     "output_type": "stream",
     "text": [
      "Harf sayısı: 8, Sayı sayısı: 3, Sembol sayısı: 4\n"
     ]
    }
   ],
   "source": [
    "str1 = \"P@#yn26at^&i5ve\"\n",
    "\n",
    "harf = []\n",
    "sayi = []\n",
    "sembol = []\n",
    "\n",
    "for i in str1:\n",
    "    if i.isalpha():\n",
    "        harf.append(i)\n",
    "    elif i.isdigit():\n",
    "        sayi.append(i)\n",
    "    else:\n",
    "        sembol.append(i)\n",
    "\n",
    "x = len(harf)\n",
    "y = len(sayi)\n",
    "z = len(sembol)\n",
    "\n",
    "print(f\"Harf sayısı: {x}, Sayı sayısı: {y}, Sembol sayısı: {z}\")"
   ]
  },
  {
   "cell_type": "code",
   "execution_count": 6,
   "metadata": {},
   "outputs": [
    {
     "name": "stdout",
     "output_type": "stream",
     "text": [
      "[54, 44, 27, 91, 41]\n",
      "[54, 13, 44, 27, 91, 41]\n"
     ]
    }
   ],
   "source": [
    "list1 = [54, 44, 27, 79, 91, 41]\n",
    "\n",
    "del list1[3]\n",
    "\n",
    "print(list1)\n",
    "\n",
    "del list1[1]\n",
    "del list1[1]\n",
    "del list1[1]\n",
    "del list1[1]\n",
    "list1.append(13)\n",
    "list1.append(44)\n",
    "list1.append(27)\n",
    "list1.append(91)\n",
    "list1.append(41)\n",
    "\n",
    "print(list1)"
   ]
  },
  {
   "cell_type": "code",
   "execution_count": 8,
   "metadata": {},
   "outputs": [
    {
     "name": "stdout",
     "output_type": "stream",
     "text": [
      "[8, 45, 11]\n",
      "[12, 14, 23]\n",
      "[89, 45, 78]\n"
     ]
    }
   ],
   "source": [
    "sample_list = [11, 45, 8, 23, 14, 12, 78, 45, 89]\n",
    "\n",
    "x = sample_list[:3]\n",
    "y = sample_list[3:6]\n",
    "z = sample_list[6:]\n",
    "\n",
    "print(x[::-1])\n",
    "print(y[::-1])\n",
    "print(z[::-1])"
   ]
  },
  {
   "cell_type": "code",
   "execution_count": 10,
   "metadata": {},
   "outputs": [
    {
     "name": "stdout",
     "output_type": "stream",
     "text": [
      "11 sayısının tekrar sayısı: 2\n",
      "45 sayısının tekrar sayısı: 3\n",
      "8 sayısının tekrar sayısı: 1\n",
      "23 sayısının tekrar sayısı: 2\n",
      "89 sayısının tekrar sayısı: 1\n"
     ]
    }
   ],
   "source": [
    "sample_list = [11, 45, 8, 11, 23, 45, 23, 45, 89]\n",
    "\n",
    "print(f\"11 sayısının tekrar sayısı: {sample_list.count(11)}\")\n",
    "print(f\"45 sayısının tekrar sayısı: {sample_list.count(45)}\")\n",
    "print(f\"8 sayısının tekrar sayısı: {sample_list.count(8)}\")\n",
    "print(f\"23 sayısının tekrar sayısı: {sample_list.count(23)}\")\n",
    "print(f\"89 sayısının tekrar sayısı: {sample_list.count(89)}\")"
   ]
  },
  {
   "cell_type": "code",
   "execution_count": 3,
   "metadata": {},
   "outputs": [
    {
     "name": "stdout",
     "output_type": "stream",
     "text": [
      "[(2, 4), (3, 9), (4, 16), (5, 25), (6, 36), (7, 49), (8, 64)]\n"
     ]
    }
   ],
   "source": [
    "first_list = [2, 3, 4, 5, 6, 7, 8]\n",
    "second_list = [4, 9, 16, 25, 36, 49, 64]\n",
    "\n",
    "x = zip(first_list,second_list)\n",
    "y = list(x)\n",
    "print(y)"
   ]
  },
  {
   "cell_type": "code",
   "execution_count": 4,
   "metadata": {},
   "outputs": [
    {
     "name": "stdout",
     "output_type": "stream",
     "text": [
      "[500, 400, 300, 200, 100]\n"
     ]
    }
   ],
   "source": [
    "list1 = [100, 200, 300, 400, 500]\n",
    "\n",
    "print(list1[::-1])"
   ]
  },
  {
   "cell_type": "code",
   "execution_count": 15,
   "metadata": {},
   "outputs": [
    {
     "name": "stdout",
     "output_type": "stream",
     "text": [
      "['M', 'y', 'na', 'me', 'i', 's', 'Ke', 'lly']\n"
     ]
    }
   ],
   "source": [
    "list1 = [\"M\", \"na\", \"i\", \"Ke\"]\n",
    "list2 = [\"y\", \"me\", \"s\", \"lly\"]\n",
    "x = 0\n",
    "list3 =[]\n",
    "\n",
    "for i in list1:\n",
    "    list3.append(i)\n",
    "    if x < len(list2):\n",
    "        list3.append(list2[x])\n",
    "        x += 1\n",
    "print(list3)"
   ]
  },
  {
   "cell_type": "code",
   "execution_count": 17,
   "metadata": {},
   "outputs": [
    {
     "name": "stdout",
     "output_type": "stream",
     "text": [
      "[1, 4, 9, 16, 25, 36, 49]\n"
     ]
    }
   ],
   "source": [
    "numbers = [1, 2, 3, 4, 5, 6, 7]\n",
    "bos = []\n",
    "\n",
    "for i in numbers:\n",
    "    i = i*i\n",
    "    bos.append(i)\n",
    "print(bos)"
   ]
  },
  {
   "cell_type": "code",
   "execution_count": 21,
   "metadata": {},
   "outputs": [
    {
     "name": "stdout",
     "output_type": "stream",
     "text": [
      "['Hello Dear', 'Hello Sir', 'take Dear', 'take Sir']\n"
     ]
    }
   ],
   "source": [
    "list1 = [\"Hello \", \"take \"]\n",
    "list2 = [\"Dear\", \"Sir\"]\n",
    "list3 = []\n",
    "\n",
    "for i in list1:\n",
    "    for x in list2:\n",
    "        list3.append(i + x)\n",
    "print(list3)"
   ]
  },
  {
   "cell_type": "code",
   "execution_count": 32,
   "metadata": {},
   "outputs": [
    {
     "name": "stdout",
     "output_type": "stream",
     "text": [
      "10 400\n",
      "20 300\n",
      "30 200\n",
      "40 100\n"
     ]
    }
   ],
   "source": [
    "list1 = [10, 20, 30, 40]\n",
    "list2 = [100, 200, 300, 400]\n",
    "\n",
    "for i,x in zip(list1,list2[::-1]):\n",
    "    print(i,x)"
   ]
  },
  {
   "cell_type": "code",
   "execution_count": 5,
   "metadata": {},
   "outputs": [
    {
     "name": "stdout",
     "output_type": "stream",
     "text": [
      "{'Ten': 10, 'Twenty': 20, 'Thirty': 30}\n"
     ]
    }
   ],
   "source": [
    "keys = ['Ten', 'Twenty', 'Thirty']\n",
    "values = [10, 20, 30]\n",
    "\n",
    "sozluk = dict(zip(keys,values))\n",
    "print(sozluk)"
   ]
  },
  {
   "cell_type": "code",
   "execution_count": 13,
   "metadata": {},
   "outputs": [
    {
     "name": "stdout",
     "output_type": "stream",
     "text": [
      "{'Ten': 10, 'Twenty': 20, 'Thirty': 30, 'Fourty': 40, 'Fifty': 50}\n"
     ]
    }
   ],
   "source": [
    "dict1 = {'Ten': 10, 'Twenty': 20, 'Thirty': 30}\n",
    "dict2 = {'Thirty': 30, 'Fourty': 40, 'Fifty': 50}\n",
    "\n",
    "dict3 = dict1.copy()\n",
    "dict3.update(dict2)\n",
    "print(dict3)"
   ]
  },
  {
   "cell_type": "code",
   "execution_count": 14,
   "metadata": {},
   "outputs": [
    {
     "name": "stdout",
     "output_type": "stream",
     "text": [
      "{'Ten': 10, 'Twenty': 20, 'Thirty': 30, 'Fourty': 40, 'Fifty': 50}\n"
     ]
    }
   ],
   "source": [
    "dict1 = {'Ten': 10, 'Twenty': 20, 'Thirty': 30}\n",
    "dict2 = {'Thirty': 30, 'Fourty': 40, 'Fifty': 50}\n",
    "\n",
    "dict4 = dict1 | dict2\n",
    "print(dict4)"
   ]
  },
  {
   "cell_type": "code",
   "execution_count": 16,
   "metadata": {},
   "outputs": [
    {
     "name": "stdout",
     "output_type": "stream",
     "text": [
      "80\n"
     ]
    }
   ],
   "source": [
    "sampleDict = {\n",
    "    \"class\": {\n",
    "        \"student\": {\n",
    "            \"name\": \"Mike\",\n",
    "            \"marks\": {\n",
    "                \"physics\": 70,\n",
    "                \"history\": 80\n",
    "            }\n",
    "        }\n",
    "    }\n",
    "}\n",
    "\n",
    "print(sampleDict[\"class\"][\"student\"][\"marks\"][\"history\"])"
   ]
  },
  {
   "cell_type": "code",
   "execution_count": 18,
   "metadata": {},
   "outputs": [
    {
     "name": "stdout",
     "output_type": "stream",
     "text": [
      "{'Kelly': {'designation': 'Developer', 'salary': 8000}, 'Emma': {'designation': 'Developer', 'salary': 8000}}\n"
     ]
    }
   ],
   "source": [
    "employees = ['Kelly', 'Emma']\n",
    "defaults = {\"designation\": 'Developer', \"salary\": 8000}\n",
    "\n",
    "birles = dict.fromkeys(employees,defaults)\n",
    "\n",
    "print(birles)"
   ]
  },
  {
   "cell_type": "code",
   "execution_count": 19,
   "metadata": {},
   "outputs": [
    {
     "name": "stdout",
     "output_type": "stream",
     "text": [
      "{'age': 25, 'city': 'New york'}\n"
     ]
    }
   ],
   "source": [
    "sample_dict = {\n",
    "    \"name\": \"Kelly\",\n",
    "    \"age\": 25,\n",
    "    \"salary\": 8000,\n",
    "    \"city\": \"New york\"}\n",
    "\n",
    "sample_dict.pop(\"name\")\n",
    "sample_dict.pop(\"salary\")\n",
    "\n",
    "print(sample_dict)"
   ]
  },
  {
   "cell_type": "code",
   "execution_count": 20,
   "metadata": {},
   "outputs": [
    {
     "name": "stdout",
     "output_type": "stream",
     "text": [
      "{'Yellow', 'Black', 'Red', 'Blue', 'Orange', 'Green'}\n"
     ]
    }
   ],
   "source": [
    "sample_set = {\"Yellow\", \"Orange\", \"Black\"}\n",
    "sample_list = [\"Blue\", \"Green\", \"Red\"]\n",
    "\n",
    "sample_set.update(sample_list)\n",
    "print(sample_set)"
   ]
  },
  {
   "cell_type": "code",
   "execution_count": 21,
   "metadata": {},
   "outputs": [
    {
     "data": {
      "text/plain": [
       "{30, 40, 50}"
      ]
     },
     "execution_count": 21,
     "metadata": {},
     "output_type": "execute_result"
    }
   ],
   "source": [
    "set1 = {10, 20, 30, 40, 50}\n",
    "set2 = {30, 40, 50, 60, 70}\n",
    "\n",
    "set1.intersection(set2)"
   ]
  },
  {
   "cell_type": "code",
   "execution_count": 30,
   "metadata": {},
   "outputs": [
    {
     "name": "stdout",
     "output_type": "stream",
     "text": [
      "{50, 20, 70, 40, 10, 60, 30}\n"
     ]
    }
   ],
   "source": [
    "set1 = {10, 20, 30, 40, 50}\n",
    "set2 = {30, 40, 50, 60, 70}\n",
    "\n",
    "x = set1.intersection(set2)\n",
    "y = set1.difference(set2)\n",
    "z = set2.difference(set1)\n",
    "x.update(y)\n",
    "x.update(z)\n",
    "print(x)"
   ]
  },
  {
   "cell_type": "code",
   "execution_count": 31,
   "metadata": {},
   "outputs": [
    {
     "name": "stdout",
     "output_type": "stream",
     "text": [
      "{10, 30}\n"
     ]
    }
   ],
   "source": [
    "set1 = {10, 20, 30}\n",
    "set2 = {20, 40, 50}\n",
    "\n",
    "set1.difference_update(set2)\n",
    "print(set1)"
   ]
  },
  {
   "cell_type": "code",
   "execution_count": 34,
   "metadata": {},
   "outputs": [
    {
     "name": "stdout",
     "output_type": "stream",
     "text": [
      "{50, 40}\n"
     ]
    }
   ],
   "source": [
    "set1 = {10, 20, 30, 40, 50}\n",
    "\n",
    "set1.discard(10)\n",
    "set1.discard(20)\n",
    "set1.discard(30)\n",
    "print(set1)"
   ]
  },
  {
   "cell_type": "code",
   "execution_count": 35,
   "metadata": {},
   "outputs": [
    {
     "name": "stdout",
     "output_type": "stream",
     "text": [
      "(50, 40, 30, 20, 10)\n"
     ]
    }
   ],
   "source": [
    "tuple1 = (10, 20, 30, 40, 50)\n",
    "\n",
    "print(tuple1[::-1])"
   ]
  },
  {
   "cell_type": "code",
   "execution_count": 37,
   "metadata": {},
   "outputs": [
    {
     "name": "stdout",
     "output_type": "stream",
     "text": [
      "20\n"
     ]
    }
   ],
   "source": [
    "tuple1 = (\"Orange\", [10, 20, 30], (5, 15, 25))\n",
    "x = tuple1[1]\n",
    "print(x[1])"
   ]
  },
  {
   "cell_type": "code",
   "execution_count": 39,
   "metadata": {},
   "outputs": [
    {
     "data": {
      "text/plain": [
       "tuple"
      ]
     },
     "execution_count": 39,
     "metadata": {},
     "output_type": "execute_result"
    }
   ],
   "source": [
    "x = (50, )\n",
    "type(x)"
   ]
  },
  {
   "cell_type": "code",
   "execution_count": 40,
   "metadata": {},
   "outputs": [
    {
     "name": "stdout",
     "output_type": "stream",
     "text": [
      "10\n",
      "20\n",
      "30\n",
      "40\n"
     ]
    }
   ],
   "source": [
    "tuple1 = (10, 20, 30, 40)\n",
    "a = tuple1[0]\n",
    "b = tuple1[1]\n",
    "c = tuple1[2]\n",
    "d = tuple1[3]\n",
    "\n",
    "print(a)\n",
    "print(b)\n",
    "print(c)\n",
    "print(d)"
   ]
  },
  {
   "cell_type": "code",
   "execution_count": 46,
   "metadata": {},
   "outputs": [
    {
     "name": "stdout",
     "output_type": "stream",
     "text": [
      "(99, 88)\n",
      "(11, 22)\n"
     ]
    }
   ],
   "source": [
    "tuple1 = (11, 22)\n",
    "tuple2 = (99, 88)\n",
    "\n",
    "tuple1 , tuple2 = tuple2 , tuple1\n",
    "print(tuple1)\n",
    "print(tuple2)"
   ]
  },
  {
   "cell_type": "code",
   "execution_count": null,
   "metadata": {},
   "outputs": [],
   "source": []
  }
 ],
 "metadata": {
  "kernelspec": {
   "display_name": "Python 3.11.0 64-bit",
   "language": "python",
   "name": "python3"
  },
  "language_info": {
   "codemirror_mode": {
    "name": "ipython",
    "version": 3
   },
   "file_extension": ".py",
   "mimetype": "text/x-python",
   "name": "python",
   "nbconvert_exporter": "python",
   "pygments_lexer": "ipython3",
   "version": "3.11.0"
  },
  "orig_nbformat": 4,
  "vscode": {
   "interpreter": {
    "hash": "7c542dbbc07e6010b76b61de8a453dc04d29cd1fae7fbaa29851ecbad9aefb83"
   }
  }
 },
 "nbformat": 4,
 "nbformat_minor": 2
}
