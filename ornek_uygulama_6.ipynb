{
 "cells": [
  {
   "cell_type": "code",
   "execution_count": 1,
   "metadata": {},
   "outputs": [
    {
     "name": "stdout",
     "output_type": "stream",
     "text": [
      "58\n"
     ]
    }
   ],
   "source": [
    "metin = \"\"\"Bu programlama dili Guido Van Rossum adlı Hollandalı bir programcı\n",
    "tarafından 90’lı yılların başında geliştirilmeye başlanmıştır. Çoğu insan,\n",
    "isminin Python olmasına aldanarak, bu programlama dilinin, adını piton\n",
    "yılanından aldığını düşünür. Ancak zannedildiğinin aksine bu programlama dilinin\n",
    "adı piton yılanından gelmez. Guido Van Rossum bu programlama dilini, The Monty\n",
    "Python adlı bir İngiliz komedi grubunun, Monty Python’s Flying Circus adlı\n",
    "gösterisinden esinlenerek adlandırmıştır. Ancak her ne kadar gerçek böyle olsa\n",
    "da, Python programlama dilinin pek çok yerde bir yılan figürü ile temsil\n",
    "edilmesi neredeyse bir gelenek halini almıştır.\"\"\"\n",
    "\n",
    "harf = input(\"Sorgulamak istediğiniz harf: \")\n",
    "\n",
    "sayı = ''\n",
    "\n",
    "for s in metin:\n",
    "    if harf == s:\n",
    "        sayı += harf\n",
    "\n",
    "print(len(sayı))"
   ]
  },
  {
   "cell_type": "code",
   "execution_count": null,
   "metadata": {},
   "outputs": [],
   "source": []
  }
 ],
 "metadata": {
  "kernelspec": {
   "display_name": "Python 3.11.0 64-bit",
   "language": "python",
   "name": "python3"
  },
  "language_info": {
   "codemirror_mode": {
    "name": "ipython",
    "version": 3
   },
   "file_extension": ".py",
   "mimetype": "text/x-python",
   "name": "python",
   "nbconvert_exporter": "python",
   "pygments_lexer": "ipython3",
   "version": "3.11.0"
  },
  "orig_nbformat": 4,
  "vscode": {
   "interpreter": {
    "hash": "7c542dbbc07e6010b76b61de8a453dc04d29cd1fae7fbaa29851ecbad9aefb83"
   }
  }
 },
 "nbformat": 4,
 "nbformat_minor": 2
}
