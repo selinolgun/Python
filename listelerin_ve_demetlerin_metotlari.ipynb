{
 "cells": [
  {
   "cell_type": "code",
   "execution_count": 1,
   "metadata": {},
   "outputs": [
    {
     "data": {
      "text/plain": [
       "['__add__',\n",
       " '__class__',\n",
       " '__class_getitem__',\n",
       " '__contains__',\n",
       " '__delattr__',\n",
       " '__delitem__',\n",
       " '__dir__',\n",
       " '__doc__',\n",
       " '__eq__',\n",
       " '__format__',\n",
       " '__ge__',\n",
       " '__getattribute__',\n",
       " '__getitem__',\n",
       " '__getstate__',\n",
       " '__gt__',\n",
       " '__hash__',\n",
       " '__iadd__',\n",
       " '__imul__',\n",
       " '__init__',\n",
       " '__init_subclass__',\n",
       " '__iter__',\n",
       " '__le__',\n",
       " '__len__',\n",
       " '__lt__',\n",
       " '__mul__',\n",
       " '__ne__',\n",
       " '__new__',\n",
       " '__reduce__',\n",
       " '__reduce_ex__',\n",
       " '__repr__',\n",
       " '__reversed__',\n",
       " '__rmul__',\n",
       " '__setattr__',\n",
       " '__setitem__',\n",
       " '__sizeof__',\n",
       " '__str__',\n",
       " '__subclasshook__',\n",
       " 'append',\n",
       " 'clear',\n",
       " 'copy',\n",
       " 'count',\n",
       " 'extend',\n",
       " 'index',\n",
       " 'insert',\n",
       " 'pop',\n",
       " 'remove',\n",
       " 'reverse',\n",
       " 'sort']"
      ]
     },
     "execution_count": 1,
     "metadata": {},
     "output_type": "execute_result"
    }
   ],
   "source": [
    "# Listelerin Metotları\n",
    "\n",
    "dir(list)"
   ]
  },
  {
   "cell_type": "code",
   "execution_count": 2,
   "metadata": {},
   "outputs": [
    {
     "data": {
      "text/plain": [
       "['append',\n",
       " 'clear',\n",
       " 'copy',\n",
       " 'count',\n",
       " 'extend',\n",
       " 'index',\n",
       " 'insert',\n",
       " 'pop',\n",
       " 'remove',\n",
       " 'reverse',\n",
       " 'sort']"
      ]
     },
     "execution_count": 2,
     "metadata": {},
     "output_type": "execute_result"
    }
   ],
   "source": [
    "[i for i in dir(list) if not \"_\" in i]"
   ]
  },
  {
   "cell_type": "code",
   "execution_count": 4,
   "metadata": {},
   "outputs": [
    {
     "data": {
      "text/plain": [
       "['elma', 'armut', 'çilek', 'erik']"
      ]
     },
     "execution_count": 4,
     "metadata": {},
     "output_type": "execute_result"
    }
   ],
   "source": [
    "# append()\n",
    "\n",
    "liste = [\"elma\", \"armut\", \"çilek\"]\n",
    "liste.append(\"erik\")\n",
    "liste"
   ]
  },
  {
   "cell_type": "code",
   "execution_count": 5,
   "metadata": {},
   "outputs": [
    {
     "name": "stdout",
     "output_type": "stream",
     "text": [
      "['Windows', 'GNU/Linux', 'Mac OS X', 'IPhone', 'Android', 'S60']\n"
     ]
    }
   ],
   "source": [
    "işletim_sistemleri = [\"Windows\", \"GNU/Linux\", \"Mac OS X\"]\n",
    "platformlar = [\"IPhone\", \"Android\", \"S60\"]\n",
    "for i in platformlar:\n",
    "    işletim_sistemleri.append(i)\n",
    "\n",
    "print(işletim_sistemleri)"
   ]
  },
  {
   "cell_type": "code",
   "execution_count": 6,
   "metadata": {},
   "outputs": [
    {
     "ename": "TypeError",
     "evalue": "list.append() takes exactly one argument (3 given)",
     "output_type": "error",
     "traceback": [
      "\u001b[1;31m---------------------------------------------------------------------------\u001b[0m",
      "\u001b[1;31mTypeError\u001b[0m                                 Traceback (most recent call last)",
      "Cell \u001b[1;32mIn [6], line 2\u001b[0m\n\u001b[0;32m      1\u001b[0m liste \u001b[39m=\u001b[39m [\u001b[39m1\u001b[39m, \u001b[39m2\u001b[39m, \u001b[39m3\u001b[39m]\n\u001b[1;32m----> 2\u001b[0m liste\u001b[39m.\u001b[39;49mappend(\u001b[39m4\u001b[39;49m, \u001b[39m5\u001b[39;49m, \u001b[39m6\u001b[39;49m)\n",
      "\u001b[1;31mTypeError\u001b[0m: list.append() takes exactly one argument (3 given)"
     ]
    }
   ],
   "source": [
    "liste = [1, 2, 3]\n",
    "liste.append(4, 5, 6)"
   ]
  },
  {
   "cell_type": "code",
   "execution_count": 10,
   "metadata": {},
   "outputs": [
    {
     "name": "stdout",
     "output_type": "stream",
     "text": [
      "Yeterli sayı girilmedi!\n"
     ]
    }
   ],
   "source": [
    "kontrol = []\n",
    "sonuç = 1\n",
    "\n",
    "while True:\n",
    "    sayı = input(\"sayı (hesaplamak için q): \")\n",
    "    if sayı == \"q\":\n",
    "        break\n",
    "    kontrol.append(sayı)\n",
    "    sonuç *= int(sayı)\n",
    "\n",
    "if len(kontrol) < 2:\n",
    "    print(\"Yeterli sayı girilmedi!\")\n",
    "else:\n",
    "    print(sonuç)"
   ]
  },
  {
   "cell_type": "code",
   "execution_count": 11,
   "metadata": {},
   "outputs": [
    {
     "name": "stdout",
     "output_type": "stream",
     "text": [
      "[1, 3, 4, [10, 11, 12]]\n"
     ]
    }
   ],
   "source": [
    "# extend()\n",
    "\n",
    "li1 = [1, 3, 4]\n",
    "li2 = [10, 11, 12]\n",
    "li1. append(li2)\n",
    "\n",
    "print(li1)"
   ]
  },
  {
   "cell_type": "code",
   "execution_count": 12,
   "metadata": {},
   "outputs": [
    {
     "name": "stdout",
     "output_type": "stream",
     "text": [
      "[1, 3, 4, 10, 11, 12]\n"
     ]
    }
   ],
   "source": [
    "li1 = [1, 3, 4]\n",
    "li2 = [10, 11, 12]\n",
    "li1. extend(li2)\n",
    "\n",
    "print(li1)"
   ]
  },
  {
   "cell_type": "code",
   "execution_count": 13,
   "metadata": {},
   "outputs": [
    {
     "name": "stdout",
     "output_type": "stream",
     "text": [
      "['Windows', 'GNU/Linux', 'Mac OS X', 'IPhone', 'Android', 'S60']\n"
     ]
    }
   ],
   "source": [
    "işletim_sistemleri = [\"Windows\", \"GNU/Linux\", \"Mac OS X\"]\n",
    "platformlar = [\"IPhone\", \"Android\", \"S60\"]\n",
    "işletim_sistemleri.extend(platformlar)\n",
    "print(işletim_sistemleri)"
   ]
  },
  {
   "cell_type": "code",
   "execution_count": 14,
   "metadata": {},
   "outputs": [
    {
     "name": "stdout",
     "output_type": "stream",
     "text": [
      "['erik', 'elma', 'armut', 'çilek']\n"
     ]
    }
   ],
   "source": [
    "# insert()\n",
    "\n",
    "liste = [\"elma\", \"armut\", \"çilek\"]\n",
    "liste.insert(0, \"erik\")\n",
    "print(liste)"
   ]
  },
  {
   "cell_type": "code",
   "execution_count": 15,
   "metadata": {},
   "outputs": [
    {
     "name": "stdout",
     "output_type": "stream",
     "text": [
      "['Ahmet Ã–zkoparan\\n', 'Mehmet Veli\\n', 'Serdar GÃ¼zel\\n', 'Zeynep GÃ¼z']\n"
     ]
    }
   ],
   "source": [
    "f = open(\"deneme.txt\", \"r\")\n",
    "içerik = f.readlines()\n",
    "print(içerik)"
   ]
  },
  {
   "cell_type": "code",
   "execution_count": 16,
   "metadata": {},
   "outputs": [
    {
     "name": "stdout",
     "output_type": "stream",
     "text": [
      "['Ahmet Ã–zkoparan\\n', 'Ferhat Yaz\\n', 'Mehmet Veli\\n', 'Serdar GÃ¼zel\\n', 'Zeynep GÃ¼z']\n"
     ]
    }
   ],
   "source": [
    "içerik.insert(1, \"Ferhat Yaz\\n\")\n",
    "print(içerik)"
   ]
  },
  {
   "cell_type": "code",
   "execution_count": 17,
   "metadata": {},
   "outputs": [],
   "source": [
    "g = open(\"deneme.txt\", \"w\")\n",
    "g.writelines(içerik)\n",
    "f.close()\n",
    "g.close()"
   ]
  },
  {
   "cell_type": "code",
   "execution_count": 18,
   "metadata": {},
   "outputs": [
    {
     "data": {
      "text/plain": [
       "['armut', 'çilek']"
      ]
     },
     "execution_count": 18,
     "metadata": {},
     "output_type": "execute_result"
    }
   ],
   "source": [
    "# remove()\n",
    "\n",
    "liste = [\"elma\", \"armut\", \"çilek\"]\n",
    "liste.remove(\"elma\")\n",
    "liste"
   ]
  },
  {
   "cell_type": "code",
   "execution_count": 20,
   "metadata": {},
   "outputs": [
    {
     "data": {
      "text/plain": [
       "<list_reverseiterator at 0x1818e106890>"
      ]
     },
     "execution_count": 20,
     "metadata": {},
     "output_type": "execute_result"
    }
   ],
   "source": [
    "# reverse()\n",
    "\n",
    "meyveler = [\"elma\", \"armut\", \"çilek\", \"kiraz\"]\n",
    "reversed(meyveler)"
   ]
  },
  {
   "cell_type": "code",
   "execution_count": 21,
   "metadata": {},
   "outputs": [
    {
     "name": "stdout",
     "output_type": "stream",
     "text": [
      "['kiraz', 'çilek', 'armut', 'elma']\n"
     ]
    }
   ],
   "source": [
    "print(list(reversed(meyveler)))"
   ]
  },
  {
   "cell_type": "code",
   "execution_count": 22,
   "metadata": {},
   "outputs": [
    {
     "data": {
      "text/plain": [
       "['çilek', 'armut', 'elma']"
      ]
     },
     "execution_count": 22,
     "metadata": {},
     "output_type": "execute_result"
    }
   ],
   "source": [
    "liste = [\"elma\", \"armut\", \"çilek\"]\n",
    "liste.reverse()\n",
    "liste"
   ]
  },
  {
   "cell_type": "code",
   "execution_count": 23,
   "metadata": {},
   "outputs": [
    {
     "data": {
      "text/plain": [
       "'çilek'"
      ]
     },
     "execution_count": 23,
     "metadata": {},
     "output_type": "execute_result"
    }
   ],
   "source": [
    "# pop()\n",
    "\n",
    "liste = [\"elma\", \"armut\", \"çilek\"]\n",
    "liste.pop()"
   ]
  },
  {
   "cell_type": "code",
   "execution_count": 24,
   "metadata": {},
   "outputs": [
    {
     "data": {
      "text/plain": [
       "'elma'"
      ]
     },
     "execution_count": 24,
     "metadata": {},
     "output_type": "execute_result"
    }
   ],
   "source": [
    "liste.pop(0)"
   ]
  },
  {
   "cell_type": "code",
   "execution_count": 26,
   "metadata": {},
   "outputs": [
    {
     "data": {
      "text/plain": [
       "['armut']"
      ]
     },
     "execution_count": 26,
     "metadata": {},
     "output_type": "execute_result"
    }
   ],
   "source": [
    "liste"
   ]
  },
  {
   "cell_type": "code",
   "execution_count": 27,
   "metadata": {},
   "outputs": [
    {
     "name": "stdout",
     "output_type": "stream",
     "text": [
      "['Abdullah', 'Ahmet', 'Ceylan', 'Kadir', 'Kamil', 'Kemal', 'Mahmut', 'Mehmet', 'Selin', 'Senem', 'Seyhan', 'Sinem', 'Tayfun', 'Tolga', 'Tuna', 'Zeynep']\n"
     ]
    }
   ],
   "source": [
    "# sort()\n",
    "\n",
    "üyeler = ['Ahmet', 'Mehmet', 'Ceylan', 'Seyhan', 'Mahmut', 'Zeynep',\n",
    "          'Abdullah', 'Kadir', 'Kemal', 'Kamil', 'Selin', 'Senem',\n",
    "          'Sinem', 'Tayfun', 'Tuna', 'Tolga']\n",
    "\n",
    "üyeler.sort()\n",
    "print(üyeler)"
   ]
  },
  {
   "cell_type": "code",
   "execution_count": 28,
   "metadata": {},
   "outputs": [
    {
     "name": "stdout",
     "output_type": "stream",
     "text": [
      "[-1, 0, 1, 3, 4, 6, 10]\n"
     ]
    }
   ],
   "source": [
    "sayılar = [1, 0, -1, 4, 10, 3, 6]\n",
    "sayılar.sort()\n",
    "print(sayılar)"
   ]
  },
  {
   "cell_type": "code",
   "execution_count": 30,
   "metadata": {},
   "outputs": [
    {
     "data": {
      "text/plain": [
       "['Zeynep',\n",
       " 'Tuna',\n",
       " 'Tolga',\n",
       " 'Tayfun',\n",
       " 'Sinem',\n",
       " 'Seyhan',\n",
       " 'Senem',\n",
       " 'Selin',\n",
       " 'Mehmet',\n",
       " 'Mahmut',\n",
       " 'Kemal',\n",
       " 'Kamil',\n",
       " 'Kadir',\n",
       " 'Ceylan',\n",
       " 'Ahmet',\n",
       " 'Abdullah']"
      ]
     },
     "execution_count": 30,
     "metadata": {},
     "output_type": "execute_result"
    }
   ],
   "source": [
    "üyeler = ['Ahmet', 'Mehmet', 'Ceylan', 'Seyhan', 'Mahmut', 'Zeynep',\n",
    "              'Abdullah', 'Kadir', 'Kemal', 'Kamil', 'Selin', 'Senem',\n",
    "             'Sinem', 'Tayfun', 'Tuna', 'Tolga']\n",
    "üyeler.sort(reverse=True)\n",
    "üyeler"
   ]
  },
  {
   "cell_type": "code",
   "execution_count": 31,
   "metadata": {},
   "outputs": [
    {
     "data": {
      "text/plain": [
       "['Ahmet', 'Can', 'Işık', 'Çiğdem', 'İsmail', 'Şule']"
      ]
     },
     "execution_count": 31,
     "metadata": {},
     "output_type": "execute_result"
    }
   ],
   "source": [
    "isimler = [\"Ahmet\", \"Işık\", \"İsmail\", \"Çiğdem\", \"Can\", \"Şule\"]\n",
    "isimler.sort()\n",
    "isimler\n",
    "# türkçe karakter sorunu"
   ]
  },
  {
   "cell_type": "code",
   "execution_count": 32,
   "metadata": {},
   "outputs": [
    {
     "name": "stdout",
     "output_type": "stream",
     "text": [
      "['ahmet', 'can', 'çiğdem', 'ışık', 'ismail', 'şule']\n"
     ]
    }
   ],
   "source": [
    "harfler = \"abcçdefgğhıijklmnoöprsştuüvyz\"\n",
    "çevrim = {harf: harfler.index(harf) for harf in harfler}\n",
    "\n",
    "\n",
    "isimler = [\"ahmet\", \"ışık\", \"ismail\", \"çiğdem\", \"can\", \"şule\"]\n",
    "\n",
    "isimler.sort(key=lambda x: çevrim.get(x[0]))\n",
    "\n",
    "print(isimler)"
   ]
  },
  {
   "cell_type": "code",
   "execution_count": 33,
   "metadata": {},
   "outputs": [
    {
     "data": {
      "text/plain": [
       "0"
      ]
     },
     "execution_count": 33,
     "metadata": {},
     "output_type": "execute_result"
    }
   ],
   "source": [
    "# index()\n",
    "\n",
    "liste = [\"elma\", \"armut\", \"çilek\"]\n",
    "liste.index(\"elma\")"
   ]
  },
  {
   "cell_type": "code",
   "execution_count": 34,
   "metadata": {},
   "outputs": [
    {
     "data": {
      "text/plain": [
       "2"
      ]
     },
     "execution_count": 34,
     "metadata": {},
     "output_type": "execute_result"
    }
   ],
   "source": [
    "# count()\n",
    "\n",
    "liste = [\"elma\", \"armut\", \"elma\", \"çilek\"]\n",
    "liste.count(\"elma\")"
   ]
  },
  {
   "cell_type": "code",
   "execution_count": 38,
   "metadata": {},
   "outputs": [
    {
     "name": "stdout",
     "output_type": "stream",
     "text": [
      "['ahmet', 'mehmet', 'özlem']\n",
      "['ahmet', 'mehmet', 'özlem']\n"
     ]
    }
   ],
   "source": [
    "# copy()\n",
    "\n",
    "liste1 = [\"ahmet\", \"mehmet\", \"özlem\"]\n",
    "liste2 = liste1.copy()\n",
    "print(liste1)\n",
    "print(liste2)"
   ]
  },
  {
   "cell_type": "code",
   "execution_count": 39,
   "metadata": {},
   "outputs": [
    {
     "data": {
      "text/plain": [
       "[]"
      ]
     },
     "execution_count": 39,
     "metadata": {},
     "output_type": "execute_result"
    }
   ],
   "source": [
    "# clear()\n",
    "\n",
    "liste = [1, 2, 3, 5, 10, 20, 30, 45]\n",
    "liste.clear()\n",
    "liste\n",
    "# del()'den farkı liste içindeki elemanları silmesi"
   ]
  },
  {
   "cell_type": "code",
   "execution_count": 41,
   "metadata": {},
   "outputs": [
    {
     "data": {
      "text/plain": [
       "['count', 'index']"
      ]
     },
     "execution_count": 41,
     "metadata": {},
     "output_type": "execute_result"
    }
   ],
   "source": [
    "# Demetlerin Metotları\n",
    "\n",
    "[i for i in dir(tuple) if not \"_\" in i]"
   ]
  },
  {
   "cell_type": "code",
   "execution_count": 42,
   "metadata": {},
   "outputs": [
    {
     "data": {
      "text/plain": [
       "0"
      ]
     },
     "execution_count": 42,
     "metadata": {},
     "output_type": "execute_result"
    }
   ],
   "source": [
    "# index()\n",
    "\n",
    "demet = (\"elma\", \"armut\", \"çilek\")\n",
    "demet.index(\"elma\")"
   ]
  },
  {
   "cell_type": "code",
   "execution_count": 43,
   "metadata": {},
   "outputs": [
    {
     "data": {
      "text/plain": [
       "2"
      ]
     },
     "execution_count": 43,
     "metadata": {},
     "output_type": "execute_result"
    }
   ],
   "source": [
    "# count()\n",
    "\n",
    "demet = (\"elma\", \"armut\", \"elma\", \"çilek\")\n",
    "demet.count(\"elma\")"
   ]
  },
  {
   "cell_type": "code",
   "execution_count": null,
   "metadata": {},
   "outputs": [],
   "source": []
  }
 ],
 "metadata": {
  "kernelspec": {
   "display_name": "Python 3.11.0 64-bit",
   "language": "python",
   "name": "python3"
  },
  "language_info": {
   "codemirror_mode": {
    "name": "ipython",
    "version": 3
   },
   "file_extension": ".py",
   "mimetype": "text/x-python",
   "name": "python",
   "nbconvert_exporter": "python",
   "pygments_lexer": "ipython3",
   "version": "3.11.0"
  },
  "orig_nbformat": 4,
  "vscode": {
   "interpreter": {
    "hash": "7c542dbbc07e6010b76b61de8a453dc04d29cd1fae7fbaa29851ecbad9aefb83"
   }
  }
 },
 "nbformat": 4,
 "nbformat_minor": 2
}
