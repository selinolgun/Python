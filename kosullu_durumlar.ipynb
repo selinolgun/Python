{
 "cells": [
  {
   "cell_type": "code",
   "execution_count": 1,
   "metadata": {},
   "outputs": [
    {
     "name": "stdout",
     "output_type": "stream",
     "text": [
      "sayı 10'dan büyüktür!\n"
     ]
    }
   ],
   "source": [
    "# if\n",
    "\n",
    "n = 255\n",
    "if n > 10:\n",
    "    print(\"sayı 10'dan büyüktür!\")\n",
    "    # > büyüktür\n",
    "    # < küçüktür\n",
    "    # >= büyük eşittir\n",
    "    # <= küçük eşittir\n",
    "    # == eşittir\n",
    "    # != eşit değildir"
   ]
  },
  {
   "cell_type": "code",
   "execution_count": 4,
   "metadata": {},
   "outputs": [
    {
     "name": "stdout",
     "output_type": "stream",
     "text": [
      "Girdiğiniz sayı 10'dur!\n"
     ]
    }
   ],
   "source": [
    "sayı = int(input(\"Bir sayı giriniz: \"))\n",
    "\n",
    "if sayı > 10:\n",
    "    print(\"Girdiğiniz sayı 10'dan büyüktür!\")\n",
    "\n",
    "if sayı < 10:\n",
    "    print(\"Girdiğiniz sayı 10'dan küçüktür!\")\n",
    "\n",
    "if sayı == 10:\n",
    "    print(\"Girdiğiniz sayı 10'dur!\")"
   ]
  },
  {
   "cell_type": "code",
   "execution_count": 5,
   "metadata": {},
   "outputs": [
    {
     "name": "stdout",
     "output_type": "stream",
     "text": [
      "Eh, artık yaş yavaş yavaş kemale eriyor!\n"
     ]
    }
   ],
   "source": [
    "# elif\n",
    "\n",
    "yaş = int(input(\"Yaşınız: \"))\n",
    "\n",
    "if yaş == 18:\n",
    "    print(\"18 iyidir!\")\n",
    "\n",
    "elif yaş < 0:\n",
    "    print(\"Yok canım, daha neler!...\")\n",
    "\n",
    "elif yaş < 18:\n",
    "    print(\"Genç bir kardeşimizsin!\")\n",
    "\n",
    "elif yaş > 18:\n",
    "    print(\"Eh, artık yaş yavaş yavaş kemale eriyor!\")"
   ]
  },
  {
   "cell_type": "code",
   "execution_count": 6,
   "metadata": {},
   "outputs": [
    {
     "name": "stdout",
     "output_type": "stream",
     "text": [
      "evet, elma bir meyvedir...\n"
     ]
    }
   ],
   "source": [
    "# else\n",
    "\n",
    "soru = input(\"Bir meyve adı söyleyin bana:\")\n",
    "\n",
    "if soru == \"elma\":\n",
    "    print(\"evet, elma bir meyvedir...\")\n",
    "    \n",
    "elif soru == \"karpuz\":\n",
    "    print(\"evet, karpuz bir meyvedir...\")\n",
    "\n",
    "elif soru == \"armut\":\n",
    "    print(\"evet, armut bir meyvedir...\")\n",
    "\n",
    "else:\n",
    "    print(soru, \"gerçekten bir meyve midir?\")"
   ]
  },
  {
   "cell_type": "code",
   "execution_count": 7,
   "metadata": {},
   "outputs": [
    {
     "name": "stdout",
     "output_type": "stream",
     "text": [
      "boyunuz normal\n"
     ]
    }
   ],
   "source": [
    "boy = int(input(\"boyunuz kaç cm?\"))\n",
    "\n",
    "if boy < 170:\n",
    "    print(\"boyunuz kısa\")\n",
    "\n",
    "elif boy < 180:\n",
    "    print(\"boyunuz normal\")\n",
    "\n",
    "else:\n",
    "    print(\"boyunuz uzun\")"
   ]
  },
  {
   "cell_type": "code",
   "execution_count": null,
   "metadata": {},
   "outputs": [],
   "source": []
  }
 ],
 "metadata": {
  "kernelspec": {
   "display_name": "Python 3.11.0 64-bit",
   "language": "python",
   "name": "python3"
  },
  "language_info": {
   "codemirror_mode": {
    "name": "ipython",
    "version": 3
   },
   "file_extension": ".py",
   "mimetype": "text/x-python",
   "name": "python",
   "nbconvert_exporter": "python",
   "pygments_lexer": "ipython3",
   "version": "3.11.0"
  },
  "orig_nbformat": 4,
  "vscode": {
   "interpreter": {
    "hash": "7c542dbbc07e6010b76b61de8a453dc04d29cd1fae7fbaa29851ecbad9aefb83"
   }
  }
 },
 "nbformat": 4,
 "nbformat_minor": 2
}
