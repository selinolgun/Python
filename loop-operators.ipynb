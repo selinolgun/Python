{
 "cells": [
  {
   "cell_type": "code",
   "execution_count": 8,
   "metadata": {},
   "outputs": [
    {
     "name": "stdout",
     "output_type": "stream",
     "text": [
      "50\n",
      "60\n",
      "70\n",
      "80\n",
      "90\n"
     ]
    }
   ],
   "source": [
    "# range\n",
    "\n",
    "for item in range(50,100,10):\n",
    "    print(item)"
   ]
  },
  {
   "cell_type": "code",
   "execution_count": 14,
   "metadata": {},
   "outputs": [
    {
     "name": "stdout",
     "output_type": "stream",
     "text": [
      "H\n",
      "index: 0 letter: H\n",
      "e\n",
      "index: 1 letter: e\n",
      "l\n",
      "index: 2 letter: l\n",
      "l\n",
      "index: 3 letter: l\n",
      "o\n",
      "index: 4 letter: o\n",
      " \n",
      "index: 5 letter:  \n",
      "T\n",
      "index: 6 letter: T\n",
      "h\n",
      "index: 7 letter: h\n",
      "e\n",
      "index: 8 letter: e\n",
      "r\n",
      "index: 9 letter: r\n",
      "e\n",
      "index: 10 letter: e\n"
     ]
    }
   ],
   "source": [
    "# enumerate\n",
    "\n",
    "greeting = \"Hello There\"\n",
    "\n",
    "for index,item in enumerate(greeting):\n",
    "    print(item)\n",
    "    print(f\"index: {index} letter: {item}\")\n",
    "    # index += 1"
   ]
  },
  {
   "cell_type": "code",
   "execution_count": 24,
   "metadata": {},
   "outputs": [
    {
     "name": "stdout",
     "output_type": "stream",
     "text": [
      "(1, 'a', 100)\n",
      "(2, 'b', 200)\n",
      "(3, 'c', 300)\n",
      "(4, 'd', 400)\n",
      "(5, 'e', 500)\n",
      "1 a 100\n",
      "2 b 200\n",
      "3 c 300\n",
      "4 d 400\n",
      "5 e 500\n"
     ]
    }
   ],
   "source": [
    "# zip\n",
    "\n",
    "list1 = [1,2,3,4,5]\n",
    "list2 = [\"a\",\"b\",\"c\",\"d\",\"e\"]\n",
    "list3 = [100,200,300,400,500]\n",
    "\n",
    "# print(list(zip(list1, list2)))\n",
    "\n",
    "for item in (zip(list1, list2, list3)):\n",
    "    print(item)\n",
    "\n",
    "for a,b,c in (zip(list1, list2, list3)):\n",
    "    print(a,b,c)"
   ]
  },
  {
   "cell_type": "code",
   "execution_count": null,
   "metadata": {},
   "outputs": [],
   "source": []
  }
 ],
 "metadata": {
  "kernelspec": {
   "display_name": "Python 3.11.0 64-bit",
   "language": "python",
   "name": "python3"
  },
  "language_info": {
   "codemirror_mode": {
    "name": "ipython",
    "version": 3
   },
   "file_extension": ".py",
   "mimetype": "text/x-python",
   "name": "python",
   "nbconvert_exporter": "python",
   "pygments_lexer": "ipython3",
   "version": "3.11.0"
  },
  "orig_nbformat": 4,
  "vscode": {
   "interpreter": {
    "hash": "7c542dbbc07e6010b76b61de8a453dc04d29cd1fae7fbaa29851ecbad9aefb83"
   }
  }
 },
 "nbformat": 4,
 "nbformat_minor": 2
}
