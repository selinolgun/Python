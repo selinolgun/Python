{
 "cells": [
  {
   "cell_type": "code",
   "execution_count": 1,
   "metadata": {},
   "outputs": [],
   "source": [
    "liste = [\"1\",\"2\",\"5a\",\"10b\",\"abc\"]"
   ]
  },
  {
   "cell_type": "code",
   "execution_count": 4,
   "metadata": {},
   "outputs": [
    {
     "name": "stdout",
     "output_type": "stream",
     "text": [
      "1\n",
      "2\n"
     ]
    }
   ],
   "source": [
    "for a in liste:\n",
    "    try:\n",
    "        result = int(a)\n",
    "        print(result)\n",
    "    except ValueError:\n",
    "        continue"
   ]
  },
  {
   "cell_type": "code",
   "execution_count": 6,
   "metadata": {},
   "outputs": [
    {
     "name": "stdout",
     "output_type": "stream",
     "text": [
      "girdiğiniz sayi: 20.0\n",
      "girdiğiniz sayi: 30.0\n",
      "geçersiz sayı\n"
     ]
    }
   ],
   "source": [
    "while True:\n",
    "    sayi = input(\"sayı: \")\n",
    "    if sayi == \"q\":\n",
    "        break\n",
    "    try:\n",
    "        result = float(sayi)\n",
    "        print(\"girdiğiniz sayi:\", result)\n",
    "        break\n",
    "    except ValueError:\n",
    "        print(\"geçersiz sayı\")\n",
    "        continue"
   ]
  },
  {
   "cell_type": "code",
   "execution_count": 12,
   "metadata": {},
   "outputs": [
    {
     "name": "stdout",
     "output_type": "stream",
     "text": [
      "Geçerli parola\n"
     ]
    }
   ],
   "source": [
    "parola = input(\"parola: \")\n",
    "\n",
    "\n",
    "def checkPassword(parola):\n",
    "\n",
    "    turkce_karakterler = \"şçğüöıİ\"\n",
    "\n",
    "    for b in parola:\n",
    "        if b in turkce_karakterler:\n",
    "            raise TypeError(\"Parola türkçe karakter içeremez\")\n",
    "        else:\n",
    "            pass\n",
    "\n",
    "    print(\"Geçerli parola\")\n",
    "\n",
    "try:\n",
    "    checkPassword(parola)\n",
    "except TypeError as error:\n",
    "    print(error)"
   ]
  },
  {
   "cell_type": "code",
   "execution_count": 14,
   "metadata": {},
   "outputs": [
    {
     "name": "stdout",
     "output_type": "stream",
     "text": [
      "120\n",
      "3628800\n",
      "2432902008176640000\n",
      "Negatif değer.\n",
      "invalid literal for int() with base 10: '10a'\n"
     ]
    }
   ],
   "source": [
    "def faktoriyel(x):\n",
    "    x = int(x)\n",
    "    \n",
    "    if x < 0:\n",
    "        raise ValueError(\"Negatif değer.\")\n",
    "    \n",
    "    result = 1\n",
    "    for i in range(1, x+1):\n",
    "        result *= i\n",
    "    return result\n",
    "\n",
    "for x in [5,10,20,-3,\"10a\"]:\n",
    "    try:\n",
    "        y = faktoriyel(x)\n",
    "    except ValueError as error:\n",
    "        print(error)\n",
    "        continue\n",
    "    print(y)"
   ]
  },
  {
   "cell_type": "code",
   "execution_count": null,
   "metadata": {},
   "outputs": [],
   "source": []
  }
 ],
 "metadata": {
  "kernelspec": {
   "display_name": "Python 3.11.0 64-bit",
   "language": "python",
   "name": "python3"
  },
  "language_info": {
   "codemirror_mode": {
    "name": "ipython",
    "version": 3
   },
   "file_extension": ".py",
   "mimetype": "text/x-python",
   "name": "python",
   "nbconvert_exporter": "python",
   "pygments_lexer": "ipython3",
   "version": "3.11.0"
  },
  "orig_nbformat": 4,
  "vscode": {
   "interpreter": {
    "hash": "7c542dbbc07e6010b76b61de8a453dc04d29cd1fae7fbaa29851ecbad9aefb83"
   }
  }
 },
 "nbformat": 4,
 "nbformat_minor": 2
}
