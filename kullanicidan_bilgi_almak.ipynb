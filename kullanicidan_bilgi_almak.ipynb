{
 "cells": [
  {
   "cell_type": "code",
   "execution_count": 1,
   "metadata": {},
   "outputs": [
    {
     "name": "stdout",
     "output_type": "stream",
     "text": [
      "Merhaba Sonay\n"
     ]
    }
   ],
   "source": [
    "# input()\n",
    "\n",
    "isim = input(\"İsminiz nedir? \")\n",
    "\n",
    "print(\"Merhaba\", isim)"
   ]
  },
  {
   "cell_type": "code",
   "execution_count": 2,
   "metadata": {},
   "outputs": [
    {
     "name": "stdout",
     "output_type": "stream",
     "text": [
      "Demek 26 yaşındasın.\n",
      "Genç mi yoksa yaşlı mı olduğuna karar veremedim.\n"
     ]
    }
   ],
   "source": [
    "yaş = input(\"Yaşınız: \")\n",
    "\n",
    "print(\"Demek\", yaş, \"yaşındasın.\")\n",
    "print(\"Genç mi yoksa yaşlı mı olduğuna karar veremedim.\")"
   ]
  },
  {
   "cell_type": "code",
   "execution_count": 3,
   "metadata": {},
   "outputs": [
    {
     "name": "stdout",
     "output_type": "stream",
     "text": [
      "Çapı 6 cm olan dairenin alanı:  28.27431 cm2'dir\n"
     ]
    }
   ],
   "source": [
    "çap = input(\"Dairenin çapı: \")\n",
    "yarıçap = int(çap) / 2\n",
    "pi = 3.14159\n",
    "alan = pi * (yarıçap * yarıçap)\n",
    "print(\"Çapı\", çap, \"cm olan dairenin alanı: \", alan, \"cm2'dir\")"
   ]
  },
  {
   "cell_type": "code",
   "execution_count": null,
   "metadata": {},
   "outputs": [],
   "source": []
  }
 ],
 "metadata": {
  "kernelspec": {
   "display_name": "Python 3.11.0 64-bit",
   "language": "python",
   "name": "python3"
  },
  "language_info": {
   "codemirror_mode": {
    "name": "ipython",
    "version": 3
   },
   "file_extension": ".py",
   "mimetype": "text/x-python",
   "name": "python",
   "nbconvert_exporter": "python",
   "pygments_lexer": "ipython3",
   "version": "3.11.0"
  },
  "orig_nbformat": 4,
  "vscode": {
   "interpreter": {
    "hash": "7c542dbbc07e6010b76b61de8a453dc04d29cd1fae7fbaa29851ecbad9aefb83"
   }
  }
 },
 "nbformat": 4,
 "nbformat_minor": 2
}
