{
 "cells": [
  {
   "cell_type": "code",
   "execution_count": 12,
   "metadata": {},
   "outputs": [
    {
     "name": "stdout",
     "output_type": "stream",
     "text": [
      "apple\n",
      "banana\n",
      "orange\n",
      "set()\n"
     ]
    }
   ],
   "source": [
    "fruits = {\"orange\",\"apple\",\"banana\"}\n",
    "\n",
    "# print(fruit[0]) indekslenemez\n",
    "\n",
    "for x in fruits:\n",
    "    print(x)\n",
    "\n",
    "fruits.add(\"cherry\")\n",
    "fruits.update([\"mango\",\"grape\",\"apple\"])\n",
    "\n",
    "fruits.remove(\"mango\")\n",
    "fruits.discard(\"apple\")\n",
    "fruits.pop()\n",
    "fruits.clear()\n",
    "\n",
    "print(fruits)"
   ]
  },
  {
   "cell_type": "code",
   "execution_count": 8,
   "metadata": {},
   "outputs": [
    {
     "name": "stdout",
     "output_type": "stream",
     "text": [
      "[1, 2, 5, 4, 4, 2, 1]\n",
      "{1, 2, 4, 5}\n"
     ]
    }
   ],
   "source": [
    "# myList = [1,2,5,4,4,2,1]\n",
    "\n",
    "# print(myList)\n",
    "\n",
    "# print(set(myList))"
   ]
  },
  {
   "cell_type": "code",
   "execution_count": null,
   "metadata": {},
   "outputs": [],
   "source": []
  }
 ],
 "metadata": {
  "kernelspec": {
   "display_name": "Python 3.11.0 64-bit",
   "language": "python",
   "name": "python3"
  },
  "language_info": {
   "codemirror_mode": {
    "name": "ipython",
    "version": 3
   },
   "file_extension": ".py",
   "mimetype": "text/x-python",
   "name": "python",
   "nbconvert_exporter": "python",
   "pygments_lexer": "ipython3",
   "version": "3.11.0"
  },
  "orig_nbformat": 4,
  "vscode": {
   "interpreter": {
    "hash": "7c542dbbc07e6010b76b61de8a453dc04d29cd1fae7fbaa29851ecbad9aefb83"
   }
  }
 },
 "nbformat": 4,
 "nbformat_minor": 2
}
