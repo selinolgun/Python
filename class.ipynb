{
 "cells": [
  {
   "cell_type": "code",
   "execution_count": 21,
   "metadata": {},
   "outputs": [
    {
     "name": "stdout",
     "output_type": "stream",
     "text": [
      "init metodu çalıştı.\n",
      "init metodu çalıştı.\n",
      "p1: name: ahmet year: 1990 address: kocaeli\n",
      "p2: name: yağmur year: 1995 address: no information\n",
      "Hello There. I am ahmet\n",
      "Hello There. I am yağmur\n",
      "adım: ahmet ve yaşım: <bound method Person.calculateAge of <__main__.Person object at 0x000001A6DDD12410>>\n",
      "adım: yağmur ve yaşım: <bound method Person.calculateAge of <__main__.Person object at 0x000001A6DBFEC410>>\n",
      "<__main__.Person object at 0x000001A6DDD12410>\n",
      "<__main__.Person object at 0x000001A6DBFEC410>\n",
      "<class '__main__.Person'>\n",
      "<class '__main__.Person'>\n",
      "False\n"
     ]
    }
   ],
   "source": [
    "# class\n",
    "\n",
    "class Person:\n",
    "    # class attributes\n",
    "    address = \"no information\"\n",
    "\n",
    "    # constructor (yapıcı metod)\n",
    "    def __init__(self, name, year):\n",
    "\n",
    "        # object attributes\n",
    "        self.name = name\n",
    "        self.year = year\n",
    "        print(\"init metodu çalıştı.\")\n",
    "\n",
    "    # instance methods\n",
    "    def intro(self):\n",
    "        print(\"Hello There. I am \" + self.name)\n",
    "\n",
    "    def calculateAge(self):\n",
    "        return 2019 - self.year\n",
    "# object (instance)\n",
    "\n",
    "p1 = Person(\"ali\", 1990)\n",
    "p2 = Person(\"yağmur\", 1995)\n",
    "\n",
    "# # updating\n",
    "\n",
    "p1.name = \"ahmet\"\n",
    "p1.address = \"kocaeli\"\n",
    "\n",
    "# accessing object attributes\n",
    "print(f\"p1: name: {p1.name} year: {p1.year} address: {p1.address}\")\n",
    "print(f\"p2: name: {p2.name} year: {p2.year} address: {p2.address}\")\n",
    "\n",
    "\n",
    "p1.intro()\n",
    "p2.intro()\n",
    "\n",
    "print(f\"adım: {p1.name} ve yaşım: {p1.calculateAge}\")\n",
    "print(f\"adım: {p2.name} ve yaşım: {p2.calculateAge}\")\n",
    "\n",
    "print(p1)\n",
    "print(p2)\n",
    "print(type(p1))\n",
    "print(type(p2))\n",
    "print(p1 == p2)"
   ]
  },
  {
   "cell_type": "code",
   "execution_count": 16,
   "metadata": {},
   "outputs": [
    {
     "name": "stdout",
     "output_type": "stream",
     "text": [
      "c1: alan = 3.14 çevre = 6.28\n",
      "c2: alan = 78.5 çevre = 31.400000000000002\n"
     ]
    }
   ],
   "source": [
    "class Circle:\n",
    "    # Class object attribute\n",
    "    pi = 3.14\n",
    "\n",
    "    def __init__(self, yaricap=1):\n",
    "        self.yaricap = yaricap\n",
    "\n",
    "    # Methods\n",
    "    def cevre_hesapla(self):\n",
    "        return 2*self.pi * self.yaricap\n",
    "\n",
    "    def alan_hesapla(self):\n",
    "        return self.pi * (self.yaricap**2)\n",
    "\n",
    "c1 = Circle() # yaricap = 1\n",
    "c2 = Circle(5)\n",
    "\n",
    "print(f\"c1: alan = {c1.alan_hesapla()} çevre = {c1.cevre_hesapla()}\")\n",
    "print(f\"c2: alan = {c2.alan_hesapla()} çevre = {c2.cevre_hesapla()}\")"
   ]
  },
  {
   "cell_type": "code",
   "execution_count": null,
   "metadata": {},
   "outputs": [],
   "source": []
  }
 ],
 "metadata": {
  "kernelspec": {
   "display_name": "Python 3.11.0 64-bit",
   "language": "python",
   "name": "python3"
  },
  "language_info": {
   "codemirror_mode": {
    "name": "ipython",
    "version": 3
   },
   "file_extension": ".py",
   "mimetype": "text/x-python",
   "name": "python",
   "nbconvert_exporter": "python",
   "pygments_lexer": "ipython3",
   "version": "3.11.0"
  },
  "orig_nbformat": 4,
  "vscode": {
   "interpreter": {
    "hash": "7c542dbbc07e6010b76b61de8a453dc04d29cd1fae7fbaa29851ecbad9aefb83"
   }
  }
 },
 "nbformat": 4,
 "nbformat_minor": 2
}
