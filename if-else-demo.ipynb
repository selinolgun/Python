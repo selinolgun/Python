{
 "cells": [
  {
   "cell_type": "code",
   "execution_count": 2,
   "metadata": {},
   "outputs": [
    {
     "name": "stdout",
     "output_type": "stream",
     "text": [
      "Ehliyet almaya uygun değil\n"
     ]
    }
   ],
   "source": [
    "isim = input(\"isim: \")\n",
    "yaş = int(input(\"yaş: \"))\n",
    "eğitim = input(\"eğitim: \")\n",
    "\n",
    "if (yaş > 17) and (eğitim == \"lise\" or \"üniversite\"):\n",
    "    print(\"Ehliyet alabilir\")\n",
    "else:\n",
    "    print(\"Ehliyet almaya uygun değil\")"
   ]
  },
  {
   "cell_type": "code",
   "execution_count": 5,
   "metadata": {},
   "outputs": [
    {
     "name": "stdout",
     "output_type": "stream",
     "text": [
      "Belirlenen not ortalaması aralığının dışına çıktınız.\n"
     ]
    }
   ],
   "source": [
    "yazili1 = int(input(\"1.Yazılı: \"))\n",
    "yazili2 = int(input(\"2.Yazılı: \"))\n",
    "sözlü = int(input(\"Sözlü: \"))\n",
    "ortalama = (yazili1+yazili2+sözlü)/3\n",
    "\n",
    "if (0<=ortalama<=24):\n",
    "    print(\"0\")\n",
    "elif (25<=ortalama<=44):\n",
    "    print(\"1\")\n",
    "elif (45<=ortalama<=54):\n",
    "    print(\"2\")\n",
    "elif (55<=ortalama<=69):\n",
    "    print(\"3\")\n",
    "elif (70<=ortalama<=84):\n",
    "    print(\"4\")\n",
    "elif (85<=ortalama<=100):\n",
    "    print(\"5\")\n",
    "else:\n",
    "    print(\"Belirlenen not ortalaması aralığının dışına çıktınız.\")"
   ]
  },
  {
   "cell_type": "code",
   "execution_count": 3,
   "metadata": {},
   "outputs": [
    {
     "name": "stdout",
     "output_type": "stream",
     "text": [
      "(2019, 8, 1)\n",
      "(2020, 8, 1)\n",
      "(2021, 8, 1)\n",
      "(4, 3, 27)\n"
     ]
    }
   ],
   "source": [
    "aracyil = int(input(\"Araç Trafiğe Çıkış Yılı: \"))\n",
    "aracay = int(input(\"Araç Trafiğe Çıkış Ayı: \"))\n",
    "aracgun = int(input(\"Araç Trafiğe Çıkış Günü: \"))\n",
    "\n",
    "bugun = (2022, 11, 28)\n",
    "\n",
    "bakim1 = (aracyil+1), aracay, aracgun\n",
    "bakim2 = (aracyil+2), aracay, aracgun\n",
    "bakim3 = (aracyil+3), aracay, aracgun\n",
    "\n",
    "sure = (bugun[0]-aracyil), (bugun[1]-aracay), (bugun[2]-aracgun)\n",
    "\n",
    "print(bakim1)\n",
    "print(bakim2)\n",
    "print(bakim3)\n",
    "print(sure)"
   ]
  },
  {
   "cell_type": "code",
   "execution_count": null,
   "metadata": {},
   "outputs": [],
   "source": []
  }
 ],
 "metadata": {
  "kernelspec": {
   "display_name": "Python 3.11.0 64-bit",
   "language": "python",
   "name": "python3"
  },
  "language_info": {
   "codemirror_mode": {
    "name": "ipython",
    "version": 3
   },
   "file_extension": ".py",
   "mimetype": "text/x-python",
   "name": "python",
   "nbconvert_exporter": "python",
   "pygments_lexer": "ipython3",
   "version": "3.11.0"
  },
  "orig_nbformat": 4,
  "vscode": {
   "interpreter": {
    "hash": "7c542dbbc07e6010b76b61de8a453dc04d29cd1fae7fbaa29851ecbad9aefb83"
   }
  }
 },
 "nbformat": 4,
 "nbformat_minor": 2
}
