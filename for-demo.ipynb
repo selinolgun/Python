{
 "cells": [
  {
   "cell_type": "code",
   "execution_count": 10,
   "metadata": {},
   "outputs": [
    {
     "name": "stdout",
     "output_type": "stream",
     "text": [
      "3\n",
      "9\n",
      "12\n",
      "21\n"
     ]
    }
   ],
   "source": [
    "sayilar = [1,3,5,7,9,12,19,21]\n",
    "\n",
    "for sayi in sayilar:\n",
    "    if (sayi%3==0):\n",
    "        print(sayi)"
   ]
  },
  {
   "cell_type": "code",
   "execution_count": 14,
   "metadata": {},
   "outputs": [
    {
     "name": "stdout",
     "output_type": "stream",
     "text": [
      "77\n"
     ]
    }
   ],
   "source": [
    "toplam = 0\n",
    "for sayi in sayilar:\n",
    "    toplam = toplam + sayi\n",
    "print(toplam)"
   ]
  },
  {
   "cell_type": "code",
   "execution_count": 16,
   "metadata": {},
   "outputs": [
    {
     "name": "stdout",
     "output_type": "stream",
     "text": [
      "1\n",
      "9\n",
      "25\n",
      "49\n",
      "81\n",
      "361\n",
      "441\n"
     ]
    }
   ],
   "source": [
    "for sayi in sayilar:\n",
    "    if sayi % 2 == 1:\n",
    "        print(sayi**2)"
   ]
  },
  {
   "cell_type": "code",
   "execution_count": 17,
   "metadata": {},
   "outputs": [
    {
     "name": "stdout",
     "output_type": "stream",
     "text": [
      "izmir\n",
      "rize\n"
     ]
    }
   ],
   "source": [
    "sehirler = [\"kocaeli\",\"istanbul\",\"ankara\",\"izmir\",\"rize\"]\n",
    "\n",
    "for sehir in sehirler:\n",
    "    if len(sehir) <= 5:\n",
    "        print(sehir)"
   ]
  },
  {
   "cell_type": "code",
   "execution_count": 20,
   "metadata": {},
   "outputs": [
    {
     "name": "stdout",
     "output_type": "stream",
     "text": [
      "3000\n",
      "7000\n",
      "12000\n",
      "18000\n",
      "25000\n"
     ]
    }
   ],
   "source": [
    "urunler = [\n",
    "    {\"name\":\"samsung S6\", \"price\":\"3000\"},\n",
    "    {\"name\":\"samsung S7\", \"price\":\"4000\"},\n",
    "    {\"name\":\"samsung S8\", \"price\":\"5000\"},\n",
    "    {\"name\":\"samsung S9\", \"price\":\"6000\"},\n",
    "    {\"name\":\"samsung S10\", \"price\":\"7000\"}\n",
    "]\n",
    "\n",
    "toplam = 0\n",
    "for urun in urunler:\n",
    "    fiyat = int(urun[\"price\"])\n",
    "    toplam = toplam + fiyat\n",
    "    print(toplam)"
   ]
  },
  {
   "cell_type": "code",
   "execution_count": 21,
   "metadata": {},
   "outputs": [
    {
     "name": "stdout",
     "output_type": "stream",
     "text": [
      "samsung S6\n",
      "samsung S7\n",
      "samsung S8\n"
     ]
    }
   ],
   "source": [
    "for urun in urunler:\n",
    "    if int(urun[\"price\"]) <= 5000:\n",
    "        print(urun[\"name\"])"
   ]
  },
  {
   "cell_type": "code",
   "execution_count": null,
   "metadata": {},
   "outputs": [],
   "source": []
  }
 ],
 "metadata": {
  "kernelspec": {
   "display_name": "Python 3.11.0 64-bit",
   "language": "python",
   "name": "python3"
  },
  "language_info": {
   "codemirror_mode": {
    "name": "ipython",
    "version": 3
   },
   "file_extension": ".py",
   "mimetype": "text/x-python",
   "name": "python",
   "nbconvert_exporter": "python",
   "pygments_lexer": "ipython3",
   "version": "3.11.0"
  },
  "orig_nbformat": 4,
  "vscode": {
   "interpreter": {
    "hash": "7c542dbbc07e6010b76b61de8a453dc04d29cd1fae7fbaa29851ecbad9aefb83"
   }
  }
 },
 "nbformat": 4,
 "nbformat_minor": 2
}
