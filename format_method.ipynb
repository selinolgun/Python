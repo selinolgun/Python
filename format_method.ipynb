{
 "cells": [
  {
   "cell_type": "code",
   "execution_count": 1,
   "metadata": {},
   "outputs": [
    {
     "name": "stdout",
     "output_type": "stream",
     "text": [
      "Hata! Google Chrome www.com sitesini bulamadı\n"
     ]
    }
   ],
   "source": [
    "# format()\n",
    "\n",
    "url = input(\"Lütfen ulaşmak istediğiniz sitenin adresini yazın: \")\n",
    "print(\"Hata! Google Chrome\", url, \"sitesini bulamadı\")"
   ]
  },
  {
   "cell_type": "code",
   "execution_count": 2,
   "metadata": {},
   "outputs": [
    {
     "name": "stdout",
     "output_type": "stream",
     "text": [
      "Hata! Google Chrome 'www.com' sitesini bulamadı\n"
     ]
    }
   ],
   "source": [
    "print(\"Hata! Google Chrome\", \"'\" + url + \"'\", \"sitesini bulamadı\")"
   ]
  },
  {
   "cell_type": "code",
   "execution_count": 3,
   "metadata": {},
   "outputs": [
    {
     "name": "stdout",
     "output_type": "stream",
     "text": [
      "Hata! Google Chrome 'www.com' sitesini bulamadı\n"
     ]
    }
   ],
   "source": [
    "print(\"Hata! Google Chrome '{}' sitesini bulamadı\".format(url))"
   ]
  },
  {
   "cell_type": "code",
   "execution_count": 4,
   "metadata": {},
   "outputs": [
    {
     "name": "stdout",
     "output_type": "stream",
     "text": [
      "Ahmet 18 yaşında bir futbolcudur\n"
     ]
    }
   ],
   "source": [
    "print(\"{} {} yaşında bir {}dur\".format(\"Ahmet\", \"18\", \"futbolcu\"))"
   ]
  },
  {
   "cell_type": "code",
   "execution_count": 5,
   "metadata": {},
   "outputs": [
    {
     "data": {
      "text/plain": [
       "'Ahmet 18 yaşında bir futbolcudur'"
      ]
     },
     "execution_count": 5,
     "metadata": {},
     "output_type": "execute_result"
    }
   ],
   "source": [
    "metin = \"{} {} yaşında bir {}dur\"\n",
    "metin.format(\"Ahmet\", \"18\", \"futbolcu\")"
   ]
  },
  {
   "cell_type": "code",
   "execution_count": 6,
   "metadata": {},
   "outputs": [
    {
     "name": "stdout",
     "output_type": "stream",
     "text": [
      "\n",
      "                                                    tarih: 30 aralık 2022\n",
      "\n",
      "\n",
      "T.C.\n",
      "Afyon kocatepe üni ÜNİVERSİTESİ\n",
      "mühendislik Fakültesi Dekanlığına\n",
      "\n",
      "\n",
      "Fakülteniz gıda müh Bölümü 152914018 numaralı öğrencisiyim. Ekte sunduğum belgede\n",
      "belirtilen mazeretim gereğince 2015 Eğitim-Öğretim Yılı  güz.\n",
      "yarıyılında öğrenime ara izni (kayıt dondurma) istiyorum.\n",
      "\n",
      "    Bilgilerinizi ve gereğini arz ederim.\n",
      "\n",
      "        İmza\n",
      "\n",
      "Ad              : sonay\n",
      "Soyad           : ılıca\n",
      "T.C. Kimlik No. : 483\n",
      "Adres           : soma\n",
      "Tel.            : 534\n",
      "Ekler           : 21\n",
      "\n"
     ]
    }
   ],
   "source": [
    "dilekçe = \"\"\"\n",
    "                                                    tarih: {}\n",
    "\n",
    "\n",
    "T.C.\n",
    "{} ÜNİVERSİTESİ\n",
    "{} Fakültesi Dekanlığına\n",
    "\n",
    "\n",
    "Fakülteniz {} Bölümü {} numaralı öğrencisiyim. Ekte sunduğum belgede\n",
    "belirtilen mazeretim gereğince {} Eğitim-Öğretim Yılı  {}.\n",
    "yarıyılında öğrenime ara izni (kayıt dondurma) istiyorum.\n",
    "\n",
    "    Bilgilerinizi ve gereğini arz ederim.\n",
    "\n",
    "        İmza\n",
    "\n",
    "Ad              : {}\n",
    "Soyad           : {}\n",
    "T.C. Kimlik No. : {}\n",
    "Adres           : {}\n",
    "Tel.            : {}\n",
    "Ekler           : {}\n",
    "\"\"\"\n",
    "\n",
    "\n",
    "tarih           = input(\"tarih: \")\n",
    "üniversite      = input(\"üniversite adı: \")\n",
    "fakülte         = input(\"fakülte adı: \")\n",
    "bölüm           = input(\"bölüm adı: \")\n",
    "öğrenci_no      = input(\"öğrenci no. :\")\n",
    "öğretim_yılı    = input(\"öğretim yılı: \")\n",
    "yarıyıl         = input(\"yarıyıl: \")\n",
    "ad              = input(\"öğrencinin adı: \")\n",
    "soyad           = input(\"öğrencinin soyadı: \")\n",
    "tc_kimlik_no    = input(\"TC Kimlik no. :\")\n",
    "adres           = input(\"adres: \")\n",
    "tel             = input(\"telefon: \")\n",
    "ekler           = input(\"ekler: \")\n",
    "\n",
    "print(dilekçe.format(tarih, üniversite, fakülte, bölüm,\n",
    "                     öğrenci_no, öğretim_yılı, yarıyıl,\n",
    "                     ad, soyad, tc_kimlik_no,\n",
    "                     adres, tel, ekler))"
   ]
  },
  {
   "cell_type": "code",
   "execution_count": null,
   "metadata": {},
   "outputs": [],
   "source": []
  }
 ],
 "metadata": {
  "kernelspec": {
   "display_name": "Python 3.11.0 64-bit",
   "language": "python",
   "name": "python3"
  },
  "language_info": {
   "codemirror_mode": {
    "name": "ipython",
    "version": 3
   },
   "file_extension": ".py",
   "mimetype": "text/x-python",
   "name": "python",
   "nbconvert_exporter": "python",
   "pygments_lexer": "ipython3",
   "version": "3.11.0"
  },
  "orig_nbformat": 4,
  "vscode": {
   "interpreter": {
    "hash": "7c542dbbc07e6010b76b61de8a453dc04d29cd1fae7fbaa29851ecbad9aefb83"
   }
  }
 },
 "nbformat": 4,
 "nbformat_minor": 2
}
