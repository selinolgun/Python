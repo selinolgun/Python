{
 "cells": [
  {
   "cell_type": "code",
   "execution_count": 1,
   "metadata": {},
   "outputs": [
    {
     "ename": "Exception",
     "evalue": "x 5'ten büyük değer alamaz",
     "output_type": "error",
     "traceback": [
      "\u001b[1;31m---------------------------------------------------------------------------\u001b[0m",
      "\u001b[1;31mException\u001b[0m                                 Traceback (most recent call last)",
      "Cell \u001b[1;32mIn [1], line 4\u001b[0m\n\u001b[0;32m      1\u001b[0m x \u001b[39m=\u001b[39m \u001b[39m10\u001b[39m\n\u001b[0;32m      3\u001b[0m \u001b[39mif\u001b[39;00m x \u001b[39m>\u001b[39m \u001b[39m5\u001b[39m:\n\u001b[1;32m----> 4\u001b[0m     \u001b[39mraise\u001b[39;00m \u001b[39mException\u001b[39;00m(\u001b[39m\"\u001b[39m\u001b[39mx 5\u001b[39m\u001b[39m'\u001b[39m\u001b[39mten büyük değer alamaz\u001b[39m\u001b[39m\"\u001b[39m)\n",
      "\u001b[1;31mException\u001b[0m: x 5'ten büyük değer alamaz"
     ]
    }
   ],
   "source": [
    "x = 10\n",
    "\n",
    "if x > 5:\n",
    "    raise Exception(\"x 5'ten büyük değer alamaz\")"
   ]
  },
  {
   "cell_type": "code",
   "execution_count": 10,
   "metadata": {},
   "outputs": [
    {
     "name": "stdout",
     "output_type": "stream",
     "text": [
      "Geçerli parola\n",
      "Geçerli parola: else\n",
      "validation tamamlandı.\n"
     ]
    }
   ],
   "source": [
    "def check_password(psw):\n",
    "    import re\n",
    "    if len(psw) < 8:\n",
    "        raise Exception(\"parola en az 8 karakter olmalıdır\")\n",
    "    elif not re.search(\"[a-z]\", psw):\n",
    "        raise Exception(\"parola küçük harf içermelidir.\")\n",
    "    elif not re.search(\"[A-Z]\", psw):\n",
    "        raise Exception(\"parola büyük harf içermelidir.\")\n",
    "    elif not re.search(\"[0-9]\", psw):\n",
    "        raise Exception(\"parola rakam içermelidir.\")\n",
    "    elif not re.search(\"[_@$]\", psw):\n",
    "        raise Exception(\"parola alpha numeric karakter içerlemlidir.\")\n",
    "    elif re.search(\"\\s\", psw):\n",
    "        raise Exception(\"parola boşluk içermemelidir.\")\n",
    "    else:\n",
    "        print(\"Geçerli parola\")\n",
    "\n",
    "password = \"12345678aA_\"\n",
    "\n",
    "try:\n",
    "    check_password(password)\n",
    "except Exception as ex:\n",
    "    print(ex)\n",
    "else:\n",
    "    print(\"Geçerli parola: else\")\n",
    "finally:\n",
    "    print(\"validation tamamlandı.\")"
   ]
  },
  {
   "cell_type": "code",
   "execution_count": 12,
   "metadata": {},
   "outputs": [],
   "source": [
    "class Person:\n",
    "    def __init__(self, name, year):\n",
    "        if len(name) > 10:\n",
    "            raise Exception(\"name alanı fazla karakter içeriyor\")\n",
    "        else:\n",
    "            self.name = name\n",
    "\n",
    "p = Person(\"Aliiiiiiiiiiiiiiiii\", 1989)"
   ]
  },
  {
   "cell_type": "code",
   "execution_count": null,
   "metadata": {},
   "outputs": [],
   "source": []
  }
 ],
 "metadata": {
  "kernelspec": {
   "display_name": "Python 3.11.0 64-bit",
   "language": "python",
   "name": "python3"
  },
  "language_info": {
   "codemirror_mode": {
    "name": "ipython",
    "version": 3
   },
   "file_extension": ".py",
   "mimetype": "text/x-python",
   "name": "python",
   "nbconvert_exporter": "python",
   "pygments_lexer": "ipython3",
   "version": "3.11.0"
  },
  "orig_nbformat": 4,
  "vscode": {
   "interpreter": {
    "hash": "7c542dbbc07e6010b76b61de8a453dc04d29cd1fae7fbaa29851ecbad9aefb83"
   }
  }
 },
 "nbformat": 4,
 "nbformat_minor": 2
}
