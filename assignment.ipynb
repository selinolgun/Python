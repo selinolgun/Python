{
 "cells": [
  {
   "cell_type": "code",
   "execution_count": 11,
   "metadata": {},
   "outputs": [
    {
     "name": "stdout",
     "output_type": "stream",
     "text": [
      "0.0 32 20\n",
      "(1, 2, 3, 4, 5)\n",
      "<class 'tuple'>\n",
      "1 2 4\n"
     ]
    }
   ],
   "source": [
    "# x = 5\n",
    "# y = 10\n",
    "# z = 20\n",
    "\n",
    "x, y, z = 5, 10, 20\n",
    "\n",
    "# x, y = y, x\n",
    "# x = x + 5\n",
    "x += 5   # x = x + 5\n",
    "x -= 5   # x = x - 5\n",
    "x *= 5   # x = x * 5\n",
    "x /= 5   # x = x / 5\n",
    "x %= 5   # x = x % 5\n",
    "y //= 5  # y = y // 5\n",
    "y **= 5  # y = y ** 5\n",
    "\n",
    "print(x,y,z)\n",
    "\n",
    "# values = 1, 2, 3\n",
    "values = 1, 2, 3, 4, 5\n",
    "\n",
    "print(values)\n",
    "print(type(values))\n",
    "\n",
    "# x, y, z = values\n",
    "x, y, *z = values\n",
    "\n",
    "print(x,y,z[1])"
   ]
  },
  {
   "cell_type": "code",
   "execution_count": 8,
   "metadata": {},
   "outputs": [
    {
     "name": "stdout",
     "output_type": "stream",
     "text": [
      "(1, 2, 3)\n",
      "<class 'tuple'>\n"
     ]
    }
   ],
   "source": []
  }
 ],
 "metadata": {
  "kernelspec": {
   "display_name": "Python 3.11.0 64-bit",
   "language": "python",
   "name": "python3"
  },
  "language_info": {
   "codemirror_mode": {
    "name": "ipython",
    "version": 3
   },
   "file_extension": ".py",
   "mimetype": "text/x-python",
   "name": "python",
   "nbconvert_exporter": "python",
   "pygments_lexer": "ipython3",
   "version": "3.11.0"
  },
  "orig_nbformat": 4,
  "vscode": {
   "interpreter": {
    "hash": "7c542dbbc07e6010b76b61de8a453dc04d29cd1fae7fbaa29851ecbad9aefb83"
   }
  }
 },
 "nbformat": 4,
 "nbformat_minor": 2
}
