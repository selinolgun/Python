{
 "cells": [
  {
   "cell_type": "code",
   "execution_count": 5,
   "metadata": {},
   "outputs": [
    {
     "name": "stdout",
     "output_type": "stream",
     "text": [
      "Paranız işleme alınmıştır.\n",
      "47\n",
      "Tebrikler kazandınız. Yatırdığınız paranızın iki katı hesabınıza yatırıldı.\n",
      "Paranız işleme alınmıştır.\n",
      "90\n",
      "Malesef kaybettiniz.\n",
      "Paranız işleme alınmıştır.\n",
      "27\n",
      "Tebrikler kazandınız. Yatırdığınız paranızın iki katı hesabınıza yatırıldı.\n",
      "Paranız işleme alınmıştır.\n",
      "67\n",
      "Malesef kaybettiniz.\n",
      "Paranız işleme alınmıştır.\n",
      "90\n",
      "Malesef kaybettiniz.\n"
     ]
    }
   ],
   "source": [
    "import random\n",
    "\n",
    "kasa = 100000\n",
    "p = int(input(\"Ne kadar para yatırmak istersiniz?\"))\n",
    "\n",
    "sayilar = []\n",
    "for i in range(100):\n",
    "    sayilar.append(i)\n",
    "hileli_sayilar = []\n",
    "for i in range(50,100):\n",
    "    hileli_sayilar.append(i)\n",
    "\n",
    "while True:\n",
    "    y = int(input(\"Ne kadarlık oynamak istersiniz?\"))\n",
    "    if y > p:\n",
    "        print(\"Hesabınızda yeterli bakiye bulunmamaktadır.\")\n",
    "        a = input(\"Tekrar oynamak ister misiniz?(e/h)\")\n",
    "        if a == \"h\":\n",
    "            break\n",
    "    elif y > 1000:\n",
    "        print(\"1000 liradan fazlasını oynayamazsınız.\")\n",
    "        a = input(\"Tekrar oynamak ister misiniz?(e/h)\")\n",
    "        if a == \"h\":\n",
    "            break\n",
    "    else:\n",
    "        print(\"Paranız işleme alınmıştır.\")  \n",
    "        p -= y\n",
    "        kasa += y\n",
    "\n",
    "        if kasa < 101000:\n",
    "            c = random.choice(hileli_sayilar)\n",
    "            print(c)\n",
    "            print(\"Malesef kaybettiniz.\")\n",
    "        else:\n",
    "            z = random.choice(sayilar)\n",
    "            print(z)\n",
    "\n",
    "            if z < 50:\n",
    "                print(\"Tebrikler kazandınız. Yatırdığınız paranızın iki katı hesabınıza yatırıldı.\")\n",
    "                p += (y*2)\n",
    "                kasa -= (y*2)\n",
    "            else:\n",
    "                print(\"Malesef kaybettiniz.\")\n",
    "\n",
    "        a = input(\"Tekrar oynamak ister misiniz?(e/h)\")\n",
    "        if a == \"h\":\n",
    "            break"
   ]
  },
  {
   "cell_type": "code",
   "execution_count": null,
   "metadata": {},
   "outputs": [],
   "source": []
  }
 ],
 "metadata": {
  "kernelspec": {
   "display_name": "Python 3.11.0 64-bit",
   "language": "python",
   "name": "python3"
  },
  "language_info": {
   "codemirror_mode": {
    "name": "ipython",
    "version": 3
   },
   "file_extension": ".py",
   "mimetype": "text/x-python",
   "name": "python",
   "nbconvert_exporter": "python",
   "pygments_lexer": "ipython3",
   "version": "3.11.0"
  },
  "orig_nbformat": 4,
  "vscode": {
   "interpreter": {
    "hash": "7c542dbbc07e6010b76b61de8a453dc04d29cd1fae7fbaa29851ecbad9aefb83"
   }
  }
 },
 "nbformat": 4,
 "nbformat_minor": 2
}
