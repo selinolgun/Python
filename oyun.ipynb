{
 "cells": [
  {
   "cell_type": "code",
   "execution_count": 23,
   "metadata": {},
   "outputs": [
    {
     "name": "stdout",
     "output_type": "stream",
     "text": [
      "66\n",
      "Tahmininiz sayıdan düşük. Daha yüksek bir sayı giriniz.\n",
      "Tahmininiz sayıdan düşük. Daha yüksek bir sayı giriniz.\n",
      "Tahmininiz sayıdan düşük. Daha yüksek bir sayı giriniz.\n",
      "Tebrikler tahmininiz doğru.\n",
      "40.0\n"
     ]
    }
   ],
   "source": [
    "import random\n",
    "liste = []\n",
    "for i in range(0,101):\n",
    "    liste.append(i)\n",
    "liste = random.choice(liste)\n",
    "print(liste)\n",
    "\n",
    "y = int(input(\"Kaç hakkınız olmasını istiyorsunuz?\"))\n",
    "puan = 100\n",
    "ort = 100/y\n",
    "\n",
    "while not y == 0:\n",
    "    x = int(input(\"Bir tahmin giriniz: \"))\n",
    "    if x == liste:\n",
    "        print(\"Tebrikler tahmininiz doğru.\")\n",
    "        break\n",
    "    elif x > liste:\n",
    "        print(\"Tahmininiz sayıdan yüksek. Daha düşük bir sayı giriniz.\")\n",
    "        puan = puan - ort\n",
    "        y -= 1\n",
    "    else:\n",
    "        print(\"Tahmininiz sayıdan düşük. Daha yüksek bir sayı giriniz.\")\n",
    "        puan = puan - ort\n",
    "        y -= 1\n",
    "print(puan)"
   ]
  },
  {
   "cell_type": "code",
   "execution_count": null,
   "metadata": {},
   "outputs": [],
   "source": []
  }
 ],
 "metadata": {
  "kernelspec": {
   "display_name": "Python 3.11.0 64-bit",
   "language": "python",
   "name": "python3"
  },
  "language_info": {
   "codemirror_mode": {
    "name": "ipython",
    "version": 3
   },
   "file_extension": ".py",
   "mimetype": "text/x-python",
   "name": "python",
   "nbconvert_exporter": "python",
   "pygments_lexer": "ipython3",
   "version": "3.11.0"
  },
  "orig_nbformat": 4,
  "vscode": {
   "interpreter": {
    "hash": "7c542dbbc07e6010b76b61de8a453dc04d29cd1fae7fbaa29851ecbad9aefb83"
   }
  }
 },
 "nbformat": 4,
 "nbformat_minor": 2
}
