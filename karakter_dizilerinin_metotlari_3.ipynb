{
 "cells": [
  {
   "cell_type": "code",
   "execution_count": 1,
   "metadata": {},
   "outputs": [
    {
     "name": "stdout",
     "output_type": "stream",
     "text": [
      "Bildiginiz gibi, internet uzerinde bazen Turkce karakterleri kullanamiyoruz.\n"
     ]
    }
   ],
   "source": [
    "# str.maketrans() translate()\n",
    "\n",
    "kaynak = \"şçöğüıŞÇÖĞÜİ\"\n",
    "hedef  = \"scoguiSCOGUI\"\n",
    "\n",
    "çeviri_tablosu = str.maketrans(kaynak, hedef)\n",
    "\n",
    "metin = \"Bildiğiniz gibi, internet üzerinde bazen Türkçe karakterleri kullanamıyoruz.\"\n",
    "\n",
    "print(metin.translate(çeviri_tablosu))"
   ]
  },
  {
   "cell_type": "code",
   "execution_count": 2,
   "metadata": {},
   "outputs": [
    {
     "name": "stdout",
     "output_type": "stream",
     "text": [
      "{351: 115, 231: 99, 246: 111, 287: 103, 252: 117, 305: 105, 350: 83, 199: 67, 214: 79, 286: 71, 220: 85, 304: 73}\n"
     ]
    }
   ],
   "source": [
    "kaynak = \"şçöğüıŞÇÖĞÜİ\"\n",
    "hedef  = \"scoguiSCOGUI\"\n",
    "\n",
    "çeviri_tablosu = str.maketrans(kaynak, hedef)\n",
    "\n",
    "print(çeviri_tablosu)"
   ]
  },
  {
   "cell_type": "code",
   "execution_count": 3,
   "metadata": {},
   "outputs": [
    {
     "data": {
      "text/plain": [
       "'a'"
      ]
     },
     "execution_count": 3,
     "metadata": {},
     "output_type": "execute_result"
    }
   ],
   "source": [
    "chr(97)"
   ]
  },
  {
   "cell_type": "code",
   "execution_count": 4,
   "metadata": {},
   "outputs": [
    {
     "data": {
      "text/plain": [
       "'i'"
      ]
     },
     "execution_count": 4,
     "metadata": {},
     "output_type": "execute_result"
    }
   ],
   "source": [
    "chr(105)"
   ]
  },
  {
   "cell_type": "code",
   "execution_count": 5,
   "metadata": {},
   "outputs": [
    {
     "name": "stdout",
     "output_type": "stream",
     "text": [
      "214 Ö\n",
      "231 ç\n",
      "220 Ü\n",
      "199 Ç\n",
      "304 İ\n",
      "305 ı\n",
      "286 Ğ\n",
      "246 ö\n",
      "351 ş\n",
      "252 ü\n",
      "350 Ş\n",
      "287 ğ\n"
     ]
    }
   ],
   "source": [
    "for i in 214, 231, 220, 199, 304, 305, 286, 246, 351, 252, 350, 287:\n",
    "    print(i, chr(i))"
   ]
  },
  {
   "cell_type": "code",
   "execution_count": 6,
   "metadata": {},
   "outputs": [
    {
     "name": "stdout",
     "output_type": "stream",
     "text": [
      "79 O\n",
      "99 c\n",
      "85 U\n",
      "67 C\n",
      "73 I\n",
      "105 i\n",
      "71 G\n",
      "111 o\n",
      "115 s\n",
      "117 u\n",
      "83 S\n",
      "103 g\n"
     ]
    }
   ],
   "source": [
    "for i in 79, 99, 85, 67, 73, 105, 71, 111, 115, 117, 83, 103:\n",
    "    print(i, chr(i))"
   ]
  },
  {
   "cell_type": "code",
   "execution_count": 7,
   "metadata": {},
   "outputs": [
    {
     "name": "stdout",
     "output_type": "stream",
     "text": [
      "O\n"
     ]
    }
   ],
   "source": [
    "çeviri_tablosu = {\"Ö\": \"O\",\n",
    "                  \"ç\": \"c\",\n",
    "                  \"Ü\": \"U\",\n",
    "                  \"Ç\": \"C\",\n",
    "                  \"İ\": \"I\",\n",
    "                  \"ı\": \"i\",\n",
    "                  \"Ğ\": \"G\",\n",
    "                  \"ö\": \"o\",\n",
    "                  \"ş\": \"s\",\n",
    "                  \"ü\": \"u\",\n",
    "                  \"Ş\": \"S\",\n",
    "                  \"ğ\": \"g\"}\n",
    "\n",
    "print(çeviri_tablosu[\"Ö\"])"
   ]
  },
  {
   "cell_type": "code",
   "execution_count": 8,
   "metadata": {},
   "outputs": [
    {
     "name": "stdout",
     "output_type": "stream",
     "text": [
      "O\n",
      "c\n",
      "U\n",
      "C\n",
      "I\n",
      "i\n",
      "G\n",
      "o\n",
      "S\n",
      "g\n"
     ]
    }
   ],
   "source": [
    "çeviri_tablosu = {\"Ö\": \"O\",\n",
    "                  \"ç\": \"c\",\n",
    "                  \"Ü\": \"U\",\n",
    "                  \"Ç\": \"C\",\n",
    "                  \"İ\": \"I\",\n",
    "                  \"ı\": \"i\",\n",
    "                  \"Ğ\": \"G\",\n",
    "                  \"ö\": \"o\",\n",
    "                  \"ş\": \"s\",\n",
    "                  \"ü\": \"u\",\n",
    "                  \"Ş\": \"S\",\n",
    "                  \"ğ\": \"g\"}\n",
    "\n",
    "print(çeviri_tablosu[\"Ö\"])\n",
    "print(çeviri_tablosu[\"ç\"])\n",
    "print(çeviri_tablosu[\"Ü\"])\n",
    "print(çeviri_tablosu[\"Ç\"])\n",
    "print(çeviri_tablosu[\"İ\"])\n",
    "print(çeviri_tablosu[\"ı\"])\n",
    "print(çeviri_tablosu[\"Ğ\"])\n",
    "print(çeviri_tablosu[\"ö\"])\n",
    "print(çeviri_tablosu[\"Ş\"])\n",
    "print(çeviri_tablosu[\"ğ\"])"
   ]
  },
  {
   "cell_type": "code",
   "execution_count": 10,
   "metadata": {},
   "outputs": [
    {
     "name": "stdout",
     "output_type": "stream",
     "text": [
      "Bakalım bu metin doğru şekilde çevrilecek mi?\n"
     ]
    }
   ],
   "source": [
    "metin = \"Bfjflrk öa kdhsı yteua idjslyd bdcusldvdj ks?\"\n",
    "\n",
    "q_klavye_düzeni = \"qwertyuıopğüasdfghjklşi,zxcvbnmöç.\"\n",
    "f_klavye_düzeni = \"fgğıodrnhpqwuieaütkmlyşxjövcçzsb.,\"\n",
    "\n",
    "çeviri_tablosu = str.maketrans(q_klavye_düzeni, f_klavye_düzeni)\n",
    "\n",
    "print(metin.translate(çeviri_tablosu))"
   ]
  },
  {
   "cell_type": "code",
   "execution_count": 11,
   "metadata": {},
   "outputs": [
    {
     "name": "stdout",
     "output_type": "stream",
     "text": [
      "B prgrmlm dl Gd Vn Rssm dl Hllndl br\n",
      "prgrmc trfndn 90'l yllrn bşnd glştrlmy bşlnmştr.\n",
      "Çğ nsn, smnn Pythn lmsn bkrk, b prgrmlm dlnn, dn\n",
      "ptn ylnndn ldğn dşnr. nck znndldğnn ksn b\n",
      "prgrmlm dlnn d ptn ylnndn glmz. Gd Vn Rssm b\n",
      "prgrmlm dln, Th Mnty Pythn dl br nglz kmd grbnn, Mnty\n",
      "Pythn's Flyng Crcs dl gstrsndn snlnrk dlndrmştr. nck\n",
      "hr n kdr grçk byl ls d, Pythn prgrmlm dlnn pk çk yrd\n",
      "br yln fgr l tmsl dlms nrdys br glnk hln lmştr\n",
      "dyblrz.\n"
     ]
    }
   ],
   "source": [
    "metin = \"\"\"Bu programlama dili Guido Van Rossum adlı Hollandalı bir\n",
    "programcı tarafından 90'lı yılların başında geliştirilmeye başlanmıştır.\n",
    "Çoğu insan, isminin Python olmasına bakarak, bu programlama dilinin, adını\n",
    "piton yılanından aldığını düşünür. Ancak zannedildiğinin aksine bu\n",
    "programlama dilinin adı piton yılanından gelmez. Guido Van Rossum bu\n",
    "programlama dilini, The Monty Python adlı bir İngiliz komedi grubunun, Monty\n",
    "Python's Flying Circus adlı gösterisinden esinlenerek adlandırmıştır. Ancak\n",
    "her ne kadar gerçek böyle olsa da, Python programlama dilinin pek çok yerde\n",
    "bir yılan figürü ile temsil edilmesi neredeyse bir gelenek halini almıştır\n",
    "diyebiliriz.\"\"\"\n",
    "\n",
    "sesli_harfler = \"aeıioöuüAEIİOÖUÜ\"\n",
    "\n",
    "yeni_metin = \"\"\n",
    "\n",
    "for i in metin:\n",
    "    if not i in sesli_harfler:\n",
    "        yeni_metin += i\n",
    "\n",
    "print(yeni_metin)"
   ]
  },
  {
   "cell_type": "code",
   "execution_count": 12,
   "metadata": {},
   "outputs": [
    {
     "name": "stdout",
     "output_type": "stream",
     "text": [
      "B prgrmlm dl Gd Vn Rssm dl Hllndl br\n",
      "prgrmc trfndn 90'l yllrn bşnd glştrlmy bşlnmştr.\n",
      "Çğ nsn, smnn Pythn lmsn bkrk, b prgrmlm dlnn, dn\n",
      "ptn ylnndn ldğn dşnr. nck znndldğnn ksn b\n",
      "prgrmlm dlnn d ptn ylnndn glmz. Gd Vn Rssm b\n",
      "prgrmlm dln, Th Mnty Pythn dl br nglz kmd grbnn, Mnty\n",
      "Pythn's Flyng Crcs dl gstrsndn snlnrk dlndrmştr. nck\n",
      "hr n kdr grçk byl ls d, Pythn prgrmlm dlnn pk çk yrd\n",
      "br yln fgr l tmsl dlms nrdys br glnk hln lmştr\n",
      "dyblrz.\n"
     ]
    }
   ],
   "source": [
    "metin = \"\"\"Bu programlama dili Guido Van Rossum adlı Hollandalı bir\n",
    "programcı tarafından 90'lı yılların başında geliştirilmeye başlanmıştır.\n",
    "Çoğu insan, isminin Python olmasına bakarak, bu programlama dilinin, adını\n",
    "piton yılanından aldığını düşünür. Ancak zannedildiğinin aksine bu\n",
    "programlama dilinin adı piton yılanından gelmez. Guido Van Rossum bu\n",
    "programlama dilini, The Monty Python adlı bir İngiliz komedi grubunun, Monty\n",
    "Python's Flying Circus adlı gösterisinden esinlenerek adlandırmıştır. Ancak\n",
    "her ne kadar gerçek böyle olsa da, Python programlama dilinin pek çok yerde\n",
    "bir yılan figürü ile temsil edilmesi neredeyse bir gelenek halini almıştır\n",
    "diyebiliriz.\"\"\"\n",
    "\n",
    "silinecek = \"aeıioöuüAEIİOÖUÜ\"\n",
    "\n",
    "çeviri_tablosu = str.maketrans('', '', silinecek)\n",
    "\n",
    "print(metin.translate(çeviri_tablosu))"
   ]
  },
  {
   "cell_type": "code",
   "execution_count": 14,
   "metadata": {},
   "outputs": [
    {
     "name": "stdout",
     "output_type": "stream",
     "text": [
      "cmylmz\n"
     ]
    }
   ],
   "source": [
    "metin = \"Cem Yılmaz\"\n",
    "\n",
    "kaynak = \"CY\"\n",
    "hedef  = \"cy\"\n",
    "silinecek = \"eıa \"\n",
    "\n",
    "çeviri_tablosu = str.maketrans(kaynak, hedef, silinecek)\n",
    "\n",
    "print(metin.translate(çeviri_tablosu))"
   ]
  },
  {
   "cell_type": "code",
   "execution_count": 16,
   "metadata": {},
   "outputs": [
    {
     "name": "stdout",
     "output_type": "stream",
     "text": [
      "cmylmz\n"
     ]
    }
   ],
   "source": [
    "metin = \"Cem Yılmaz\"\n",
    "\n",
    "kaynak = \"CY\"\n",
    "hedef  = \"cy\"\n",
    "silinecek = \"eıa \"\n",
    "\n",
    "çeviri_tablosu = str.maketrans(kaynak, hedef, silinecek)\n",
    "\n",
    "print(metin.translate(çeviri_tablosu))\n",
    "\n",
    "# 3. parametreye girdiğimiz harfler siliniyor."
   ]
  },
  {
   "cell_type": "code",
   "execution_count": 17,
   "metadata": {},
   "outputs": [
    {
     "data": {
      "text/plain": [
       "True"
      ]
     },
     "execution_count": 17,
     "metadata": {},
     "output_type": "execute_result"
    }
   ],
   "source": [
    "# isalpha()\n",
    "\n",
    "# sorgulayıcı metot\n",
    "\n",
    "a = \"kezban\"\n",
    "a.isalpha()"
   ]
  },
  {
   "cell_type": "code",
   "execution_count": 18,
   "metadata": {},
   "outputs": [
    {
     "data": {
      "text/plain": [
       "False"
      ]
     },
     "execution_count": 18,
     "metadata": {},
     "output_type": "execute_result"
    }
   ],
   "source": [
    "b = \"k3zb6n\"\n",
    "b.isalpha()\n",
    "# sadece harflerden mi oluşuyor onu kontrol eder"
   ]
  },
  {
   "cell_type": "code",
   "execution_count": 19,
   "metadata": {},
   "outputs": [
    {
     "data": {
      "text/plain": [
       "True"
      ]
     },
     "execution_count": 19,
     "metadata": {},
     "output_type": "execute_result"
    }
   ],
   "source": [
    "# isdigit()\n",
    "\n",
    "# sorgulayıcı metot\n",
    "\n",
    "a = \"12345\"\n",
    "a.isdigit()"
   ]
  },
  {
   "cell_type": "code",
   "execution_count": 20,
   "metadata": {},
   "outputs": [
    {
     "data": {
      "text/plain": [
       "False"
      ]
     },
     "execution_count": 20,
     "metadata": {},
     "output_type": "execute_result"
    }
   ],
   "source": [
    "b = \"123445b\"\n",
    "b.isdigit()"
   ]
  },
  {
   "cell_type": "code",
   "execution_count": 21,
   "metadata": {},
   "outputs": [
    {
     "data": {
      "text/plain": [
       "True"
      ]
     },
     "execution_count": 21,
     "metadata": {},
     "output_type": "execute_result"
    }
   ],
   "source": [
    "# isalnum()\n",
    "\n",
    "# sorgulayıcı metot\n",
    "\n",
    "a = \"123abc\"\n",
    "a.isalnum()"
   ]
  },
  {
   "cell_type": "code",
   "execution_count": 22,
   "metadata": {},
   "outputs": [
    {
     "data": {
      "text/plain": [
       "False"
      ]
     },
     "execution_count": 22,
     "metadata": {},
     "output_type": "execute_result"
    }
   ],
   "source": [
    "b = \"123abc>\"\n",
    "b.isalnum()\n",
    "# hem alfabe hem sayılardan oluşmasına bakar"
   ]
  },
  {
   "cell_type": "code",
   "execution_count": 23,
   "metadata": {},
   "outputs": [
    {
     "data": {
      "text/plain": [
       "True"
      ]
     },
     "execution_count": 23,
     "metadata": {},
     "output_type": "execute_result"
    }
   ],
   "source": [
    "# isdecimal()\n",
    "\n",
    "# sorgulayıcı metot\n",
    "\n",
    "a = \"123\"\n",
    "a.isdecimal()"
   ]
  },
  {
   "cell_type": "code",
   "execution_count": 24,
   "metadata": {},
   "outputs": [
    {
     "data": {
      "text/plain": [
       "False"
      ]
     },
     "execution_count": 24,
     "metadata": {},
     "output_type": "execute_result"
    }
   ],
   "source": [
    "a = \"123.3\"\n",
    "a.isdecimal()\n",
    "# ondalık mı kayan noktalı(float) mı onu kontrol eder"
   ]
  },
  {
   "cell_type": "code",
   "execution_count": 25,
   "metadata": {},
   "outputs": [
    {
     "data": {
      "text/plain": [
       "False"
      ]
     },
     "execution_count": 25,
     "metadata": {},
     "output_type": "execute_result"
    }
   ],
   "source": [
    "# isidentifier()\n",
    "\n",
    "# sorgulayıcı metot\n",
    "\n",
    "\"1a\".isidentifier()"
   ]
  },
  {
   "cell_type": "code",
   "execution_count": 26,
   "metadata": {},
   "outputs": [
    {
     "data": {
      "text/plain": [
       "True"
      ]
     },
     "execution_count": 26,
     "metadata": {},
     "output_type": "execute_result"
    }
   ],
   "source": [
    "\"liste1\".isidentifier()\n",
    "# tanımlayıcı adı olabilir mi diye bakıyoruz"
   ]
  },
  {
   "cell_type": "code",
   "execution_count": 27,
   "metadata": {},
   "outputs": [
    {
     "data": {
      "text/plain": [
       "True"
      ]
     },
     "execution_count": 27,
     "metadata": {},
     "output_type": "execute_result"
    }
   ],
   "source": [
    "# isnumeric()\n",
    "\n",
    "# sorgulayıcı metot\n",
    "\n",
    "\"12\".isnumeric()"
   ]
  },
  {
   "cell_type": "code",
   "execution_count": 28,
   "metadata": {},
   "outputs": [
    {
     "data": {
      "text/plain": [
       "False"
      ]
     },
     "execution_count": 28,
     "metadata": {},
     "output_type": "execute_result"
    }
   ],
   "source": [
    "\"dasd\".isnumeric()\n",
    "# nümerik mi değil mi ona bakar"
   ]
  },
  {
   "cell_type": "code",
   "execution_count": 29,
   "metadata": {},
   "outputs": [
    {
     "data": {
      "text/plain": [
       "True"
      ]
     },
     "execution_count": 29,
     "metadata": {},
     "output_type": "execute_result"
    }
   ],
   "source": [
    "# isspace()\n",
    "\n",
    "# sorgulayıcı metot\n",
    "\n",
    "a = \" \"\n",
    "a.isspace()"
   ]
  },
  {
   "cell_type": "code",
   "execution_count": 30,
   "metadata": {},
   "outputs": [
    {
     "data": {
      "text/plain": [
       "False"
      ]
     },
     "execution_count": 30,
     "metadata": {},
     "output_type": "execute_result"
    }
   ],
   "source": [
    "a = \"\" #karakter dizimiz tamamen boş. İçinde boşluk karakteri bile yok...\n",
    "a.isspace()\n"
   ]
  },
  {
   "cell_type": "code",
   "execution_count": 31,
   "metadata": {},
   "outputs": [
    {
     "data": {
      "text/plain": [
       "False"
      ]
     },
     "execution_count": 31,
     "metadata": {},
     "output_type": "execute_result"
    }
   ],
   "source": [
    "a = \"fd\"\n",
    "a.isspace()"
   ]
  },
  {
   "cell_type": "code",
   "execution_count": 32,
   "metadata": {},
   "outputs": [
    {
     "data": {
      "text/plain": [
       "True"
      ]
     },
     "execution_count": 32,
     "metadata": {},
     "output_type": "execute_result"
    }
   ],
   "source": [
    "a = \"              \"\n",
    "a.isspace()\n",
    "# sadece boşluk tuşundan mı oluşuyor ona bakar"
   ]
  },
  {
   "cell_type": "code",
   "execution_count": 33,
   "metadata": {},
   "outputs": [
    {
     "name": "stdout",
     "output_type": "stream",
     "text": [
      "birinci satır\n",
      "ikinci satır\n"
     ]
    }
   ],
   "source": [
    "# isprintable()\n",
    "\n",
    "# sorgulayıcı metot\n",
    "\n",
    "print(\"birinci satır\\nikinci satır\")"
   ]
  },
  {
   "cell_type": "code",
   "execution_count": 34,
   "metadata": {},
   "outputs": [
    {
     "data": {
      "text/plain": [
       "True"
      ]
     },
     "execution_count": 34,
     "metadata": {},
     "output_type": "execute_result"
    }
   ],
   "source": [
    "karakter = \"a\"\n",
    "karakter.isprintable()"
   ]
  },
  {
   "cell_type": "code",
   "execution_count": 35,
   "metadata": {},
   "outputs": [
    {
     "data": {
      "text/plain": [
       "False"
      ]
     },
     "execution_count": 35,
     "metadata": {},
     "output_type": "execute_result"
    }
   ],
   "source": [
    "karakter = \"\\n\"\n",
    "karakter.isprintable()\n",
    "# karakter ekrana yazdırılıyor mu onu kontrol eder"
   ]
  },
  {
   "cell_type": "code",
   "execution_count": 1,
   "metadata": {},
   "outputs": [
    {
     "name": "stdout",
     "output_type": "stream",
     "text": [
      "['a', 'b']\n"
     ]
    }
   ],
   "source": [
    "import random\n",
    "my_list = [\"a\",\"b\",\"c\",\"d\",\"e\"]\n",
    "num_samples = 2\n",
    "samples = random.sample(my_list,num_samples)\n",
    "print(samples)"
   ]
  },
  {
   "cell_type": "code",
   "execution_count": null,
   "metadata": {},
   "outputs": [],
   "source": []
  }
 ],
 "metadata": {
  "kernelspec": {
   "display_name": "Python 3.11.0 64-bit",
   "language": "python",
   "name": "python3"
  },
  "language_info": {
   "codemirror_mode": {
    "name": "ipython",
    "version": 3
   },
   "file_extension": ".py",
   "mimetype": "text/x-python",
   "name": "python",
   "nbconvert_exporter": "python",
   "pygments_lexer": "ipython3",
   "version": "3.11.0"
  },
  "orig_nbformat": 4,
  "vscode": {
   "interpreter": {
    "hash": "7c542dbbc07e6010b76b61de8a453dc04d29cd1fae7fbaa29851ecbad9aefb83"
   }
  }
 },
 "nbformat": 4,
 "nbformat_minor": 2
}
