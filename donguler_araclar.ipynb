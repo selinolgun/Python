{
 "cells": [
  {
   "cell_type": "code",
   "execution_count": 1,
   "metadata": {},
   "outputs": [
    {
     "name": "stdout",
     "output_type": "stream",
     "text": [
      "0\n",
      "1\n",
      "2\n",
      "3\n",
      "4\n",
      "5\n",
      "6\n",
      "7\n",
      "8\n",
      "9\n"
     ]
    }
   ],
   "source": [
    "# range\n",
    "\n",
    "for i in range(0, 10):\n",
    "    print(i)\n",
    "\n",
    "    # range(ilk_sayı, son_sayı)"
   ]
  },
  {
   "cell_type": "code",
   "execution_count": 2,
   "metadata": {},
   "outputs": [
    {
     "name": "stdout",
     "output_type": "stream",
     "text": [
      "0\n",
      "1\n",
      "2\n",
      "3\n",
      "4\n",
      "5\n",
      "6\n",
      "7\n",
      "8\n",
      "9\n"
     ]
    }
   ],
   "source": [
    "for i in range(10):\n",
    "    print(i)\n",
    "\n",
    "    # ilk aralık 0 ise belirtilmese de olur"
   ]
  },
  {
   "cell_type": "code",
   "execution_count": 3,
   "metadata": {},
   "outputs": [
    {
     "name": "stdout",
     "output_type": "stream",
     "text": [
      "Yeni parolanız 1345667\n"
     ]
    }
   ],
   "source": [
    "while True:\n",
    "    parola = input(\"parola belirleyin: \")\n",
    "\n",
    "    if not parola:\n",
    "        print(\"parola bölümü boş geçilemez!\")\n",
    "\n",
    "    elif len(parola) in range(3, 8): #eğer parolanın uzunluğu 3 ile 8 karakter\n",
    "        #aralığında ise...\n",
    "        print(\"Yeni parolanız\", parola)\n",
    "        break\n",
    "\n",
    "    else:\n",
    "        print(\"parola 8 karakterden uzun 3 karakterden kısa olmamalı\")"
   ]
  },
  {
   "cell_type": "code",
   "execution_count": 4,
   "metadata": {},
   "outputs": [
    {
     "name": "stdout",
     "output_type": "stream",
     "text": [
      "0\n",
      "2\n",
      "4\n",
      "6\n",
      "8\n"
     ]
    }
   ],
   "source": [
    "# range(ilk_sayı, son_sayı, atlama_değeri)\n",
    "for i in range(0, 10, 2):\n",
    "    print(i)"
   ]
  },
  {
   "cell_type": "code",
   "execution_count": 5,
   "metadata": {},
   "outputs": [
    {
     "name": "stdout",
     "output_type": "stream",
     "text": [
      "0\n",
      "2\n",
      "4\n",
      "6\n",
      "8\n"
     ]
    }
   ],
   "source": [
    "# eğer range fonksiyonu 3. parametreyi de alacaksa ilk değer 0 olsa bile\n",
    "# girilmek zorundadır.\n",
    "for i in range(0, 10, 2):\n",
    "    print(i)"
   ]
  },
  {
   "cell_type": "code",
   "execution_count": 7,
   "metadata": {},
   "outputs": [
    {
     "name": "stdout",
     "output_type": "stream",
     "text": [
      "10\n",
      "9\n",
      "8\n",
      "7\n",
      "6\n",
      "5\n",
      "4\n",
      "3\n",
      "2\n",
      "1\n"
     ]
    }
   ],
   "source": [
    "for i in range(10, 0, -1):\n",
    "    print(i)"
   ]
  },
  {
   "cell_type": "code",
   "execution_count": 8,
   "metadata": {},
   "outputs": [
    {
     "name": "stdout",
     "output_type": "stream",
     "text": [
      "10\n",
      "7\n",
      "4\n",
      "1\n"
     ]
    }
   ],
   "source": [
    "for i in range(10, 0, -3):\n",
    "    print(i)"
   ]
  },
  {
   "cell_type": "code",
   "execution_count": 9,
   "metadata": {},
   "outputs": [
    {
     "name": "stdout",
     "output_type": "stream",
     "text": [
      "0 1 2 3 4 5 6 7 8 9\n"
     ]
    }
   ],
   "source": [
    "# range illa for ile kullanılması gerekmez\n",
    "print(*range(10))"
   ]
  },
  {
   "cell_type": "code",
   "execution_count": 10,
   "metadata": {},
   "outputs": [
    {
     "name": "stdout",
     "output_type": "stream",
     "text": [
      "0, 1, 2, 3, 4, 5, 6, 7, 8, 9\n"
     ]
    }
   ],
   "source": [
    "print(*range(10), sep=\", \")"
   ]
  },
  {
   "cell_type": "code",
   "execution_count": 11,
   "metadata": {},
   "outputs": [
    {
     "name": "stdout",
     "output_type": "stream",
     "text": [
      "Yeni parolanız 123\n"
     ]
    }
   ],
   "source": [
    "# pass\n",
    "\n",
    "while True:\n",
    "    parola = input(\"parola belirleyin: \")\n",
    "\n",
    "    if not parola:\n",
    "        pass\n",
    "\n",
    "    elif len(parola) in range(3, 8): #eğer parolanın uzunluğu 3 ile 8 karakter\n",
    "        #aralığında ise...\n",
    "        print(\"Yeni parolanız\", parola)\n",
    "        break\n",
    "\n",
    "    else:\n",
    "        print(\"parola 8 karakterden uzun 3 karakterden kısa olmamalı\")"
   ]
  },
  {
   "cell_type": "code",
   "execution_count": 13,
   "metadata": {},
   "outputs": [
    {
     "name": "stdout",
     "output_type": "stream",
     "text": [
      "2\n",
      "2\n"
     ]
    }
   ],
   "source": [
    "while True:\n",
    "    sayı = int(input(\"Bir sayı girin: \"))\n",
    "\n",
    "    if sayı == 0:\n",
    "        break\n",
    "\n",
    "    elif sayı < 0:\n",
    "        pass\n",
    "\n",
    "    else:\n",
    "        print(sayı)"
   ]
  },
  {
   "cell_type": "code",
   "execution_count": 14,
   "metadata": {},
   "outputs": [
    {
     "name": "stdout",
     "output_type": "stream",
     "text": [
      "Parola 5 karakterden az olmamalı!\n",
      "Parolanız belirlendi!\n"
     ]
    }
   ],
   "source": [
    "# break\n",
    "\n",
    "while True:\n",
    "    parola = input(\"Lütfen bir parola belirleyiniz:\")\n",
    "    if len(parola) < 5:\n",
    "        print(\"Parola 5 karakterden az olmamalı!\")\n",
    "    else:\n",
    "        print(\"Parolanız belirlendi!\")\n",
    "        break"
   ]
  },
  {
   "cell_type": "code",
   "execution_count": 15,
   "metadata": {},
   "outputs": [
    {
     "name": "stdout",
     "output_type": "stream",
     "text": [
      "En fazla üç haneli bir sayı girebilirsiniz.\n",
      "En fazla üç haneli bir sayı girebilirsiniz.\n"
     ]
    }
   ],
   "source": [
    "# continue\n",
    "\n",
    "while True:\n",
    "    s = input(\"Bir sayı girin: \")\n",
    "    if s == \"iptal\":\n",
    "        break\n",
    "\n",
    "    if len(s) <= 3:\n",
    "        continue\n",
    "\n",
    "    print(\"En fazla üç haneli bir sayı girebilirsiniz.\")"
   ]
  },
  {
   "cell_type": "code",
   "execution_count": 16,
   "metadata": {},
   "outputs": [
    {
     "name": "stdout",
     "output_type": "stream",
     "text": [
      "0\n",
      "1\n",
      "2\n",
      "3\n",
      "4\n",
      "else çalıştı.\n"
     ]
    }
   ],
   "source": [
    "# else\n",
    "\n",
    "for i in range(5):\n",
    "        print(i)\n",
    "else:\n",
    "        print(\"else çalıştı.\")"
   ]
  },
  {
   "cell_type": "code",
   "execution_count": 17,
   "metadata": {},
   "outputs": [
    {
     "name": "stdout",
     "output_type": "stream",
     "text": [
      "1\n",
      "2\n",
      "3\n"
     ]
    }
   ],
   "source": [
    "a = 0\n",
    "while True:\n",
    "        a += 1\n",
    "        print(a)\n",
    "        if a==3:\n",
    "                break\n",
    "else:\n",
    "    print(\"else çalıştı.\")"
   ]
  },
  {
   "cell_type": "code",
   "execution_count": 20,
   "metadata": {},
   "outputs": [
    {
     "name": "stdout",
     "output_type": "stream",
     "text": [
      "a harfi bulunmadı.\n"
     ]
    }
   ],
   "source": [
    "karater_dizisi = \"Bu yAzıdA küçük A yok\"\n",
    "for harf in karater_dizisi:\n",
    "        if harf == 'a':\n",
    "                print(\"a harfi bulundu.\")\n",
    "                break\n",
    "else:\n",
    "        print(\"a harfi bulunmadı.\")"
   ]
  },
  {
   "cell_type": "code",
   "execution_count": null,
   "metadata": {},
   "outputs": [],
   "source": []
  }
 ],
 "metadata": {
  "kernelspec": {
   "display_name": "Python 3.11.0 64-bit",
   "language": "python",
   "name": "python3"
  },
  "language_info": {
   "codemirror_mode": {
    "name": "ipython",
    "version": 3
   },
   "file_extension": ".py",
   "mimetype": "text/x-python",
   "name": "python",
   "nbconvert_exporter": "python",
   "pygments_lexer": "ipython3",
   "version": "3.11.0"
  },
  "orig_nbformat": 4,
  "vscode": {
   "interpreter": {
    "hash": "7c542dbbc07e6010b76b61de8a453dc04d29cd1fae7fbaa29851ecbad9aefb83"
   }
  }
 },
 "nbformat": 4,
 "nbformat_minor": 2
}
