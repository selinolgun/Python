{
 "cells": [
  {
   "cell_type": "code",
   "execution_count": 8,
   "metadata": {},
   "outputs": [
    {
     "name": "stdout",
     "output_type": "stream",
     "text": [
      "['Hello', 'There.', 'My', 'name', 'is', 'Sonay', 'Ilıca.']\n"
     ]
    }
   ],
   "source": [
    "message = \"Hello There. My name is Sonay Ilıca.\".split()\n",
    "print(message)\n"
   ]
  },
  {
   "cell_type": "code",
   "execution_count": 7,
   "metadata": {},
   "outputs": [
    {
     "name": "stdout",
     "output_type": "stream",
     "text": [
      "['bir', 2, True, 5.6]\n"
     ]
    }
   ],
   "source": [
    "my_list = [1,2,3]\n",
    "my_list = [\"bir\",2,True,5.6]\n",
    "print(my_list)"
   ]
  },
  {
   "cell_type": "code",
   "execution_count": 13,
   "metadata": {},
   "outputs": [
    {
     "name": "stdout",
     "output_type": "stream",
     "text": [
      "['one', 'two', 'three', 'four', 'five', 'six']\n",
      "6\n",
      "Hello\n",
      "three\n"
     ]
    }
   ],
   "source": [
    "list1 = [\"one\",\"two\",\"three\"]\n",
    "list2 = [\"four\",\"five\",\"six\"]\n",
    "message = \"Hello There. My name is Sonay Ilıca.\".split()\n",
    "numbers = list1 + list2\n",
    "print(numbers)\n",
    "print(len(numbers))\n",
    "print(message[0])\n",
    "print(numbers[2])"
   ]
  },
  {
   "cell_type": "code",
   "execution_count": 17,
   "metadata": {},
   "outputs": [
    {
     "name": "stdout",
     "output_type": "stream",
     "text": [
      "['Sonay', 26]\n",
      "['Selin', 25]\n",
      "[['Sonay', 26], ['Selin', 25]]\n",
      "['Selin', 25]\n",
      "25\n"
     ]
    }
   ],
   "source": [
    "userA = [\"Sonay\",26]\n",
    "userB = [\"Selin\",25]\n",
    "# users = userA + userB\n",
    "users = [userA, userB]\n",
    "print(userA)\n",
    "print(userB)\n",
    "print(users)\n",
    "\n",
    "print(users[1])\n",
    "\n",
    "a = users[1]\n",
    "print(a[1])"
   ]
  },
  {
   "cell_type": "code",
   "execution_count": null,
   "metadata": {},
   "outputs": [],
   "source": []
  }
 ],
 "metadata": {
  "kernelspec": {
   "display_name": "Python 3.11.0 64-bit",
   "language": "python",
   "name": "python3"
  },
  "language_info": {
   "codemirror_mode": {
    "name": "ipython",
    "version": 3
   },
   "file_extension": ".py",
   "mimetype": "text/x-python",
   "name": "python",
   "nbconvert_exporter": "python",
   "pygments_lexer": "ipython3",
   "version": "3.11.0"
  },
  "orig_nbformat": 4,
  "vscode": {
   "interpreter": {
    "hash": "7c542dbbc07e6010b76b61de8a453dc04d29cd1fae7fbaa29851ecbad9aefb83"
   }
  }
 },
 "nbformat": 4,
 "nbformat_minor": 2
}
