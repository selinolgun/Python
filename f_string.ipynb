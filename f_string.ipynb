{
 "cells": [
  {
   "cell_type": "code",
   "execution_count": 1,
   "metadata": {},
   "outputs": [
    {
     "name": "stdout",
     "output_type": "stream",
     "text": [
      "Selam Buğra!\n"
     ]
    }
   ],
   "source": [
    "isim = 'Buğra'\n",
    "print('Selam {kime}!'.format(kime=isim))"
   ]
  },
  {
   "cell_type": "code",
   "execution_count": 2,
   "metadata": {},
   "outputs": [
    {
     "name": "stdout",
     "output_type": "stream",
     "text": [
      "Selam Buğra!\n"
     ]
    }
   ],
   "source": [
    "isim = 'Buğra'\n",
    "print('Selam {}!'.format(isim))"
   ]
  },
  {
   "cell_type": "code",
   "execution_count": 3,
   "metadata": {},
   "outputs": [
    {
     "data": {
      "text/plain": [
       "'Selam Dünya!'"
      ]
     },
     "execution_count": 3,
     "metadata": {},
     "output_type": "execute_result"
    }
   ],
   "source": [
    "\"Selam Dünya!\" # Normal bir karakter dizisi\n",
    "f\"Selam Dünya!\" # Bu artık bir f-string"
   ]
  },
  {
   "cell_type": "code",
   "execution_count": 4,
   "metadata": {},
   "outputs": [
    {
     "name": "stdout",
     "output_type": "stream",
     "text": [
      "Selam Buğra!\n"
     ]
    }
   ],
   "source": [
    "isim = 'Buğra'\n",
    "print(f'Selam {isim}!')"
   ]
  },
  {
   "cell_type": "code",
   "execution_count": 5,
   "metadata": {},
   "outputs": [
    {
     "data": {
      "text/plain": [
       "'Onun adı Buğra ve o 18 yaşında.'"
      ]
     },
     "execution_count": 5,
     "metadata": {},
     "output_type": "execute_result"
    }
   ],
   "source": [
    "isim = 'Buğra'\n",
    "yas = 18\n",
    "f'Onun adı {isim} ve o {yas} yaşında.'"
   ]
  },
  {
   "cell_type": "code",
   "execution_count": 6,
   "metadata": {},
   "outputs": [
    {
     "data": {
      "text/plain": [
       "'Onun adı Buğra ve o 18 yaşında.'"
      ]
     },
     "execution_count": 6,
     "metadata": {},
     "output_type": "execute_result"
    }
   ],
   "source": [
    "isim = 'Buğra'\n",
    "yas = 18\n",
    "\"Onun adı {} ve o {} yaşında.\".format(isim, yas)"
   ]
  },
  {
   "cell_type": "code",
   "execution_count": 7,
   "metadata": {},
   "outputs": [
    {
     "data": {
      "text/plain": [
       "'Rakamların toplamı 8 eder.'"
      ]
     },
     "execution_count": 7,
     "metadata": {},
     "output_type": "execute_result"
    }
   ],
   "source": [
    "birinci_rakam = 5\n",
    "ikinci_rakam = 3\n",
    "f'Rakamların toplamı {birinci_rakam + ikinci_rakam} eder.'"
   ]
  },
  {
   "cell_type": "code",
   "execution_count": 8,
   "metadata": {},
   "outputs": [
    {
     "name": "stdout",
     "output_type": "stream",
     "text": [
      "Sayıların toplamı 7 eder.\n"
     ]
    }
   ],
   "source": [
    "birinci_sayi = int(input('Birinci sayıyı girin: '))\n",
    "ikinci_sayi = int(input('İkinci sayıyı girin: '))\n",
    "\n",
    "print(\n",
    "        f'Sayıların toplamı {birinci_sayi+ikinci_sayi} eder.'\n",
    "        )"
   ]
  },
  {
   "cell_type": "code",
   "execution_count": 9,
   "metadata": {},
   "outputs": [
    {
     "data": {
      "text/plain": [
       "'Sayıların toplamı 9 eder.'"
      ]
     },
     "execution_count": 9,
     "metadata": {},
     "output_type": "execute_result"
    }
   ],
   "source": [
    "f'Sayıların toplamı { int(input(\"Birinci sayıyı girin: \")) + int(input(\"İkinci sayıyı girin: \")) } eder.'"
   ]
  },
  {
   "cell_type": "code",
   "execution_count": 2,
   "metadata": {},
   "outputs": [
    {
     "name": "stdout",
     "output_type": "stream",
     "text": [
      "e 4\n"
     ]
    }
   ],
   "source": [
    "a = 1\n",
    "b = 2\n",
    "c = \"3\"\n",
    "try:\n",
    "    print(\"t\", a+c)\n",
    "except:\n",
    "    c= int(c)\n",
    "    print(\"e\", a+c)"
   ]
  },
  {
   "cell_type": "code",
   "execution_count": null,
   "metadata": {},
   "outputs": [],
   "source": []
  }
 ],
 "metadata": {
  "kernelspec": {
   "display_name": "Python 3.11.0 64-bit",
   "language": "python",
   "name": "python3"
  },
  "language_info": {
   "codemirror_mode": {
    "name": "ipython",
    "version": 3
   },
   "file_extension": ".py",
   "mimetype": "text/x-python",
   "name": "python",
   "nbconvert_exporter": "python",
   "pygments_lexer": "ipython3",
   "version": "3.11.0"
  },
  "orig_nbformat": 4,
  "vscode": {
   "interpreter": {
    "hash": "7c542dbbc07e6010b76b61de8a453dc04d29cd1fae7fbaa29851ecbad9aefb83"
   }
  }
 },
 "nbformat": 4,
 "nbformat_minor": 2
}
