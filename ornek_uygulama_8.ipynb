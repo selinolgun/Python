{
 "cells": [
  {
   "cell_type": "code",
   "execution_count": null,
   "metadata": {},
   "outputs": [],
   "source": [
    "import sys\n",
    "\n",
    "_2x_metni = \"\"\"\n",
    "Python'ın 2.x sürümlerinden birini kullanıyorsunuz.\n",
    "Programı çalıştırabilmek için sisteminizde Python'ın\n",
    "3.x sürümlerinden biri kurulu olmalı.\"\"\"\n",
    "\n",
    "_3x_metni = \"Programa hoşgeldiniz.\"\n",
    "\n",
    "try:\n",
    "    if sys.version_info.major < 3:\n",
    "        print(_2x_metni)\n",
    "    else:\n",
    "        print(_3x_metni)\n",
    "except AttributeError:\n",
    "    print(_2x_metni)"
   ]
  }
 ],
 "metadata": {
  "language_info": {
   "name": "python"
  },
  "orig_nbformat": 4
 },
 "nbformat": 4,
 "nbformat_minor": 2
}
