{
 "cells": [
  {
   "cell_type": "code",
   "execution_count": 15,
   "metadata": {},
   "outputs": [
    {
     "name": "stdout",
     "output_type": "stream",
     "text": [
      "Person Created\n",
      "Person Created\n",
      "Student Created\n",
      "Person Created\n",
      "Ali Yılmaz\n",
      "Çınar Turan 1256\n",
      "I am a person\n",
      "I am a student\n",
      "I am a Math teacher\n",
      "I am eating\n",
      "I am eating\n",
      "Hello I am a student\n"
     ]
    }
   ],
   "source": [
    "# Inheritance (Kalıtım) : Miras alma\n",
    "\n",
    "# Person => name, lastname, age, eat(), run(), drink()\n",
    "# Student(Person), Teacher(Person)\n",
    "\n",
    "# Animal => Dog(Animal), Cat(Animal)\n",
    "\n",
    "class Person():\n",
    "    def __init__(self, fname, lname):\n",
    "        self.firstName = fname\n",
    "        self.lastName = lname\n",
    "        print(\"Person Created\")\n",
    "\n",
    "    def who_am_i(self):\n",
    "        print(\"I am a person\")\n",
    "\n",
    "    def eat(self):\n",
    "        print(\"I am eating\")\n",
    "\n",
    "class Student(Person):\n",
    "    def __init__(self,fname,lname, number):\n",
    "        Person.__init__(self, fname, lname)\n",
    "        self.studentNumber = number\n",
    "        print(\"Student Created\")\n",
    "\n",
    "    # override\n",
    "    def who_am_i(self):\n",
    "        print(\"I am a student\")\n",
    "\n",
    "    def sayHello(self):\n",
    "        print(\"Hello I am a student\")\n",
    "\n",
    "class Teacher(Person):\n",
    "    def __init__(self, fname, lname,branch):\n",
    "        super().__init__(fname,lname)\n",
    "        self.branch = branch\n",
    "    \n",
    "    def who_am_i(self):\n",
    "        print(f\"I am a {self.branch} teacher\")\n",
    "\n",
    "p1 = Person(\"Ali\", \"Yılmaz\")\n",
    "s1 = Student(\"Çınar\", \"Turan\", 1256)\n",
    "t1 = Teacher(\"Serkan\",\"Yılmaz\",\"Math\")\n",
    "\n",
    "print(p1.firstName+\" \"+p1.lastName)\n",
    "print(s1.firstName+\" \"+s1.lastName+ \" \"+str(s1.studentNumber))\n",
    "\n",
    "p1.who_am_i()\n",
    "s1.who_am_i()\n",
    "t1.who_am_i()\n",
    "\n",
    "p1.eat()\n",
    "s1.eat()\n",
    "s1.sayHello()"
   ]
  },
  {
   "cell_type": "code",
   "execution_count": null,
   "metadata": {},
   "outputs": [],
   "source": []
  }
 ],
 "metadata": {
  "kernelspec": {
   "display_name": "Python 3.11.0 64-bit",
   "language": "python",
   "name": "python3"
  },
  "language_info": {
   "codemirror_mode": {
    "name": "ipython",
    "version": 3
   },
   "file_extension": ".py",
   "mimetype": "text/x-python",
   "name": "python",
   "nbconvert_exporter": "python",
   "pygments_lexer": "ipython3",
   "version": "3.11.0"
  },
  "orig_nbformat": 4,
  "vscode": {
   "interpreter": {
    "hash": "7c542dbbc07e6010b76b61de8a453dc04d29cd1fae7fbaa29851ecbad9aefb83"
   }
  }
 },
 "nbformat": 4,
 "nbformat_minor": 2
}
