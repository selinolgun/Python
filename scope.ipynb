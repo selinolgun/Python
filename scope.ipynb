{
 "cells": [
  {
   "cell_type": "code",
   "execution_count": 2,
   "metadata": {},
   "outputs": [
    {
     "name": "stdout",
     "output_type": "stream",
     "text": [
      "local x\n",
      "global x\n"
     ]
    }
   ],
   "source": [
    "# global scope\n",
    "\n",
    "x = \"global x\"\n",
    "\n",
    "def function():\n",
    "    # local scope\n",
    "    x = \"local x\"\n",
    "    print(x)\n",
    "\n",
    "function()\n",
    "print(x)"
   ]
  },
  {
   "cell_type": "code",
   "execution_count": 3,
   "metadata": {},
   "outputs": [
    {
     "name": "stdout",
     "output_type": "stream",
     "text": [
      "global x\n",
      "global x\n"
     ]
    }
   ],
   "source": [
    "# global scope\n",
    "\n",
    "x = \"global x\"\n",
    "\n",
    "def function():\n",
    "    # local scope\n",
    "    # x = \"local x\"\n",
    "    print(x)\n",
    "\n",
    "function()\n",
    "print(x)"
   ]
  },
  {
   "cell_type": "code",
   "execution_count": 4,
   "metadata": {},
   "outputs": [
    {
     "name": "stdout",
     "output_type": "stream",
     "text": [
      "Selin\n",
      "Sonay\n"
     ]
    }
   ],
   "source": [
    "name = \"Sonay\"\n",
    "\n",
    "def changeName(new_name):\n",
    "    name = new_name\n",
    "    print(name)\n",
    "\n",
    "changeName(\"Selin\")\n",
    "print(name)"
   ]
  },
  {
   "cell_type": "code",
   "execution_count": 6,
   "metadata": {},
   "outputs": [
    {
     "name": "stdout",
     "output_type": "stream",
     "text": [
      "helloSelin\n"
     ]
    }
   ],
   "source": [
    "name = \"global string\"\n",
    "\n",
    "def greeting():\n",
    "    name = \"Sonay\"\n",
    "\n",
    "    def hello():\n",
    "        name = \"Selin\"\n",
    "        print(\"hello\" + name)\n",
    "\n",
    "    hello()\n",
    "\n",
    "greeting()"
   ]
  },
  {
   "cell_type": "code",
   "execution_count": 7,
   "metadata": {},
   "outputs": [
    {
     "name": "stdout",
     "output_type": "stream",
     "text": [
      "helloglobal string\n"
     ]
    }
   ],
   "source": [
    "name = \"global string\"\n",
    "\n",
    "def greeting():\n",
    "    # name = \"Sonay\"\n",
    "\n",
    "    def hello():\n",
    "        # name = \"Selin\"\n",
    "        print(\"hello\" + name)\n",
    "\n",
    "    hello()\n",
    "\n",
    "greeting()"
   ]
  },
  {
   "cell_type": "code",
   "execution_count": 12,
   "metadata": {},
   "outputs": [
    {
     "name": "stdout",
     "output_type": "stream",
     "text": [
      "x : 50\n",
      "changed x to 100\n",
      "50\n"
     ]
    }
   ],
   "source": [
    "x = 50\n",
    "def test(x):\n",
    "    print(f\"x : {x}\")\n",
    "\n",
    "    x = 100\n",
    "    print(f\"changed x to {x}\")\n",
    "\n",
    "test(x)\n",
    "print(x)"
   ]
  },
  {
   "cell_type": "code",
   "execution_count": 14,
   "metadata": {},
   "outputs": [
    {
     "name": "stdout",
     "output_type": "stream",
     "text": [
      "x : 50\n",
      "changed x to 100\n",
      "100\n"
     ]
    }
   ],
   "source": [
    "x = 50\n",
    "def test():\n",
    "    global x\n",
    "    print(f\"x : {x}\")\n",
    "\n",
    "    x = 100\n",
    "    print(f\"changed x to {x}\")\n",
    "\n",
    "test()\n",
    "print(x)"
   ]
  },
  {
   "cell_type": "code",
   "execution_count": null,
   "metadata": {},
   "outputs": [],
   "source": []
  }
 ],
 "metadata": {
  "kernelspec": {
   "display_name": "Python 3.11.0 64-bit",
   "language": "python",
   "name": "python3"
  },
  "language_info": {
   "codemirror_mode": {
    "name": "ipython",
    "version": 3
   },
   "file_extension": ".py",
   "mimetype": "text/x-python",
   "name": "python",
   "nbconvert_exporter": "python",
   "pygments_lexer": "ipython3",
   "version": "3.11.0"
  },
  "orig_nbformat": 4,
  "vscode": {
   "interpreter": {
    "hash": "7c542dbbc07e6010b76b61de8a453dc04d29cd1fae7fbaa29851ecbad9aefb83"
   }
  }
 },
 "nbformat": 4,
 "nbformat_minor": 2
}
