{
 "cells": [
  {
   "cell_type": "code",
   "execution_count": 3,
   "metadata": {},
   "outputs": [
    {
     "name": "stdout",
     "output_type": "stream",
     "text": [
      "**************************************************\n",
      "{'ad': 'Sonay', 'soyad': 'Ilıca', 'telefon': '111111'}\n",
      "Aradığınız 100 nolu öğrencinin adı: Sonay soyadı: Ilıca ve telefonu ise 111111\n"
     ]
    }
   ],
   "source": [
    "ogrenciler = {}\n",
    "number = input(\"öğrenci no: \")\n",
    "name = input(\"öğrenci adı: \")\n",
    "surname = input(\"öğrenci soyadı: \")\n",
    "phone = input(\"öğrenci telefon numarası: \")\n",
    "\n",
    "# ogrenciler[number] = { \n",
    "#     \"ad\" : name,\n",
    "#     \"soyad\" : surname,\n",
    "#     \"telefon\" : phone \n",
    "# }\n",
    "\n",
    "ogrenciler.update({\n",
    "    number: {\n",
    "        \"ad\": name,\n",
    "        \"soyad\": surname,\n",
    "        \"telefon\": phone\n",
    "    }\n",
    "})\n",
    "number = input(\"öğrenci no: \")\n",
    "name = input(\"öğrenci adı: \")\n",
    "surname = input(\"öğrenci soyadı: \")\n",
    "phone = input(\"öğrenci telefon numarası: \")\n",
    "ogrenciler.update({\n",
    "    number: {\n",
    "        \"ad\": name,\n",
    "        \"soyad\": surname,\n",
    "        \"telefon\": phone\n",
    "    }\n",
    "})\n",
    "number = input(\"öğrenci no: \")\n",
    "name = input(\"öğrenci adı: \")\n",
    "surname = input(\"öğrenci soyadı: \")\n",
    "phone = input(\"öğrenci telefon numarası: \")\n",
    "ogrenciler.update({\n",
    "    number : {\n",
    "        \"ad\": name,\n",
    "        \"soyad\": surname,\n",
    "        \"telefon\": phone\n",
    "    }\n",
    "})\n",
    "\n",
    "\n",
    "print(\"*\"*50)\n",
    "\n",
    "ogrNo = input(\"öğrenci no: \")\n",
    "ogrenci = ogrenciler[ogrNo]\n",
    "print(ogrenci)\n",
    "\n",
    "print(f'Aradığınız {ogrNo} nolu öğrencinin adı: {ogrenci[\"ad\"]} soyadı: {ogrenci[\"soyad\"]} ve telefonu ise {ogrenci[\"telefon\"]}')"
   ]
  },
  {
   "cell_type": "code",
   "execution_count": null,
   "metadata": {},
   "outputs": [],
   "source": []
  }
 ],
 "metadata": {
  "kernelspec": {
   "display_name": "Python 3.11.0 64-bit",
   "language": "python",
   "name": "python3"
  },
  "language_info": {
   "codemirror_mode": {
    "name": "ipython",
    "version": 3
   },
   "file_extension": ".py",
   "mimetype": "text/x-python",
   "name": "python",
   "nbconvert_exporter": "python",
   "pygments_lexer": "ipython3",
   "version": "3.11.0"
  },
  "orig_nbformat": 4,
  "vscode": {
   "interpreter": {
    "hash": "7c542dbbc07e6010b76b61de8a453dc04d29cd1fae7fbaa29851ecbad9aefb83"
   }
  }
 },
 "nbformat": 4,
 "nbformat_minor": 2
}
