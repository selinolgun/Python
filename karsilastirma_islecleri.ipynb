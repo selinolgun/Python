{
 "cells": [
  {
   "cell_type": "code",
   "execution_count": 1,
   "metadata": {},
   "outputs": [],
   "source": [
    "# == eşittir\n",
    "\n",
    "# != eşit değildir\n",
    "\n",
    "# > büyüktür\n",
    "\n",
    "# < küçüktür\n",
    "\n",
    "# >= büyük eşittir\n",
    "\n",
    "# <= küçük eşittir\n"
   ]
  },
  {
   "cell_type": "code",
   "execution_count": 3,
   "metadata": {},
   "outputs": [
    {
     "name": "stdout",
     "output_type": "stream",
     "text": [
      "doğru parola!\n"
     ]
    }
   ],
   "source": [
    "parola = \"xyz05\"\n",
    "\n",
    "soru = input(\"parolanız: \")\n",
    "\n",
    "if soru == parola:\n",
    "    print(\"doğru parola!\")\n",
    "\n",
    "elif soru != parola:\n",
    "    print(\"yanlış parola!\")"
   ]
  },
  {
   "cell_type": "code",
   "execution_count": 6,
   "metadata": {},
   "outputs": [
    {
     "name": "stdout",
     "output_type": "stream",
     "text": [
      "sayı 100 veya 100'den büyük\n"
     ]
    }
   ],
   "source": [
    "sayı = input(\"sayı: \")\n",
    "\n",
    "if int(sayı) <= 100:\n",
    "    print(\"sayı 100 veya 100'den küçük\")\n",
    "\n",
    "elif int(sayı) >= 100:\n",
    "    print(\"sayı 100 veya 100'den büyük\")"
   ]
  },
  {
   "cell_type": "code",
   "execution_count": null,
   "metadata": {},
   "outputs": [],
   "source": []
  }
 ],
 "metadata": {
  "kernelspec": {
   "display_name": "Python 3.11.0 64-bit",
   "language": "python",
   "name": "python3"
  },
  "language_info": {
   "codemirror_mode": {
    "name": "ipython",
    "version": 3
   },
   "file_extension": ".py",
   "mimetype": "text/x-python",
   "name": "python",
   "nbconvert_exporter": "python",
   "pygments_lexer": "ipython3",
   "version": "3.11.0"
  },
  "orig_nbformat": 4,
  "vscode": {
   "interpreter": {
    "hash": "7c542dbbc07e6010b76b61de8a453dc04d29cd1fae7fbaa29851ecbad9aefb83"
   }
  }
 },
 "nbformat": 4,
 "nbformat_minor": 2
}
