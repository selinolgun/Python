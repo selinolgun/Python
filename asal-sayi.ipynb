{
 "cells": [
  {
   "cell_type": "code",
   "execution_count": 38,
   "metadata": {},
   "outputs": [
    {
     "name": "stdout",
     "output_type": "stream",
     "text": [
      "Sayı asal değildir.\n"
     ]
    }
   ],
   "source": [
    "x = int(input(\"Bir sayı giriniz: \"))\n",
    "y = 2\n",
    "a = []\n",
    "if x == 1:\n",
    "    a.append(\"Sayı asal değildir.\")\n",
    "elif x == 2:\n",
    "    a.append(\"Sayı asaldır.\")\n",
    "else:\n",
    "    while x > y:\n",
    "        if x % y == 0:\n",
    "            a.append(\"Sayı asal değildir.\")\n",
    "        y += 1\n",
    "    a.append(\"Sayı asaldır.\")\n",
    "if \"Sayı asal değildir.\" in a:\n",
    "    print(\"Sayı asal değildir.\")\n",
    "else:\n",
    "    print(\"Sayı asaldır.\")"
   ]
  },
  {
   "cell_type": "code",
   "execution_count": null,
   "metadata": {},
   "outputs": [],
   "source": []
  }
 ],
 "metadata": {
  "kernelspec": {
   "display_name": "Python 3.11.0 64-bit",
   "language": "python",
   "name": "python3"
  },
  "language_info": {
   "codemirror_mode": {
    "name": "ipython",
    "version": 3
   },
   "file_extension": ".py",
   "mimetype": "text/x-python",
   "name": "python",
   "nbconvert_exporter": "python",
   "pygments_lexer": "ipython3",
   "version": "3.11.0"
  },
  "orig_nbformat": 4,
  "vscode": {
   "interpreter": {
    "hash": "7c542dbbc07e6010b76b61de8a453dc04d29cd1fae7fbaa29851ecbad9aefb83"
   }
  }
 },
 "nbformat": 4,
 "nbformat_minor": 2
}
