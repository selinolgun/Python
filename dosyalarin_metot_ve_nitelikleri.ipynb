{
 "cells": [
  {
   "cell_type": "code",
   "execution_count": 1,
   "metadata": {},
   "outputs": [
    {
     "name": "stdout",
     "output_type": "stream",
     "text": [
      "buffer\n",
      "close\n",
      "closed\n",
      "detach\n",
      "encoding\n",
      "errors\n",
      "fileno\n",
      "flush\n",
      "isatty\n",
      "line_buffering\n",
      "mode\n",
      "name\n",
      "newlines\n",
      "read\n",
      "readable\n",
      "readline\n",
      "readlines\n",
      "reconfigure\n",
      "seek\n",
      "seekable\n",
      "tell\n",
      "truncate\n",
      "writable\n",
      "write\n",
      "write_through\n",
      "writelines\n"
     ]
    }
   ],
   "source": [
    "dosya = open(\"falanca_dosya.txt\", \"w\")\n",
    "print(*[metot for metot in dir(dosya) if not metot.startswith(\"_\")], sep=\"\\n\")"
   ]
  },
  {
   "cell_type": "code",
   "execution_count": 2,
   "metadata": {},
   "outputs": [
    {
     "name": "stdout",
     "output_type": "stream",
     "text": [
      "['Sedat Köz\\t: 0322 234 45 45\\n', 'Ahmet Ã–zbudak : 0533 123 23 34\\n', 'Sedat Köz\\t: 0322 234 45 45\\n', 'Mehmet SÃ¼lÃ¼n  : 0532 212 22 22\\n', 'Sami Sam      : 0542 333 34 34\\n', 'Selin ï¿½zden\\t: 0212 222 22 22']\n"
     ]
    },
    {
     "data": {
      "text/plain": [
       "True"
      ]
     },
     "execution_count": 2,
     "metadata": {},
     "output_type": "execute_result"
    }
   ],
   "source": [
    "# closed Niteliği\n",
    "\n",
    "tahsilat_dosyası = open(\"tahsilat_dosyası.txt\")\n",
    "print(tahsilat_dosyası.readlines())\n",
    "tahsilat_dosyası.close()\n",
    "\n",
    "tahsilat_dosyası.closed"
   ]
  },
  {
   "cell_type": "code",
   "execution_count": 3,
   "metadata": {},
   "outputs": [
    {
     "name": "stdout",
     "output_type": "stream",
     "text": [
      "['Sedat Köz\\t: 0322 234 45 45\\n', 'Ahmet Ã–zbudak : 0533 123 23 34\\n', 'Sedat Köz\\t: 0322 234 45 45\\n', 'Mehmet SÃ¼lÃ¼n  : 0532 212 22 22\\n', 'Sami Sam      : 0542 333 34 34\\n', 'Selin ï¿½zden\\t: 0212 222 22 22']\n"
     ]
    },
    {
     "data": {
      "text/plain": [
       "True"
      ]
     },
     "execution_count": 3,
     "metadata": {},
     "output_type": "execute_result"
    }
   ],
   "source": [
    "# readable()\n",
    "\n",
    "tahsilat_dosyası = open(\"tahsilat_dosyası.txt\")\n",
    "print(tahsilat_dosyası.readlines())\n",
    "tahsilat_dosyası.readable()"
   ]
  },
  {
   "cell_type": "code",
   "execution_count": 4,
   "metadata": {},
   "outputs": [
    {
     "name": "stdout",
     "output_type": "stream",
     "text": [
      "['Sedat Köz\\t: 0322 234 45 45\\n', 'Ahmet Ã–zbudak : 0533 123 23 34\\n', 'Sedat Köz\\t: 0322 234 45 45\\n', 'Mehmet SÃ¼lÃ¼n  : 0532 212 22 22\\n', 'Sami Sam      : 0542 333 34 34\\n', 'Selin ï¿½zden\\t: 0212 222 22 22']\n"
     ]
    },
    {
     "data": {
      "text/plain": [
       "False"
      ]
     },
     "execution_count": 4,
     "metadata": {},
     "output_type": "execute_result"
    }
   ],
   "source": [
    "# writeable()\n",
    "\n",
    "tahsilat_dosyası = open(\"tahsilat_dosyası.txt\")\n",
    "print(tahsilat_dosyası.readlines())\n",
    "tahsilat_dosyası.writable()"
   ]
  },
  {
   "cell_type": "code",
   "execution_count": 9,
   "metadata": {},
   "outputs": [],
   "source": [
    "# truncate()\n",
    "\n",
    "with open(\"tahsilat_dosyası.txt\", \"r+\") as tahsilat_dosyası:\n",
    "    tahsilat_dosyası.truncate()"
   ]
  },
  {
   "cell_type": "code",
   "execution_count": 10,
   "metadata": {},
   "outputs": [
    {
     "data": {
      "text/plain": [
       "'r'"
      ]
     },
     "execution_count": 10,
     "metadata": {},
     "output_type": "execute_result"
    }
   ],
   "source": [
    "# mode Niteliği\n",
    "\n",
    "tahsilat_dosyası = open(\"tahsilat_dosyası.txt\")\n",
    "tahsilat_dosyası.mode"
   ]
  },
  {
   "cell_type": "code",
   "execution_count": 11,
   "metadata": {},
   "outputs": [
    {
     "data": {
      "text/plain": [
       "'tahsilat_dosyası.txt'"
      ]
     },
     "execution_count": 11,
     "metadata": {},
     "output_type": "execute_result"
    }
   ],
   "source": [
    "# name Niteliği\n",
    "\n",
    "tahsilat_dosyası.name"
   ]
  },
  {
   "cell_type": "code",
   "execution_count": 12,
   "metadata": {},
   "outputs": [
    {
     "data": {
      "text/plain": [
       "'cp1254'"
      ]
     },
     "execution_count": 12,
     "metadata": {},
     "output_type": "execute_result"
    }
   ],
   "source": [
    "# encoding niteliği\n",
    "\n",
    "tahsilat_dosyası.encoding"
   ]
  },
  {
   "cell_type": "code",
   "execution_count": null,
   "metadata": {},
   "outputs": [],
   "source": []
  }
 ],
 "metadata": {
  "kernelspec": {
   "display_name": "Python 3.11.0 64-bit",
   "language": "python",
   "name": "python3"
  },
  "language_info": {
   "codemirror_mode": {
    "name": "ipython",
    "version": 3
   },
   "file_extension": ".py",
   "mimetype": "text/x-python",
   "name": "python",
   "nbconvert_exporter": "python",
   "pygments_lexer": "ipython3",
   "version": "3.11.0"
  },
  "orig_nbformat": 4,
  "vscode": {
   "interpreter": {
    "hash": "7c542dbbc07e6010b76b61de8a453dc04d29cd1fae7fbaa29851ecbad9aefb83"
   }
  }
 },
 "nbformat": 4,
 "nbformat_minor": 2
}
