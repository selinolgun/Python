{
 "cells": [
  {
   "cell_type": "code",
   "execution_count": 14,
   "metadata": {},
   "outputs": [],
   "source": [
    "# Dosya açmak ve oluşturmak için open() fonksiyonu kullanılır\n",
    "# kullanımı : open(dosya_adi,dosya_erişme_modu)\n",
    "# dosya_erişme_modu => dosyayı hangi amaçla açtığımızı belirtir\n",
    "\n",
    "# \"w\": (write) yazma modu.dosyayı konumda oluşturur.\n",
    "    # ** Dosyayı konumda oluşturur\n",
    "    # ** Dosya içeriğini siler ve yeniden ekleme yapar\n",
    "\n",
    "# file = open(\"newfile.txt\",\"w\")\n",
    "# file.close()\n",
    "\n",
    "# file = open(\"C:/users/Fallrytme/Desktop/newfile.txt\",\"w\")\n",
    "\n",
    "# file = open(\"newfile.txt\",\"w\",encoding=\"utf-8\")\n",
    "# file.write(\"Sonay Ilıca\")\n",
    "# file.close()\n",
    "\n",
    "# \"a\": (append) ekleme. dosya konumda yoksa oluşturur.\n",
    "\n",
    "# file = open(\"newfile.txt\",\"a\",encoding=\"utf-8\")\n",
    "# file.write(\"\\nSelin Olgun\")\n",
    "# file.write(\"Selin Olgun\\n\")\n",
    "# file.close()\n",
    "\n",
    "# \"x\": (create oluşturma). dosya zaten varsa hata verir.\n",
    "\n",
    "# file = open(\"newfile2.txt\",\"a\",encoding=\"utf-8\")\n",
    "\n",
    "# \"r\": (read) okuma. varsayılan. dosya konumda yoksa hata verir."
   ]
  },
  {
   "cell_type": "code",
   "execution_count": null,
   "metadata": {},
   "outputs": [],
   "source": []
  }
 ],
 "metadata": {
  "kernelspec": {
   "display_name": "Python 3.11.0 64-bit",
   "language": "python",
   "name": "python3"
  },
  "language_info": {
   "codemirror_mode": {
    "name": "ipython",
    "version": 3
   },
   "file_extension": ".py",
   "mimetype": "text/x-python",
   "name": "python",
   "nbconvert_exporter": "python",
   "pygments_lexer": "ipython3",
   "version": "3.11.0"
  },
  "orig_nbformat": 4,
  "vscode": {
   "interpreter": {
    "hash": "7c542dbbc07e6010b76b61de8a453dc04d29cd1fae7fbaa29851ecbad9aefb83"
   }
  }
 },
 "nbformat": 4,
 "nbformat_minor": 2
}
