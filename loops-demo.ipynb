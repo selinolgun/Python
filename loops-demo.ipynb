{
 "cells": [
  {
   "cell_type": "code",
   "execution_count": 1,
   "metadata": {},
   "outputs": [
    {
     "name": "stdout",
     "output_type": "stream",
     "text": [
      "21\n",
      "Tahminiz sayıdan daha yüksektir. Daha düşük bir sayı deneyiniz.\n",
      "Tahminiz sayıdan daha yüksektir. Daha düşük bir sayı deneyiniz.\n",
      "Tahminiz sayıdan daha düşüktür. Daha yüksek bir sayı deneyiniz.\n",
      "Tahminiz sayıdan daha yüksektir. Daha düşük bir sayı deneyiniz.\n",
      "Tebrikler tahmininiz doğru.\n",
      "Tahmin hakkınız kalmamıştır.\n",
      "Kazandığınız puan: 20.0\n"
     ]
    }
   ],
   "source": [
    "import random\n",
    "\n",
    "hak = int(input(\"Yarışmacının kaç hakkı olsun?\"))\n",
    "x = 100\n",
    "y = 100/hak\n",
    "a = []\n",
    "\n",
    "for sayilar in range(1,101):\n",
    "    a.append(sayilar)\n",
    "a = random.choice(a)\n",
    "print(a)\n",
    "\n",
    "while hak > 0:\n",
    "    hak = hak-1\n",
    "    tahmin = int(input(\"Tahmininizi giriniz: \")) \n",
    "    if tahmin == a:\n",
    "        print(\"Tebrikler tahmininiz doğru.\")\n",
    "        break\n",
    "    elif tahmin > a:\n",
    "        print(\"Tahminiz sayıdan daha yüksektir. Daha düşük bir sayı deneyiniz.\")\n",
    "        x = x-y\n",
    "    else:\n",
    "        print(\"Tahminiz sayıdan daha düşüktür. Daha yüksek bir sayı deneyiniz.\")\n",
    "        x = x-y\n",
    "if hak == 0:\n",
    "    print(\"Tahmin hakkınız kalmamıştır.\")\n",
    "if x < 0:\n",
    "    print(\"Kazandığınız puan: 0\")\n",
    "else:\n",
    "    print(f\"Kazandığınız puan: {x}\")"
   ]
  },
  {
   "cell_type": "code",
   "execution_count": null,
   "metadata": {},
   "outputs": [],
   "source": []
  }
 ],
 "metadata": {
  "kernelspec": {
   "display_name": "Python 3.11.0 64-bit",
   "language": "python",
   "name": "python3"
  },
  "language_info": {
   "codemirror_mode": {
    "name": "ipython",
    "version": 3
   },
   "file_extension": ".py",
   "mimetype": "text/x-python",
   "name": "python",
   "nbconvert_exporter": "python",
   "pygments_lexer": "ipython3",
   "version": "3.11.0"
  },
  "orig_nbformat": 4,
  "vscode": {
   "interpreter": {
    "hash": "7c542dbbc07e6010b76b61de8a453dc04d29cd1fae7fbaa29851ecbad9aefb83"
   }
  }
 },
 "nbformat": 4,
 "nbformat_minor": 2
}
