{
 "cells": [
  {
   "cell_type": "code",
   "execution_count": 4,
   "metadata": {},
   "outputs": [
    {
     "name": "stdout",
     "output_type": "stream",
     "text": [
      "Hello\n",
      "Hello\n",
      "Hello\n",
      "Hello\n",
      "Hello\n",
      "My name is sonay\n",
      "My name is selin\n",
      "My name is cem\n",
      "S\n",
      "o\n",
      "n\n",
      "a\n",
      "y\n",
      " \n",
      "I\n",
      "l\n",
      "ı\n",
      "c\n",
      "a\n"
     ]
    }
   ],
   "source": [
    "numbers = [1,2,3,4,5]\n",
    "\n",
    "# print(numbers[0])\n",
    "# print(numbers[1])\n",
    "# print(numbers[2])\n",
    "# print(numbers[3])\n",
    "# print(numbers[4])\n",
    "\n",
    "for a in numbers:\n",
    "    print(\"Hello\")\n",
    "\n",
    "names = [\"sonay\",\"selin\",\"cem\"]\n",
    "\n",
    "for name in names:\n",
    "    print(f\"My name is {name}\")\n",
    "\n",
    "name = \"Sonay Ilıca\"\n",
    "\n",
    "for n in name:\n",
    "    print(n)"
   ]
  },
  {
   "cell_type": "code",
   "execution_count": 8,
   "metadata": {},
   "outputs": [
    {
     "name": "stderr",
     "output_type": "stream",
     "text": [
      "<>:1: SyntaxWarning: 'tuple' object is not callable; perhaps you missed a comma?\n",
      "<>:1: SyntaxWarning: 'tuple' object is not callable; perhaps you missed a comma?\n",
      "C:\\Users\\Fallrytme\\AppData\\Local\\Temp\\ipykernel_14284\\288645510.py:1: SyntaxWarning: 'tuple' object is not callable; perhaps you missed a comma?\n",
      "  tuple = [(1,2),(1,3)(3,5),(5,7)]\n"
     ]
    },
    {
     "ename": "TypeError",
     "evalue": "'tuple' object is not callable",
     "output_type": "error",
     "traceback": [
      "\u001b[1;31m---------------------------------------------------------------------------\u001b[0m",
      "\u001b[1;31mTypeError\u001b[0m                                 Traceback (most recent call last)",
      "Cell \u001b[1;32mIn [8], line 1\u001b[0m\n\u001b[1;32m----> 1\u001b[0m \u001b[39mtuple\u001b[39m \u001b[39m=\u001b[39m [(\u001b[39m1\u001b[39m,\u001b[39m2\u001b[39m),(\u001b[39m1\u001b[39;49m,\u001b[39m3\u001b[39;49m)(\u001b[39m3\u001b[39;49m,\u001b[39m5\u001b[39;49m),(\u001b[39m5\u001b[39m,\u001b[39m7\u001b[39m)]\n\u001b[0;32m      3\u001b[0m \u001b[39mfor\u001b[39;00m t \u001b[39min\u001b[39;00m \u001b[39mtuple\u001b[39m:\n\u001b[0;32m      4\u001b[0m     \u001b[39mprint\u001b[39m(t)\n",
      "\u001b[1;31mTypeError\u001b[0m: 'tuple' object is not callable"
     ]
    }
   ],
   "source": [
    "tuple = [(1,2),(1,3)(3,5),(5,7)]\n",
    "\n",
    "for t in tuple:\n",
    "    print(t)"
   ]
  },
  {
   "cell_type": "code",
   "execution_count": 10,
   "metadata": {},
   "outputs": [
    {
     "name": "stdout",
     "output_type": "stream",
     "text": [
      "k1 1\n",
      "k2 2\n",
      "k3 3\n"
     ]
    }
   ],
   "source": [
    "d = {\"k1\":1, \"k2\":2, \"k3\":3}\n",
    "\n",
    "for key,value in d.items():\n",
    "    print(key,value)"
   ]
  },
  {
   "cell_type": "code",
   "execution_count": null,
   "metadata": {},
   "outputs": [],
   "source": []
  }
 ],
 "metadata": {
  "kernelspec": {
   "display_name": "Python 3.11.0 64-bit",
   "language": "python",
   "name": "python3"
  },
  "language_info": {
   "codemirror_mode": {
    "name": "ipython",
    "version": 3
   },
   "file_extension": ".py",
   "mimetype": "text/x-python",
   "name": "python",
   "nbconvert_exporter": "python",
   "pygments_lexer": "ipython3",
   "version": "3.11.0"
  },
  "orig_nbformat": 4,
  "vscode": {
   "interpreter": {
    "hash": "7c542dbbc07e6010b76b61de8a453dc04d29cd1fae7fbaa29851ecbad9aefb83"
   }
  }
 },
 "nbformat": 4,
 "nbformat_minor": 2
}
