{
 "cells": [
  {
   "cell_type": "code",
   "execution_count": 1,
   "metadata": {},
   "outputs": [
    {
     "name": "stdout",
     "output_type": "stream",
     "text": [
      "Fırat Özgül 1980 Adana\n"
     ]
    }
   ],
   "source": [
    "# Fonksiyon Nedir ve Ne İşe Yarar?\n",
    "\n",
    "print(\"Fırat\", \"Özgül\", \"1980\", \"Adana\")\n",
    "# print(\"Fırat\", \"Özgül\", \"1980\", \"Adana\", sep=\" \", end=\"\\n\", file=sys.stdout, flush=False)"
   ]
  },
  {
   "cell_type": "code",
   "execution_count": 2,
   "metadata": {},
   "outputs": [],
   "source": [
    "kurum = \"Sosyal Sigortalar Kurumu\""
   ]
  },
  {
   "cell_type": "code",
   "execution_count": 3,
   "metadata": {},
   "outputs": [
    {
     "name": "stdout",
     "output_type": "stream",
     "text": [
      "isim           :  Fırat\n",
      "soyisim        :  Özgül\n",
      "işletim sistemi:  Ubuntu\n",
      "şehir          :  İstanbul\n"
     ]
    }
   ],
   "source": [
    "isim    = \"Fırat\"\n",
    "soyisim = \"Özgül\"\n",
    "işsis   = \"Ubuntu\"\n",
    "şehir   = \"İstanbul\"\n",
    "\n",
    "print(\"isim           : \", isim)\n",
    "print(\"soyisim        : \", soyisim)\n",
    "print(\"işletim sistemi: \", işsis)\n",
    "print(\"şehir          : \", şehir)"
   ]
  },
  {
   "cell_type": "code",
   "execution_count": 4,
   "metadata": {},
   "outputs": [
    {
     "name": "stdout",
     "output_type": "stream",
     "text": [
      "isim           :  Fırat\n",
      "soyisim        :  Özgül\n",
      "işletim sistemi:  Ubuntu\n",
      "şehir          :  İstanbul\n",
      "------------------------------\n",
      "isim           :  Mehmet\n",
      "soyisim        :  Öztaban\n",
      "işletim sistemi:  Debian\n",
      "şehir          :  Ankara\n",
      "------------------------------\n"
     ]
    }
   ],
   "source": [
    "isim1    = \"Fırat\"\n",
    "soyisim1 = \"Özgül\"\n",
    "işsis1   = \"Ubuntu\"\n",
    "şehir1   = \"İstanbul\"\n",
    "\n",
    "print(\"isim           : \", isim1)\n",
    "print(\"soyisim        : \", soyisim1)\n",
    "print(\"işletim sistemi: \", işsis1)\n",
    "print(\"şehir          : \", şehir1)\n",
    "\n",
    "print(\"-\"*30)\n",
    "\n",
    "isim2    = \"Mehmet\"\n",
    "soyisim2 = \"Öztaban\"\n",
    "işsis2   = \"Debian\"\n",
    "şehir2   = \"Ankara\"\n",
    "\n",
    "print(\"isim           : \", isim2)\n",
    "print(\"soyisim        : \", soyisim2)\n",
    "print(\"işletim sistemi: \", işsis2)\n",
    "print(\"şehir          : \", şehir2)\n",
    "\n",
    "print(\"-\"*30)"
   ]
  },
  {
   "cell_type": "code",
   "execution_count": 5,
   "metadata": {},
   "outputs": [],
   "source": [
    "# Fonksiyon Tanımlamak ve Çağırmak\n",
    "\n",
    "def kayıt_oluştur(isim, soyisim, işsis, şehir):\n",
    "    print(\"-\"*30)\n",
    "\n",
    "    print(\"isim           : \", isim)\n",
    "    print(\"soyisim        : \", soyisim)\n",
    "    print(\"işletim sistemi: \", işsis)\n",
    "    print(\"şehir          : \", şehir)\n",
    "\n",
    "    print(\"-\"*30)"
   ]
  },
  {
   "cell_type": "code",
   "execution_count": 6,
   "metadata": {},
   "outputs": [
    {
     "name": "stdout",
     "output_type": "stream",
     "text": [
      "------------------------------\n",
      "isim           :  Fırat\n",
      "soyisim        :  Özgül\n",
      "işletim sistemi:  Ubuntu\n",
      "şehir          :  İstanbul\n",
      "------------------------------\n",
      "------------------------------\n",
      "isim           :  Mehmet\n",
      "soyisim        :  Öztaban\n",
      "işletim sistemi:  Debian\n",
      "şehir          :  Ankara\n",
      "------------------------------\n"
     ]
    }
   ],
   "source": [
    "kayıt_oluştur(\"Fırat\", \"Özgül\", \"Ubuntu\", \"İstanbul\")\n",
    "kayıt_oluştur(\"Mehmet\", \"Öztaban\", \"Debian\", \"Ankara\")"
   ]
  },
  {
   "cell_type": "code",
   "execution_count": 7,
   "metadata": {},
   "outputs": [
    {
     "name": "stdout",
     "output_type": "stream",
     "text": [
      "------------------------------\n",
      "isim           :  İlkay\n",
      "soyisim        :  Kaya\n",
      "işletim sistemi:  Mint\n",
      "şehir          :  Adana\n",
      "------------------------------\n",
      "------------------------------\n",
      "isim           :  Seda\n",
      "soyisim        :  Kara\n",
      "işletim sistemi:  SuSe\n",
      "şehir          :  Erzurum\n",
      "------------------------------\n"
     ]
    }
   ],
   "source": [
    "kayıt_oluştur(\"İlkay\", \"Kaya\", \"Mint\", \"Adana\")\n",
    "kayıt_oluştur(\"Seda\", \"Kara\", \"SuSe\", \"Erzurum\")"
   ]
  },
  {
   "cell_type": "code",
   "execution_count": 8,
   "metadata": {},
   "outputs": [],
   "source": [
    "# Fonksiyonların Yapısı\n",
    "\n",
    "def selamla():\n",
    "    print(\"Elveda Zalim Dünya!\")"
   ]
  },
  {
   "cell_type": "code",
   "execution_count": 9,
   "metadata": {},
   "outputs": [
    {
     "name": "stdout",
     "output_type": "stream",
     "text": [
      "Elveda Zalim Dünya!\n"
     ]
    }
   ],
   "source": [
    "selamla()"
   ]
  },
  {
   "cell_type": "code",
   "execution_count": 10,
   "metadata": {},
   "outputs": [
    {
     "name": "stdout",
     "output_type": "stream",
     "text": [
      "Elveda Zalim Dünya!\n"
     ]
    }
   ],
   "source": [
    "def selamla():\n",
    "    print(\"Elveda Zalim Dünya!\")\n",
    "selamla()"
   ]
  },
  {
   "cell_type": "code",
   "execution_count": 11,
   "metadata": {},
   "outputs": [
    {
     "name": "stdout",
     "output_type": "stream",
     "text": [
      "\n",
      "Sistemde kurulu Python'ın;\n",
      "\tana sürüm numarası: 3\n",
      "\talt sürüm numarası: 11\n",
      "\tminik sürüm numarası: 0\n",
      "\n",
      "Kullanılan işletim sisteminin;\n",
      "\tadı: win32\n"
     ]
    }
   ],
   "source": [
    "def sistem_bilgisi_göster():\n",
    "    import sys\n",
    "    print(\"\\nSistemde kurulu Python'ın;\")\n",
    "    print(\"\\tana sürüm numarası:\", sys.version_info.major)\n",
    "    print(\"\\talt sürüm numarası:\", sys.version_info.minor)\n",
    "    print(\"\\tminik sürüm numarası:\", sys.version_info.micro)\n",
    "\n",
    "    print(\"\\nKullanılan işletim sisteminin;\")\n",
    "    print(\"\\tadı:\", sys.platform)\n",
    "sistem_bilgisi_göster()"
   ]
  },
  {
   "cell_type": "code",
   "execution_count": 12,
   "metadata": {},
   "outputs": [
    {
     "name": "stdout",
     "output_type": "stream",
     "text": [
      "12 sayısının karesi 144 sayısıdır\n"
     ]
    }
   ],
   "source": [
    "# Fonksiyonlar Ne İşe Yarar?\n",
    "\n",
    "sayı = 12\n",
    "çıktı = \"{} sayısının karesi {} sayısıdır\"\n",
    "print(çıktı.format(sayı, sayı**2))"
   ]
  },
  {
   "cell_type": "code",
   "execution_count": 13,
   "metadata": {},
   "outputs": [
    {
     "name": "stdout",
     "output_type": "stream",
     "text": [
      "15 sayısının karesi 225 sayısıdır\n"
     ]
    }
   ],
   "source": [
    "sayı = 15\n",
    "print(çıktı.format(sayı, sayı**2))"
   ]
  },
  {
   "cell_type": "code",
   "execution_count": 14,
   "metadata": {},
   "outputs": [
    {
     "name": "stdout",
     "output_type": "stream",
     "text": [
      "29 sayısının karesi 841 sayısıdır\n"
     ]
    }
   ],
   "source": [
    "sayı = 29\n",
    "print(çıktı.format(sayı, sayı**2))"
   ]
  },
  {
   "cell_type": "code",
   "execution_count": 15,
   "metadata": {},
   "outputs": [
    {
     "name": "stdout",
     "output_type": "stream",
     "text": [
      "12 sayısının karesi 144 sayısıdır\n"
     ]
    }
   ],
   "source": [
    "def kare_bul():\n",
    "    sayı = 12\n",
    "    çıktı = \"{} sayısının karesi {} sayısıdır\"\n",
    "    print(çıktı.format(sayı, sayı**2))\n",
    "kare_bul()"
   ]
  },
  {
   "cell_type": "code",
   "execution_count": 16,
   "metadata": {},
   "outputs": [
    {
     "name": "stdout",
     "output_type": "stream",
     "text": [
      "9 sayısının karesi 81 sayısıdır\n"
     ]
    }
   ],
   "source": [
    "def kare_bul(sayı):\n",
    "    çıktı = \"{} sayısının karesi {} sayısıdır\"\n",
    "    print(çıktı.format(sayı, sayı**2))\n",
    "kare_bul(9)"
   ]
  },
  {
   "cell_type": "code",
   "execution_count": 17,
   "metadata": {},
   "outputs": [
    {
     "name": "stdout",
     "output_type": "stream",
     "text": [
      "15 sayısının karesi 225 sayısıdır\n"
     ]
    }
   ],
   "source": [
    "kare_bul(15)"
   ]
  },
  {
   "cell_type": "code",
   "execution_count": 18,
   "metadata": {},
   "outputs": [
    {
     "name": "stdout",
     "output_type": "stream",
     "text": [
      "25555 sayısının karesi 653058025 sayısıdır\n"
     ]
    }
   ],
   "source": [
    "kare_bul(25555)"
   ]
  },
  {
   "cell_type": "code",
   "execution_count": 19,
   "metadata": {},
   "outputs": [
    {
     "name": "stdout",
     "output_type": "stream",
     "text": [
      "17 sayısının karesi 289 sayısıdır\n"
     ]
    }
   ],
   "source": [
    "kare_bul(17)"
   ]
  },
  {
   "cell_type": "code",
   "execution_count": 20,
   "metadata": {},
   "outputs": [
    {
     "name": "stdout",
     "output_type": "stream",
     "text": [
      "21 sayısının karesi 441 sayısıdır\n"
     ]
    }
   ],
   "source": [
    "kare_bul(21)"
   ]
  },
  {
   "cell_type": "code",
   "execution_count": 21,
   "metadata": {},
   "outputs": [
    {
     "name": "stdout",
     "output_type": "stream",
     "text": [
      "54354 sayısının karesi 2954357316 sayısıdır\n"
     ]
    }
   ],
   "source": [
    "kare_bul(54354)"
   ]
  },
  {
   "cell_type": "code",
   "execution_count": 22,
   "metadata": {},
   "outputs": [
    {
     "name": "stdout",
     "output_type": "stream",
     "text": [
      "21 sayısının karesi 441, karekökü ise 4.58257569495584 sayısıdır\n"
     ]
    }
   ],
   "source": [
    "def kare_bul(sayı):\n",
    "    çıktı = \"{} sayısının karesi {}, karekökü ise {} sayısıdır\"\n",
    "    print(çıktı.format(sayı, sayı**2, sayı**0.5))\n",
    "kare_bul(21)"
   ]
  },
  {
   "cell_type": "code",
   "execution_count": 23,
   "metadata": {},
   "outputs": [
    {
     "data": {
      "text/plain": [
       "7"
      ]
     },
     "execution_count": 23,
     "metadata": {},
     "output_type": "execute_result"
    }
   ],
   "source": [
    "len(\"istihza\")"
   ]
  },
  {
   "cell_type": "code",
   "execution_count": 24,
   "metadata": {},
   "outputs": [
    {
     "name": "stdout",
     "output_type": "stream",
     "text": [
      "7\n"
     ]
    }
   ],
   "source": [
    "c = 0\n",
    "for s in \"istihza\":\n",
    "    c += 1\n",
    "print(c)"
   ]
  },
  {
   "cell_type": "code",
   "execution_count": 25,
   "metadata": {},
   "outputs": [
    {
     "name": "stdout",
     "output_type": "stream",
     "text": [
      "7\n"
     ]
    }
   ],
   "source": [
    "def uzunluk(öğe):\n",
    "    c = 0\n",
    "    for s in öğe:\n",
    "        c += 1\n",
    "    print(c)\n",
    "uzunluk(\"istihza\")"
   ]
  },
  {
   "cell_type": "code",
   "execution_count": 26,
   "metadata": {},
   "outputs": [
    {
     "name": "stdout",
     "output_type": "stream",
     "text": [
      "14\n"
     ]
    }
   ],
   "source": [
    "uzunluk(\"Afyonkarahisar\")"
   ]
  },
  {
   "cell_type": "code",
   "execution_count": 27,
   "metadata": {},
   "outputs": [
    {
     "name": "stdout",
     "output_type": "stream",
     "text": [
      "28\n"
     ]
    }
   ],
   "source": [
    "uzunluk(\"Tarım ve Köyişleri Bakanlığı\")"
   ]
  },
  {
   "cell_type": "code",
   "execution_count": 28,
   "metadata": {},
   "outputs": [
    {
     "name": "stdout",
     "output_type": "stream",
     "text": [
      "3\n"
     ]
    }
   ],
   "source": [
    "liste = [\"ahmet\", \"mehmet\", \"veli\"]\n",
    "uzunluk(liste)"
   ]
  },
  {
   "cell_type": "code",
   "execution_count": 29,
   "metadata": {},
   "outputs": [
    {
     "name": "stdout",
     "output_type": "stream",
     "text": [
      "deneme.txt adlı dosya /home/istihza/Desktop adlı dizin içine kopyalandı!\n"
     ]
    }
   ],
   "source": [
    "# Parametreler ve Argümanlar\n",
    "\n",
    "def kopyala(kaynak_dosya, hedef_dizin):\n",
    "    çıktı = \"{} adlı dosya {} adlı dizin içine kopyalandı!\"\n",
    "    print(çıktı.format(kaynak_dosya, hedef_dizin))\n",
    "kopyala(\"deneme.txt\", \"/home/istihza/Desktop\")"
   ]
  },
  {
   "cell_type": "code",
   "execution_count": 30,
   "metadata": {},
   "outputs": [
    {
     "name": "stdout",
     "output_type": "stream",
     "text": [
      "------------------------------\n",
      "isim           :  Ahmet\n",
      "soyisim        :  Öz\n",
      "işletim sistemi:  Debian\n",
      "şehir          :  Ankara\n",
      "------------------------------\n"
     ]
    }
   ],
   "source": [
    "# Sıralı(veya İsimsiz) Parametreler\n",
    "\n",
    "def kayıt_oluştur(isim, soyisim, işsis, şehir):\n",
    "    print(\"-\"*30)\n",
    "\n",
    "    print(\"isim           : \", isim)\n",
    "    print(\"soyisim        : \", soyisim)\n",
    "    print(\"işletim sistemi: \", işsis)\n",
    "    print(\"şehir          : \", şehir)\n",
    "\n",
    "    print(\"-\"*30)\n",
    "kayıt_oluştur(\"Ahmet\", \"Öz\", \"Debian\", \"Ankara\")"
   ]
  },
  {
   "cell_type": "code",
   "execution_count": 31,
   "metadata": {},
   "outputs": [
    {
     "name": "stdout",
     "output_type": "stream",
     "text": [
      "------------------------------\n",
      "isim           :  Debian\n",
      "soyisim        :  Ankara\n",
      "işletim sistemi:  Öz\n",
      "şehir          :  Ahmet\n",
      "------------------------------\n"
     ]
    }
   ],
   "source": [
    "kayıt_oluştur(\"Debian\", \"Ankara\", \"Öz\", \"Ahmet\")"
   ]
  },
  {
   "cell_type": "code",
   "execution_count": 32,
   "metadata": {},
   "outputs": [
    {
     "name": "stdout",
     "output_type": "stream",
     "text": [
      "------------------------------\n",
      "isim           :  Ahmet\n",
      "soyisim        :  Öz\n",
      "işletim sistemi:  Debian\n",
      "şehir          :  Ankara\n",
      "------------------------------\n"
     ]
    }
   ],
   "source": [
    "# İsimli Parametreler\n",
    "\n",
    "def kayıt_oluştur(isim, soyisim, işsis, şehir):\n",
    "    print(\"-\"*30)\n",
    "\n",
    "    print(\"isim           : \", isim)\n",
    "    print(\"soyisim        : \", soyisim)\n",
    "    print(\"işletim sistemi: \", işsis)\n",
    "    print(\"şehir          : \", şehir)\n",
    "\n",
    "    print(\"-\"*30)\n",
    "\n",
    "kayıt_oluştur(soyisim=\"Öz\", isim=\"Ahmet\", işsis=\"Debian\", şehir= \"Ankara\")"
   ]
  },
  {
   "cell_type": "code",
   "execution_count": 33,
   "metadata": {},
   "outputs": [
    {
     "ename": "SyntaxError",
     "evalue": "positional argument follows keyword argument (3091205202.py, line 1)",
     "output_type": "error",
     "traceback": [
      "\u001b[1;36m  Cell \u001b[1;32mIn [33], line 1\u001b[1;36m\u001b[0m\n\u001b[1;33m    kayıt_oluştur(soyisim=\"Öz\", isim=\"Ahmet\", \"Debian\", \"Ankara\")\u001b[0m\n\u001b[1;37m                                                                ^\u001b[0m\n\u001b[1;31mSyntaxError\u001b[0m\u001b[1;31m:\u001b[0m positional argument follows keyword argument\n"
     ]
    }
   ],
   "source": [
    "kayıt_oluştur(soyisim=\"Öz\", isim=\"Ahmet\", \"Debian\", \"Ankara\")"
   ]
  },
  {
   "cell_type": "code",
   "execution_count": 34,
   "metadata": {},
   "outputs": [
    {
     "name": "stdout",
     "output_type": "stream",
     "text": [
      "Fırat Özgül\n"
     ]
    }
   ],
   "source": [
    "# Varsayılan Değerli Parametreler\n",
    "\n",
    "print(\"Fırat\", \"Özgül\")\n",
    "\n",
    "# print(\"Fırat\", \"Özgül\", sep=\" \", end=\"\\n\", file=sys.stdout, flush=False)"
   ]
  },
  {
   "cell_type": "code",
   "execution_count": 35,
   "metadata": {},
   "outputs": [
    {
     "name": "stdout",
     "output_type": "stream",
     "text": [
      "Program /usr/bin/ dizinine kuruldu!\n"
     ]
    }
   ],
   "source": [
    "def kur(kurulum_dizini=\"/usr/bin/\"):\n",
    "    print(\"Program {} dizinine kuruldu!\".format(kurulum_dizini))\n",
    "kur()"
   ]
  },
  {
   "cell_type": "code",
   "execution_count": 36,
   "metadata": {},
   "outputs": [
    {
     "name": "stdout",
     "output_type": "stream",
     "text": [
      "Program C:\\Users\\firat dizinine kuruldu!\n"
     ]
    }
   ],
   "source": [
    "kur(\"C:\\\\Users\\\\firat\")"
   ]
  },
  {
   "cell_type": "code",
   "execution_count": 37,
   "metadata": {},
   "outputs": [
    {
     "name": "stdout",
     "output_type": "stream",
     "text": [
      "Lütfen programı hangi dizine kurmak istediğinizi belirtin!\n"
     ]
    }
   ],
   "source": [
    "def kur(kurulum_dizini=''):\n",
    "    if not kurulum_dizini:\n",
    "        print(\"Lütfen programı hangi dizine kurmak istediğinizi belirtin!\")\n",
    "    else:\n",
    "        print(\"Program {} dizinine kuruldu!\".format(kurulum_dizini))\n",
    "kur()"
   ]
  },
  {
   "cell_type": "code",
   "execution_count": 38,
   "metadata": {},
   "outputs": [
    {
     "name": "stdout",
     "output_type": "stream",
     "text": [
      "Program C:\\Users\\istihza dizinine kuruldu!\n"
     ]
    }
   ],
   "source": [
    "kur(\"C:\\\\Users\\\\istihza\")"
   ]
  },
  {
   "cell_type": "code",
   "execution_count": 39,
   "metadata": {},
   "outputs": [
    {
     "name": "stdout",
     "output_type": "stream",
     "text": [
      "(1, 2, 3, 4, 5)\n"
     ]
    }
   ],
   "source": [
    "# Rastgele Sayıda İsimsiz Parametre Belirleme\n",
    "\n",
    "def fonksiyon(*parametreler):\n",
    "    print(parametreler)\n",
    "\n",
    "fonksiyon(1, 2, 3, 4, 5)"
   ]
  },
  {
   "cell_type": "code",
   "execution_count": 40,
   "metadata": {},
   "outputs": [
    {
     "name": "stdout",
     "output_type": "stream",
     "text": [
      "24\n"
     ]
    }
   ],
   "source": [
    "def çarp(*sayılar):\n",
    "    sonuç = 1\n",
    "    for i in sayılar:\n",
    "        sonuç *= i\n",
    "    print(sonuç)\n",
    "çarp(1, 2, 3, 4)"
   ]
  },
  {
   "cell_type": "code",
   "execution_count": 41,
   "metadata": {},
   "outputs": [
    {
     "name": "stdout",
     "output_type": "stream",
     "text": [
      "T.B.M.M\n"
     ]
    }
   ],
   "source": [
    "print(*'TBMM', sep='.')"
   ]
  },
  {
   "cell_type": "code",
   "execution_count": 42,
   "metadata": {},
   "outputs": [
    {
     "name": "stdout",
     "output_type": "stream",
     "text": [
      "Ahmet Mehmet Veli\n"
     ]
    }
   ],
   "source": [
    "liste = [\"Ahmet\", \"Mehmet\", \"Veli\"]\n",
    "print(*liste)"
   ]
  },
  {
   "cell_type": "code",
   "execution_count": 43,
   "metadata": {},
   "outputs": [
    {
     "name": "stdout",
     "output_type": "stream",
     "text": [
      "a b\n"
     ]
    }
   ],
   "source": [
    "sözlük = {\"a\": 1, \"b\": 2}\n",
    "print(*sözlük)"
   ]
  },
  {
   "cell_type": "code",
   "execution_count": 45,
   "metadata": {},
   "outputs": [
    {
     "name": "stdout",
     "output_type": "stream",
     "text": [
      "24\n"
     ]
    }
   ],
   "source": [
    "def çarp(*args):\n",
    "    sonuç = 1\n",
    "    for i in args:\n",
    "        sonuç *= i\n",
    "    print(sonuç)\n",
    "çarp(1, 2, 3, 4)"
   ]
  },
  {
   "cell_type": "code",
   "execution_count": 46,
   "metadata": {},
   "outputs": [
    {
     "name": "stdout",
     "output_type": "stream",
     "text": [
      "{'isim': 'Ahmet', 'soyisim': 'Öz', 'meslek': 'Mühendis', 'şehir': 'Ankara'}\n"
     ]
    }
   ],
   "source": [
    "# Rastgele Sayıda İsimli Parametre Belirleme\n",
    "\n",
    "def fonksiyon(**parametreler):\n",
    "    print(parametreler)\n",
    "\n",
    "fonksiyon(isim=\"Ahmet\", soyisim=\"Öz\", meslek=\"Mühendis\", şehir=\"Ankara\")"
   ]
  },
  {
   "cell_type": "code",
   "execution_count": 47,
   "metadata": {},
   "outputs": [],
   "source": [
    "def kayıt_oluştur(isim, soyisim, işsis, şehir):\n",
    "    print(\"-\"*30)\n",
    "\n",
    "    print(\"isim           : \", isim)\n",
    "    print(\"soyisim        : \", soyisim)\n",
    "    print(\"işletim sistemi: \", işsis)\n",
    "    print(\"şehir          : \", şehir)\n",
    "\n",
    "    print(\"-\"*30)"
   ]
  },
  {
   "cell_type": "code",
   "execution_count": 48,
   "metadata": {},
   "outputs": [
    {
     "name": "stdout",
     "output_type": "stream",
     "text": [
      "------------------------------\n",
      "ad        : Fırat\n",
      "soyad     : Özgül\n",
      "şehir     : İstanbul\n",
      "tel       : 05333213232\n",
      "------------------------------\n"
     ]
    }
   ],
   "source": [
    "def kayıt_oluştur(**bilgiler):\n",
    "    print(\"-\"*30)\n",
    "\n",
    "    for anahtar, değer in bilgiler.items():\n",
    "        print(\"{:<10}: {}\".format(anahtar, değer))\n",
    "\n",
    "    print(\"-\"*30)\n",
    "\n",
    "kayıt_oluştur(ad=\"Fırat\", soyad=\"Özgül\", şehir=\"İstanbul\", tel=\"05333213232\")"
   ]
  },
  {
   "cell_type": "code",
   "execution_count": 49,
   "metadata": {},
   "outputs": [
    {
     "name": "stdout",
     "output_type": "stream",
     "text": [
      "kitap = book\n",
      "bilgisayar = computer\n",
      "programlama = programming\n",
      "fonksiyon kelimesi sözlükte yok!\n"
     ]
    }
   ],
   "source": [
    "def karşılık_bul(*args, **kwargs):\n",
    "    for sözcük in args:\n",
    "        if sözcük in kwargs:\n",
    "            print(\"{} = {}\".format(sözcük, kwargs[sözcük]))\n",
    "        else:\n",
    "            print(\"{} kelimesi sözlükte yok!\".format(sözcük))\n",
    "\n",
    "\n",
    "sözlük = {\"kitap\"      : \"book\",\n",
    "          \"bilgisayar\" : \"computer\",\n",
    "          \"programlama\": \"programming\"}\n",
    "\n",
    "karşılık_bul(\"kitap\", \"bilgisayar\", \"programlama\", \"fonksiyon\", **sözlük)"
   ]
  },
  {
   "cell_type": "code",
   "execution_count": 50,
   "metadata": {},
   "outputs": [
    {
     "name": "stdout",
     "output_type": "stream",
     "text": [
      "#.öğe1\n",
      "#.öğe2\n",
      "#.öğe3\n"
     ]
    }
   ],
   "source": [
    "def bas(*args, start='', **kwargs):\n",
    "    for öğe in args:\n",
    "        print(start+öğe, **kwargs)\n",
    "\n",
    "bas('öğe1', 'öğe2', 'öğe3', start=\"#.\")"
   ]
  },
  {
   "cell_type": "code",
   "execution_count": 51,
   "metadata": {},
   "outputs": [
    {
     "name": "stdout",
     "output_type": "stream",
     "text": [
      "Sonay\n"
     ]
    }
   ],
   "source": [
    "# return Deyimi\n",
    "\n",
    "def ismin_ne():\n",
    "    isim = input(\"ismin ne? \")\n",
    "    print(isim)\n",
    "ismin_ne()"
   ]
  },
  {
   "cell_type": "code",
   "execution_count": 52,
   "metadata": {},
   "outputs": [
    {
     "name": "stdout",
     "output_type": "stream",
     "text": [
      "Sonay\n",
      "Merhaba None. Nasılsın?\n"
     ]
    }
   ],
   "source": [
    "print(\"Merhaba {}. Nasılsın?\".format(ismin_ne()))"
   ]
  },
  {
   "cell_type": "code",
   "execution_count": 53,
   "metadata": {},
   "outputs": [
    {
     "name": "stdout",
     "output_type": "stream",
     "text": [
      "Sonay\n",
      "None\n"
     ]
    }
   ],
   "source": [
    "print(ismin_ne())"
   ]
  },
  {
   "cell_type": "code",
   "execution_count": 54,
   "metadata": {},
   "outputs": [
    {
     "data": {
      "text/plain": [
       "'Sonay'"
      ]
     },
     "execution_count": 54,
     "metadata": {},
     "output_type": "execute_result"
    }
   ],
   "source": [
    "def ismin_ne():\n",
    "    isim = input(\"ismin ne? \")\n",
    "    return isim\n",
    "ismin_ne()"
   ]
  },
  {
   "cell_type": "code",
   "execution_count": 55,
   "metadata": {},
   "outputs": [
    {
     "name": "stdout",
     "output_type": "stream",
     "text": [
      "Merhaba Sonay. Nasılsın?\n"
     ]
    }
   ],
   "source": [
    "def ismin_ne():\n",
    "    isim = input(\"ismin ne? \")\n",
    "    return isim\n",
    "\n",
    "print(\"Merhaba {}. Nasılsın?\".format(ismin_ne()))"
   ]
  },
  {
   "cell_type": "code",
   "execution_count": 56,
   "metadata": {},
   "outputs": [
    {
     "name": "stdout",
     "output_type": "stream",
     "text": [
      "Sonay\n"
     ]
    }
   ],
   "source": [
    "ad = ismin_ne()\n",
    "print(ad)"
   ]
  },
  {
   "cell_type": "code",
   "execution_count": 57,
   "metadata": {},
   "outputs": [
    {
     "name": "stdout",
     "output_type": "stream",
     "text": [
      "3\n"
     ]
    }
   ],
   "source": [
    "def fonk():\n",
    "    print(3)\n",
    "    return\n",
    "    print(5)\n",
    "fonk()"
   ]
  },
  {
   "cell_type": "code",
   "execution_count": 58,
   "metadata": {},
   "outputs": [
    {
     "name": "stdout",
     "output_type": "stream",
     "text": [
      "eksi değerli sayı olmaz!\n"
     ]
    }
   ],
   "source": [
    "def fonk(n):\n",
    "    if n < 0:\n",
    "        return 'eksi değerli sayı olmaz!'\n",
    "    else:\n",
    "        return n\n",
    "\n",
    "f = fonk(-5)\n",
    "print(f)"
   ]
  },
  {
   "cell_type": "code",
   "execution_count": 59,
   "metadata": {},
   "outputs": [],
   "source": [
    "# Örnek Uygulama\n",
    "\n",
    "import random\n",
    "\n",
    "def sayı_üret(başlangıç=0, bitiş=500, adet=6):\n",
    "    sayılar = set()\n",
    "\n",
    "    while len(sayılar) < adet:\n",
    "        sayılar.add(random.randrange(başlangıç, bitiş))\n",
    "\n",
    "    return sayılar"
   ]
  },
  {
   "cell_type": "code",
   "execution_count": 60,
   "metadata": {},
   "outputs": [
    {
     "data": {
      "text/plain": [
       "['BPF',\n",
       " 'LOG4',\n",
       " 'NV_MAGICCONST',\n",
       " 'RECIP_BPF',\n",
       " 'Random',\n",
       " 'SG_MAGICCONST',\n",
       " 'SystemRandom',\n",
       " 'TWOPI',\n",
       " '_ONE',\n",
       " '_Sequence',\n",
       " '_Set',\n",
       " '__all__',\n",
       " '__builtins__',\n",
       " '__cached__',\n",
       " '__doc__',\n",
       " '__file__',\n",
       " '__loader__',\n",
       " '__name__',\n",
       " '__package__',\n",
       " '__spec__',\n",
       " '_accumulate',\n",
       " '_acos',\n",
       " '_bisect',\n",
       " '_ceil',\n",
       " '_cos',\n",
       " '_e',\n",
       " '_exp',\n",
       " '_floor',\n",
       " '_index',\n",
       " '_inst',\n",
       " '_isfinite',\n",
       " '_log',\n",
       " '_os',\n",
       " '_pi',\n",
       " '_random',\n",
       " '_repeat',\n",
       " '_sha512',\n",
       " '_sin',\n",
       " '_sqrt',\n",
       " '_test',\n",
       " '_test_generator',\n",
       " '_urandom',\n",
       " '_warn',\n",
       " 'betavariate',\n",
       " 'choice',\n",
       " 'choices',\n",
       " 'expovariate',\n",
       " 'gammavariate',\n",
       " 'gauss',\n",
       " 'getrandbits',\n",
       " 'getstate',\n",
       " 'lognormvariate',\n",
       " 'normalvariate',\n",
       " 'paretovariate',\n",
       " 'randbytes',\n",
       " 'randint',\n",
       " 'random',\n",
       " 'randrange',\n",
       " 'sample',\n",
       " 'seed',\n",
       " 'setstate',\n",
       " 'shuffle',\n",
       " 'triangular',\n",
       " 'uniform',\n",
       " 'vonmisesvariate',\n",
       " 'weibullvariate']"
      ]
     },
     "execution_count": 60,
     "metadata": {},
     "output_type": "execute_result"
    }
   ],
   "source": [
    "import random\n",
    "dir(random)"
   ]
  },
  {
   "cell_type": "code",
   "execution_count": 61,
   "metadata": {},
   "outputs": [
    {
     "data": {
      "text/plain": [
       "['selin', 'sevgi']"
      ]
     },
     "execution_count": 61,
     "metadata": {},
     "output_type": "execute_result"
    }
   ],
   "source": [
    "liste = [\"ahmet\", \"mehmet\", \"sevgi\", \"sevim\", \"selin\", \"zeynep\", \"selim\"]\n",
    "random.sample(liste, 2)"
   ]
  },
  {
   "cell_type": "code",
   "execution_count": 62,
   "metadata": {},
   "outputs": [
    {
     "data": {
      "text/plain": [
       "['zeynep', 'ahmet']"
      ]
     },
     "execution_count": 62,
     "metadata": {},
     "output_type": "execute_result"
    }
   ],
   "source": [
    "random.sample(liste, 2)"
   ]
  },
  {
   "cell_type": "code",
   "execution_count": 66,
   "metadata": {},
   "outputs": [
    {
     "data": {
      "text/plain": [
       "['mehmet', 'sevim', 'selin', 'zeynep', 'selim', 'ahmet', 'sevgi']"
      ]
     },
     "execution_count": 66,
     "metadata": {},
     "output_type": "execute_result"
    }
   ],
   "source": [
    "liste = [\"ahmet\", \"mehmet\", \"sevgi\", \"sevim\",\n",
    "\"selin\", \"zeynep\", \"selim\"]\n",
    "random.shuffle(liste)\n",
    "liste"
   ]
  },
  {
   "cell_type": "code",
   "execution_count": 67,
   "metadata": {},
   "outputs": [
    {
     "data": {
      "text/plain": [
       "231"
      ]
     },
     "execution_count": 67,
     "metadata": {},
     "output_type": "execute_result"
    }
   ],
   "source": [
    "random.randrange(0, 500)"
   ]
  },
  {
   "cell_type": "code",
   "execution_count": 68,
   "metadata": {},
   "outputs": [
    {
     "name": "stdout",
     "output_type": "stream",
     "text": [
      "{389, 230, 108, 461, 210, 350}\n",
      "{344, 219, 116, 56, 186, 27}\n",
      "{34, 297, 467, 21, 91, 28}\n",
      "{175, 371, 471, 280, 254, 223}\n",
      "{486, 72, 110, 214, 120, 283}\n",
      "{357, 263, 423, 117, 31, 447}\n",
      "{160, 353, 296, 492, 473, 477}\n",
      "{480, 295, 456, 82, 345, 92}\n",
      "{297, 41, 433, 249, 346, 93}\n",
      "{423, 456, 279, 24, 92, 157}\n",
      "{136, 12, 243, 20, 469, 351}\n",
      "{385, 97, 196, 494, 273, 244}\n",
      "{384, 332, 177, 309, 25, 476}\n",
      "{163, 110, 22, 378, 414, 351}\n",
      "{132, 398, 239, 85, 126, 159}\n",
      "{362, 299, 14, 47, 179, 216}\n",
      "{71, 377, 141, 275, 249, 186}\n",
      "{192, 35, 75, 243, 115, 87}\n",
      "{40, 401, 314, 315, 316, 319}\n",
      "{0, 33, 420, 490, 180, 29}\n",
      "{294, 170, 171, 23, 215, 92}\n",
      "{97, 482, 35, 421, 392, 472}\n",
      "{256, 64, 261, 463, 54, 158}\n",
      "{71, 359, 263, 141, 60, 412}\n",
      "{352, 226, 133, 490, 334, 379}\n",
      "{141, 47, 336, 119, 348, 477}\n",
      "{420, 42, 306, 20, 277, 184}\n",
      "{36, 262, 167, 139, 236, 57}\n",
      "{327, 40, 307, 340, 281, 93}\n",
      "{416, 177, 306, 84, 91, 125}\n",
      "{98, 20, 85, 438, 26, 286}\n",
      "{420, 101, 232, 136, 172, 125}\n",
      "{259, 133, 231, 12, 154, 220}\n",
      "{69, 10, 372, 20, 84, 180}\n",
      "{491, 372, 410, 125, 414, 255}\n",
      "{8, 208, 336, 112, 51, 250}\n",
      "{2, 355, 392, 442, 189, 255}\n",
      "{160, 422, 46, 403, 309, 319}\n",
      "{131, 110, 272, 51, 279, 185}\n",
      "{196, 105, 44, 276, 277, 223}\n",
      "{454, 271, 182, 150, 89, 156}\n",
      "{224, 288, 456, 182, 375, 441}\n",
      "{96, 65, 450, 137, 492, 279}\n",
      "{417, 139, 236, 51, 149, 152}\n",
      "{65, 102, 493, 81, 306, 279}\n",
      "{353, 482, 196, 301, 15, 149}\n",
      "{356, 170, 330, 429, 215, 317}\n",
      "{135, 266, 362, 302, 431, 28}\n",
      "{164, 330, 363, 270, 279, 283}\n",
      "{328, 73, 459, 237, 148, 405}\n",
      "{364, 113, 373, 90, 124, 191}\n",
      "{354, 391, 361, 395, 21, 249}\n",
      "{448, 261, 37, 202, 44, 111}\n",
      "{65, 194, 199, 17, 217, 287}\n",
      "{107, 204, 467, 374, 56, 222}\n",
      "{77, 109, 431, 499, 22, 94}\n",
      "{384, 163, 364, 281, 444, 221}\n",
      "{320, 32, 193, 431, 436, 351}\n",
      "{486, 74, 300, 463, 144, 437}\n",
      "{200, 140, 334, 499, 442, 30}\n",
      "{354, 419, 14, 438, 445, 158}\n",
      "{260, 207, 310, 408, 218, 477}\n",
      "{293, 102, 333, 399, 369, 406}\n",
      "{357, 362, 434, 243, 474, 188}\n",
      "{193, 418, 485, 328, 438, 159}\n",
      "{298, 138, 303, 401, 147, 276}\n",
      "{482, 326, 51, 405, 54, 317}\n",
      "{330, 268, 52, 215, 411, 350}\n",
      "{105, 106, 76, 117, 215, 188}\n",
      "{457, 47, 118, 408, 189, 478}\n",
      "{385, 34, 418, 41, 426, 159}\n",
      "{101, 389, 168, 362, 82, 148}\n",
      "{421, 425, 459, 460, 245, 317}\n",
      "{322, 287, 117, 406, 254, 223}\n",
      "{419, 452, 360, 138, 106, 311}\n",
      "{483, 365, 237, 209, 468, 61}\n",
      "{321, 130, 400, 466, 91, 383}\n",
      "{352, 134, 141, 54, 152, 25}\n",
      "{345, 74, 281, 411, 252, 381}\n",
      "{0, 167, 401, 243, 94, 126}\n",
      "{270, 336, 337, 114, 240, 345}\n",
      "{163, 35, 139, 395, 278, 218}\n",
      "{132, 262, 134, 328, 137, 468}\n",
      "{130, 390, 263, 306, 82, 254}\n",
      "{39, 297, 10, 365, 115, 83}\n",
      "{101, 392, 8, 9, 270, 188}\n",
      "{224, 322, 102, 172, 272, 468}\n",
      "{291, 68, 73, 393, 146, 219}\n",
      "{328, 202, 432, 342, 26, 255}\n",
      "{69, 268, 142, 51, 211, 219}\n",
      "{453, 359, 71, 105, 460, 189}\n",
      "{73, 461, 365, 276, 155, 349}\n",
      "{288, 99, 298, 148, 280, 60}\n",
      "{386, 104, 267, 468, 340, 375}\n",
      "{294, 102, 104, 14, 372, 347}\n",
      "{36, 106, 138, 470, 24, 350}\n",
      "{32, 135, 199, 428, 216, 409}\n",
      "{448, 258, 243, 407, 316, 31}\n",
      "{10, 331, 367, 436, 124, 478}\n",
      "{64, 465, 18, 116, 472, 121}\n"
     ]
    }
   ],
   "source": [
    "for i in range(100):\n",
    "    print(sayı_üret())"
   ]
  },
  {
   "cell_type": "code",
   "execution_count": 69,
   "metadata": {},
   "outputs": [
    {
     "name": "stdout",
     "output_type": "stream",
     "text": [
      "{96, 97, 66, 99, 42, 12, 14, 16, 26, 60}\n"
     ]
    }
   ],
   "source": [
    "print(sayı_üret(0, 100, 10))"
   ]
  },
  {
   "cell_type": "code",
   "execution_count": 70,
   "metadata": {},
   "outputs": [
    {
     "name": "stdout",
     "output_type": "stream",
     "text": [
      "258-1156-133-402-284-1189-809-937-557-1071-1337-457-1233-1108-471-361-1398-122-764-765\n"
     ]
    }
   ],
   "source": [
    "print(*sayı_üret(100, 1500, 20), sep='-')"
   ]
  },
  {
   "cell_type": "code",
   "execution_count": 71,
   "metadata": {},
   "outputs": [
    {
     "name": "stdout",
     "output_type": "stream",
     "text": [
      "fonksiyon içindeki x:  1\n",
      "fonksiyon dışındaki x:  0\n"
     ]
    }
   ],
   "source": [
    "# Fonksiyonların Kapsamı ve global Deyimi\n",
    "\n",
    "x = 0\n",
    "\n",
    "def fonk():\n",
    "    x = 1\n",
    "    return x\n",
    "print('fonksiyon içindeki x: ', fonk())\n",
    "print('fonksiyon dışındaki x: ', x)"
   ]
  },
  {
   "cell_type": "code",
   "execution_count": 72,
   "metadata": {},
   "outputs": [
    {
     "name": "stdout",
     "output_type": "stream",
     "text": [
      "x'in ilk hali: []\n",
      "x'i değiştiriyoruz...\n",
      "x'in son hali:  [1]\n"
     ]
    }
   ],
   "source": [
    "x = []\n",
    "print('x\\'in ilk hali:', x)\n",
    "\n",
    "def değiştir():\n",
    "    print('x\\'i değiştiriyoruz...')\n",
    "    x.append(1)\n",
    "    return x\n",
    "\n",
    "değiştir()\n",
    "print('x\\'in son hali: ', x)"
   ]
  },
  {
   "cell_type": "code",
   "execution_count": 74,
   "metadata": {},
   "outputs": [
    {
     "name": "stdout",
     "output_type": "stream",
     "text": [
      "0\n"
     ]
    }
   ],
   "source": [
    "x = 0\n",
    "\n",
    "def fonk():\n",
    "    print(x)\n",
    "\n",
    "fonk()"
   ]
  },
  {
   "cell_type": "code",
   "execution_count": 75,
   "metadata": {},
   "outputs": [
    {
     "name": "stdout",
     "output_type": "stream",
     "text": [
      "10\n",
      "0\n"
     ]
    }
   ],
   "source": [
    "x = 0\n",
    "\n",
    "def fonk():\n",
    "    x = 10\n",
    "    print(x)\n",
    "\n",
    "fonk()\n",
    "print(x)"
   ]
  },
  {
   "cell_type": "code",
   "execution_count": 76,
   "metadata": {},
   "outputs": [
    {
     "name": "stdout",
     "output_type": "stream",
     "text": [
      "{10}\n"
     ]
    }
   ],
   "source": [
    "x = set()\n",
    "\n",
    "def fonk():\n",
    "    x.add(10)\n",
    "    return x\n",
    "\n",
    "print(fonk())"
   ]
  },
  {
   "cell_type": "code",
   "execution_count": 77,
   "metadata": {},
   "outputs": [
    {
     "name": "stdout",
     "output_type": "stream",
     "text": [
      "Fırat Özgül\n"
     ]
    }
   ],
   "source": [
    "isim = 'Fırat'\n",
    "isim += ' Özgül'\n",
    "print(isim)"
   ]
  },
  {
   "cell_type": "code",
   "execution_count": 78,
   "metadata": {},
   "outputs": [
    {
     "ename": "UnboundLocalError",
     "evalue": "cannot access local variable 'isim' where it is not associated with a value",
     "output_type": "error",
     "traceback": [
      "\u001b[1;31m---------------------------------------------------------------------------\u001b[0m",
      "\u001b[1;31mUnboundLocalError\u001b[0m                         Traceback (most recent call last)",
      "Cell \u001b[1;32mIn [78], line 7\u001b[0m\n\u001b[0;32m      4\u001b[0m     isim \u001b[39m+\u001b[39m\u001b[39m=\u001b[39m \u001b[39m'\u001b[39m\u001b[39m Özgül\u001b[39m\u001b[39m'\u001b[39m\n\u001b[0;32m      5\u001b[0m     \u001b[39mreturn\u001b[39;00m isim\n\u001b[1;32m----> 7\u001b[0m \u001b[39mprint\u001b[39m(fonk())\n",
      "Cell \u001b[1;32mIn [78], line 4\u001b[0m, in \u001b[0;36mfonk\u001b[1;34m()\u001b[0m\n\u001b[0;32m      3\u001b[0m \u001b[39mdef\u001b[39;00m \u001b[39mfonk\u001b[39m():\n\u001b[1;32m----> 4\u001b[0m     isim \u001b[39m+\u001b[39m\u001b[39m=\u001b[39m \u001b[39m'\u001b[39m\u001b[39m Özgül\u001b[39m\u001b[39m'\u001b[39m\n\u001b[0;32m      5\u001b[0m     \u001b[39mreturn\u001b[39;00m isim\n",
      "\u001b[1;31mUnboundLocalError\u001b[0m: cannot access local variable 'isim' where it is not associated with a value"
     ]
    }
   ],
   "source": [
    "isim = 'Fırat'\n",
    "\n",
    "def fonk():\n",
    "    isim += ' Özgül'\n",
    "    return isim\n",
    "\n",
    "print(fonk())"
   ]
  },
  {
   "cell_type": "code",
   "execution_count": 79,
   "metadata": {},
   "outputs": [
    {
     "ename": "UnboundLocalError",
     "evalue": "cannot access local variable 'isim_listesi' where it is not associated with a value",
     "output_type": "error",
     "traceback": [
      "\u001b[1;31m---------------------------------------------------------------------------\u001b[0m",
      "\u001b[1;31mUnboundLocalError\u001b[0m                         Traceback (most recent call last)",
      "Cell \u001b[1;32mIn [79], line 7\u001b[0m\n\u001b[0;32m      4\u001b[0m     isim_listesi \u001b[39m+\u001b[39m\u001b[39m=\u001b[39m [\u001b[39m'\u001b[39m\u001b[39mFırat Özgül\u001b[39m\u001b[39m'\u001b[39m, \u001b[39m'\u001b[39m\u001b[39mOrçun Kunek\u001b[39m\u001b[39m'\u001b[39m]\n\u001b[0;32m      5\u001b[0m     \u001b[39mreturn\u001b[39;00m isim_listesi\n\u001b[1;32m----> 7\u001b[0m \u001b[39mprint\u001b[39m(fonk())\n",
      "Cell \u001b[1;32mIn [79], line 4\u001b[0m, in \u001b[0;36mfonk\u001b[1;34m()\u001b[0m\n\u001b[0;32m      3\u001b[0m \u001b[39mdef\u001b[39;00m \u001b[39mfonk\u001b[39m():\n\u001b[1;32m----> 4\u001b[0m     isim_listesi \u001b[39m+\u001b[39m\u001b[39m=\u001b[39m [\u001b[39m'\u001b[39m\u001b[39mFırat Özgül\u001b[39m\u001b[39m'\u001b[39m, \u001b[39m'\u001b[39m\u001b[39mOrçun Kunek\u001b[39m\u001b[39m'\u001b[39m]\n\u001b[0;32m      5\u001b[0m     \u001b[39mreturn\u001b[39;00m isim_listesi\n",
      "\u001b[1;31mUnboundLocalError\u001b[0m: cannot access local variable 'isim_listesi' where it is not associated with a value"
     ]
    }
   ],
   "source": [
    "isim_listesi = []\n",
    "\n",
    "def fonk():\n",
    "    isim_listesi += ['Fırat Özgül', 'Orçun Kunek']\n",
    "    return isim_listesi\n",
    "\n",
    "print(fonk())"
   ]
  },
  {
   "cell_type": "code",
   "execution_count": 80,
   "metadata": {},
   "outputs": [
    {
     "name": "stdout",
     "output_type": "stream",
     "text": [
      "['Fırat Özgül', 'Orçun Kunek']\n"
     ]
    }
   ],
   "source": [
    "isim_listesi = []\n",
    "\n",
    "def fonk():\n",
    "    isim_listesi.extend(['Fırat Özgül', 'Orçun Kunek'])\n",
    "    return isim_listesi\n",
    "\n",
    "print(fonk())"
   ]
  },
  {
   "cell_type": "code",
   "execution_count": 81,
   "metadata": {},
   "outputs": [
    {
     "ename": "UnboundLocalError",
     "evalue": "cannot access local variable 'isim_listesi' where it is not associated with a value",
     "output_type": "error",
     "traceback": [
      "\u001b[1;31m---------------------------------------------------------------------------\u001b[0m",
      "\u001b[1;31mUnboundLocalError\u001b[0m                         Traceback (most recent call last)",
      "Cell \u001b[1;32mIn [81], line 7\u001b[0m\n\u001b[0;32m      4\u001b[0m     isim_listesi \u001b[39m+\u001b[39m\u001b[39m=\u001b[39m [\u001b[39m'\u001b[39m\u001b[39mFırat Özgül\u001b[39m\u001b[39m'\u001b[39m, \u001b[39m'\u001b[39m\u001b[39mOrçun Kunek\u001b[39m\u001b[39m'\u001b[39m]\n\u001b[0;32m      5\u001b[0m     \u001b[39mreturn\u001b[39;00m isim_listesi\n\u001b[1;32m----> 7\u001b[0m \u001b[39mprint\u001b[39m(fonk())\n",
      "Cell \u001b[1;32mIn [81], line 4\u001b[0m, in \u001b[0;36mfonk\u001b[1;34m()\u001b[0m\n\u001b[0;32m      3\u001b[0m \u001b[39mdef\u001b[39;00m \u001b[39mfonk\u001b[39m():\n\u001b[1;32m----> 4\u001b[0m     isim_listesi \u001b[39m+\u001b[39m\u001b[39m=\u001b[39m [\u001b[39m'\u001b[39m\u001b[39mFırat Özgül\u001b[39m\u001b[39m'\u001b[39m, \u001b[39m'\u001b[39m\u001b[39mOrçun Kunek\u001b[39m\u001b[39m'\u001b[39m]\n\u001b[0;32m      5\u001b[0m     \u001b[39mreturn\u001b[39;00m isim_listesi\n",
      "\u001b[1;31mUnboundLocalError\u001b[0m: cannot access local variable 'isim_listesi' where it is not associated with a value"
     ]
    }
   ],
   "source": [
    "isim_listesi = []\n",
    "\n",
    "def fonk():\n",
    "    isim_listesi += ['Fırat Özgül', 'Orçun Kunek']\n",
    "    return isim_listesi\n",
    "\n",
    "print(fonk())"
   ]
  },
  {
   "cell_type": "code",
   "execution_count": 82,
   "metadata": {},
   "outputs": [
    {
     "ename": "UnboundLocalError",
     "evalue": "cannot access local variable 'isim' where it is not associated with a value",
     "output_type": "error",
     "traceback": [
      "\u001b[1;31m---------------------------------------------------------------------------\u001b[0m",
      "\u001b[1;31mUnboundLocalError\u001b[0m                         Traceback (most recent call last)",
      "Cell \u001b[1;32mIn [82], line 7\u001b[0m\n\u001b[0;32m      4\u001b[0m     isim \u001b[39m+\u001b[39m\u001b[39m=\u001b[39m \u001b[39m'\u001b[39m\u001b[39m Özgül\u001b[39m\u001b[39m'\u001b[39m\n\u001b[0;32m      5\u001b[0m     \u001b[39mreturn\u001b[39;00m isim\n\u001b[1;32m----> 7\u001b[0m \u001b[39mprint\u001b[39m(fonk())\n",
      "Cell \u001b[1;32mIn [82], line 4\u001b[0m, in \u001b[0;36mfonk\u001b[1;34m()\u001b[0m\n\u001b[0;32m      3\u001b[0m \u001b[39mdef\u001b[39;00m \u001b[39mfonk\u001b[39m():\n\u001b[1;32m----> 4\u001b[0m     isim \u001b[39m+\u001b[39m\u001b[39m=\u001b[39m \u001b[39m'\u001b[39m\u001b[39m Özgül\u001b[39m\u001b[39m'\u001b[39m\n\u001b[0;32m      5\u001b[0m     \u001b[39mreturn\u001b[39;00m isim\n",
      "\u001b[1;31mUnboundLocalError\u001b[0m: cannot access local variable 'isim' where it is not associated with a value"
     ]
    }
   ],
   "source": [
    "isim = 'Fırat'\n",
    "\n",
    "def fonk():\n",
    "    isim += ' Özgül'\n",
    "    return isim\n",
    "\n",
    "print(fonk())"
   ]
  },
  {
   "cell_type": "code",
   "execution_count": 83,
   "metadata": {},
   "outputs": [
    {
     "name": "stdout",
     "output_type": "stream",
     "text": [
      "Fırat Özgül\n"
     ]
    }
   ],
   "source": [
    "isim = 'Fırat'\n",
    "\n",
    "def fonk():\n",
    "    global isim\n",
    "    isim += ' Özgül'\n",
    "    return isim\n",
    "\n",
    "print(fonk())"
   ]
  },
  {
   "cell_type": "code",
   "execution_count": null,
   "metadata": {},
   "outputs": [],
   "source": []
  }
 ],
 "metadata": {
  "kernelspec": {
   "display_name": "Python 3.11.0 64-bit",
   "language": "python",
   "name": "python3"
  },
  "language_info": {
   "codemirror_mode": {
    "name": "ipython",
    "version": 3
   },
   "file_extension": ".py",
   "mimetype": "text/x-python",
   "name": "python",
   "nbconvert_exporter": "python",
   "pygments_lexer": "ipython3",
   "version": "3.11.0"
  },
  "orig_nbformat": 4,
  "vscode": {
   "interpreter": {
    "hash": "7c542dbbc07e6010b76b61de8a453dc04d29cd1fae7fbaa29851ecbad9aefb83"
   }
  }
 },
 "nbformat": 4,
 "nbformat_minor": 2
}
