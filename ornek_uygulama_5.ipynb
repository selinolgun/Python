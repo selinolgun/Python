{
 "cells": [
  {
   "cell_type": "code",
   "execution_count": 2,
   "metadata": {},
   "outputs": [
    {
     "name": "stdout",
     "output_type": "stream",
     "text": [
      "Gürsel\n",
      "\n",
      "Sami\n",
      "\n",
      "Tülay\n",
      "\n",
      "Derya\n",
      "\n",
      "Tezcan\n",
      "\n",
      "Özkan\n",
      "\n",
      "Özcan\n",
      "\n",
      "Dilek\n"
     ]
    }
   ],
   "source": [
    "d1 = open(\"isimler1.txt\", encoding=\"utf-8\") # dosyayı açıyoruz\n",
    "d1_satırlar = d1.readlines() # satırları okuyoruz\n",
    "\n",
    "d2 = open(\"isimler2.txt\", encoding=\"utf-8\")\n",
    "d2_satırlar = d2.readlines()\n",
    "\n",
    "for i in d2_satırlar:\n",
    "    if not i in d1_satırlar:\n",
    "        print(i)\n",
    "\n",
    "d1.close()\n",
    "d2.close()"
   ]
  },
  {
   "cell_type": "code",
   "execution_count": 3,
   "metadata": {},
   "outputs": [
    {
     "name": "stdout",
     "output_type": "stream",
     "text": [
      "Mehmet\n",
      "\n",
      "Sevgi\n",
      "\n",
      "Deniz\n",
      "\n",
      "Ege\n",
      "\n",
      "Efe\n",
      "\n",
      "Ferhat\n",
      "\n",
      "Fırat\n",
      "\n",
      "Hazan\n",
      "\n",
      "Mahmut\n",
      "\n",
      "Cemal\n",
      "\n",
      "Özhan\n",
      "\n"
     ]
    }
   ],
   "source": [
    "d1 = open(\"isimler1.txt\", encoding=\"utf-8\")\n",
    "d1_satırlar = d1.readlines()\n",
    "\n",
    "d2 = open(\"isimler2.txt\", encoding=\"utf-8\")\n",
    "d2_satırlar = d2.readlines()\n",
    "\n",
    "for i in d2_satırlar:\n",
    "    if i in d1_satırlar:\n",
    "        print(i)\n",
    "\n",
    "d1.close()\n",
    "d2.close()"
   ]
  },
  {
   "cell_type": "code",
   "execution_count": null,
   "metadata": {},
   "outputs": [],
   "source": []
  }
 ],
 "metadata": {
  "kernelspec": {
   "display_name": "Python 3.11.0 64-bit",
   "language": "python",
   "name": "python3"
  },
  "language_info": {
   "codemirror_mode": {
    "name": "ipython",
    "version": 3
   },
   "file_extension": ".py",
   "mimetype": "text/x-python",
   "name": "python",
   "nbconvert_exporter": "python",
   "pygments_lexer": "ipython3",
   "version": "3.11.0"
  },
  "orig_nbformat": 4,
  "vscode": {
   "interpreter": {
    "hash": "7c542dbbc07e6010b76b61de8a453dc04d29cd1fae7fbaa29851ecbad9aefb83"
   }
  }
 },
 "nbformat": 4,
 "nbformat_minor": 2
}
