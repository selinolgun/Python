{
 "cells": [
  {
   "cell_type": "code",
   "execution_count": 3,
   "metadata": {},
   "outputs": [
    {
     "name": "stdout",
     "output_type": "stream",
     "text": [
      "Sonay...\n"
     ]
    }
   ],
   "source": [
    "isim = input(\"isminiz: \")\n",
    "\n",
    "if len(isim) <= 5:\n",
    "    print(isim[:5])\n",
    "else:\n",
    "    print(isim[:5]+\"...\")"
   ]
  },
  {
   "cell_type": "code",
   "execution_count": 4,
   "metadata": {},
   "outputs": [
    {
     "name": "stdout",
     "output_type": "stream",
     "text": [
      "Girdiğiniz parola (b5tY6) kurallara uygun bir paroladır!\n"
     ]
    }
   ],
   "source": [
    "parola = input(\"parola: \")\n",
    "\n",
    "print(\"Girdiğiniz parola (\" + parola + \") kurallara uygun bir paroladır!\")"
   ]
  },
  {
   "cell_type": "code",
   "execution_count": 5,
   "metadata": {},
   "outputs": [
    {
     "name": "stdout",
     "output_type": "stream",
     "text": [
      "Girdiğiniz parola (123456) kurallara uygun bir paroladır!\n"
     ]
    }
   ],
   "source": [
    "# % İşaretli Biçimlendirme (Eski Yöntem)\n",
    "\n",
    "parola = input(\"parola: \")\n",
    "\n",
    "print(\"Girdiğiniz parola (%s) kurallara uygun bir paroladır!\" %parola)"
   ]
  },
  {
   "cell_type": "code",
   "execution_count": 6,
   "metadata": {},
   "outputs": [
    {
     "name": "stdout",
     "output_type": "stream",
     "text": [
      "Python ve Django iyi bir ikilidir!\n"
     ]
    }
   ],
   "source": [
    "print(\"%s ve %s iyi bir ikilidir!\" %(\"Python\", \"Django\"))"
   ]
  },
  {
   "cell_type": "code",
   "execution_count": 7,
   "metadata": {},
   "outputs": [
    {
     "ename": "TypeError",
     "evalue": "not enough arguments for format string",
     "output_type": "error",
     "traceback": [
      "\u001b[1;31m---------------------------------------------------------------------------\u001b[0m",
      "\u001b[1;31mTypeError\u001b[0m                                 Traceback (most recent call last)",
      "Cell \u001b[1;32mIn [7], line 1\u001b[0m\n\u001b[1;32m----> 1\u001b[0m \u001b[39mprint\u001b[39m(\u001b[39m\"\u001b[39;49m\u001b[39mBenim adım \u001b[39;49m\u001b[39m%s\u001b[39;49;00m\u001b[39m, soyadım \u001b[39;49m\u001b[39m%s\u001b[39;49;00m\u001b[39m\"\u001b[39;49m \u001b[39m%\u001b[39;49m\u001b[39m\"\u001b[39;49m\u001b[39mistihza\u001b[39;49m\u001b[39m\"\u001b[39;49m)\n",
      "\u001b[1;31mTypeError\u001b[0m: not enough arguments for format string"
     ]
    }
   ],
   "source": [
    "print(\"Benim adım %s, soyadım %s\" %\"istihza\")"
   ]
  },
  {
   "cell_type": "code",
   "execution_count": 8,
   "metadata": {},
   "outputs": [
    {
     "name": "stdout",
     "output_type": "stream",
     "text": [
      "istihza adlı kişinin mekanı www.istihza.com adresidir.\n"
     ]
    }
   ],
   "source": [
    "isim = \"istihza\"\n",
    "print(\"%s adlı kişinin mekanı www.%s.com adresidir.\" %(isim, isim))"
   ]
  },
  {
   "cell_type": "code",
   "execution_count": 9,
   "metadata": {},
   "outputs": [
    {
     "name": "stdout",
     "output_type": "stream",
     "text": [
      "1. karakter: 'i'\n",
      "2. karakter: 's'\n",
      "3. karakter: 't'\n",
      "4. karakter: 'i'\n",
      "5. karakter: 'h'\n",
      "6. karakter: 'z'\n",
      "7. karakter: 'a'\n"
     ]
    }
   ],
   "source": [
    "kardiz = \"istihza\"\n",
    "\n",
    "for sıra, karakter in enumerate(kardiz, 1):\n",
    "    print(\"%s. karakter: '%s'\" %(sıra, karakter))"
   ]
  },
  {
   "cell_type": "code",
   "execution_count": 10,
   "metadata": {},
   "outputs": [
    {
     "name": "stdout",
     "output_type": "stream",
     "text": [
      "\n",
      "    (1) topla\n",
      "    (2) çıkar\n",
      "    (3) çarp\n",
      "    (4) böl\n",
      "    (5) karesini hesapla\n",
      "    (6) karekök hesapla\n",
      "    \n",
      "1 + 2 = 3\n",
      "çıkılıyor...\n"
     ]
    }
   ],
   "source": [
    "giriş = \"\"\"\n",
    "    (1) topla\n",
    "    (2) çıkar\n",
    "    (3) çarp\n",
    "    (4) böl\n",
    "    (5) karesini hesapla\n",
    "    (6) karekök hesapla\n",
    "    \"\"\"\n",
    "print(giriş)\n",
    "\n",
    "a = 1\n",
    "\n",
    "while a == 1:\n",
    "    soru = input(\"Yapmak istediğiniz işlemin numarasını girin (Çıkmak için q): \")\n",
    "\n",
    "    if soru == \"q\":\n",
    "        print(\"çıkılıyor...\")\n",
    "        a = 0\n",
    "\n",
    "    elif soru == \"1\":\n",
    "        sayı1 = int(input(\"Toplama işlemi için ilk sayıyı girin: \"))\n",
    "        sayı2 = int(input(\"Toplama işlemi için ikinci sayıyı girin: \"))\n",
    "\n",
    "        #İlk %s'ye karşılık gelen değer   : sayı1\n",
    "        #İkinci %s'ye karşılık gelen değer: sayı2\n",
    "        #Üçüncü %s'ye karşılık gelen değer: sayı1 + sayı2\n",
    "        print(\"%s + %s = %s\" %(sayı1, sayı2, sayı1 + sayı2))\n",
    "\n",
    "    elif soru == \"2\":\n",
    "        sayı3 = int(input(\"Çıkarma işlemi için ilk sayıyı girin: \"))\n",
    "        sayı4 = int(input(\"Çıkarma işlemi için ikinci sayıyı girin: \"))\n",
    "        print(\"%s - %s = %s\" %(sayı3, sayı4, sayı3 - sayı4))\n",
    "\n",
    "    elif soru == \"3\":\n",
    "        sayı5 = int(input(\"Çarpma işlemi için ilk sayıyı girin: \"))\n",
    "        sayı6 = int(input(\"Çarpma işlemi için ikinci sayıyı girin: \"))\n",
    "        print(\"%s x %s = %s\" %(sayı5, sayı6, sayı5 * sayı6))\n",
    "\n",
    "    elif soru == \"4\":\n",
    "        sayı7 = int(input(\"Bölme işlemi için ilk sayıyı girin: \"))\n",
    "        sayı8 = int(input(\"Bölme işlemi için ikinci sayıyı girin: \"))\n",
    "        print(\"%s / %s = %s\" %(sayı7, sayı8, sayı7 / sayı8))\n",
    "\n",
    "    elif soru == \"5\":\n",
    "        sayı9 = int(input(\"Karesini hesaplamak istediğiniz sayıyı girin: \"))\n",
    "\n",
    "        #İlk %s'ye karşılık gelen değer   : sayı9\n",
    "        #İkinci %s'ye karşılık gelen değer: sayı9 ** 2\n",
    "        print(\"%s sayısının karesi = %s\" %(sayı9, sayı9 ** 2))\n",
    "\n",
    "    elif soru == \"6\":\n",
    "        sayı10 = int(input(\"Karekökünü hesaplamak istediğiniz sayıyı girin: \"))\n",
    "        print(\"%s sayısının karekökü = %s\" %(sayı10, sayı10 ** 0.5))\n",
    "\n",
    "    else:\n",
    "        print(\"Yanlış giriş.\")\n",
    "        print(\"Aşağıdaki seçeneklerden birini giriniz:\", giriş)"
   ]
  },
  {
   "cell_type": "code",
   "execution_count": 11,
   "metadata": {},
   "outputs": [
    {
     "name": "stdout",
     "output_type": "stream",
     "text": [
      "%0\n",
      "%1\n",
      "%2\n",
      "%3\n",
      "%4\n",
      "%5\n",
      "%6\n",
      "%7\n",
      "%8\n",
      "%9\n",
      "%10\n",
      "%11\n",
      "%12\n",
      "%13\n",
      "%14\n",
      "%15\n",
      "%16\n",
      "%17\n",
      "%18\n",
      "%19\n",
      "%20\n",
      "%21\n",
      "%22\n",
      "%23\n",
      "%24\n",
      "%25\n",
      "%26\n",
      "%27\n",
      "%28\n",
      "%29\n",
      "%30\n",
      "%31\n",
      "%32\n",
      "%33\n",
      "%34\n",
      "%35\n",
      "%36\n",
      "%37\n",
      "%38\n",
      "%39\n",
      "%40\n",
      "%41\n",
      "%42\n",
      "%43\n",
      "%44\n",
      "%45\n",
      "%46\n",
      "%47\n",
      "%48\n",
      "%49\n",
      "%50\n",
      "%51\n",
      "%52\n",
      "%53\n",
      "%54\n",
      "%55\n",
      "%56\n",
      "%57\n",
      "%58\n",
      "%59\n",
      "%60\n",
      "%61\n",
      "%62\n",
      "%63\n",
      "%64\n",
      "%65\n",
      "%66\n",
      "%67\n",
      "%68\n",
      "%69\n",
      "%70\n",
      "%71\n",
      "%72\n",
      "%73\n",
      "%74\n",
      "%75\n",
      "%76\n",
      "%77\n",
      "%78\n",
      "%79\n",
      "%80\n",
      "%81\n",
      "%82\n",
      "%83\n",
      "%84\n",
      "%85\n",
      "%86\n",
      "%87\n",
      "%88\n",
      "%89\n",
      "%90\n",
      "%91\n",
      "%92\n",
      "%93\n",
      "%94\n",
      "%95\n",
      "%96\n",
      "%97\n",
      "%98\n",
      "%99\n"
     ]
    }
   ],
   "source": [
    "for i in range(100):\n",
    "    print(\"%%%s\" %i)"
   ]
  },
  {
   "cell_type": "code",
   "execution_count": 12,
   "metadata": {},
   "outputs": [
    {
     "name": "stdout",
     "output_type": "stream",
     "text": [
      "Karakter dizilerinin toplam 81 adet metodu vardır\n"
     ]
    }
   ],
   "source": [
    "print(\"Karakter dizilerinin toplam %s adet metodu vardır\" %len(dir(str)))"
   ]
  },
  {
   "cell_type": "code",
   "execution_count": 13,
   "metadata": {},
   "outputs": [
    {
     "name": "stdout",
     "output_type": "stream",
     "text": [
      "        __add__\n",
      "      __class__\n",
      "   __contains__\n",
      "    __delattr__\n",
      "        __dir__\n",
      "        __doc__\n",
      "         __eq__\n",
      "     __format__\n",
      "         __ge__\n",
      "__getattribute__\n",
      "    __getitem__\n",
      " __getnewargs__\n",
      "   __getstate__\n",
      "         __gt__\n",
      "       __hash__\n",
      "       __init__\n",
      "__init_subclass__\n",
      "       __iter__\n",
      "         __le__\n",
      "        __len__\n",
      "         __lt__\n",
      "        __mod__\n",
      "        __mul__\n",
      "         __ne__\n",
      "        __new__\n",
      "     __reduce__\n",
      "  __reduce_ex__\n",
      "       __repr__\n",
      "       __rmod__\n",
      "       __rmul__\n",
      "    __setattr__\n",
      "     __sizeof__\n",
      "        __str__\n",
      "__subclasshook__\n",
      "     capitalize\n",
      "       casefold\n",
      "         center\n",
      "          count\n",
      "         encode\n",
      "       endswith\n",
      "     expandtabs\n",
      "           find\n",
      "         format\n",
      "     format_map\n",
      "          index\n",
      "        isalnum\n",
      "        isalpha\n",
      "        isascii\n",
      "      isdecimal\n",
      "        isdigit\n",
      "   isidentifier\n",
      "        islower\n",
      "      isnumeric\n",
      "    isprintable\n",
      "        isspace\n",
      "        istitle\n",
      "        isupper\n",
      "           join\n",
      "          ljust\n",
      "          lower\n",
      "         lstrip\n",
      "      maketrans\n",
      "      partition\n",
      "   removeprefix\n",
      "   removesuffix\n",
      "        replace\n",
      "          rfind\n",
      "         rindex\n",
      "          rjust\n",
      "     rpartition\n",
      "         rsplit\n",
      "         rstrip\n",
      "          split\n",
      "     splitlines\n",
      "     startswith\n",
      "          strip\n",
      "       swapcase\n",
      "          title\n",
      "      translate\n",
      "          upper\n",
      "          zfill\n"
     ]
    }
   ],
   "source": [
    "for i in dir(str):\n",
    "    print(\"%15s\" %i)"
   ]
  },
  {
   "cell_type": "code",
   "execution_count": 14,
   "metadata": {},
   "outputs": [
    {
     "name": "stdout",
     "output_type": "stream",
     "text": [
      "|        istihza|\n"
     ]
    }
   ],
   "source": [
    "print(\"|%15s|\" %\"istihza\")"
   ]
  },
  {
   "cell_type": "code",
   "execution_count": 15,
   "metadata": {},
   "outputs": [
    {
     "name": "stdout",
     "output_type": "stream",
     "text": [
      "        istihza\n"
     ]
    }
   ],
   "source": [
    "print(\"istihza\".rjust(15))"
   ]
  },
  {
   "cell_type": "code",
   "execution_count": 16,
   "metadata": {},
   "outputs": [
    {
     "name": "stdout",
     "output_type": "stream",
     "text": [
      "|        istihza|\n"
     ]
    }
   ],
   "source": [
    "print(\"|%s|\" %\"istihza\".rjust(15))"
   ]
  },
  {
   "cell_type": "code",
   "execution_count": 17,
   "metadata": {},
   "outputs": [
    {
     "name": "stdout",
     "output_type": "stream",
     "text": [
      "|istihza        |\n"
     ]
    }
   ],
   "source": [
    "print(\"|%-15s|\" %\"istihza\")"
   ]
  },
  {
   "cell_type": "code",
   "execution_count": 18,
   "metadata": {},
   "outputs": [
    {
     "name": "stdout",
     "output_type": "stream",
     "text": [
      "|istihza        |\n"
     ]
    }
   ],
   "source": [
    "print(\"|%s|\" %\"istihza\".ljust(15))"
   ]
  },
  {
   "cell_type": "code",
   "execution_count": 19,
   "metadata": {},
   "outputs": [
    {
     "name": "stdout",
     "output_type": "stream",
     "text": [
      "\n",
      "<html>\n",
      "    <head>\n",
      "        <title> Python Programlama Dili </title>\n",
      "    </head>\n",
      "\n",
      "    <body>\n",
      "        <h1> Python Programlama Dili </h1>\n",
      "        <p>Web sitemize hoşgeldiniz! Konumuz: Python Programlama Dili</p>\n",
      "    </body>\n",
      "</html>\n",
      "\n"
     ]
    }
   ],
   "source": [
    "sayfa = \"\"\"\n",
    "<html>\n",
    "    <head>\n",
    "        <title> %s </title>\n",
    "    </head>\n",
    "\n",
    "    <body>\n",
    "        <h1> %s </h1>\n",
    "        <p>Web sitemize hoşgeldiniz! Konumuz: %s</p>\n",
    "    </body>\n",
    "</html>\n",
    "\"\"\"\n",
    "\n",
    "print(sayfa % (\"Python Programlama Dili\",\n",
    "               \"Python Programlama Dili\",\n",
    "               \"Python Programlama Dili\"))"
   ]
  },
  {
   "cell_type": "code",
   "execution_count": 20,
   "metadata": {},
   "outputs": [
    {
     "name": "stdout",
     "output_type": "stream",
     "text": [
      "\n",
      "<html>\n",
      "    <head>\n",
      "        <title> Python Programlama Dili </title>\n",
      "    </head>\n",
      "\n",
      "    <body>\n",
      "        <h1> Python Programlama Dili </h1>\n",
      "        <p>Web sitemize hoşgeldiniz! Konumuz: Python Programlama Dili</p>\n",
      "    </body>\n",
      "</html>\n",
      "\n"
     ]
    }
   ],
   "source": [
    "sayfa = \"\"\"\n",
    "<html>\n",
    "    <head>\n",
    "        <title> %(dil)s </title>\n",
    "    </head>\n",
    "\n",
    "    <body>\n",
    "        <h1> %(dil)s </h1>\n",
    "        <p>Web sitemize hoşgeldiniz! Konumuz: %(dil)s</p>\n",
    "    </body>\n",
    "</html>\n",
    "\"\"\"\n",
    "\n",
    "print(sayfa % {\"dil\": \"Python Programlama Dili\"})"
   ]
  },
  {
   "cell_type": "code",
   "execution_count": 21,
   "metadata": {},
   "outputs": [
    {
     "name": "stdout",
     "output_type": "stream",
     "text": [
      "depoda 25 kilo elma kaldı\n"
     ]
    }
   ],
   "source": [
    "print(\"depoda %(miktar)s kilo %(ürün)s kaldı\" %{\"miktar\": 25,\n",
    "                                                \"ürün\": \"elma\"})"
   ]
  },
  {
   "cell_type": "code",
   "execution_count": 22,
   "metadata": {},
   "outputs": [
    {
     "name": "stdout",
     "output_type": "stream",
     "text": [
      "Benim adım istihza\n"
     ]
    }
   ],
   "source": [
    "# Biçimlendirme Karakterleri\n",
    "\n",
    "# s\n",
    "\n",
    "# stringleri temsil eder \n",
    "\n",
    "print(\"Benim adım %s\" %\"istihza\")"
   ]
  },
  {
   "cell_type": "code",
   "execution_count": 23,
   "metadata": {},
   "outputs": [
    {
     "name": "stdout",
     "output_type": "stream",
     "text": [
      "Şubat ayı bu yıl 28 gün çekiyor\n"
     ]
    }
   ],
   "source": [
    "# d\n",
    "\n",
    "#  tam sayıları temsil eder \n",
    "\n",
    "print(\"Şubat ayı bu yıl %d gün çekiyor\" %28)"
   ]
  },
  {
   "cell_type": "code",
   "execution_count": 24,
   "metadata": {},
   "outputs": [
    {
     "name": "stdout",
     "output_type": "stream",
     "text": [
      "Şubat ayı bu yıl 28 gün çekiyor\n"
     ]
    }
   ],
   "source": [
    "print(\"Şubat ayı bu yıl %s gün çekiyor\" %28)\n",
    "\n",
    "# hata almadık çünkü sayılar stringe çevrilebilirler"
   ]
  },
  {
   "cell_type": "code",
   "execution_count": 25,
   "metadata": {},
   "outputs": [
    {
     "ename": "TypeError",
     "evalue": "%d format: a real number is required, not str",
     "output_type": "error",
     "traceback": [
      "\u001b[1;31m---------------------------------------------------------------------------\u001b[0m",
      "\u001b[1;31mTypeError\u001b[0m                                 Traceback (most recent call last)",
      "Cell \u001b[1;32mIn [25], line 1\u001b[0m\n\u001b[1;32m----> 1\u001b[0m \u001b[39mprint\u001b[39m(\u001b[39m\"\u001b[39;49m\u001b[39mŞubat ayı bu yıl \u001b[39;49m\u001b[39m%d\u001b[39;49;00m\u001b[39m gün çekiyor\u001b[39;49m\u001b[39m\"\u001b[39;49m \u001b[39m%\u001b[39;49m\u001b[39m\"\u001b[39;49m\u001b[39myirmi sekiz\u001b[39;49m\u001b[39m\"\u001b[39;49m)\n",
      "\u001b[1;31mTypeError\u001b[0m: %d format: a real number is required, not str"
     ]
    }
   ],
   "source": [
    "print(\"Şubat ayı bu yıl %d gün çekiyor\" %\"yirmi sekiz\")"
   ]
  },
  {
   "cell_type": "code",
   "execution_count": 26,
   "metadata": {},
   "outputs": [
    {
     "name": "stdout",
     "output_type": "stream",
     "text": [
      "13\n"
     ]
    }
   ],
   "source": [
    "print(\"%d\" %13.5)"
   ]
  },
  {
   "cell_type": "code",
   "execution_count": 27,
   "metadata": {},
   "outputs": [
    {
     "name": "stdout",
     "output_type": "stream",
     "text": [
      "12\n"
     ]
    }
   ],
   "source": [
    "sayı = input(\"sayı: \")\n",
    "\n",
    "print(\"%d\" %float(sayı))"
   ]
  },
  {
   "cell_type": "code",
   "execution_count": 28,
   "metadata": {},
   "outputs": [
    {
     "name": "stdout",
     "output_type": "stream",
     "text": [
      "|     23|\n"
     ]
    }
   ],
   "source": [
    "print(\"|%7d|\" %23)"
   ]
  },
  {
   "cell_type": "code",
   "execution_count": 29,
   "metadata": {},
   "outputs": [
    {
     "name": "stdout",
     "output_type": "stream",
     "text": [
      "|23     |\n"
     ]
    }
   ],
   "source": [
    "print(\"|%-7d|\" %23)"
   ]
  },
  {
   "cell_type": "code",
   "execution_count": 30,
   "metadata": {},
   "outputs": [
    {
     "name": "stdout",
     "output_type": "stream",
     "text": [
      "23\n"
     ]
    }
   ],
   "source": [
    "print(\"%(sayı)d\" % {\"sayı\": 23})"
   ]
  },
  {
   "cell_type": "code",
   "execution_count": 31,
   "metadata": {},
   "outputs": [
    {
     "name": "stdout",
     "output_type": "stream",
     "text": [
      "00023\n"
     ]
    }
   ],
   "source": [
    "print(\"%05d\" %23)"
   ]
  },
  {
   "cell_type": "code",
   "execution_count": 32,
   "metadata": {},
   "outputs": [
    {
     "name": "stdout",
     "output_type": "stream",
     "text": [
      "00023\n"
     ]
    }
   ],
   "source": [
    "print(\"%.5d\" %23)"
   ]
  },
  {
   "cell_type": "code",
   "execution_count": 33,
   "metadata": {},
   "outputs": [
    {
     "name": "stdout",
     "output_type": "stream",
     "text": [
      "     00023\n"
     ]
    }
   ],
   "source": [
    "print(\"%10.5d\" %23)"
   ]
  },
  {
   "cell_type": "code",
   "execution_count": 34,
   "metadata": {},
   "outputs": [
    {
     "name": "stdout",
     "output_type": "stream",
     "text": [
      "0000000023\n"
     ]
    }
   ],
   "source": [
    "print(\"%010.d\" %23)"
   ]
  },
  {
   "cell_type": "code",
   "execution_count": 35,
   "metadata": {},
   "outputs": [
    {
     "data": {
      "text/plain": [
       "'0000000023'"
      ]
     },
     "execution_count": 35,
     "metadata": {},
     "output_type": "execute_result"
    }
   ],
   "source": [
    "\"23\".zfill(10)"
   ]
  },
  {
   "cell_type": "code",
   "execution_count": 36,
   "metadata": {},
   "outputs": [
    {
     "data": {
      "text/plain": [
       "'10'"
      ]
     },
     "execution_count": 36,
     "metadata": {},
     "output_type": "execute_result"
    }
   ],
   "source": [
    "\"%d\" %10"
   ]
  },
  {
   "cell_type": "code",
   "execution_count": 37,
   "metadata": {},
   "outputs": [
    {
     "data": {
      "text/plain": [
       "'   10'"
      ]
     },
     "execution_count": 37,
     "metadata": {},
     "output_type": "execute_result"
    }
   ],
   "source": [
    "\"%5d\" %10"
   ]
  },
  {
   "cell_type": "code",
   "execution_count": 38,
   "metadata": {},
   "outputs": [
    {
     "data": {
      "text/plain": [
       "'10   '"
      ]
     },
     "execution_count": 38,
     "metadata": {},
     "output_type": "execute_result"
    }
   ],
   "source": [
    "\"%-5d\" %10"
   ]
  },
  {
   "cell_type": "code",
   "execution_count": 39,
   "metadata": {},
   "outputs": [
    {
     "data": {
      "text/plain": [
       "'00010'"
      ]
     },
     "execution_count": 39,
     "metadata": {},
     "output_type": "execute_result"
    }
   ],
   "source": [
    "\"%05d\" %10"
   ]
  },
  {
   "cell_type": "code",
   "execution_count": 40,
   "metadata": {},
   "outputs": [
    {
     "data": {
      "text/plain": [
       "'00010'"
      ]
     },
     "execution_count": 40,
     "metadata": {},
     "output_type": "execute_result"
    }
   ],
   "source": [
    "\"%.5d\" %10"
   ]
  },
  {
   "cell_type": "code",
   "execution_count": 41,
   "metadata": {},
   "outputs": [
    {
     "data": {
      "text/plain": [
       "'     00010'"
      ]
     },
     "execution_count": 41,
     "metadata": {},
     "output_type": "execute_result"
    }
   ],
   "source": [
    "\"%10.5d\" %10\n"
   ]
  },
  {
   "cell_type": "code",
   "execution_count": 42,
   "metadata": {},
   "outputs": [
    {
     "data": {
      "text/plain": [
       "'00010     '"
      ]
     },
     "execution_count": 42,
     "metadata": {},
     "output_type": "execute_result"
    }
   ],
   "source": [
    "\"%-10.5d\" %10"
   ]
  },
  {
   "cell_type": "code",
   "execution_count": 43,
   "metadata": {},
   "outputs": [],
   "source": [
    "# i\n",
    "\n",
    "# d'den hiçbir farkı yoktur integer demektir"
   ]
  },
  {
   "cell_type": "code",
   "execution_count": 44,
   "metadata": {},
   "outputs": [
    {
     "name": "stdout",
     "output_type": "stream",
     "text": [
      "10 sayısının sekizli düzendeki karşılığı 12 sayısıdır.\n"
     ]
    }
   ],
   "source": [
    "# o\n",
    "\n",
    "# 8li düzen demektir \n",
    "\n",
    "print(\"%i sayısının sekizli düzendeki karşılığı %o sayısıdır.\" %(10, 10))"
   ]
  },
  {
   "cell_type": "code",
   "execution_count": 45,
   "metadata": {},
   "outputs": [
    {
     "name": "stdout",
     "output_type": "stream",
     "text": [
      "20 sayısının onaltılı düzendeki karşılığı 14 sayısıdır.\n"
     ]
    }
   ],
   "source": [
    "# x\n",
    "\n",
    "# 16lı düzen demektir\n",
    "\n",
    "print(\"%i sayısının onaltılı düzendeki karşılığı %x sayısıdır.\" %(20, 20))"
   ]
  },
  {
   "cell_type": "code",
   "execution_count": 46,
   "metadata": {},
   "outputs": [
    {
     "name": "stdout",
     "output_type": "stream",
     "text": [
      "10 sayısının onaltılı düzendeki karşılığı a sayısıdır.\n"
     ]
    }
   ],
   "source": [
    "print(\"%i sayısının onaltılı düzendeki karşılığı %x sayısıdır.\" %(10, 10))"
   ]
  },
  {
   "cell_type": "code",
   "execution_count": 47,
   "metadata": {},
   "outputs": [
    {
     "name": "stdout",
     "output_type": "stream",
     "text": [
      "10 sayısının onaltılı düzendeki karşılığı A sayısıdır.\n"
     ]
    }
   ],
   "source": [
    "# X\n",
    "\n",
    "# 16lı düzen demektir ancak sayıları büyük harfle gösterir\n",
    "\n",
    "print(\"%i sayısının onaltılı düzendeki karşılığı %X sayısıdır.\" %(10, 10))"
   ]
  },
  {
   "cell_type": "code",
   "execution_count": 48,
   "metadata": {},
   "outputs": [
    {
     "name": "stdout",
     "output_type": "stream",
     "text": [
      "Dolar 1.471000 TL olmuş...\n"
     ]
    }
   ],
   "source": [
    "# f\n",
    "\n",
    "# float sayılar içindir\n",
    "\n",
    "print(\"Dolar %f TL olmuş...\" %1.4710)"
   ]
  },
  {
   "cell_type": "code",
   "execution_count": 49,
   "metadata": {},
   "outputs": [
    {
     "name": "stdout",
     "output_type": "stream",
     "text": [
      "10.000000\n"
     ]
    }
   ],
   "source": [
    "print(\"%f\" %10)\n",
    "\n",
    "# eğer belirtmezsek noktadan sonra 6 hane atama yapar"
   ]
  },
  {
   "cell_type": "code",
   "execution_count": 50,
   "metadata": {},
   "outputs": [
    {
     "name": "stdout",
     "output_type": "stream",
     "text": [
      "23.600000\n"
     ]
    }
   ],
   "source": [
    "print(\"%f\"%23.6)"
   ]
  },
  {
   "cell_type": "code",
   "execution_count": 51,
   "metadata": {},
   "outputs": [
    {
     "name": "stdout",
     "output_type": "stream",
     "text": [
      "10.00\n"
     ]
    }
   ],
   "source": [
    "print(\"%.2f\" % 10)"
   ]
  },
  {
   "cell_type": "code",
   "execution_count": 52,
   "metadata": {},
   "outputs": [
    {
     "name": "stdout",
     "output_type": "stream",
     "text": [
      "a\n"
     ]
    }
   ],
   "source": [
    "# c\n",
    "\n",
    "# sadece tek bir karakteri temsil eder\n",
    "\n",
    "print(\"%c\" %\"a\")"
   ]
  },
  {
   "cell_type": "code",
   "execution_count": 53,
   "metadata": {},
   "outputs": [
    {
     "ename": "TypeError",
     "evalue": "%c requires int or char",
     "output_type": "error",
     "traceback": [
      "\u001b[1;31m---------------------------------------------------------------------------\u001b[0m",
      "\u001b[1;31mTypeError\u001b[0m                                 Traceback (most recent call last)",
      "Cell \u001b[1;32mIn [53], line 1\u001b[0m\n\u001b[1;32m----> 1\u001b[0m \u001b[39mprint\u001b[39m(\u001b[39m\"\u001b[39;49m\u001b[39m%c\u001b[39;49;00m\u001b[39m\"\u001b[39;49m \u001b[39m%\u001b[39;49m\u001b[39m\"\u001b[39;49m\u001b[39mistihza\u001b[39;49m\u001b[39m\"\u001b[39;49m)\n",
      "\u001b[1;31mTypeError\u001b[0m: %c requires int or char"
     ]
    }
   ],
   "source": [
    "print(\"%c\" %\"istihza\")"
   ]
  },
  {
   "cell_type": "code",
   "execution_count": 54,
   "metadata": {},
   "outputs": [
    {
     "name": "stdout",
     "output_type": "stream",
     "text": [
      "A\n"
     ]
    }
   ],
   "source": [
    "print(\"%c\" %65)\n",
    "\n",
    "# ASCII tablosundaki sayılara göre harfleri de verebilir"
   ]
  },
  {
   "cell_type": "code",
   "execution_count": 55,
   "metadata": {},
   "outputs": [
    {
     "name": "stdout",
     "output_type": "stream",
     "text": [
      "0 ==> \u0000\n",
      "1 ==> \u0001\n",
      "2 ==> \u0002\n",
      "3 ==> \u0003\n",
      "4 ==> \u0004\n",
      "5 ==> \u0005\n",
      "6 ==> \u0006\n",
      "7 ==> \u0007\n",
      "8 ==>\n",
      "9 ==> \t\n",
      "10 ==> \n",
      "\n",
      "11 ==> \u000b\n",
      "12 ==> \f\n",
      "13 ==> \n",
      "14 ==> \u000e\n",
      "15 ==> \u000f\n",
      "16 ==> \u0010\n",
      "17 ==> \u0011\n",
      "18 ==> \u0012\n",
      "19 ==> \u0013\n",
      "20 ==> \u0014\n",
      "21 ==> \u0015\n",
      "22 ==> \u0016\n",
      "23 ==> \u0017\n",
      "24 ==> \u0018\n",
      "25 ==> \u0019\n",
      "26 ==> \u001a\n",
      "27 ==> \u001b\n",
      "28 ==> \u001c\n",
      "29 ==> \u001d\n",
      "30 ==> \u001e\n",
      "31 ==> \u001f\n",
      "32 ==>  \n",
      "33 ==> !\n",
      "34 ==> \"\n",
      "35 ==> #\n",
      "36 ==> $\n",
      "37 ==> %\n",
      "38 ==> &\n",
      "39 ==> '\n",
      "40 ==> (\n",
      "41 ==> )\n",
      "42 ==> *\n",
      "43 ==> +\n",
      "44 ==> ,\n",
      "45 ==> -\n",
      "46 ==> .\n",
      "47 ==> /\n",
      "48 ==> 0\n",
      "49 ==> 1\n",
      "50 ==> 2\n",
      "51 ==> 3\n",
      "52 ==> 4\n",
      "53 ==> 5\n",
      "54 ==> 6\n",
      "55 ==> 7\n",
      "56 ==> 8\n",
      "57 ==> 9\n",
      "58 ==> :\n",
      "59 ==> ;\n",
      "60 ==> <\n",
      "61 ==> =\n",
      "62 ==> >\n",
      "63 ==> ?\n",
      "64 ==> @\n",
      "65 ==> A\n",
      "66 ==> B\n",
      "67 ==> C\n",
      "68 ==> D\n",
      "69 ==> E\n",
      "70 ==> F\n",
      "71 ==> G\n",
      "72 ==> H\n",
      "73 ==> I\n",
      "74 ==> J\n",
      "75 ==> K\n",
      "76 ==> L\n",
      "77 ==> M\n",
      "78 ==> N\n",
      "79 ==> O\n",
      "80 ==> P\n",
      "81 ==> Q\n",
      "82 ==> R\n",
      "83 ==> S\n",
      "84 ==> T\n",
      "85 ==> U\n",
      "86 ==> V\n",
      "87 ==> W\n",
      "88 ==> X\n",
      "89 ==> Y\n",
      "90 ==> Z\n",
      "91 ==> [\n",
      "92 ==> \\\n",
      "93 ==> ]\n",
      "94 ==> ^\n",
      "95 ==> _\n",
      "96 ==> `\n",
      "97 ==> a\n",
      "98 ==> b\n",
      "99 ==> c\n",
      "100 ==> d\n",
      "101 ==> e\n",
      "102 ==> f\n",
      "103 ==> g\n",
      "104 ==> h\n",
      "105 ==> i\n",
      "106 ==> j\n",
      "107 ==> k\n",
      "108 ==> l\n",
      "109 ==> m\n",
      "110 ==> n\n",
      "111 ==> o\n",
      "112 ==> p\n",
      "113 ==> q\n",
      "114 ==> r\n",
      "115 ==> s\n",
      "116 ==> t\n",
      "117 ==> u\n",
      "118 ==> v\n",
      "119 ==> w\n",
      "120 ==> x\n",
      "121 ==> y\n",
      "122 ==> z\n",
      "123 ==> {\n",
      "124 ==> |\n",
      "125 ==> }\n",
      "126 ==> ~\n",
      "127 ==> \n"
     ]
    }
   ],
   "source": [
    "for i in range(128):\n",
    "    print(\"%s ==> %c\" %(i, i))"
   ]
  },
  {
   "cell_type": "code",
   "execution_count": 56,
   "metadata": {},
   "outputs": [
    {
     "name": "stdout",
     "output_type": "stream",
     "text": [
      "\n",
      "__add__             __class__           __contains__        \n",
      "__delattr__         __dir__             __doc__             \n",
      "__eq__              __format__          __ge__              \n",
      "__getattribute__    __getitem__         __getnewargs__      \n",
      "__getstate__        __gt__              __hash__            \n",
      "__init__            __init_subclass__   __iter__            \n",
      "__le__              __len__             __lt__              \n",
      "__mod__             __mul__             __ne__              \n",
      "__new__             __reduce__          __reduce_ex__       \n",
      "__repr__            __rmod__            __rmul__            \n",
      "__setattr__         __sizeof__          __str__             \n",
      "__subclasshook__    capitalize          casefold            \n",
      "center              count               encode              \n",
      "endswith            expandtabs          find                \n",
      "format              format_map          index               \n",
      "isalnum             isalpha             isascii             \n",
      "isdecimal           isdigit             isidentifier        \n",
      "islower             isnumeric           isprintable         \n",
      "isspace             istitle             isupper             \n",
      "join                ljust               lower               \n",
      "lstrip              maketrans           partition           \n",
      "removeprefix        removesuffix        replace             \n",
      "rfind               rindex              rjust               \n",
      "rpartition          rsplit              rstrip              \n",
      "split               splitlines          startswith          \n",
      "strip               swapcase            title               \n",
      "translate           upper               zfill               "
     ]
    }
   ],
   "source": [
    "for sıra, karakter in enumerate(dir(str)):\n",
    "    if sıra % 3 == 0:\n",
    "        print(\"\\n\", end=\"\")\n",
    "    print(\"%-20s\" %karakter, end=\"\")"
   ]
  },
  {
   "cell_type": "code",
   "execution_count": 57,
   "metadata": {},
   "outputs": [
    {
     "name": "stdout",
     "output_type": "stream",
     "text": [
      "    0    0    0\n",
      "    1    1    1\n",
      "    2    2    2\n",
      "    3    3    3\n",
      "    4    4    4\n",
      "    5    5    5\n",
      "    6    6    6\n",
      "    7    7    7\n",
      "    8   10    8\n",
      "    9   11    9\n",
      "   10   12    a\n",
      "   11   13    b\n",
      "   12   14    c\n",
      "   13   15    d\n",
      "   14   16    e\n",
      "   15   17    f\n",
      "   16   20   10\n",
      "   17   21   11\n",
      "   18   22   12\n",
      "   19   23   13\n"
     ]
    }
   ],
   "source": [
    "for i in range(20):\n",
    "    print(\"%5d%5o%5x\" %(i, i, i))"
   ]
  },
  {
   "cell_type": "code",
   "execution_count": 58,
   "metadata": {},
   "outputs": [
    {
     "name": "stdout",
     "output_type": "stream",
     "text": [
      "    0    0    0\n",
      "    1    1    1\n",
      "    2    2    2\n",
      "    3    3    3\n",
      "    4    4    4\n",
      "    5    5    5\n",
      "    6    6    6\n",
      "    7    7    7\n",
      "    8   10    8\n",
      "    9   11    9\n",
      "   10   12    a\n",
      "   11   13    b\n",
      "   12   14    c\n",
      "   13   15    d\n",
      "   14   16    e\n",
      "   15   17    f\n",
      "   16   20   10\n",
      "   17   21   11\n",
      "   18   22   12\n",
      "   19   23   13\n"
     ]
    }
   ],
   "source": [
    "for i in range(20):\n",
    "    print(\"%(deger)5d%(deger)5o%(deger)5x\" %({\"deger\": i}))"
   ]
  },
  {
   "cell_type": "code",
   "execution_count": 59,
   "metadata": {},
   "outputs": [
    {
     "name": "stdout",
     "output_type": "stream",
     "text": [
      "Django ve Python iyi bir ikilidir!\n"
     ]
    }
   ],
   "source": [
    "# format() Methodu ile Biçimlendirmek (Yeni Yöntem)\n",
    "\n",
    "print(\"{} ve {} iyi bir ikilidir!\".format(\"Django\", \"Python\"))"
   ]
  },
  {
   "cell_type": "code",
   "execution_count": 60,
   "metadata": {},
   "outputs": [
    {
     "name": "stdout",
     "output_type": "stream",
     "text": [
      "Merhaba Sonay. Nasılsın?\n"
     ]
    }
   ],
   "source": [
    "isim = input(\"İsminiz: \")\n",
    "print(\"Merhaba {}. Nasılsın?\".format(isim))"
   ]
  },
  {
   "cell_type": "code",
   "execution_count": 61,
   "metadata": {},
   "outputs": [
    {
     "name": "stdout",
     "output_type": "stream",
     "text": [
      "Soma noktasından Bandırma noktasına, 14:30 hareket saatli\n",
      "sefer için Sonay Ilıca adına 1 adet bilet ayrılmıştır!\n"
     ]
    }
   ],
   "source": [
    "kalkış       = input(\"Kalkış yeri: \")\n",
    "varış        = input(\"Varış yeri: \")\n",
    "isim_soyisim = input(\"İsim ve soyisim: \")\n",
    "bilet_sayısı = input(\"Bilet sayısı: \")\n",
    "\n",
    "print(\"\"\"{} noktasından {} noktasına, 14:30 hareket saatli\n",
    "sefer için {} adına {} adet bilet ayrılmıştır!\"\"\".format(kalkış,\n",
    "                                                         varış,\n",
    "                                                         isim_soyisim,\n",
    "                                                         bilet_sayısı))"
   ]
  },
  {
   "cell_type": "code",
   "execution_count": 62,
   "metadata": {},
   "outputs": [
    {
     "name": "stdout",
     "output_type": "stream",
     "text": [
      "Soma noktasından Bandırma noktasına, 14:30 hareket saatli sefer için Sonay Ilıca adına 1 adet bilet ayrılmıştır!\n"
     ]
    }
   ],
   "source": [
    "kalkış       = input(\"Kalkış yeri: \")\n",
    "varış        = input(\"Varış yeri: \")\n",
    "isim_soyisim = input(\"İsim ve soyisim: \")\n",
    "bilet_sayısı = input(\"Bilet sayısı: \")\n",
    "\n",
    "metin = \"{} noktasından {} noktasına, 14:30 hareket saatli \\\n",
    "sefer için {} adına {} adet bilet ayrılmıştır!\"\n",
    "\n",
    "print(metin.format(kalkış, varış, isim_soyisim, bilet_sayısı))"
   ]
  },
  {
   "cell_type": "code",
   "execution_count": 63,
   "metadata": {},
   "outputs": [
    {
     "name": "stdout",
     "output_type": "stream",
     "text": [
      "Soma noktasından Bandırma noktasına, 14:30 hareket saatli sefer için Sonay Ilıca adına 1 adet bilet ayrılmıştır!\n"
     ]
    }
   ],
   "source": [
    "kalkış       = input(\"Kalkış yeri: \")\n",
    "varış        = input(\"Varış yeri: \")\n",
    "isim_soyisim = input(\"İsim ve soyisim: \")\n",
    "bilet_sayısı = input(\"Bilet sayısı: \")\n",
    "\n",
    "print(kalkış, \"noktasından\", varış, \"noktasına, 14:30 hareket saatli \\\n",
    "sefer için\", isim_soyisim, \"adına\", bilet_sayısı, \"adet bilet ayrılmıştır!\")"
   ]
  },
  {
   "cell_type": "code",
   "execution_count": 64,
   "metadata": {},
   "outputs": [
    {
     "data": {
      "text/plain": [
       "'Fırat Özgül'"
      ]
     },
     "execution_count": 64,
     "metadata": {},
     "output_type": "execute_result"
    }
   ],
   "source": [
    "\"{0} {1}\".format(\"Fırat\", \"Özgül\")"
   ]
  },
  {
   "cell_type": "code",
   "execution_count": 65,
   "metadata": {},
   "outputs": [
    {
     "data": {
      "text/plain": [
       "'Özgül Fırat'"
      ]
     },
     "execution_count": 65,
     "metadata": {},
     "output_type": "execute_result"
    }
   ],
   "source": [
    "\"{1} {0}\".format(\"Fırat\", \"Özgül\")"
   ]
  },
  {
   "cell_type": "code",
   "execution_count": 66,
   "metadata": {},
   "outputs": [
    {
     "data": {
      "text/plain": [
       "'Fırat Özgül (Özgül Fırat)'"
      ]
     },
     "execution_count": 66,
     "metadata": {},
     "output_type": "execute_result"
    }
   ],
   "source": [
    "\"{0} {1} ({1} {0})\".format(\"Fırat\", \"Özgül\")"
   ]
  },
  {
   "cell_type": "code",
   "execution_count": 67,
   "metadata": {},
   "outputs": [
    {
     "name": "stdout",
     "output_type": "stream",
     "text": [
      "python dersleri\n"
     ]
    }
   ],
   "source": [
    "print(\"{dil} dersleri\".format(dil=\"python\"))"
   ]
  },
  {
   "cell_type": "code",
   "execution_count": 68,
   "metadata": {},
   "outputs": [
    {
     "name": "stdout",
     "output_type": "stream",
     "text": [
      "        istihza\n"
     ]
    }
   ],
   "source": [
    "print(\"{:>15}\".format(\"istihza\"))"
   ]
  },
  {
   "cell_type": "code",
   "execution_count": 69,
   "metadata": {},
   "outputs": [
    {
     "name": "stdout",
     "output_type": "stream",
     "text": [
      "|istihza        |\n"
     ]
    }
   ],
   "source": [
    "print(\"|{:<15}|\".format(\"istihza\"))"
   ]
  },
  {
   "cell_type": "code",
   "execution_count": 70,
   "metadata": {},
   "outputs": [
    {
     "name": "stdout",
     "output_type": "stream",
     "text": [
      "|    istihza    |\n"
     ]
    }
   ],
   "source": [
    "print(\"|{:^15}|\".format(\"istihza\"))"
   ]
  },
  {
   "cell_type": "code",
   "execution_count": 71,
   "metadata": {},
   "outputs": [],
   "source": [
    "# >\n",
    "# sağa yaslama\n",
    "\n",
    "# <\n",
    "# sola yaslama\n",
    "\n",
    "# ^\n",
    "# ortalama"
   ]
  },
  {
   "cell_type": "code",
   "execution_count": 72,
   "metadata": {},
   "outputs": [
    {
     "name": "stdout",
     "output_type": "stream",
     "text": [
      "\n",
      "__add__             __class__           __contains__        \n",
      "__delattr__         __dir__             __doc__             \n",
      "__eq__              __format__          __ge__              \n",
      "__getattribute__    __getitem__         __getnewargs__      \n",
      "__getstate__        __gt__              __hash__            \n",
      "__init__            __init_subclass__   __iter__            \n",
      "__le__              __len__             __lt__              \n",
      "__mod__             __mul__             __ne__              \n",
      "__new__             __reduce__          __reduce_ex__       \n",
      "__repr__            __rmod__            __rmul__            \n",
      "__setattr__         __sizeof__          __str__             \n",
      "__subclasshook__    capitalize          casefold            \n",
      "center              count               encode              \n",
      "endswith            expandtabs          find                \n",
      "format              format_map          index               \n",
      "isalnum             isalpha             isascii             \n",
      "isdecimal           isdigit             isidentifier        \n",
      "islower             isnumeric           isprintable         \n",
      "isspace             istitle             isupper             \n",
      "join                ljust               lower               \n",
      "lstrip              maketrans           partition           \n",
      "removeprefix        removesuffix        replace             \n",
      "rfind               rindex              rjust               \n",
      "rpartition          rsplit              rstrip              \n",
      "split               splitlines          startswith          \n",
      "strip               swapcase            title               \n",
      "translate           upper               zfill               "
     ]
    }
   ],
   "source": [
    "for sıra, karakter in enumerate(dir(str)):\n",
    "    if sıra % 3 == 0:\n",
    "        print(\"\\n\", end=\"\")\n",
    "    print(\"%-20s\" %karakter, end=\"\")"
   ]
  },
  {
   "cell_type": "code",
   "execution_count": 73,
   "metadata": {},
   "outputs": [
    {
     "name": "stdout",
     "output_type": "stream",
     "text": [
      "\n",
      "__add__             __class__           __contains__        \n",
      "__delattr__         __dir__             __doc__             \n",
      "__eq__              __format__          __ge__              \n",
      "__getattribute__    __getitem__         __getnewargs__      \n",
      "__getstate__        __gt__              __hash__            \n",
      "__init__            __init_subclass__   __iter__            \n",
      "__le__              __len__             __lt__              \n",
      "__mod__             __mul__             __ne__              \n",
      "__new__             __reduce__          __reduce_ex__       \n",
      "__repr__            __rmod__            __rmul__            \n",
      "__setattr__         __sizeof__          __str__             \n",
      "__subclasshook__    capitalize          casefold            \n",
      "center              count               encode              \n",
      "endswith            expandtabs          find                \n",
      "format              format_map          index               \n",
      "isalnum             isalpha             isascii             \n",
      "isdecimal           isdigit             isidentifier        \n",
      "islower             isnumeric           isprintable         \n",
      "isspace             istitle             isupper             \n",
      "join                ljust               lower               \n",
      "lstrip              maketrans           partition           \n",
      "removeprefix        removesuffix        replace             \n",
      "rfind               rindex              rjust               \n",
      "rpartition          rsplit              rstrip              \n",
      "split               splitlines          startswith          \n",
      "strip               swapcase            title               \n",
      "translate           upper               zfill               "
     ]
    }
   ],
   "source": [
    "for sıra, karakter in enumerate(dir(str)):\n",
    "    if sıra % 3 == 0:\n",
    "        print(\"\\n\", end=\"\")\n",
    "    print(\"{:<20}\".format(karakter), end=\"\")"
   ]
  },
  {
   "cell_type": "code",
   "execution_count": 74,
   "metadata": {},
   "outputs": [
    {
     "name": "stdout",
     "output_type": "stream",
     "text": [
      "karakter dizisi\n"
     ]
    }
   ],
   "source": [
    "# Biçimlendirme Karakterleri\n",
    "\n",
    "# s\n",
    "\n",
    "# stringleri ifade eder\n",
    "\n",
    "print(\"{:s}\".format(\"karakter dizisi\"))"
   ]
  },
  {
   "cell_type": "code",
   "execution_count": 75,
   "metadata": {},
   "outputs": [
    {
     "name": "stdout",
     "output_type": "stream",
     "text": [
      "Python ve Django iyi bir ikilidir!\n"
     ]
    }
   ],
   "source": [
    "print(\"{:s} ve {:s} iyi bir ikilidir!\".format(\"Python\", \"Django\"))"
   ]
  },
  {
   "cell_type": "code",
   "execution_count": 76,
   "metadata": {},
   "outputs": [
    {
     "ename": "ValueError",
     "evalue": "Unknown format code 's' for object of type 'int'",
     "output_type": "error",
     "traceback": [
      "\u001b[1;31m---------------------------------------------------------------------------\u001b[0m",
      "\u001b[1;31mValueError\u001b[0m                                Traceback (most recent call last)",
      "Cell \u001b[1;32mIn [76], line 1\u001b[0m\n\u001b[1;32m----> 1\u001b[0m \u001b[39mprint\u001b[39m(\u001b[39m\"\u001b[39;49m\u001b[39m{:s}\u001b[39;49;00m\u001b[39m\"\u001b[39;49m\u001b[39m.\u001b[39;49mformat(\u001b[39m12\u001b[39;49m))\n",
      "\u001b[1;31mValueError\u001b[0m: Unknown format code 's' for object of type 'int'"
     ]
    }
   ],
   "source": [
    "print(\"{:s}\".format(12))\n",
    "# format()'ta s karakteriyle sayılar stringe dönüştürülse bile hata alırız"
   ]
  },
  {
   "cell_type": "code",
   "execution_count": 77,
   "metadata": {},
   "outputs": [
    {
     "name": "stdout",
     "output_type": "stream",
     "text": [
      "A\n"
     ]
    }
   ],
   "source": [
    "# c\n",
    "\n",
    "# ASCII tablosundaki karşılıklarını harf olarak verir ( 0 dan 256 ya kadar)\n",
    "\n",
    "print(\"{:c}\".format(65))"
   ]
  },
  {
   "cell_type": "code",
   "execution_count": 78,
   "metadata": {},
   "outputs": [
    {
     "name": "stdout",
     "output_type": "stream",
     "text": [
      "65\n"
     ]
    }
   ],
   "source": [
    "# d\n",
    "\n",
    "# sayıları temsil eder\n",
    "\n",
    "print(\"{:d}\".format(65))"
   ]
  },
  {
   "cell_type": "code",
   "execution_count": 79,
   "metadata": {},
   "outputs": [
    {
     "ename": "ValueError",
     "evalue": "Unknown format code 'd' for object of type 'str'",
     "output_type": "error",
     "traceback": [
      "\u001b[1;31m---------------------------------------------------------------------------\u001b[0m",
      "\u001b[1;31mValueError\u001b[0m                                Traceback (most recent call last)",
      "Cell \u001b[1;32mIn [79], line 1\u001b[0m\n\u001b[1;32m----> 1\u001b[0m \u001b[39mprint\u001b[39m(\u001b[39m\"\u001b[39;49m\u001b[39m{:d}\u001b[39;49;00m\u001b[39m\"\u001b[39;49m\u001b[39m.\u001b[39;49mformat(\u001b[39m\"\u001b[39;49m\u001b[39m65\u001b[39;49m\u001b[39m\"\u001b[39;49m))\n",
      "\u001b[1;31mValueError\u001b[0m: Unknown format code 'd' for object of type 'str'"
     ]
    }
   ],
   "source": [
    "print(\"{:d}\".format(\"65\"))"
   ]
  },
  {
   "cell_type": "code",
   "execution_count": 80,
   "metadata": {},
   "outputs": [
    {
     "name": "stdout",
     "output_type": "stream",
     "text": [
      "101\n"
     ]
    }
   ],
   "source": [
    "# o\n",
    "\n",
    "# 8li düzene göre verir\n",
    "\n",
    "print(\"{:o}\".format(65))"
   ]
  },
  {
   "cell_type": "code",
   "execution_count": 81,
   "metadata": {},
   "outputs": [
    {
     "name": "stdout",
     "output_type": "stream",
     "text": [
      "41\n"
     ]
    }
   ],
   "source": [
    "# x\n",
    "\n",
    "# 16lı düzene göre verir harfler küçük gösterilir\n",
    "\n",
    "print(\"{:x}\".format(65))"
   ]
  },
  {
   "cell_type": "code",
   "execution_count": 82,
   "metadata": {},
   "outputs": [
    {
     "data": {
      "text/plain": [
       "'41'"
      ]
     },
     "execution_count": 82,
     "metadata": {},
     "output_type": "execute_result"
    }
   ],
   "source": [
    "# X\n",
    "\n",
    "# 16lı düzene göre verir harfler büyük gösterilir\n",
    "\n",
    "\"{:X}\".format(65)"
   ]
  },
  {
   "cell_type": "code",
   "execution_count": 83,
   "metadata": {},
   "outputs": [
    {
     "name": "stdout",
     "output_type": "stream",
     "text": [
      "0         0\n",
      "1         1\n",
      "2         2\n",
      "3         3\n",
      "4         4\n",
      "5         5\n",
      "6         6\n",
      "7         7\n",
      "8         8\n",
      "9         9\n",
      "a         A\n",
      "b         B\n",
      "c         C\n",
      "d         D\n",
      "e         E\n",
      "f         F\n",
      "10        10\n",
      "11        11\n",
      "12        12\n",
      "13        13\n"
     ]
    }
   ],
   "source": [
    "for i in range(20):\n",
    "    print(\"{:x}{:10X}\".format(i, i))"
   ]
  },
  {
   "cell_type": "code",
   "execution_count": 84,
   "metadata": {},
   "outputs": [
    {
     "data": {
      "text/plain": [
       "'10'"
      ]
     },
     "execution_count": 84,
     "metadata": {},
     "output_type": "execute_result"
    }
   ],
   "source": [
    "# b\n",
    "\n",
    "# 2li düzende gösterir\n",
    "\n",
    "\"{:b}\".format(2)"
   ]
  },
  {
   "cell_type": "code",
   "execution_count": 85,
   "metadata": {},
   "outputs": [
    {
     "name": "stdout",
     "output_type": "stream",
     "text": [
      "50.00\n"
     ]
    }
   ],
   "source": [
    "# f\n",
    "\n",
    "# floatları temsil eder\n",
    "\n",
    "print(\"{:.2f}\".format(50))"
   ]
  },
  {
   "cell_type": "code",
   "execution_count": 86,
   "metadata": {},
   "outputs": [
    {
     "data": {
      "text/plain": [
       "'1,234,567,890'"
      ]
     },
     "execution_count": 86,
     "metadata": {},
     "output_type": "execute_result"
    }
   ],
   "source": [
    "\"{:,}\".format(1234567890) # basamaklarına ayırdık"
   ]
  },
  {
   "cell_type": "code",
   "execution_count": null,
   "metadata": {},
   "outputs": [],
   "source": []
  }
 ],
 "metadata": {
  "kernelspec": {
   "display_name": "Python 3.11.0 64-bit",
   "language": "python",
   "name": "python3"
  },
  "language_info": {
   "codemirror_mode": {
    "name": "ipython",
    "version": 3
   },
   "file_extension": ".py",
   "mimetype": "text/x-python",
   "name": "python",
   "nbconvert_exporter": "python",
   "pygments_lexer": "ipython3",
   "version": "3.11.0"
  },
  "orig_nbformat": 4,
  "vscode": {
   "interpreter": {
    "hash": "7c542dbbc07e6010b76b61de8a453dc04d29cd1fae7fbaa29851ecbad9aefb83"
   }
  }
 },
 "nbformat": 4,
 "nbformat_minor": 2
}
