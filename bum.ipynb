{
 "cells": [
  {
   "cell_type": "code",
   "execution_count": 1,
   "metadata": {},
   "outputs": [
    {
     "name": "stdout",
     "output_type": "stream",
     "text": [
      "Toplam\n"
     ]
    }
   ],
   "source": [
    "x= int(input(\"Bir Sayi giriniz: \"))\n",
    "y= int(input(\"Bir Sayi Giriniz: \"))\n",
    "\n",
    "z=input(\"Bir İslem Seciniz: \")\n",
    "\n",
    "a=(x + y)\n",
    "b=(x - y)\n",
    "c=(x * y)\n",
    "d=(x / y)\n",
    "\n",
    "if  \"a\"==z:\n",
    "    print(\"Toplam\")\n",
    "elif \"b\"==z:\n",
    "    print(\"cikartma\")\n",
    "elif \"c\"==z:\n",
    "    print(\"carpma\")\n",
    "elif \"d\"==z:\n",
    "    print(\"Bolme\")\n",
    "else:\n",
    "    print(\"boyle bir islem tanimlanmamistir\")\n",
    "\n",
    "# a=(\"Toplam\")\n",
    "# b=(\"Çıkartma\")\n",
    "# c=(\"Çarpma\")\n",
    "# d=(\"Bölme\")"
   ]
  },
  {
   "cell_type": "code",
   "execution_count": null,
   "metadata": {},
   "outputs": [],
   "source": []
  }
 ],
 "metadata": {
  "kernelspec": {
   "display_name": "Python 3.11.0 64-bit",
   "language": "python",
   "name": "python3"
  },
  "language_info": {
   "codemirror_mode": {
    "name": "ipython",
    "version": 3
   },
   "file_extension": ".py",
   "mimetype": "text/x-python",
   "name": "python",
   "nbconvert_exporter": "python",
   "pygments_lexer": "ipython3",
   "version": "3.11.0"
  },
  "orig_nbformat": 4,
  "vscode": {
   "interpreter": {
    "hash": "7c542dbbc07e6010b76b61de8a453dc04d29cd1fae7fbaa29851ecbad9aefb83"
   }
  }
 },
 "nbformat": 4,
 "nbformat_minor": 2
}
