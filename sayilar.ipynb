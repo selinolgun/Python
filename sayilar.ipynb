{
 "cells": [
  {
   "cell_type": "code",
   "execution_count": 1,
   "metadata": {},
   "outputs": [],
   "source": [
    "# Sayılar\n",
    "\n",
    "# Tam Sayılar (integers)  ->  15, 4, 33\n",
    "\n",
    "# Kayan Noktalı Sayılar (floating point numbers veya kısaca floats)  ->  3.5, 6.6, 2.3\n",
    "\n",
    "# Karmaşık Sayılar (complex numbers)  ->  3+3j, 5+2j, 19+10j"
   ]
  },
  {
   "cell_type": "code",
   "execution_count": 2,
   "metadata": {},
   "outputs": [],
   "source": [
    "# int()\n",
    "# Bir veriyi tam sayıya dönüştürür\n",
    "# int('2')\n",
    "\n",
    "# float()\n",
    "# Bir veriyi kayan noktalı sayıya dönüştürür\n",
    "# float(2)\n",
    "\n",
    "# complex()\n",
    "# Bir veriyi karmaşık sayıya dönüştürür\n",
    "# complex(2)"
   ]
  },
  {
   "cell_type": "code",
   "execution_count": 3,
   "metadata": {},
   "outputs": [
    {
     "data": {
      "text/plain": [
       "['as_integer_ratio',\n",
       " 'bit_count',\n",
       " 'bit_length',\n",
       " 'conjugate',\n",
       " 'denominator',\n",
       " 'from_bytes',\n",
       " 'imag',\n",
       " 'numerator',\n",
       " 'real',\n",
       " 'to_bytes']"
      ]
     },
     "execution_count": 3,
     "metadata": {},
     "output_type": "execute_result"
    }
   ],
   "source": [
    "# Sayıların Metotları\n",
    "\n",
    "# Tam sayı Metotları\n",
    "\n",
    "[i for i in dir(int) if not i.startswith(\"_\")]"
   ]
  },
  {
   "cell_type": "code",
   "execution_count": 4,
   "metadata": {},
   "outputs": [
    {
     "name": "stdout",
     "output_type": "stream",
     "text": [
      "0\t0\t1\n",
      "1\t1\t1\n",
      "2\t10\t2\n",
      "3\t11\t2\n",
      "4\t100\t3\n",
      "5\t101\t3\n",
      "6\t110\t3\n",
      "7\t111\t3\n",
      "8\t1000\t4\n",
      "9\t1001\t4\n",
      "10\t1010\t4\n"
     ]
    }
   ],
   "source": [
    "# bit_length()\n",
    "\n",
    "for i in range(11):\n",
    "    print(i, bin(i)[2:], len(bin(i)[2:]), sep=\"\\t\")"
   ]
  },
  {
   "cell_type": "code",
   "execution_count": 5,
   "metadata": {},
   "outputs": [
    {
     "data": {
      "text/plain": [
       "4"
      ]
     },
     "execution_count": 5,
     "metadata": {},
     "output_type": "execute_result"
    }
   ],
   "source": [
    "sayı = 10\n",
    "sayı.bit_length()"
   ]
  },
  {
   "cell_type": "code",
   "execution_count": 6,
   "metadata": {},
   "outputs": [
    {
     "data": {
      "text/plain": [
       "True"
      ]
     },
     "execution_count": 6,
     "metadata": {},
     "output_type": "execute_result"
    }
   ],
   "source": [
    "len(bin(10)[2:]) == (10).bit_length()"
   ]
  },
  {
   "cell_type": "code",
   "execution_count": 7,
   "metadata": {},
   "outputs": [
    {
     "data": {
      "text/plain": [
       "4"
      ]
     },
     "execution_count": 7,
     "metadata": {},
     "output_type": "execute_result"
    }
   ],
   "source": [
    "a = 10\n",
    "a.bit_length()"
   ]
  },
  {
   "cell_type": "code",
   "execution_count": 8,
   "metadata": {},
   "outputs": [
    {
     "data": {
      "text/plain": [
       "4"
      ]
     },
     "execution_count": 8,
     "metadata": {},
     "output_type": "execute_result"
    }
   ],
   "source": [
    "(10).bit_length()"
   ]
  },
  {
   "cell_type": "code",
   "execution_count": 9,
   "metadata": {},
   "outputs": [
    {
     "data": {
      "text/plain": [
       "['as_integer_ratio',\n",
       " 'conjugate',\n",
       " 'fromhex',\n",
       " 'hex',\n",
       " 'imag',\n",
       " 'is_integer',\n",
       " 'real']"
      ]
     },
     "execution_count": 9,
     "metadata": {},
     "output_type": "execute_result"
    }
   ],
   "source": [
    "# Kayan Noktalı Sayıların Metotları\n",
    "\n",
    "[i for i in dir(float) if not i.startswith(\"_\")]"
   ]
  },
  {
   "cell_type": "code",
   "execution_count": 10,
   "metadata": {},
   "outputs": [
    {
     "data": {
      "text/plain": [
       "(9, 2)"
      ]
     },
     "execution_count": 10,
     "metadata": {},
     "output_type": "execute_result"
    }
   ],
   "source": [
    "# as_integer_ratio()\n",
    "\n",
    "sayı = 4.5\n",
    "sayı.as_integer_ratio()"
   ]
  },
  {
   "cell_type": "code",
   "execution_count": 11,
   "metadata": {},
   "outputs": [
    {
     "data": {
      "text/plain": [
       "True"
      ]
     },
     "execution_count": 11,
     "metadata": {},
     "output_type": "execute_result"
    }
   ],
   "source": [
    "# is_integer()\n",
    "\n",
    "(12.0).is_integer()"
   ]
  },
  {
   "cell_type": "code",
   "execution_count": 12,
   "metadata": {},
   "outputs": [
    {
     "data": {
      "text/plain": [
       "False"
      ]
     },
     "execution_count": 12,
     "metadata": {},
     "output_type": "execute_result"
    }
   ],
   "source": [
    "(12.5).is_integer()"
   ]
  },
  {
   "cell_type": "code",
   "execution_count": 14,
   "metadata": {},
   "outputs": [
    {
     "data": {
      "text/plain": [
       "['conjugate', 'imag', 'real']"
      ]
     },
     "execution_count": 14,
     "metadata": {},
     "output_type": "execute_result"
    }
   ],
   "source": [
    "# Karmaşık Sayıların Metotları\n",
    "\n",
    "[i for i in dir(complex) if not i.startswith(\"_\")]"
   ]
  },
  {
   "cell_type": "code",
   "execution_count": 15,
   "metadata": {},
   "outputs": [
    {
     "data": {
      "text/plain": [
       "4.0"
      ]
     },
     "execution_count": 15,
     "metadata": {},
     "output_type": "execute_result"
    }
   ],
   "source": [
    "# imag\n",
    "\n",
    "c = 12+4j\n",
    "c.imag"
   ]
  },
  {
   "cell_type": "code",
   "execution_count": 16,
   "metadata": {},
   "outputs": [
    {
     "data": {
      "text/plain": [
       "12.0"
      ]
     },
     "execution_count": 16,
     "metadata": {},
     "output_type": "execute_result"
    }
   ],
   "source": [
    "# real\n",
    "\n",
    "c = 12+4j\n",
    "c.real"
   ]
  },
  {
   "cell_type": "code",
   "execution_count": 17,
   "metadata": {},
   "outputs": [
    {
     "data": {
      "text/plain": [
       "2"
      ]
     },
     "execution_count": 17,
     "metadata": {},
     "output_type": "execute_result"
    }
   ],
   "source": [
    "# Aritmetik Fonksiyonlar\n",
    "\n",
    "# abs() -> Sayının mutlak değerini verir\n",
    "\n",
    "abs(-2)"
   ]
  },
  {
   "cell_type": "code",
   "execution_count": 18,
   "metadata": {},
   "outputs": [
    {
     "data": {
      "text/plain": [
       "(5, 0)"
      ]
     },
     "execution_count": 18,
     "metadata": {},
     "output_type": "execute_result"
    }
   ],
   "source": [
    "# divmod() -> Bölümü ve kalanı verir\n",
    "\n",
    "divmod(10, 2)"
   ]
  },
  {
   "cell_type": "code",
   "execution_count": 19,
   "metadata": {},
   "outputs": [
    {
     "data": {
      "text/plain": [
       "(4, 2)"
      ]
     },
     "execution_count": 19,
     "metadata": {},
     "output_type": "execute_result"
    }
   ],
   "source": [
    "divmod(14, 3)"
   ]
  },
  {
   "cell_type": "code",
   "execution_count": 20,
   "metadata": {},
   "outputs": [
    {
     "data": {
      "text/plain": [
       "(4, 2)"
      ]
     },
     "execution_count": 20,
     "metadata": {},
     "output_type": "execute_result"
    }
   ],
   "source": [
    "14 // 3, 14 % 3"
   ]
  },
  {
   "cell_type": "code",
   "execution_count": 22,
   "metadata": {},
   "outputs": [
    {
     "data": {
      "text/plain": [
       "996780"
      ]
     },
     "execution_count": 22,
     "metadata": {},
     "output_type": "execute_result"
    }
   ],
   "source": [
    "# max() -> Listedeki en büyük sayıyı bulur\n",
    "\n",
    "sayılar = [882388, 260409, 72923, 692476, 131925, 259114, 47630, 84513, 25413, 614654,\n",
    " 239479, 299159, 175488, 345972, 458112, 791030, 243610, 413702, 565285,\n",
    " 773607, 131583, 979177, 247202, 615485, 647512, 556823, 242460, 852928,\n",
    " 893126, 792435, 273904, 544434, 627222, 601984, 966446, 384143, 308858,\n",
    " 915106, 914423, 826315, 258342, 188056, 934954, 253918, 468223, 262875,\n",
    " 462902, 370061, 336521, 367829, 147846, 838385, 605377, 175140, 957437,\n",
    " 105779, 153499, 435097, 9934, 435761, 989066, 357279, 341319, 420455,\n",
    " 220075, 28839, 910043, 891209, 975758, 140968, 837021, 526798, 235190,\n",
    " 634295, 521918, 400634, 385922, 842289, 106889, 742531, 359913, 842431,\n",
    " 666182, 516933, 22222, 445705, 589281, 709098, 48521, 513501, 277645,\n",
    " 860937, 655966, 923944, 7895, 77482, 929007, 562981, 904166, 619260,\n",
    " 616293, 203512, 67534, 615578, 74381, 484273, 941872, 110617, 53517,\n",
    " 402324, 156156, 839504 , 625325, 694080, 904277, 163914, 756250, 809689,\n",
    " 354050, 523654, 26723, 167882, 103404, 689579, 121439, 158946, 485258,\n",
    " 850804, 650603, 717388, 981770, 573882, 358726, 957285, 418479, 851590,\n",
    " 960182, 11955, 894146, 856069, 369866, 740623, 867622, 616830, 894801,\n",
    " 827179, 580024, 987174, 638930, 129200, 214789, 45268, 455924, 655940,\n",
    " 335481, 845907, 942437, 759380, 790660, 432715, 858959, 289617, 757317,\n",
    " 982063, 237940, 141714, 939369, 198282, 975017, 785968, 49954, 854914,\n",
    " 996780, 121633, 436419, 471, 776271, 91626, 209175, 894281, 417963, 624464,\n",
    " 736535, 418888, 506194, 591087, 64075, 50252, 952943, 25878, 217085,\n",
    " 223996, 416042, 484123, 810460, 423284, 956886, 237772, 960241, 601551,\n",
    " 830147, 449088, 364567, 337281, 524358, 980387, 393760, 619710, 100181,\n",
    " 96738, 275199, 553783, 975654, 662536, 979103, 869504, 702350, 174361,\n",
    " 970250, 267625, 661580, 444662, 871532, 881977, 981660, 446047, 508758,\n",
    " 530694, 608789, 339540, 242774, 637473, 874011, 732999, 511638, 744144,\n",
    " 710805, 641326, 88085, 128487, 59732, 739340, 443638, 830333, 832136,\n",
    " 882277, 403538, 441349, 721048, 32859]\n",
    "\n",
    "max(sayılar)"
   ]
  },
  {
   "cell_type": "code",
   "execution_count": 23,
   "metadata": {},
   "outputs": [
    {
     "name": "stdout",
     "output_type": "stream",
     "text": [
      "gıyaseddin\n"
     ]
    }
   ],
   "source": [
    "isimler = [\"ahmet\", \"mehmet\", \"necla\", \"sedat\", \"abdullah\",\n",
    "           \"gıyaseddin\", \"sibel\", \"can\", \"necmettin\", \"savaş\", \"özgür\"]\n",
    "\n",
    "print(max(isimler, key=len))\n",
    "\n",
    "# Bu şekilde de en uzun karakterli karakter dizisini bulabilir"
   ]
  },
  {
   "cell_type": "code",
   "execution_count": 24,
   "metadata": {},
   "outputs": [
    {
     "name": "stdout",
     "output_type": "stream",
     "text": [
      "  onlu     sekizli  on altılı   ikili   \n",
      "    0         0         0         0    \n",
      "    1         1         1         1    \n",
      "    2         2         2        10    \n",
      "    3         3         3        11    \n",
      "    4         4         4        100   \n",
      "    5         5         5        101   \n",
      "    6         6         6        110   \n",
      "    7         7         7        111   \n",
      "    8        10         8       1000   \n",
      "    9        11         9       1001   \n",
      "   10        12         a       1010   \n",
      "   11        13         b       1011   \n",
      "   12        14         c       1100   \n",
      "   13        15         d       1101   \n",
      "   14        16         e       1110   \n",
      "   15        17         f       1111   \n",
      "   16        20        10       10000  \n"
     ]
    }
   ],
   "source": [
    "sayı_sistemleri = [\"onlu\", \"sekizli\", \"on altılı\", \"ikili\"]\n",
    "\n",
    "print((\"{:^9} \"*len(sayı_sistemleri)).format(*sayı_sistemleri))\n",
    "\n",
    "for i in range(17):\n",
    "    print(\"{0:^9} {0:^9o} {0:^9x} {0:^9b}\".format(i))"
   ]
  },
  {
   "cell_type": "code",
   "execution_count": 25,
   "metadata": {},
   "outputs": [
    {
     "name": "stdout",
     "output_type": "stream",
     "text": [
      "  onlu     sekizli  on altılı   ikili   \n",
      "    0         0         0         0    \n",
      "    1         1         1         1    \n",
      "    2         2         2        10    \n",
      "    3         3         3        11    \n",
      "    4         4         4        100   \n",
      "    5         5         5        101   \n",
      "    6         6         6        110   \n",
      "    7         7         7        111   \n",
      "    8        10         8       1000   \n",
      "    9        11         9       1001   \n",
      "   10        12         a       1010   \n",
      "   11        13         b       1011   \n",
      "   12        14         c       1100   \n",
      "   13        15         d       1101   \n",
      "   14        16         e       1110   \n",
      "   15        17         f       1111   \n",
      "   16        20        10       10000  \n"
     ]
    }
   ],
   "source": [
    "sayı_sistemleri = [\"onlu\", \"sekizli\", \"on altılı\", \"ikili\"]\n",
    "\n",
    "en_uzun = len(max(sayı_sistemleri, key=len))\n",
    "\n",
    "print((\"{:^{aralık}} \"*len(sayı_sistemleri)).format(*sayı_sistemleri, aralık=en_uzun))\n",
    "\n",
    "for i in range(17):\n",
    "    print(\"{0:^{1}} {0:^{1}o} {0:^{1}x} {0:^{1}b}\".format(i, en_uzun))"
   ]
  },
  {
   "cell_type": "code",
   "execution_count": 26,
   "metadata": {},
   "outputs": [
    {
     "data": {
      "text/plain": [
       "471"
      ]
     },
     "execution_count": 26,
     "metadata": {},
     "output_type": "execute_result"
    }
   ],
   "source": [
    "# min() -> Listedeki en küçük sayıyı bulur\n",
    "\n",
    "min(sayılar)"
   ]
  },
  {
   "cell_type": "code",
   "execution_count": 27,
   "metadata": {},
   "outputs": [
    {
     "name": "stdout",
     "output_type": "stream",
     "text": [
      "can\n"
     ]
    }
   ],
   "source": [
    "print(min(isimler, key=len))"
   ]
  },
  {
   "cell_type": "code",
   "execution_count": 28,
   "metadata": {},
   "outputs": [
    {
     "data": {
      "text/plain": [
       "198"
      ]
     },
     "execution_count": 28,
     "metadata": {},
     "output_type": "execute_result"
    }
   ],
   "source": [
    "# sum() -> Listedeki bütün sayıları toplar\n",
    "\n",
    "a = [10, 20, 43, 45 , 77, 2, 0, 1]\n",
    "sum(a)"
   ]
  },
  {
   "cell_type": "code",
   "execution_count": 29,
   "metadata": {},
   "outputs": [
    {
     "data": {
      "text/plain": [
       "208"
      ]
     },
     "execution_count": 29,
     "metadata": {},
     "output_type": "execute_result"
    }
   ],
   "source": [
    "sum(a, 10)\n",
    "# Bu şekilde de belli bir sayının üzerine listedeki bütün sayıları topladı(10)"
   ]
  },
  {
   "cell_type": "code",
   "execution_count": null,
   "metadata": {},
   "outputs": [],
   "source": []
  }
 ],
 "metadata": {
  "kernelspec": {
   "display_name": "Python 3.11.0 64-bit",
   "language": "python",
   "name": "python3"
  },
  "language_info": {
   "codemirror_mode": {
    "name": "ipython",
    "version": 3
   },
   "file_extension": ".py",
   "mimetype": "text/x-python",
   "name": "python",
   "nbconvert_exporter": "python",
   "pygments_lexer": "ipython3",
   "version": "3.11.0"
  },
  "orig_nbformat": 4,
  "vscode": {
   "interpreter": {
    "hash": "7c542dbbc07e6010b76b61de8a453dc04d29cd1fae7fbaa29851ecbad9aefb83"
   }
  }
 },
 "nbformat": 4,
 "nbformat_minor": 2
}
