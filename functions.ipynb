{
 "cells": [
  {
   "cell_type": "code",
   "execution_count": 11,
   "metadata": {},
   "outputs": [
    {
     "name": "stdout",
     "output_type": "stream",
     "text": [
      "Hello Sonay\n"
     ]
    }
   ],
   "source": [
    "def sayHello(name = \"user\"):\n",
    "    return \"Hello \" + name\n",
    "\n",
    "msg = sayHello(\"Sonay\")\n",
    "\n",
    "print(msg)"
   ]
  },
  {
   "cell_type": "code",
   "execution_count": 14,
   "metadata": {},
   "outputs": [
    {
     "name": "stdout",
     "output_type": "stream",
     "text": [
      "35\n"
     ]
    }
   ],
   "source": [
    "def total(num1, num2):\n",
    "    return num1 + num2\n",
    "\n",
    "result = total(10,20)\n",
    "result = total(15,20)\n",
    "print(result)"
   ]
  },
  {
   "cell_type": "code",
   "execution_count": 15,
   "metadata": {},
   "outputs": [
    {
     "name": "stdout",
     "output_type": "stream",
     "text": [
      "27\n",
      "26\n"
     ]
    }
   ],
   "source": [
    "def yasHesapla(dogumYili):\n",
    "    return 2022 - dogumYili\n",
    "\n",
    "ageSonay = yasHesapla(1995)\n",
    "ageSelin = yasHesapla(1996)\n",
    "\n",
    "print(ageSonay)\n",
    "print(ageSelin)"
   ]
  },
  {
   "cell_type": "code",
   "execution_count": 23,
   "metadata": {},
   "outputs": [
    {
     "name": "stdout",
     "output_type": "stream",
     "text": [
      "Emekliliğinize 38 yıl kaldı\n",
      "Emekliliğinize 39 yıl kaldı\n",
      "Emekliliğinize 62 yıl kaldı\n",
      "Help on function EmekliligeKacYilKaldi in module __main__:\n",
      "\n",
      "EmekliligeKacYilKaldi(dogumYili)\n",
      "    DOCSTING: Doğum yılınıza göre emekliliğinize kaç yıl kaldı\n",
      "    INPUT: Dogum yılı\n",
      "    OUTPUT: Hesaplanan yıl bilgisi\n",
      "\n",
      "None\n",
      "Help on built-in function append:\n",
      "\n",
      "append(object, /) method of builtins.list instance\n",
      "    Append object to the end of the list.\n",
      "\n",
      "None\n"
     ]
    }
   ],
   "source": [
    "def EmekliligeKacYilKaldi(dogumYili):\n",
    "    '''\n",
    "    DOCSTING: Doğum yılınıza göre emekliliğinize kaç yıl kaldı\n",
    "    INPUT: Dogum yılı\n",
    "    OUTPUT: Hesaplanan yıl bilgisi\n",
    "    '''    \n",
    "    yas = yasHesapla(dogumYili)\n",
    "    emeklilik = 65 - yas\n",
    "\n",
    "    if emeklilik > 0:\n",
    "        print(f\"Emekliliğinize {emeklilik} yıl kaldı\")\n",
    "    else:\n",
    "        print(\"Zaten emekli oldunuz.\")\n",
    "\n",
    "EmekliligeKacYilKaldi(1995)\n",
    "EmekliligeKacYilKaldi(1996)\n",
    "EmekliligeKacYilKaldi(2019)\n",
    "\n",
    "print(help(EmekliligeKacYilKaldi))\n",
    "\n",
    "list = [1,2,3]\n",
    "\n",
    "print(help(list.append))"
   ]
  },
  {
   "cell_type": "markdown",
   "metadata": {},
   "source": []
  }
 ],
 "metadata": {
  "kernelspec": {
   "display_name": "Python 3.11.0 64-bit",
   "language": "python",
   "name": "python3"
  },
  "language_info": {
   "codemirror_mode": {
    "name": "ipython",
    "version": 3
   },
   "file_extension": ".py",
   "mimetype": "text/x-python",
   "name": "python",
   "nbconvert_exporter": "python",
   "pygments_lexer": "ipython3",
   "version": "3.11.0"
  },
  "orig_nbformat": 4,
  "vscode": {
   "interpreter": {
    "hash": "7c542dbbc07e6010b76b61de8a453dc04d29cd1fae7fbaa29851ecbad9aefb83"
   }
  }
 },
 "nbformat": 4,
 "nbformat_minor": 2
}
