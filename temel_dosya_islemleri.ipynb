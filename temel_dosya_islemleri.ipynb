{
 "cells": [
  {
   "cell_type": "code",
   "execution_count": 6,
   "metadata": {},
   "outputs": [],
   "source": [
    "# Dosya Olusturmak\n",
    "\n",
    "tahsilat_dosyası = open(\"tahsilat_dosyası.txt\", \"w\")\n",
    "tahsilat_dosyası.close()"
   ]
  },
  {
   "cell_type": "code",
   "execution_count": 7,
   "metadata": {},
   "outputs": [],
   "source": [
    "# Dosyaya Yazmak\n",
    "\n",
    "tahsilat_dosyası = open(\"tahsilat_dosyası.txt\", \"w\")\n",
    "\n",
    "tahsilat_dosyası.write(\"Halil Pazarlama: 120.000 TL\")\n",
    "\n",
    "tahsilat_dosyası.close()"
   ]
  },
  {
   "cell_type": "code",
   "execution_count": 11,
   "metadata": {},
   "outputs": [],
   "source": [
    "# Dosya Okumak\n",
    "\n",
    "tahsilat_dosyası = open(\"tahsilat_dosyası.txt\", \"r\")\n",
    "tahsilat_dosyası.close()"
   ]
  },
  {
   "cell_type": "code",
   "execution_count": 12,
   "metadata": {},
   "outputs": [],
   "source": [
    "tahsilat_dosyası = open(\"tahsilat_dosyası.txt\")\n",
    "tahsilat_dosyası.close()"
   ]
  },
  {
   "cell_type": "code",
   "execution_count": 14,
   "metadata": {},
   "outputs": [
    {
     "name": "stdout",
     "output_type": "stream",
     "text": [
      "Ahmet Ã–zbudak : 0533 123 23 34\n",
      "Mehmet SÃ¼lÃ¼n  : 0532 212 22 22\n",
      "Sami Sam      : 0542 333 34 34\n"
     ]
    }
   ],
   "source": [
    "tahsilat_dosyası = open(\"tahsilat_dosyası.txt\")\n",
    "print(tahsilat_dosyası.read())\n",
    "tahsilat_dosyası.close()"
   ]
  },
  {
   "cell_type": "code",
   "execution_count": 26,
   "metadata": {},
   "outputs": [
    {
     "name": "stdout",
     "output_type": "stream",
     "text": [
      "Ahmet Ã–zbudak : 0533 123 23 34\n",
      "\n"
     ]
    }
   ],
   "source": [
    "tahsilat_dosyası = open(\"tahsilat_dosyası.txt\")\n",
    "print(tahsilat_dosyası.readline())"
   ]
  },
  {
   "cell_type": "code",
   "execution_count": 27,
   "metadata": {},
   "outputs": [
    {
     "name": "stdout",
     "output_type": "stream",
     "text": [
      "Mehmet SÃ¼lÃ¼n  : 0532 212 22 22\n",
      "\n"
     ]
    }
   ],
   "source": [
    "print(tahsilat_dosyası.readline())"
   ]
  },
  {
   "cell_type": "code",
   "execution_count": 28,
   "metadata": {},
   "outputs": [
    {
     "name": "stdout",
     "output_type": "stream",
     "text": [
      "Sami Sam      : 0542 333 34 34\n"
     ]
    }
   ],
   "source": [
    "print(tahsilat_dosyası.readline())"
   ]
  },
  {
   "cell_type": "code",
   "execution_count": 29,
   "metadata": {},
   "outputs": [
    {
     "name": "stdout",
     "output_type": "stream",
     "text": [
      "\n"
     ]
    }
   ],
   "source": [
    "print(tahsilat_dosyası.readline())"
   ]
  },
  {
   "cell_type": "code",
   "execution_count": 31,
   "metadata": {},
   "outputs": [
    {
     "name": "stdout",
     "output_type": "stream",
     "text": [
      "['Ahmet Ã–zbudak : 0533 123 23 34\\n', 'Mehmet SÃ¼lÃ¼n  : 0532 212 22 22\\n', 'Sami Sam      : 0542 333 34 34']\n"
     ]
    }
   ],
   "source": [
    "tahsilat_dosyası = open(\"tahsilat_dosyası.txt\")\n",
    "print(tahsilat_dosyası.readlines())\n",
    "tahsilat_dosyası.close()"
   ]
  },
  {
   "cell_type": "code",
   "execution_count": 33,
   "metadata": {},
   "outputs": [
    {
     "name": "stdout",
     "output_type": "stream",
     "text": [
      "Ahmet Ã–zbudak : 0533 123 23 34\n",
      "Mehmet SÃ¼lÃ¼n  : 0532 212 22 22\n",
      "Sami Sam      : 0542 333 34 34\n"
     ]
    }
   ],
   "source": [
    "# Dosyaları Otomatik Kapatma\n",
    "\n",
    "# try:\n",
    "#     dosya = open(\"dosyaadı\", \"r\")\n",
    "#     ...burada dosyayla bazı işlemler yapıyoruz...\n",
    "#     ...ve ansızın bir hata oluşuyor...\n",
    "# except IOError:\n",
    "#     print(\"bir hata oluştu!\")\n",
    "# finally:\n",
    "#     dosya.close()\n",
    "\n",
    "with open(\"tahsilat_dosyası.txt\", \"r\") as dosya:\n",
    "    print(dosya.read())"
   ]
  },
  {
   "cell_type": "code",
   "execution_count": 34,
   "metadata": {},
   "outputs": [
    {
     "data": {
      "text/plain": [
       "'Ahmet Ã–zbudak : 0533 123 23 34\\nMehmet SÃ¼lÃ¼n  : 0532 212 22 22\\nSami Sam      : 0542 333 34 34'"
      ]
     },
     "execution_count": 34,
     "metadata": {},
     "output_type": "execute_result"
    }
   ],
   "source": [
    "# Dosyayı İleri-Geri Sarmak\n",
    "\n",
    "tahsilat_dosyası = open(\"tahsilat_dosyası.txt\")\n",
    "tahsilat_dosyası.read()"
   ]
  },
  {
   "cell_type": "code",
   "execution_count": 35,
   "metadata": {},
   "outputs": [
    {
     "data": {
      "text/plain": [
       "''"
      ]
     },
     "execution_count": 35,
     "metadata": {},
     "output_type": "execute_result"
    }
   ],
   "source": [
    "tahsilat_dosyası.read()"
   ]
  },
  {
   "cell_type": "code",
   "execution_count": 36,
   "metadata": {},
   "outputs": [
    {
     "data": {
      "text/plain": [
       "'Ahmet Ã–zbudak : 0533 123 23 34\\nMehmet SÃ¼lÃ¼n  : 0532 212 22 22\\nSami Sam      : 0542 333 34 34'"
      ]
     },
     "execution_count": 36,
     "metadata": {},
     "output_type": "execute_result"
    }
   ],
   "source": [
    "tahsilat_dosyası.seek(0)\n",
    "tahsilat_dosyası.read()"
   ]
  },
  {
   "cell_type": "code",
   "execution_count": 37,
   "metadata": {},
   "outputs": [
    {
     "data": {
      "text/plain": [
       "'udak : 0533 123 23 34\\nMehmet SÃ¼lÃ¼n  : 0532 212 22 22\\nSami Sam      : 0542 333 34 34'"
      ]
     },
     "execution_count": 37,
     "metadata": {},
     "output_type": "execute_result"
    }
   ],
   "source": [
    "tahsilat_dosyası.seek(10)\n",
    "tahsilat_dosyası.read()"
   ]
  },
  {
   "cell_type": "code",
   "execution_count": 38,
   "metadata": {},
   "outputs": [
    {
     "data": {
      "text/plain": [
       "97"
      ]
     },
     "execution_count": 38,
     "metadata": {},
     "output_type": "execute_result"
    }
   ],
   "source": [
    "tahsilat_dosyası.tell()"
   ]
  },
  {
   "cell_type": "code",
   "execution_count": 41,
   "metadata": {},
   "outputs": [],
   "source": [
    "# Dosyalarda Değişiklik Yapmak\n",
    "\n",
    "# Dosyaların Sonunda Değişiklik Yapmak\n",
    "\n",
    "with open(\"tahsilat_dosyası.txt\", \"a\") as tahsilat_dosyası:\n",
    "    tahsilat_dosyası.write(\"\\nSelin Özden\\t: 0212 222 22 22\")"
   ]
  },
  {
   "cell_type": "code",
   "execution_count": 42,
   "metadata": {},
   "outputs": [],
   "source": [
    "# Dosyaların Başında Değişiklik Yapmak\n",
    "\n",
    "with open(\"tahsilat_dosyası.txt\", \"r+\") as tahsilat_dosyası:\n",
    "    veri = tahsilat_dosyası.read()\n",
    "    tahsilat_dosyası.seek(0)\n",
    "    tahsilat_dosyası.write(\"Sedat Köz\\t: 0322 234 45 45\\n\" + veri)"
   ]
  },
  {
   "cell_type": "code",
   "execution_count": 43,
   "metadata": {},
   "outputs": [],
   "source": [
    "# Dosyaların Ortasında Değişiklik Yapmak\n",
    "\n",
    "with open(\"tahsilat_dosyası.txt\", \"r+\") as tahsilat_dosyası:\n",
    "    veri = tahsilat_dosyası.readlines()\n",
    "    veri.insert(2, \"Sedat Köz\\t: 0322 234 45 45\\n\")\n",
    "    tahsilat_dosyası.seek(0)\n",
    "    tahsilat_dosyası.writelines(veri)"
   ]
  },
  {
   "cell_type": "code",
   "execution_count": null,
   "metadata": {},
   "outputs": [],
   "source": [
    "# Dosyaya Erişme Kipleri\n",
    "\n",
    "# \"r\"\n",
    "# Bu öntanımlı kiptir. Bu kip dosyayı okuma yetkisiyle açar. Ancak bu kipi kullanabilmemiz için, ilgili dosyanın disk \n",
    "# üzerinde halihazırda var olması gerekir. Eğer bu kipte açılmak istenen dosya mevcut değilse Python bize bir hata mesajı \n",
    "# gösterecektir. Dediğimiz gibi, bu öntanımlı kiptir. Dolayısıyla dosyayı açarken herhangi bir kip belirtmezsek Python \n",
    "# dosyayı bu kipte açmak istediğimizi varsayacaktır.\n",
    "\n",
    "# \"w\"\n",
    "# Bu kip dosyayı yazma yetkisiyle açar. Eğer belirttiğiniz adda bir dosya zaten disk üzerinde varsa, Python hiçbir şey \n",
    "# sormadan dosya içeriğini silecektir. Eğer belirttiğiniz adda bir dosya diskte yoksa, Python o adda bir dosyayı otomatik \n",
    "# olarak oluşturur.\n",
    "\n",
    "# \"a\"\n",
    "# Bu kip dosyayı yazma yetkisiyle açar. Eğer dosya zaten disk üzerinde mevcutsa içeriğinde herhangi bir değişiklik yapılmaz. \n",
    "# Bu kipte açtığınız bir dosyaya eklediğiniz veriler varolan verilere ilave edilir. Eğer belirttiğiniz adda bir dosya yoksa \n",
    "# Python otomatik olarak o adda bir dosyayı sizin için oluşturacaktır.\n",
    "\n",
    "# \"x\"\n",
    "# Bu kip dosyayı yazma yetkisiyle açar. Eğer belirttiğiniz adda bir dosya zaten disk üzerinde varsa, Python varolan dosyayı \n",
    "# silmek yerine size bir hata mesajı gösterir. Zaten bu kipin “w” kipinden farkı, varolan dosyaları silmemesidir. Eğer \n",
    "# belirttiğiniz adda bir dosya diskte yoksa, bu kip yardımıyla o ada sahip bir dosya oluşturabilirsiniz.\n",
    "\n",
    "# \"r+\"\n",
    "# Bu kip, bir dosyayı hem yazma hem de okuma yetkisiyle açar. Bu kipi kullanabilmeniz için, belirttiğiniz dosyanın disk \n",
    "# üzerinde mevcut olması gerekir.\n",
    "\n",
    "# \"w+\"\n",
    "# Bu kip bir dosyayı hem yazma hem de okuma yetkisiyle açar. Eğer dosya mevcutsa içerik silinir, eğer dosya mevcut değilse \n",
    "# oluşturulur.\n",
    "\n",
    "# \"a+\"\n",
    "# Bu kip bir dosyayı hem yazma hem de okuma yetkisiyle açar. Eğer dosya zaten disk üzerinde mevcutsa içeriğinde herhangi bir \n",
    "# değişiklik yapılmaz. Bu kipte açtığınız bir dosyaya eklediğiniz veriler varolan verilere ilave edilir. Eğer belirttiğiniz \n",
    "# adda bir dosya yoksa Python otomatik olarak o adda bir dosyayı sizin için oluşturacaktır.\n",
    "\n",
    "# \"x+\"\n",
    "# Bu kip dosyayı hem okuma hem de yazma yetkisiyle açar. Eğer belirttiğiniz adda bir dosya zaten disk üzerinde varsa, Python \n",
    "# varolan dosyayı silmek yerine size bir hata mesajı gösterir. Zaten bu kipin “w+” kipinden farkı, varolan dosyaları \n",
    "# silmemesidir. Eğer belirttiğiniz adda bir dosya diskte yoksa, bu kip yardımıyla o ada sahip bir dosya oluşturup bu dosyayı \n",
    "# hem okuma hem de yazma yetkisiyle açabilirsiniz.\n",
    "\n",
    "# \"rb\"\n",
    "# Bu kip, metin dosyaları ile ikili (binary) dosyaları ayırt eden sistemlerde ikili dosyaları okuma yetkisiyle açmak için \n",
    "# kullanılır. “r” kipi için söylenenler bu kip için de geçerlidir.\n",
    "\n",
    "# \"wb\"\n",
    "# Bu kip, metin dosyaları ile ikili dosyaları ayırt eden sistemlerde ikili dosyaları yazma yetkisiyle açmak için kullanılır.\n",
    "#  “w” kipi için söylenenler bu kip için de geçerlidir.\n",
    "\n",
    "# \"ab\"\n",
    "# Bu kip, metin dosyaları ile ikili dosyaları ayırt eden sistemlerde ikili dosyaları yazma yetkisiyle açmak için kullanılır.\n",
    "#  “a” kipi için söylenenler bu kip için de geçerlidir.\n",
    "\n",
    "# \"xb\"\n",
    "# Bu kip, metin dosyaları ile ikili dosyaları ayırt eden sistemlerde ikili dosyaları yazma yetkisiyle açmak için kullanılır.\n",
    "#  “x” kipi için söylenenler bu kip için de geçerlidir.\n",
    "\n",
    "# \"rb+\"\n",
    "# Bu kip, metin dosyaları ile ikili dosyaları ayırt eden sistemlerde ikili dosyaları hem okuma hem de yazma yetkisiyle açmak \n",
    "# için kullanılır. “r+” kipi için söylenenler bu kip için de geçerlidir.\n",
    "\n",
    "# \"wb+\"\n",
    "# Bu kip, metin dosyaları ile ikili dosyaları ayırt eden sistemlerde ikili dosyaları hem okuma hem de yazma yetkisiyle açmak \n",
    "# için kullanılır. “w+” kipi için söylenenler bu kip için de geçerlidir.\n",
    "\n",
    "# \"ab+\"\n",
    "# Bu kip, metin dosyaları ile ikili dosyaları ayırt eden sistemlerde ikili dosyaları hem okuma hem de yazma yetkisiyle açmak \n",
    "# için kullanılır. “a+” kipi için söylenenler bu kip için de geçerlidir.\n",
    "\n",
    "# \"xb+\"\n",
    "# Bu kip, metin dosyaları ile ikili dosyaları ayırt eden sistemlerde ikili dosyaları hem okuma hem de yazma yetkisiyle açmak \n",
    "# için kullanılır. “x+” kipi için söylenenler bu kip için de geçerlidir."
   ]
  }
 ],
 "metadata": {
  "kernelspec": {
   "display_name": "Python 3.11.0 64-bit",
   "language": "python",
   "name": "python3"
  },
  "language_info": {
   "codemirror_mode": {
    "name": "ipython",
    "version": 3
   },
   "file_extension": ".py",
   "mimetype": "text/x-python",
   "name": "python",
   "nbconvert_exporter": "python",
   "pygments_lexer": "ipython3",
   "version": "3.11.0"
  },
  "orig_nbformat": 4,
  "vscode": {
   "interpreter": {
    "hash": "7c542dbbc07e6010b76b61de8a453dc04d29cd1fae7fbaa29851ecbad9aefb83"
   }
  }
 },
 "nbformat": 4,
 "nbformat_minor": 2
}
