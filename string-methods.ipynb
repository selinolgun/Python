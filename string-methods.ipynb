{
 "cells": [
  {
   "cell_type": "code",
   "execution_count": 22,
   "metadata": {},
   "outputs": [
    {
     "name": "stdout",
     "output_type": "stream",
     "text": [
      "       Hello There. My name is Sonay Ilıca        \n"
     ]
    }
   ],
   "source": [
    "message = \"Hello There. My name is Sonay Ilıca\"\n",
    "# message = message.upper()\n",
    "# message = message.lower()\n",
    "# message = message.title()\n",
    "# message = message.capitalize()\n",
    "# message = message.strip()\n",
    "# message = message.split()\n",
    "# message = message.split(\".\")\n",
    "# message = \"---\".join(message)\n",
    "# index = message.find(\"Sonay\")\n",
    "# isFound = message.startswith(\"H\")\n",
    "# isFound = message.endswith(\"N\")\n",
    "# message = message.replace(\"Sonay\",\"Selin\")\n",
    "# message = message.replace(\" \",\"*\")\n",
    "# message = message.center(50)\n",
    "print(message)\n",
    "# print(isFound)\n",
    "# print(message)\n",
    "# print(message[1])"
   ]
  },
  {
   "cell_type": "code",
   "execution_count": null,
   "metadata": {},
   "outputs": [],
   "source": []
  }
 ],
 "metadata": {
  "kernelspec": {
   "display_name": "Python 3.11.0 64-bit",
   "language": "python",
   "name": "python3"
  },
  "language_info": {
   "codemirror_mode": {
    "name": "ipython",
    "version": 3
   },
   "file_extension": ".py",
   "mimetype": "text/x-python",
   "name": "python",
   "nbconvert_exporter": "python",
   "pygments_lexer": "ipython3",
   "version": "3.11.0"
  },
  "orig_nbformat": 4,
  "vscode": {
   "interpreter": {
    "hash": "7c542dbbc07e6010b76b61de8a453dc04d29cd1fae7fbaa29851ecbad9aefb83"
   }
  }
 },
 "nbformat": 4,
 "nbformat_minor": 2
}
