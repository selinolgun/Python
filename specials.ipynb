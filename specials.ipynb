{
 "cells": [
  {
   "cell_type": "code",
   "execution_count": 15,
   "metadata": {},
   "outputs": [
    {
     "name": "stdout",
     "output_type": "stream",
     "text": [
      "3\n",
      "9\n",
      "<class 'list'>\n",
      "<class 'str'>\n",
      "movie objection oluşturuldu\n",
      "movie silindi\n",
      "film adı by yönetmen adı\n"
     ]
    }
   ],
   "source": [
    "mylist = [1,2,3]\n",
    "mystring = \"my string\"\n",
    "\n",
    "print(len(mylist))\n",
    "print(len(mystring))\n",
    "print(type(mylist))\n",
    "print(type(mystring))\n",
    "\n",
    "class Movie():\n",
    "    def __init__(self,title,director,duration):\n",
    "        self.title = title\n",
    "        self.director = director\n",
    "        self.duration = duration\n",
    "        print(\"movie objection oluşturuldu\")\n",
    "\n",
    "    def __str__(self):\n",
    "        return f\"{self.title} by {self.director}\"\n",
    "\n",
    "    def __len__(self):\n",
    "        return self.duration\n",
    "\n",
    "    def __del__(self):\n",
    "        print(\"movie silindi\")\n",
    "\n",
    "m = Movie(\"film adı\",\"yönetmen adı\",120)\n",
    "\n",
    "# print(str(mylist))\n",
    "print(str(m))\n",
    "\n",
    "# print(len(m))\n",
    "# print(type(m))\n"
   ]
  },
  {
   "cell_type": "code",
   "execution_count": null,
   "metadata": {},
   "outputs": [],
   "source": []
  }
 ],
 "metadata": {
  "kernelspec": {
   "display_name": "Python 3.11.0 64-bit",
   "language": "python",
   "name": "python3"
  },
  "language_info": {
   "codemirror_mode": {
    "name": "ipython",
    "version": 3
   },
   "file_extension": ".py",
   "mimetype": "text/x-python",
   "name": "python",
   "nbconvert_exporter": "python",
   "pygments_lexer": "ipython3",
   "version": "3.11.0"
  },
  "orig_nbformat": 4,
  "vscode": {
   "interpreter": {
    "hash": "7c542dbbc07e6010b76b61de8a453dc04d29cd1fae7fbaa29851ecbad9aefb83"
   }
  }
 },
 "nbformat": 4,
 "nbformat_minor": 2
}
