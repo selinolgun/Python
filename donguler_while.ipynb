{
 "cells": [
  {
   "cell_type": "code",
   "execution_count": null,
   "metadata": {},
   "outputs": [],
   "source": [
    "a = 1\n",
    "\n",
    "while a == 1:\n",
    "        print(\"bilgisayar çıldırdı!\")\n",
    "\n",
    "#infinite loop"
   ]
  },
  {
   "cell_type": "code",
   "execution_count": 1,
   "metadata": {},
   "outputs": [
    {
     "name": "stdout",
     "output_type": "stream",
     "text": [
      "bilgisayar yine çıldırdı!\n",
      "bilgisayar yine çıldırdı!\n",
      "bilgisayar yine çıldırdı!\n",
      "bilgisayar yine çıldırdı!\n",
      "bilgisayar yine çıldırdı!\n",
      "bilgisayar yine çıldırdı!\n",
      "bilgisayar yine çıldırdı!\n",
      "bilgisayar yine çıldırdı!\n",
      "bilgisayar yine çıldırdı!\n"
     ]
    }
   ],
   "source": [
    "a = 1\n",
    "while a < 10:\n",
    "    a += 1\n",
    "    print(\"bilgisayar yine çıldırdı!\")\n"
   ]
  },
  {
   "cell_type": "code",
   "execution_count": 2,
   "metadata": {},
   "outputs": [
    {
     "name": "stdout",
     "output_type": "stream",
     "text": [
      "2\n",
      "3\n",
      "4\n",
      "5\n",
      "6\n",
      "7\n",
      "8\n",
      "9\n",
      "10\n"
     ]
    }
   ],
   "source": [
    "a = 1\n",
    "\n",
    "while a < 10:\n",
    "    a += 1\n",
    "    print(a)"
   ]
  },
  {
   "cell_type": "code",
   "execution_count": 3,
   "metadata": {},
   "outputs": [
    {
     "name": "stdout",
     "output_type": "stream",
     "text": [
      "\n",
      "(1) topla\n",
      "(2) çıkar\n",
      "(3) çarp\n",
      "(4) böl\n",
      "(5) karesini hesapla\n",
      "(6) karekök hesapla\n",
      "\n",
      "1 + 3 = 4\n",
      "1 - 3 = -2\n",
      "1 x 3 = 3\n",
      "1 / 3 = 0.3333333333333333\n",
      "1 sayısının karesi = 1\n",
      "1 x 3 = 3\n",
      "1 sayısının karekökü =  1.0\n",
      "çıkılıyor...\n"
     ]
    }
   ],
   "source": [
    "giriş = \"\"\"\n",
    "(1) topla\n",
    "(2) çıkar\n",
    "(3) çarp\n",
    "(4) böl\n",
    "(5) karesini hesapla\n",
    "(6) karekök hesapla\n",
    "\"\"\"\n",
    "\n",
    "print(giriş)\n",
    "\n",
    "anahtar = 1\n",
    "\n",
    "while anahtar == 1:\n",
    "    soru = input(\"Yapmak istediğiniz işlemin numarasını girin (Çıkmak için q): \")\n",
    "\n",
    "    if soru == \"q\":\n",
    "        print(\"çıkılıyor...\")\n",
    "        anahtar = 0\n",
    "\n",
    "    elif soru == \"1\":\n",
    "        sayı1 = int(input(\"Toplama işlemi için ilk sayıyı girin: \"))\n",
    "        sayı2 = int(input(\"Toplama işlemi için ikinci sayıyı girin: \"))\n",
    "        print(sayı1, \"+\", sayı2, \"=\", sayı1 + sayı2)\n",
    "\n",
    "    elif soru == \"2\":\n",
    "        sayı3 = int(input(\"Çıkarma işlemi için ilk sayıyı girin: \"))\n",
    "        sayı4 = int(input(\"Çıkarma işlemi için ikinci sayıyı girin: \"))\n",
    "        print(sayı3, \"-\", sayı4, \"=\", sayı3 - sayı4)\n",
    "\n",
    "    elif soru == \"3\":\n",
    "        sayı5 = int(input(\"Çarpma işlemi için ilk sayıyı girin: \"))\n",
    "        sayı6 = int(input(\"Çarpma işlemi için ikinci sayıyı girin: \"))\n",
    "        print(sayı5, \"x\", sayı6, \"=\", sayı5 * sayı6)\n",
    "\n",
    "    elif soru == \"4\":\n",
    "        sayı7 = int(input(\"Bölme işlemi için ilk sayıyı girin: \"))\n",
    "        sayı8 = int(input(\"Bölme işlemi için ikinci sayıyı girin: \"))\n",
    "        print(sayı7, \"/\", sayı8, \"=\", sayı7 / sayı8)\n",
    "\n",
    "    elif soru == \"5\":\n",
    "        sayı9 = int(input(\"Karesini hesaplamak istediğiniz sayıyı girin: \"))\n",
    "        print(sayı9, \"sayısının karesi =\", sayı9 ** 2)\n",
    "\n",
    "    elif soru == \"6\":\n",
    "        sayı10 = int(input(\"Karekökünü hesaplamak istediğiniz sayıyı girin: \"))\n",
    "        print(sayı10, \"sayısının karekökü = \", sayı10 ** 0.5)\n",
    "\n",
    "    else:\n",
    "        print(\"Yanlış giriş.\")\n",
    "        print(\"Aşağıdaki seçeneklerden birini giriniz:\", giriş)"
   ]
  },
  {
   "cell_type": "code",
   "execution_count": 4,
   "metadata": {},
   "outputs": [
    {
     "name": "stdout",
     "output_type": "stream",
     "text": [
      "çıkılıyor...\n"
     ]
    }
   ],
   "source": [
    "while True:\n",
    "    soru = input(\"Yapmak istediğiniz işlemin numarasını girin (Çıkmak için q): \")\n",
    "\n",
    "    if soru == \"q\":\n",
    "        print(\"çıkılıyor...\")\n",
    "        break"
   ]
  },
  {
   "cell_type": "code",
   "execution_count": 6,
   "metadata": {},
   "outputs": [
    {
     "name": "stdout",
     "output_type": "stream",
     "text": [
      "\n",
      "(1) topla\n",
      "(2) çıkar\n",
      "(3) çarp\n",
      "(4) böl\n",
      "(5) karesini hesapla\n",
      "(6) karekök hesapla\n",
      "\n",
      "1 + 3 = 4\n",
      "çıkılıyor...\n"
     ]
    }
   ],
   "source": [
    "giriş = \"\"\"\n",
    "(1) topla\n",
    "(2) çıkar\n",
    "(3) çarp\n",
    "(4) böl\n",
    "(5) karesini hesapla\n",
    "(6) karekök hesapla\n",
    "\"\"\"\n",
    "\n",
    "print(giriş)\n",
    "\n",
    "while True:\n",
    "    soru = input(\"Yapmak istediğiniz işlemin numarasını girin (Çıkmak için q): \")\n",
    "\n",
    "    if soru == \"q\":\n",
    "        print(\"çıkılıyor...\")\n",
    "        break\n",
    "\n",
    "    elif soru == \"1\":\n",
    "        sayı1 = int(input(\"Toplama işlemi için ilk sayıyı girin: \"))\n",
    "        sayı2 = int(input(\"Toplama işlemi için ikinci sayıyı girin: \"))\n",
    "        print(sayı1, \"+\", sayı2, \"=\", sayı1 + sayı2)\n",
    "\n",
    "    elif soru == \"2\":\n",
    "        sayı3 = int(input(\"Çıkarma işlemi için ilk sayıyı girin: \"))\n",
    "        sayı4 = int(input(\"Çıkarma işlemi için ikinci sayıyı girin: \"))\n",
    "        print(sayı3, \"-\", sayı4, \"=\", sayı3 - sayı4)\n",
    "\n",
    "    elif soru == \"3\":\n",
    "        sayı5 = int(input(\"Çarpma işlemi için ilk sayıyı girin: \"))\n",
    "        sayı6 = int(input(\"Çarpma işlemi için ikinci sayıyı girin: \"))\n",
    "        print(sayı5, \"x\", sayı6, \"=\", sayı5 * sayı6)\n",
    "\n",
    "    elif soru == \"4\":\n",
    "        sayı7 = int(input(\"Bölme işlemi için ilk sayıyı girin: \"))\n",
    "        sayı8 = int(input(\"Bölme işlemi için ikinci sayıyı girin: \"))\n",
    "        print(sayı7, \"/\", sayı8, \"=\", sayı7 / sayı8)\n",
    "\n",
    "    elif soru == \"5\":\n",
    "        sayı9 = int(input(\"Karesini hesaplamak istediğiniz sayıyı girin: \"))\n",
    "        print(sayı9, \"sayısının karesi =\", sayı9 ** 2)\n",
    "\n",
    "    elif soru == \"6\":\n",
    "        sayı10 = int(input(\"Karekökünü hesaplamak istediğiniz sayıyı girin: \"))\n",
    "        print(sayı10, \"sayısının karekökü = \", sayı10 ** 0.5)\n",
    "\n",
    "    else:\n",
    "        print(\"Yanlış giriş.\")\n",
    "        print(\"Aşağıdaki seçeneklerden birini giriniz:\", giriş)"
   ]
  },
  {
   "cell_type": "code",
   "execution_count": 7,
   "metadata": {},
   "outputs": [],
   "source": [
    "tekrar = 1\n",
    "\n",
    "while tekrar <= 3:\n",
    "    tekrar += 1\n",
    "    input(\"Nasılsınız, iyi misiniz?\")"
   ]
  },
  {
   "cell_type": "code",
   "execution_count": 8,
   "metadata": {},
   "outputs": [
    {
     "name": "stdout",
     "output_type": "stream",
     "text": [
      "2\n",
      "4\n",
      "6\n",
      "8\n",
      "10\n",
      "12\n",
      "14\n",
      "16\n",
      "18\n",
      "20\n",
      "22\n",
      "24\n",
      "26\n",
      "28\n",
      "30\n",
      "32\n",
      "34\n",
      "36\n",
      "38\n",
      "40\n",
      "42\n",
      "44\n",
      "46\n",
      "48\n",
      "50\n",
      "52\n",
      "54\n",
      "56\n",
      "58\n",
      "60\n",
      "62\n",
      "64\n",
      "66\n",
      "68\n",
      "70\n",
      "72\n",
      "74\n",
      "76\n",
      "78\n",
      "80\n",
      "82\n",
      "84\n",
      "86\n",
      "88\n",
      "90\n",
      "92\n",
      "94\n",
      "96\n",
      "98\n",
      "100\n"
     ]
    }
   ],
   "source": [
    "a = 0\n",
    "\n",
    "while a < 100:\n",
    "    a += 1\n",
    "    if a % 2 == 0:\n",
    "        print(a)"
   ]
  },
  {
   "cell_type": "code",
   "execution_count": null,
   "metadata": {},
   "outputs": [],
   "source": []
  }
 ],
 "metadata": {
  "kernelspec": {
   "display_name": "Python 3.11.0 64-bit",
   "language": "python",
   "name": "python3"
  },
  "language_info": {
   "codemirror_mode": {
    "name": "ipython",
    "version": 3
   },
   "file_extension": ".py",
   "mimetype": "text/x-python",
   "name": "python",
   "nbconvert_exporter": "python",
   "pygments_lexer": "ipython3",
   "version": "3.11.0"
  },
  "orig_nbformat": 4,
  "vscode": {
   "interpreter": {
    "hash": "7c542dbbc07e6010b76b61de8a453dc04d29cd1fae7fbaa29851ecbad9aefb83"
   }
  }
 },
 "nbformat": 4,
 "nbformat_minor": 2
}
