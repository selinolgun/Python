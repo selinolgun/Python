{
 "cells": [
  {
   "cell_type": "code",
   "execution_count": 14,
   "metadata": {},
   "outputs": [
    {
     "name": "stdout",
     "output_type": "stream",
     "text": [
      "soay\n",
      "soay\n",
      "soay\n"
     ]
    }
   ],
   "source": [
    "x = input(\"Bir kelime giriniz: \")\n",
    "y = int(input(\"Kelime kaç defa ekrana yazdırılsın?\"))\n",
    "\n",
    "def kelime(x = \"kelime\"):\n",
    "    return x\n",
    "\n",
    "message = kelime(x)\n",
    "\n",
    "while y > 0:\n",
    "    print(message)\n",
    "    y = y - 1"
   ]
  },
  {
   "cell_type": "code",
   "execution_count": 2,
   "metadata": {},
   "outputs": [
    {
     "name": "stdout",
     "output_type": "stream",
     "text": [
      "[10, 20, 30, 'Merhaba']\n"
     ]
    }
   ],
   "source": [
    "def listeyeCevir(*params):\n",
    "    liste = []\n",
    "\n",
    "    for param in params:\n",
    "        liste.append(param)\n",
    "\n",
    "    return liste\n",
    "\n",
    "result = listeyeCevir(10,20,30,\"Merhaba\")\n",
    "print(result)"
   ]
  },
  {
   "cell_type": "code",
   "execution_count": 8,
   "metadata": {},
   "outputs": [
    {
     "name": "stdout",
     "output_type": "stream",
     "text": [
      "11\n",
      "13\n",
      "17\n",
      "19\n",
      "23\n",
      "29\n"
     ]
    }
   ],
   "source": [
    "def asalSayilariBul(sayi1, sayi2):\n",
    "    for sayi in range(sayi1, sayi2+1):\n",
    "        if sayi > 1:\n",
    "            for i in range(2, sayi):\n",
    "                if sayi % i == 0:\n",
    "                    break\n",
    "            else:\n",
    "                print(sayi)\n",
    "\n",
    "sayi1 = int(input(\"sayı 1: \"))\n",
    "sayi2 = int(input(\"sayı 2: \"))\n",
    "\n",
    "asalSayilariBul(sayi1, sayi2)"
   ]
  },
  {
   "cell_type": "code",
   "execution_count": 9,
   "metadata": {},
   "outputs": [
    {
     "data": {
      "text/plain": [
       "[2, 4, 5, 10]"
      ]
     },
     "execution_count": 9,
     "metadata": {},
     "output_type": "execute_result"
    }
   ],
   "source": [
    "def tamBolenleriBul(sayi):\n",
    "    tamBolenler = []\n",
    "\n",
    "    for i in range(2, sayi):\n",
    "        if sayi % i == 0:\n",
    "            tamBolenler.append(i)\n",
    "    return tamBolenler\n",
    "\n",
    "tamBolenleriBul(20)"
   ]
  },
  {
   "cell_type": "code",
   "execution_count": null,
   "metadata": {},
   "outputs": [],
   "source": []
  }
 ],
 "metadata": {
  "kernelspec": {
   "display_name": "Python 3.11.0 64-bit",
   "language": "python",
   "name": "python3"
  },
  "language_info": {
   "codemirror_mode": {
    "name": "ipython",
    "version": 3
   },
   "file_extension": ".py",
   "mimetype": "text/x-python",
   "name": "python",
   "nbconvert_exporter": "python",
   "pygments_lexer": "ipython3",
   "version": "3.11.0"
  },
  "orig_nbformat": 4,
  "vscode": {
   "interpreter": {
    "hash": "7c542dbbc07e6010b76b61de8a453dc04d29cd1fae7fbaa29851ecbad9aefb83"
   }
  }
 },
 "nbformat": 4,
 "nbformat_minor": 2
}
