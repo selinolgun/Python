{
 "cells": [
  {
   "cell_type": "code",
   "execution_count": 9,
   "metadata": {},
   "outputs": [
    {
     "name": "stdout",
     "output_type": "stream",
     "text": [
      "True\n"
     ]
    }
   ],
   "source": [
    "x = 6\n",
    "hak = 0\n",
    "devam = \"e\"\n",
    "\n",
    "result = 5 < x < 10\n",
    "\n",
    "# and\n",
    "\n",
    "result = x > 5 and x < 10\n",
    "# True, True = True\n",
    "# True, False = False\n",
    "# False, False = False\n",
    "# False, True = False\n",
    "result = (hak > 0) and (devam == \"e\")\n",
    "\n",
    "# or\n",
    "\n",
    "result = (x > 0) or (x % 2 == 0)\n",
    "# True, True = True\n",
    "# True, False = True\n",
    "# False, False = False\n",
    "# False, True = True\n",
    "\n",
    "# not\n",
    "\n",
    "result = not(x > 0)\n",
    "# Cevabı tersine çevirir. \n",
    "# True => False\n",
    "# False => True\n",
    "\n",
    "# x, 5-10 arasında olan bir çift sayı mı?\n",
    "result = (x>5) and (x<10) and (x%2==0)\n",
    "print(result)"
   ]
  },
  {
   "cell_type": "code",
   "execution_count": null,
   "metadata": {},
   "outputs": [],
   "source": []
  }
 ],
 "metadata": {
  "kernelspec": {
   "display_name": "Python 3.11.0 64-bit",
   "language": "python",
   "name": "python3"
  },
  "language_info": {
   "codemirror_mode": {
    "name": "ipython",
    "version": 3
   },
   "file_extension": ".py",
   "mimetype": "text/x-python",
   "name": "python",
   "nbconvert_exporter": "python",
   "pygments_lexer": "ipython3",
   "version": "3.11.0"
  },
  "orig_nbformat": 4,
  "vscode": {
   "interpreter": {
    "hash": "7c542dbbc07e6010b76b61de8a453dc04d29cd1fae7fbaa29851ecbad9aefb83"
   }
  }
 },
 "nbformat": 4,
 "nbformat_minor": 2
}
