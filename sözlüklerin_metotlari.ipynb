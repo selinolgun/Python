{
 "cells": [
  {
   "cell_type": "code",
   "execution_count": 1,
   "metadata": {},
   "outputs": [
    {
     "name": "stdout",
     "output_type": "stream",
     "text": [
      "dict_keys(['a', 'b', 'c', 'd'])\n"
     ]
    }
   ],
   "source": [
    "# keys()\n",
    "\n",
    "sözlük = {\"a\": 0,\n",
    "          \"b\": 1,\n",
    "          \"c\": 2,\n",
    "          \"d\": 3}\n",
    "print(sözlük.keys())"
   ]
  },
  {
   "cell_type": "code",
   "execution_count": 2,
   "metadata": {},
   "outputs": [
    {
     "data": {
      "text/plain": [
       "['a', 'b', 'c', 'd']"
      ]
     },
     "execution_count": 2,
     "metadata": {},
     "output_type": "execute_result"
    }
   ],
   "source": [
    "liste = list(sözlük.keys())\n",
    "liste"
   ]
  },
  {
   "cell_type": "code",
   "execution_count": 3,
   "metadata": {},
   "outputs": [
    {
     "data": {
      "text/plain": [
       "('a', 'b', 'c', 'd')"
      ]
     },
     "execution_count": 3,
     "metadata": {},
     "output_type": "execute_result"
    }
   ],
   "source": [
    "demet = tuple(sözlük.keys())\n",
    "demet"
   ]
  },
  {
   "cell_type": "code",
   "execution_count": 4,
   "metadata": {},
   "outputs": [
    {
     "data": {
      "text/plain": [
       "'abcd'"
      ]
     },
     "execution_count": 4,
     "metadata": {},
     "output_type": "execute_result"
    }
   ],
   "source": [
    "kardiz = \"\".join(sözlük.keys())\n",
    "kardiz"
   ]
  },
  {
   "cell_type": "code",
   "execution_count": 5,
   "metadata": {},
   "outputs": [
    {
     "data": {
      "text/plain": [
       "'a, b, c, d'"
      ]
     },
     "execution_count": 5,
     "metadata": {},
     "output_type": "execute_result"
    }
   ],
   "source": [
    "kardiz = ', '.join(sözlük.keys())\n",
    "kardiz"
   ]
  },
  {
   "cell_type": "code",
   "execution_count": 6,
   "metadata": {},
   "outputs": [
    {
     "data": {
      "text/plain": [
       "{'a': 0, 'b': 1, 'c': 2, 'd': 3}"
      ]
     },
     "execution_count": 6,
     "metadata": {},
     "output_type": "execute_result"
    }
   ],
   "source": [
    "# values()\n",
    "\n",
    "sözlük"
   ]
  },
  {
   "cell_type": "code",
   "execution_count": 7,
   "metadata": {},
   "outputs": [
    {
     "name": "stdout",
     "output_type": "stream",
     "text": [
      "dict_values([0, 1, 2, 3])\n"
     ]
    }
   ],
   "source": [
    "print(sözlük.values())"
   ]
  },
  {
   "cell_type": "code",
   "execution_count": 8,
   "metadata": {},
   "outputs": [
    {
     "data": {
      "text/plain": [
       "[0, 1, 2, 3]"
      ]
     },
     "execution_count": 8,
     "metadata": {},
     "output_type": "execute_result"
    }
   ],
   "source": [
    "liste = list(sözlük.values())\n",
    "liste"
   ]
  },
  {
   "cell_type": "code",
   "execution_count": 9,
   "metadata": {},
   "outputs": [
    {
     "data": {
      "text/plain": [
       "(0, 1, 2, 3)"
      ]
     },
     "execution_count": 9,
     "metadata": {},
     "output_type": "execute_result"
    }
   ],
   "source": [
    "demet = tuple(sözlük.values())\n",
    "demet"
   ]
  },
  {
   "cell_type": "code",
   "execution_count": 10,
   "metadata": {},
   "outputs": [
    {
     "ename": "TypeError",
     "evalue": "sequence item 0: expected str instance, int found",
     "output_type": "error",
     "traceback": [
      "\u001b[1;31m---------------------------------------------------------------------------\u001b[0m",
      "\u001b[1;31mTypeError\u001b[0m                                 Traceback (most recent call last)",
      "Cell \u001b[1;32mIn [10], line 1\u001b[0m\n\u001b[1;32m----> 1\u001b[0m kardiz \u001b[39m=\u001b[39m \u001b[39m\"\u001b[39;49m\u001b[39m\"\u001b[39;49m\u001b[39m.\u001b[39;49mjoin(sözlük\u001b[39m.\u001b[39;49mvalues())\n",
      "\u001b[1;31mTypeError\u001b[0m: sequence item 0: expected str instance, int found"
     ]
    }
   ],
   "source": [
    "kardiz = \"\".join(sözlük.values())"
   ]
  },
  {
   "cell_type": "code",
   "execution_count": 11,
   "metadata": {},
   "outputs": [
    {
     "data": {
      "text/plain": [
       "'0123'"
      ]
     },
     "execution_count": 11,
     "metadata": {},
     "output_type": "execute_result"
    }
   ],
   "source": [
    "kardiz = \"\".join([str(i) for i in sözlük.values()])\n",
    "kardiz"
   ]
  },
  {
   "cell_type": "code",
   "execution_count": 12,
   "metadata": {},
   "outputs": [
    {
     "data": {
      "text/plain": [
       "'0, 1, 2, 3'"
      ]
     },
     "execution_count": 12,
     "metadata": {},
     "output_type": "execute_result"
    }
   ],
   "source": [
    "kardiz = \", \".join([str(i) for i in sözlük.values()])\n",
    "kardiz"
   ]
  },
  {
   "cell_type": "code",
   "execution_count": 13,
   "metadata": {},
   "outputs": [
    {
     "data": {
      "text/plain": [
       "dict_items([('a', 0), ('b', 1), ('c', 2), ('d', 3)])"
      ]
     },
     "execution_count": 13,
     "metadata": {},
     "output_type": "execute_result"
    }
   ],
   "source": [
    "# items()\n",
    "\n",
    "sözlük.items()"
   ]
  },
  {
   "cell_type": "code",
   "execution_count": 14,
   "metadata": {},
   "outputs": [
    {
     "name": "stdout",
     "output_type": "stream",
     "text": [
      "a = 0\n",
      "b = 1\n",
      "c = 2\n",
      "d = 3\n"
     ]
    }
   ],
   "source": [
    "for anahtar, değer in sözlük.items():\n",
    "    print(\"{} = {}\".format(anahtar, değer))"
   ]
  },
  {
   "cell_type": "code",
   "execution_count": 15,
   "metadata": {},
   "outputs": [
    {
     "name": "stdout",
     "output_type": "stream",
     "text": [
      "language\n"
     ]
    }
   ],
   "source": [
    "# get()\n",
    "\n",
    "ing_sözlük = {\"dil\": \"language\", \"bilgisayar\": \"computer\", \"masa\": \"table\"}\n",
    "\n",
    "sorgu = input(\"Lütfen anlamını öğrenmek istediğiniz kelimeyi yazınız:\")\n",
    "\n",
    "print(ing_sözlük[sorgu])"
   ]
  },
  {
   "cell_type": "code",
   "execution_count": 16,
   "metadata": {},
   "outputs": [
    {
     "name": "stdout",
     "output_type": "stream",
     "text": [
      "Bu kelime veritabanımızda yoktur!\n"
     ]
    }
   ],
   "source": [
    "ing_sözlük = {\"dil\": \"language\", \"bilgisayar\": \"computer\", \"masa\": \"table\"}\n",
    "\n",
    "sorgu = input(\"Lütfen anlamını öğrenmek istediğiniz kelimeyi yazınız:\")\n",
    "\n",
    "if sorgu not in ing_sözlük:\n",
    "    print(\"Bu kelime veritabanımızda yoktur!\")\n",
    "\n",
    "else:\n",
    "    print(ing_sözlük[sorgu])"
   ]
  },
  {
   "cell_type": "code",
   "execution_count": 17,
   "metadata": {},
   "outputs": [
    {
     "name": "stdout",
     "output_type": "stream",
     "text": [
      "Bu kelime veritabanımızda yoktur!\n"
     ]
    }
   ],
   "source": [
    "ing_sözlük = {\"dil\": \"language\", \"bilgisayar\": \"computer\", \"masa\": \"table\"}\n",
    "\n",
    "sorgu = input(\"Lütfen anlamını öğrenmek istediğiniz kelimeyi yazınız:\")\n",
    "\n",
    "print(ing_sözlük.get(sorgu, \"Bu kelime veritabanımızda yoktur!\"))"
   ]
  },
  {
   "cell_type": "code",
   "execution_count": 18,
   "metadata": {},
   "outputs": [
    {
     "name": "stdout",
     "output_type": "stream",
     "text": [
      "bulutlu\n"
     ]
    }
   ],
   "source": [
    "soru = input(\"Şehrinizin adını tamamı küçük harf olacak şekilde yazın:\")\n",
    "\n",
    "if soru == \"istanbul\":\n",
    "    print(\"gök gürültülü ve sağanak yağışlı\")\n",
    "\n",
    "elif soru == \"ankara\":\n",
    "    print(\"açık ve güneşli\")\n",
    "\n",
    "elif soru == \"izmir\":\n",
    "    print(\"bulutlu\")\n",
    "\n",
    "else:\n",
    "    print(\"Bu şehre ilişkin havadurumu bilgisi bulunmamaktadır.\")"
   ]
  },
  {
   "cell_type": "code",
   "execution_count": 19,
   "metadata": {},
   "outputs": [
    {
     "name": "stdout",
     "output_type": "stream",
     "text": [
      "bulutlu\n"
     ]
    }
   ],
   "source": [
    "soru = input(\"Şehrinizin adını tamamı küçük harf olacak şekilde yazın:\")\n",
    "\n",
    "cevap = {\"istanbul\": \"gök gürültülü ve sağanak yağışlı\",\n",
    "         \"ankara\": \"açık ve güneşli\", \"izmir\": \"bulutlu\"}\n",
    "\n",
    "print(cevap.get(soru, \"Bu şehre ilişkin havadurumu bilgisi bulunmamaktadır.\"))"
   ]
  },
  {
   "cell_type": "code",
   "execution_count": 20,
   "metadata": {},
   "outputs": [
    {
     "data": {
      "text/plain": [
       "{'şampiyon': 'Adana Demirspor',\n",
       " 'ikinci': 'Mersin İdman Yurdu',\n",
       " 'üçüncü': 'Adana Gençlerbirliği'}"
      ]
     },
     "execution_count": 20,
     "metadata": {},
     "output_type": "execute_result"
    }
   ],
   "source": [
    "# clear()\n",
    "\n",
    "lig = {\"şampiyon\": \"Adana Demirspor\", \"ikinci\": \"Mersin İdman Yurdu\", \"üçüncü\": \"Adana Gençlerbirliği\"}\n",
    "lig"
   ]
  },
  {
   "cell_type": "code",
   "execution_count": 21,
   "metadata": {},
   "outputs": [
    {
     "data": {
      "text/plain": [
       "'Adana Demirspor'"
      ]
     },
     "execution_count": 21,
     "metadata": {},
     "output_type": "execute_result"
    }
   ],
   "source": [
    "lig[\"şampiyon\"]"
   ]
  },
  {
   "cell_type": "code",
   "execution_count": 22,
   "metadata": {},
   "outputs": [
    {
     "data": {
      "text/plain": [
       "{}"
      ]
     },
     "execution_count": 22,
     "metadata": {},
     "output_type": "execute_result"
    }
   ],
   "source": [
    "lig.clear()\n",
    "lig"
   ]
  },
  {
   "cell_type": "code",
   "execution_count": 23,
   "metadata": {},
   "outputs": [
    {
     "ename": "NameError",
     "evalue": "name 'lig' is not defined",
     "output_type": "error",
     "traceback": [
      "\u001b[1;31m---------------------------------------------------------------------------\u001b[0m",
      "\u001b[1;31mNameError\u001b[0m                                 Traceback (most recent call last)",
      "Cell \u001b[1;32mIn [23], line 2\u001b[0m\n\u001b[0;32m      1\u001b[0m \u001b[39mdel\u001b[39;00m lig\n\u001b[1;32m----> 2\u001b[0m lig\n",
      "\u001b[1;31mNameError\u001b[0m: name 'lig' is not defined"
     ]
    }
   ],
   "source": [
    "del lig\n",
    "lig"
   ]
  },
  {
   "cell_type": "code",
   "execution_count": 24,
   "metadata": {},
   "outputs": [
    {
     "data": {
      "text/plain": [
       "{'İstanbul': 'yağmurlu', 'Adana': 'güneşli', 'İzmir': 'bulutlu'}"
      ]
     },
     "execution_count": 24,
     "metadata": {},
     "output_type": "execute_result"
    }
   ],
   "source": [
    "# copy()\n",
    "\n",
    "hava_durumu = {\"İstanbul\": \"yağmurlu\", \"Adana\": \"güneşli\", \"İzmir\": \"bulutlu\"}\n",
    "yedek_hava_durumu = hava_durumu\n",
    "hava_durumu"
   ]
  },
  {
   "cell_type": "code",
   "execution_count": 25,
   "metadata": {},
   "outputs": [
    {
     "data": {
      "text/plain": [
       "{'İstanbul': 'yağmurlu', 'Adana': 'güneşli', 'İzmir': 'bulutlu'}"
      ]
     },
     "execution_count": 25,
     "metadata": {},
     "output_type": "execute_result"
    }
   ],
   "source": [
    "yedek_hava_durumu"
   ]
  },
  {
   "cell_type": "code",
   "execution_count": 26,
   "metadata": {},
   "outputs": [
    {
     "data": {
      "text/plain": [
       "{'İstanbul': 'yağmurlu',\n",
       " 'Adana': 'güneşli',\n",
       " 'İzmir': 'bulutlu',\n",
       " 'Mersin': 'sisli'}"
      ]
     },
     "execution_count": 26,
     "metadata": {},
     "output_type": "execute_result"
    }
   ],
   "source": [
    "hava_durumu[\"Mersin\"] = \"sisli\"\n",
    "hava_durumu"
   ]
  },
  {
   "cell_type": "code",
   "execution_count": 27,
   "metadata": {},
   "outputs": [
    {
     "data": {
      "text/plain": [
       "{'İstanbul': 'yağmurlu',\n",
       " 'Adana': 'güneşli',\n",
       " 'İzmir': 'bulutlu',\n",
       " 'Mersin': 'sisli'}"
      ]
     },
     "execution_count": 27,
     "metadata": {},
     "output_type": "execute_result"
    }
   ],
   "source": [
    "yedek_hava_durumu"
   ]
  },
  {
   "cell_type": "code",
   "execution_count": 28,
   "metadata": {},
   "outputs": [],
   "source": [
    "yedek_hava_durumu = hava_durumu.copy()"
   ]
  },
  {
   "cell_type": "code",
   "execution_count": 29,
   "metadata": {},
   "outputs": [
    {
     "data": {
      "text/plain": [
       "{'İstanbul': 'yağmurlu',\n",
       " 'Adana': 'güneşli',\n",
       " 'İzmir': 'bulutlu',\n",
       " 'Mersin': 'sisli',\n",
       " 'Antalya': 'sağanak yağmurlu'}"
      ]
     },
     "execution_count": 29,
     "metadata": {},
     "output_type": "execute_result"
    }
   ],
   "source": [
    "hava_durumu[\"Antalya\"] = \"sağanak yağmurlu\"\n",
    "hava_durumu"
   ]
  },
  {
   "cell_type": "code",
   "execution_count": 30,
   "metadata": {},
   "outputs": [
    {
     "data": {
      "text/plain": [
       "{'İstanbul': 'yağmurlu',\n",
       " 'Adana': 'güneşli',\n",
       " 'İzmir': 'bulutlu',\n",
       " 'Mersin': 'sisli'}"
      ]
     },
     "execution_count": 30,
     "metadata": {},
     "output_type": "execute_result"
    }
   ],
   "source": [
    "yedek_hava_durumu"
   ]
  },
  {
   "cell_type": "code",
   "execution_count": 31,
   "metadata": {},
   "outputs": [
    {
     "data": {
      "text/plain": [
       "{'Ahmet': 'Kadıköy', 'Mehmet': 'Kadıköy', 'Can': 'Kadıköy'}"
      ]
     },
     "execution_count": 31,
     "metadata": {},
     "output_type": "execute_result"
    }
   ],
   "source": [
    "# fromkeys()\n",
    "\n",
    "elemanlar = \"Ahmet\", \"Mehmet\", \"Can\"\n",
    "\n",
    "adresler = dict.fromkeys(elemanlar, \"Kadıköy\")\n",
    "\n",
    "adresler"
   ]
  },
  {
   "cell_type": "code",
   "execution_count": 32,
   "metadata": {},
   "outputs": [
    {
     "data": {
      "text/plain": [
       "('elma', 'armut')"
      ]
     },
     "execution_count": 32,
     "metadata": {},
     "output_type": "execute_result"
    }
   ],
   "source": [
    "# pop()\n",
    "\n",
    "sepet = {\"meyveler\": (\"elma\", \"armut\"), \"sebzeler\": (\"pırasa\", \"fasulye\"),\n",
    "\"içecekler\": (\"su\", \"kola\", \"ayran\")}\n",
    "\n",
    "sepet.pop(\"meyveler\")"
   ]
  },
  {
   "cell_type": "code",
   "execution_count": 33,
   "metadata": {},
   "outputs": [
    {
     "ename": "KeyError",
     "evalue": "'tatlılar'",
     "output_type": "error",
     "traceback": [
      "\u001b[1;31m---------------------------------------------------------------------------\u001b[0m",
      "\u001b[1;31mKeyError\u001b[0m                                  Traceback (most recent call last)",
      "Cell \u001b[1;32mIn [33], line 1\u001b[0m\n\u001b[1;32m----> 1\u001b[0m sepet\u001b[39m.\u001b[39;49mpop(\u001b[39m\"\u001b[39;49m\u001b[39mtatlılar\u001b[39;49m\u001b[39m\"\u001b[39;49m)\n",
      "\u001b[1;31mKeyError\u001b[0m: 'tatlılar'"
     ]
    }
   ],
   "source": [
    "sepet.pop(\"tatlılar\")"
   ]
  },
  {
   "cell_type": "code",
   "execution_count": 34,
   "metadata": {},
   "outputs": [
    {
     "data": {
      "text/plain": [
       "'Silinecek öğe yok!'"
      ]
     },
     "execution_count": 34,
     "metadata": {},
     "output_type": "execute_result"
    }
   ],
   "source": [
    "sepet.pop(\"tatlılar\", \"Silinecek öğe yok!\")"
   ]
  },
  {
   "cell_type": "code",
   "execution_count": 37,
   "metadata": {},
   "outputs": [
    {
     "data": {
      "text/plain": [
       "('sebzeler', ('pırasa', 'fasulye'))"
      ]
     },
     "execution_count": 37,
     "metadata": {},
     "output_type": "execute_result"
    }
   ],
   "source": [
    "# popitem()\n",
    "\n",
    "sepet = {\"meyveler\": (\"elma\", \"armut\"), \"sebzeler\": (\"pırasa\", \"fasulye\")}\n",
    "\n",
    "sepet.popitem()"
   ]
  },
  {
   "cell_type": "code",
   "execution_count": 38,
   "metadata": {},
   "outputs": [
    {
     "data": {
      "text/plain": [
       "('meyveler', ('elma', 'armut'))"
      ]
     },
     "execution_count": 38,
     "metadata": {},
     "output_type": "execute_result"
    }
   ],
   "source": [
    "sepet.popitem()"
   ]
  },
  {
   "cell_type": "code",
   "execution_count": 40,
   "metadata": {},
   "outputs": [
    {
     "ename": "KeyError",
     "evalue": "'popitem(): dictionary is empty'",
     "output_type": "error",
     "traceback": [
      "\u001b[1;31m---------------------------------------------------------------------------\u001b[0m",
      "\u001b[1;31mKeyError\u001b[0m                                  Traceback (most recent call last)",
      "Cell \u001b[1;32mIn [40], line 1\u001b[0m\n\u001b[1;32m----> 1\u001b[0m sepet\u001b[39m.\u001b[39;49mpopitem()\n\u001b[0;32m      2\u001b[0m sepet\n",
      "\u001b[1;31mKeyError\u001b[0m: 'popitem(): dictionary is empty'"
     ]
    }
   ],
   "source": [
    "sepet.popitem()"
   ]
  },
  {
   "cell_type": "code",
   "execution_count": 41,
   "metadata": {},
   "outputs": [
    {
     "data": {
      "text/plain": [
       "{}"
      ]
     },
     "execution_count": 41,
     "metadata": {},
     "output_type": "execute_result"
    }
   ],
   "source": [
    "sepet"
   ]
  },
  {
   "cell_type": "code",
   "execution_count": 42,
   "metadata": {},
   "outputs": [
    {
     "data": {
      "text/plain": [
       "('su', 'kola')"
      ]
     },
     "execution_count": 42,
     "metadata": {},
     "output_type": "execute_result"
    }
   ],
   "source": [
    "# setdefault()\n",
    "\n",
    "sepet = {\"meyveler\": (\"elma\", \"armut\"), \"sebzeler\": (\"pırasa\", \"fasulye\")}\n",
    "\n",
    "sepet.setdefault(\"içecekler\", (\"su\", \"kola\"))"
   ]
  },
  {
   "cell_type": "code",
   "execution_count": 43,
   "metadata": {},
   "outputs": [
    {
     "data": {
      "text/plain": [
       "('elma', 'armut')"
      ]
     },
     "execution_count": 43,
     "metadata": {},
     "output_type": "execute_result"
    }
   ],
   "source": [
    "sepet.setdefault(\"meyveler\", (\"erik\", \"çilek\"))"
   ]
  },
  {
   "cell_type": "code",
   "execution_count": 44,
   "metadata": {},
   "outputs": [
    {
     "data": {
      "text/plain": [
       "{'elma': 3, 'armut': 20, 'peynir': 8, 'sosis': 4, 'sucuk': 6}"
      ]
     },
     "execution_count": 44,
     "metadata": {},
     "output_type": "execute_result"
    }
   ],
   "source": [
    "# update()\n",
    "\n",
    "stok = {\"elma\": 5, \"armut\": 10, \"peynir\": 6, \"sosis\": 15}\n",
    "\n",
    "yeni_stok = {\"elma\": 3, \"armut\": 20, \"peynir\": 8, \"sosis\": 4, \"sucuk\": 6}\n",
    "\n",
    "stok.update(yeni_stok)\n",
    "stok"
   ]
  },
  {
   "cell_type": "code",
   "execution_count": null,
   "metadata": {},
   "outputs": [],
   "source": []
  }
 ],
 "metadata": {
  "kernelspec": {
   "display_name": "Python 3.11.0 64-bit",
   "language": "python",
   "name": "python3"
  },
  "language_info": {
   "codemirror_mode": {
    "name": "ipython",
    "version": 3
   },
   "file_extension": ".py",
   "mimetype": "text/x-python",
   "name": "python",
   "nbconvert_exporter": "python",
   "pygments_lexer": "ipython3",
   "version": "3.11.0"
  },
  "orig_nbformat": 4,
  "vscode": {
   "interpreter": {
    "hash": "7c542dbbc07e6010b76b61de8a453dc04d29cd1fae7fbaa29851ecbad9aefb83"
   }
  }
 },
 "nbformat": 4,
 "nbformat_minor": 2
}
