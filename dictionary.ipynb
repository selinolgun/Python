{
 "cells": [
  {
   "cell_type": "code",
   "execution_count": 2,
   "metadata": {},
   "outputs": [
    {
     "name": "stdout",
     "output_type": "stream",
     "text": [
      "41\n",
      "34\n"
     ]
    }
   ],
   "source": [
    "# key - value\n",
    "# 41 = kocaeli\n",
    "# 34 = istanbul\n",
    "# sehirler = [\"kocaeli\",\"istanbul\"]\n",
    "# plakalar = [41, 34]\n",
    "# print(plakalar[sehirler.index(\"kocaeli\")])\n",
    "# print(plakalar[sehirler.index(\"istanbul\")])"
   ]
  },
  {
   "cell_type": "code",
   "execution_count": 3,
   "metadata": {},
   "outputs": [
    {
     "name": "stdout",
     "output_type": "stream",
     "text": [
      "41\n",
      "34\n"
     ]
    }
   ],
   "source": [
    "# print(plakalar[\"kocaeli\"]) = 41\n",
    "# print(plakalar[\"istanbul\"]) = 34\n",
    "# plakalar = { \"kocaeli\" : 41, \"istanbul\" : 34 }\n",
    "# print(plakalar[\"kocaeli\"])\n",
    "# print(plakalar[\"istanbul\"])"
   ]
  },
  {
   "cell_type": "code",
   "execution_count": 5,
   "metadata": {},
   "outputs": [
    {
     "name": "stdout",
     "output_type": "stream",
     "text": [
      "{'kocaeli': 'new value', 'istanbul': 34, 'ankara': 6}\n"
     ]
    }
   ],
   "source": [
    "# plakalar[\"ankara\"] = 6\n",
    "# plakalar[\"kocaeli\"] = \"new value\"\n",
    "# print(plakalar)"
   ]
  },
  {
   "cell_type": "code",
   "execution_count": 12,
   "metadata": {},
   "outputs": [
    {
     "name": "stdout",
     "output_type": "stream",
     "text": [
      "{'roles': ['user', 'admin'], 'age': 26, 'email': 'sonayilica@gmail.com', 'adress': 'manisa', 'phone': '0534293'}\n",
      "{'roles': ['user'], 'age': 25, 'email': 'selinolgun@gmail.com', 'adress': 'balıkesir', 'phone': '0534271'}\n",
      "user\n"
     ]
    }
   ],
   "source": [
    "kullanici = { \"sonayılıca\" : {\"roles\" : [\"user\",\"admin\"],\n",
    "\"age\" : 26,\n",
    "\"email\" : \"sonayilica@gmail.com\",\n",
    "\"adress\" : \"manisa\",\n",
    "\"phone\" : \"0534293\" },\n",
    "\"selinolgun\" : {\"roles\" : [\"user\"],\n",
    "\"age\" : 25,\n",
    "\"email\" : \"selinolgun@gmail.com\",\n",
    "\"adress\" : \"balıkesir\",\n",
    "\"phone\" : \"0534271\"} }\n",
    "print(kullanici[\"sonayılıca\"])\n",
    "print(kullanici[\"selinolgun\"])\n",
    "print(kullanici[\"sonayılıca\"][\"roles\"][0])"
   ]
  },
  {
   "cell_type": "code",
   "execution_count": null,
   "metadata": {},
   "outputs": [],
   "source": []
  }
 ],
 "metadata": {
  "kernelspec": {
   "display_name": "Python 3.11.0 64-bit",
   "language": "python",
   "name": "python3"
  },
  "language_info": {
   "codemirror_mode": {
    "name": "ipython",
    "version": 3
   },
   "file_extension": ".py",
   "mimetype": "text/x-python",
   "name": "python",
   "nbconvert_exporter": "python",
   "pygments_lexer": "ipython3",
   "version": "3.11.0"
  },
  "orig_nbformat": 4,
  "vscode": {
   "interpreter": {
    "hash": "7c542dbbc07e6010b76b61de8a453dc04d29cd1fae7fbaa29851ecbad9aefb83"
   }
  }
 },
 "nbformat": 4,
 "nbformat_minor": 2
}
