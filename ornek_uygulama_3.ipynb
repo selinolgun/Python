{
 "cells": [
  {
   "cell_type": "code",
   "execution_count": 2,
   "metadata": {},
   "outputs": [
    {
     "name": "stdout",
     "output_type": "stream",
     "text": [
      "Programa hoşgeldiniz.\n"
     ]
    }
   ],
   "source": [
    "# -*- coding: utf-8 -*-\n",
    "\n",
    "import sys\n",
    "\n",
    "_2x_metni = u\"\"\"\n",
    "Python'ın 2.x sürümlerinden birini kullanıyorsunuz.\n",
    "Programı çalıştırabilmek için sisteminizde Python'ın\n",
    "3.x sürümlerinden biri kurulu olmalı.\"\"\"\n",
    "\n",
    "_3x_metni = \"Programa hoşgeldiniz.\"\n",
    "\n",
    "if sys.version_info.major < 3:\n",
    "    print(_2x_metni)\n",
    "else:\n",
    "    print(_3x_metni)"
   ]
  },
  {
   "cell_type": "code",
   "execution_count": null,
   "metadata": {},
   "outputs": [],
   "source": []
  }
 ],
 "metadata": {
  "kernelspec": {
   "display_name": "Python 3.11.0 64-bit",
   "language": "python",
   "name": "python3"
  },
  "language_info": {
   "codemirror_mode": {
    "name": "ipython",
    "version": 3
   },
   "file_extension": ".py",
   "mimetype": "text/x-python",
   "name": "python",
   "nbconvert_exporter": "python",
   "pygments_lexer": "ipython3",
   "version": "3.11.0"
  },
  "orig_nbformat": 4,
  "vscode": {
   "interpreter": {
    "hash": "7c542dbbc07e6010b76b61de8a453dc04d29cd1fae7fbaa29851ecbad9aefb83"
   }
  }
 },
 "nbformat": 4,
 "nbformat_minor": 2
}
