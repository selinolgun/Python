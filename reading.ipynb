{
 "cells": [
  {
   "cell_type": "code",
   "execution_count": 6,
   "metadata": {},
   "outputs": [
    {
     "name": "stdout",
     "output_type": "stream",
     "text": [
      "<_io.TextIOWrapper name='newfile.txt' mode='r' encoding='cp1254'>\n",
      "dosya kapandı\n"
     ]
    }
   ],
   "source": [
    "# try:\n",
    "#     file = open(\"newfile.txt\",\"r\")\n",
    "#     print(file)\n",
    "# except FileNotFoundError:\n",
    "#     print(\"dosya okuma hatası\")\n",
    "# finally:\n",
    "#     print(\"dosya kapandı\")\n",
    "#     file.close()\n"
   ]
  },
  {
   "cell_type": "code",
   "execution_count": 9,
   "metadata": {},
   "outputs": [
    {
     "name": "stdout",
     "output_type": "stream",
     "text": [
      "Sonay IlıcaSonay Ilıca\n",
      "Selin OlgunSelin Olgun\n",
      "Selin Olgun\n"
     ]
    }
   ],
   "source": [
    "# file = open(\"newfile.txt\",\"r\",encoding=\"utf-8\")\n",
    "\n",
    "# for döngüsü\n",
    "\n",
    "# for i in file:\n",
    "#     print(i, end=\"\")\n",
    "\n",
    "# file.close()"
   ]
  },
  {
   "cell_type": "code",
   "execution_count": 14,
   "metadata": {},
   "outputs": [
    {
     "name": "stdout",
     "output_type": "stream",
     "text": [
      "içerik 1\n",
      "Sonay IlıcaSonay Ilıca\n",
      "Selin OlgunSelin Olgun\n",
      "Selin Olgun\n",
      "\n",
      "içerik 2\n",
      "Sonay IlıcaSonay Ilıca\n",
      "Selin OlgunSelin Olgun\n",
      "Selin Olgun\n",
      "\n"
     ]
    }
   ],
   "source": [
    "# read() fonksiyonu\n",
    "\n",
    "# file = open(\"newfile.txt\",\"r\",encoding=\"utf-8\")\n",
    "\n",
    "# content = file.read()\n",
    "\n",
    "# print(\"içerik 1\")\n",
    "# print(content)\n",
    "\n",
    "# file = open(\"newfile.txt\",\"r\",encoding=\"utf-8\")\n",
    "# content2 = file.read()\n",
    "# print(\"içerik 2\")\n",
    "# print(content2)\n",
    "\n",
    "# file.close()\n"
   ]
  },
  {
   "cell_type": "code",
   "execution_count": 18,
   "metadata": {},
   "outputs": [
    {
     "name": "stdout",
     "output_type": "stream",
     "text": [
      "ıca\n"
     ]
    }
   ],
   "source": [
    "# file = open(\"newfile.txt\",\"r\",encoding=\"utf-8\")\n",
    "# content = file.read(5)\n",
    "# content = file.read(3)\n",
    "# content = file.read(3)\n",
    "# print(content)\n",
    "\n",
    "# file.close()"
   ]
  },
  {
   "cell_type": "code",
   "execution_count": 27,
   "metadata": {},
   "outputs": [
    {
     "name": "stdout",
     "output_type": "stream",
     "text": [
      "Sonay IlıcaSonay Ilıca\n",
      "Selin OlgunSelin Olgun\n",
      "Selin Olgun\n",
      "\n",
      "\n",
      "\n"
     ]
    }
   ],
   "source": [
    "# readline fonksiyonu\n",
    "\n",
    "# file = open(\"newfile.txt\",\"r\",encoding=\"utf-8\")\n",
    "\n",
    "# print(file.readline(),end=\"\")\n",
    "# print(file.readline(),end=\"\")\n",
    "# print(file.readline(),end=\"\")\n",
    "# print(file.readline(),end=\"\")\n",
    "# print(file.readline(),)\n",
    "# print(file.readline(),)\n",
    "# print(file.readline(),)\n",
    "\n",
    "\n",
    "# file.close()"
   ]
  },
  {
   "cell_type": "code",
   "execution_count": 30,
   "metadata": {},
   "outputs": [
    {
     "name": "stdout",
     "output_type": "stream",
     "text": [
      "['Sonay IlıcaSonay Ilıca\\n', 'Selin OlgunSelin Olgun\\n', 'Selin Olgun\\n']\n",
      "Sonay IlıcaSonay Ilıca\n",
      "\n",
      "Selin OlgunSelin Olgun\n",
      "\n",
      "Selin Olgun\n",
      "\n"
     ]
    }
   ],
   "source": [
    "# readlines() fonksiyonu\n",
    "\n",
    "file = open(\"newfile.txt\",\"r\",encoding=\"utf-8\")\n",
    "\n",
    "liste = file.readlines()\n",
    "print(liste)\n",
    "print(liste[0])\n",
    "print(liste[1])\n",
    "print(liste[2])\n",
    "\n",
    "file.close()"
   ]
  },
  {
   "cell_type": "code",
   "execution_count": null,
   "metadata": {},
   "outputs": [],
   "source": []
  }
 ],
 "metadata": {
  "kernelspec": {
   "display_name": "Python 3.11.0 64-bit",
   "language": "python",
   "name": "python3"
  },
  "language_info": {
   "codemirror_mode": {
    "name": "ipython",
    "version": 3
   },
   "file_extension": ".py",
   "mimetype": "text/x-python",
   "name": "python",
   "nbconvert_exporter": "python",
   "pygments_lexer": "ipython3",
   "version": "3.11.0"
  },
  "orig_nbformat": 4,
  "vscode": {
   "interpreter": {
    "hash": "7c542dbbc07e6010b76b61de8a453dc04d29cd1fae7fbaa29851ecbad9aefb83"
   }
  }
 },
 "nbformat": 4,
 "nbformat_minor": 2
}
