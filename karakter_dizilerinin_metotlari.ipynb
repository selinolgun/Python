{
 "cells": [
  {
   "cell_type": "code",
   "execution_count": 1,
   "metadata": {},
   "outputs": [
    {
     "data": {
      "text/plain": [
       "'Elma'"
      ]
     },
     "execution_count": 1,
     "metadata": {},
     "output_type": "execute_result"
    }
   ],
   "source": [
    "# replace()\n",
    "\n",
    "kardiz = \"elma\"\n",
    "kardiz.replace(\"e\", \"E\")"
   ]
  },
  {
   "cell_type": "code",
   "execution_count": 2,
   "metadata": {},
   "outputs": [
    {
     "data": {
      "text/plain": [
       "'memleKET'"
      ]
     },
     "execution_count": 2,
     "metadata": {},
     "output_type": "execute_result"
    }
   ],
   "source": [
    "kardiz = \"memleket\"\n",
    "kardiz.replace(\"ket\", \"KET\")"
   ]
  },
  {
   "cell_type": "code",
   "execution_count": 3,
   "metadata": {},
   "outputs": [
    {
     "data": {
      "text/plain": [
       "'mmlkt'"
      ]
     },
     "execution_count": 3,
     "metadata": {},
     "output_type": "execute_result"
    }
   ],
   "source": [
    "kardiz = \"memleket\"\n",
    "kardiz.replace(\"e\", \"\")"
   ]
  },
  {
   "cell_type": "code",
   "execution_count": 4,
   "metadata": {},
   "outputs": [
    {
     "data": {
      "text/plain": [
       "'mmleket'"
      ]
     },
     "execution_count": 4,
     "metadata": {},
     "output_type": "execute_result"
    }
   ],
   "source": [
    "kardiz.replace(\"e\", \"\", 1)\n",
    "\n",
    "# 3. parametre ile bu işlemi kaç e'de uygulayacağımızı belirttik"
   ]
  },
  {
   "cell_type": "code",
   "execution_count": 5,
   "metadata": {},
   "outputs": [
    {
     "data": {
      "text/plain": [
       "'mmlket'"
      ]
     },
     "execution_count": 5,
     "metadata": {},
     "output_type": "execute_result"
    }
   ],
   "source": [
    "kardiz.replace(\"e\", \"\", 2)"
   ]
  },
  {
   "cell_type": "code",
   "execution_count": 6,
   "metadata": {},
   "outputs": [
    {
     "data": {
      "text/plain": [
       "'Elma'"
      ]
     },
     "execution_count": 6,
     "metadata": {},
     "output_type": "execute_result"
    }
   ],
   "source": [
    "meyve = \"elma\"\n",
    "meyve = meyve.replace(\"e\", \"E\")\n",
    "meyve\n",
    "\n",
    "# temelli değiştirmedir \n",
    "# karakter dizileri metotlarla kalıcı olarak değişmezler"
   ]
  },
  {
   "cell_type": "code",
   "execution_count": 7,
   "metadata": {},
   "outputs": [
    {
     "name": "stdout",
     "output_type": "stream",
     "text": [
      "İBB\n"
     ]
    }
   ],
   "source": [
    "# split() rsplit() splitlines()\n",
    "\n",
    "kardiz = \"İstanbul Büyükşehir Belediyesi\"\n",
    "print(kardiz[0], kardiz[9], kardiz[20], sep=\"\")"
   ]
  },
  {
   "cell_type": "code",
   "execution_count": 8,
   "metadata": {},
   "outputs": [
    {
     "data": {
      "text/plain": [
       "['İstanbul', 'Büyükşehir', 'Belediyesi']"
      ]
     },
     "execution_count": 8,
     "metadata": {},
     "output_type": "execute_result"
    }
   ],
   "source": [
    "kardiz.split()"
   ]
  },
  {
   "cell_type": "code",
   "execution_count": 9,
   "metadata": {},
   "outputs": [
    {
     "name": "stdout",
     "output_type": "stream",
     "text": [
      "İstanbul\n",
      "Büyükşehir\n",
      "Belediyesi\n"
     ]
    }
   ],
   "source": [
    "for i in kardiz.split():\n",
    "    print(i)"
   ]
  },
  {
   "cell_type": "code",
   "execution_count": 11,
   "metadata": {},
   "outputs": [
    {
     "name": "stdout",
     "output_type": "stream",
     "text": [
      "TBMM"
     ]
    }
   ],
   "source": [
    "kardiz = input(\"Kısaltmasını öğrenmek istediğiniz kurum adını girin: \")\n",
    "\n",
    "for i in kardiz.split():\n",
    "    print(i[0], end=\"\")"
   ]
  },
  {
   "cell_type": "code",
   "execution_count": 13,
   "metadata": {},
   "outputs": [
    {
     "name": "stdout",
     "output_type": "stream",
     "text": [
      "Bolvadin\n",
      " Kilis\n",
      " Siverek\n",
      " İskenderun\n",
      " İstanbul\n"
     ]
    }
   ],
   "source": [
    "kardiz = \"Bolvadin, Kilis, Siverek, İskenderun, İstanbul\"\n",
    "kardiz = kardiz.split(\",\")\n",
    "for i in kardiz:\n",
    "    print(i)"
   ]
  },
  {
   "cell_type": "code",
   "execution_count": 14,
   "metadata": {},
   "outputs": [
    {
     "data": {
      "text/plain": [
       "['Ankara', 'Büyükşehir Belediyesi']"
      ]
     },
     "execution_count": 14,
     "metadata": {},
     "output_type": "execute_result"
    }
   ],
   "source": [
    "kardiz = \"Ankara Büyükşehir Belediyesi\"\n",
    "kardiz.split(\" \", 1)"
   ]
  },
  {
   "cell_type": "code",
   "execution_count": 15,
   "metadata": {},
   "outputs": [
    {
     "data": {
      "text/plain": [
       "['Ankara', 'Büyükşehir', 'Belediyesi']"
      ]
     },
     "execution_count": 15,
     "metadata": {},
     "output_type": "execute_result"
    }
   ],
   "source": [
    "kardiz.split(\" \", 2)\n",
    "# ikinci parametre kaç kez bölüneceğini belirler"
   ]
  },
  {
   "cell_type": "code",
   "execution_count": 16,
   "metadata": {},
   "outputs": [
    {
     "data": {
      "text/plain": [
       "['3.11.0',\n",
       " '(main,',\n",
       " 'Oct',\n",
       " '24',\n",
       " '2022,',\n",
       " '18:26:48)',\n",
       " '[MSC',\n",
       " 'v.1933',\n",
       " '64',\n",
       " 'bit',\n",
       " '(AMD64)]']"
      ]
     },
     "execution_count": 16,
     "metadata": {},
     "output_type": "execute_result"
    }
   ],
   "source": [
    "import sys\n",
    "sürüm = sys.version\n",
    "sürüm.split()"
   ]
  },
  {
   "cell_type": "code",
   "execution_count": 17,
   "metadata": {},
   "outputs": [
    {
     "name": "stdout",
     "output_type": "stream",
     "text": [
      "3.11.0\n"
     ]
    }
   ],
   "source": [
    "print(sürüm.split()[0])"
   ]
  },
  {
   "cell_type": "code",
   "execution_count": 20,
   "metadata": {},
   "outputs": [
    {
     "data": {
      "text/plain": [
       "['Ankara', 'Büyükşehir Belediyesi']"
      ]
     },
     "execution_count": 20,
     "metadata": {},
     "output_type": "execute_result"
    }
   ],
   "source": [
    "# rsplit yani reverse split tersten bölmeye başlar\n",
    "\n",
    "kardiz.split(\" \", 1)"
   ]
  },
  {
   "cell_type": "code",
   "execution_count": 21,
   "metadata": {},
   "outputs": [
    {
     "data": {
      "text/plain": [
       "['Ankara Büyükşehir', 'Belediyesi']"
      ]
     },
     "execution_count": 21,
     "metadata": {},
     "output_type": "execute_result"
    }
   ],
   "source": [
    "kardiz.rsplit(\" \", 1)"
   ]
  },
  {
   "cell_type": "code",
   "execution_count": 22,
   "metadata": {},
   "outputs": [
    {
     "name": "stdout",
     "output_type": "stream",
     "text": [
      "['Python programlama dili Guido Van Rossum adlı Hollandalı bir programcı', \"tarafından 90'lı yılların başında geliştirilmeye başlanmıştır. Çoğu insan, isminin\", 'Python olmasına bakarak, bu programlama dilinin, adını piton yılanından aldığını', 'düşünür. Ancak zannedildiğinin aksine bu programlama dilinin adı piton yılanından', 'gelmez. Guido Van Rossum bu programlama dilini, The Monty Python adlı bir İngiliz', \"komedi grubunun, Monty Python's Flying Circus adlı gösterisinden esinlenerek\", 'adlandırmıştır. Ancak her ne kadar gerçek böyle olsa da, Python programlama', 'dilinin pek çok yerde bir yılan figürü ile temsil edilmesi neredeyse bir gelenek', 'halini almıştır diyebiliriz.']\n"
     ]
    }
   ],
   "source": [
    "metin = \"\"\"Python programlama dili Guido Van Rossum adlı Hollandalı bir programcı\n",
    "tarafından 90'lı yılların başında geliştirilmeye başlanmıştır. Çoğu insan, isminin\n",
    "Python olmasına bakarak, bu programlama dilinin, adını piton yılanından aldığını\n",
    "düşünür. Ancak zannedildiğinin aksine bu programlama dilinin adı piton yılanından\n",
    "gelmez. Guido Van Rossum bu programlama dilini, The Monty Python adlı bir İngiliz\n",
    "komedi grubunun, Monty Python's Flying Circus adlı gösterisinden esinlenerek\n",
    "adlandırmıştır. Ancak her ne kadar gerçek böyle olsa da, Python programlama\n",
    "dilinin pek çok yerde bir yılan figürü ile temsil edilmesi neredeyse bir gelenek\n",
    "halini almıştır diyebiliriz.\"\"\"\n",
    "\n",
    "print(metin.splitlines())\n",
    "\n",
    "# splitlines satır satır ayırır"
   ]
  },
  {
   "cell_type": "code",
   "execution_count": 23,
   "metadata": {},
   "outputs": [
    {
     "name": "stdout",
     "output_type": "stream",
     "text": [
      "['Python programlama dili Guido Van Rossum adlı Hollandalı bir programcı\\n', \"tarafından 90'lı yılların başında geliştirilmeye başlanmıştır. Çoğu insan, isminin\\n\", 'Python olmasına bakarak, bu programlama dilinin, adını piton yılanından aldığını\\n', 'düşünür. Ancak zannedildiğinin aksine bu programlama dilinin adı piton yılanından\\n', 'gelmez. Guido Van Rossum bu programlama dilini, The Monty Python adlı bir İngiliz\\n', \"komedi grubunun, Monty Python's Flying Circus adlı gösterisinden esinlenerek\\n\", 'adlandırmıştır. Ancak her ne kadar gerçek böyle olsa da, Python programlama\\n', 'dilinin pek çok yerde bir yılan figürü ile temsil edilmesi neredeyse bir gelenek\\n', 'halini almıştır diyebiliriz.']\n"
     ]
    }
   ],
   "source": [
    "print(metin.splitlines(True))"
   ]
  },
  {
   "cell_type": "code",
   "execution_count": 27,
   "metadata": {},
   "outputs": [
    {
     "name": "stdout",
     "output_type": "stream",
     "text": [
      "email: aoz@hmail.com\n",
      "tel  : 02121231212\n",
      "şehir: istanbul\n"
     ]
    }
   ],
   "source": [
    "# lower()\n",
    "\n",
    "kişi = input(\"Aradığınız kişinin adı ve soyadı: \")\n",
    "kişi = kişi.lower()\n",
    "\n",
    "if kişi == \"ahmet öz\":\n",
    "    print(\"email: aoz@hmail.com\")\n",
    "    print(\"tel  : 02121231212\")\n",
    "    print(\"şehir: istanbul\")\n",
    "\n",
    "elif kişi == \"mehmet söz\":\n",
    "    print(\"email: msoz@zmail.com\")\n",
    "    print(\"tel  : 03121231212\")\n",
    "    print(\"şehir: ankara\")\n",
    "\n",
    "elif kişi == \"mahmut göz\":\n",
    "    print(\"email: mgoz@jmail.com\")\n",
    "    print(\"tel  : 02161231212\")\n",
    "    print(\"şehir: istanbul\")\n",
    "\n",
    "else:\n",
    "    print(\"Aradığınız kişi veritabanında yok!\")"
   ]
  },
  {
   "cell_type": "code",
   "execution_count": 28,
   "metadata": {},
   "outputs": [
    {
     "data": {
      "text/plain": [
       "'elma'"
      ]
     },
     "execution_count": 28,
     "metadata": {},
     "output_type": "execute_result"
    }
   ],
   "source": [
    "kardiz = \"ELMA\"\n",
    "kardiz.lower()"
   ]
  },
  {
   "cell_type": "code",
   "execution_count": 29,
   "metadata": {},
   "outputs": [
    {
     "data": {
      "text/plain": [
       "'armut'"
      ]
     },
     "execution_count": 29,
     "metadata": {},
     "output_type": "execute_result"
    }
   ],
   "source": [
    "kardiz = \"arMuT\"\n",
    "kardiz.lower()"
   ]
  },
  {
   "cell_type": "code",
   "execution_count": 30,
   "metadata": {},
   "outputs": [
    {
     "data": {
      "text/plain": [
       "'python programlama'"
      ]
     },
     "execution_count": 30,
     "metadata": {},
     "output_type": "execute_result"
    }
   ],
   "source": [
    "kardiz = \"PYTHON PROGRAMLAMA\"\n",
    "kardiz.lower()"
   ]
  },
  {
   "cell_type": "code",
   "execution_count": 32,
   "metadata": {},
   "outputs": [
    {
     "name": "stdout",
     "output_type": "stream",
     "text": [
      "i̇stanbul\n",
      "adiyaman\n"
     ]
    }
   ],
   "source": [
    "il = \"İSTANBUL\"\n",
    "print(il.lower())\n",
    "\n",
    "il = \"ADIYAMAN\"\n",
    "print(il.lower())"
   ]
  },
  {
   "cell_type": "code",
   "execution_count": 33,
   "metadata": {},
   "outputs": [
    {
     "data": {
      "text/plain": [
       "'i'"
      ]
     },
     "execution_count": 33,
     "metadata": {},
     "output_type": "execute_result"
    }
   ],
   "source": [
    "\"I\".lower()\n",
    "\n",
    "# sorun ingilizce algılaması"
   ]
  },
  {
   "cell_type": "code",
   "execution_count": 34,
   "metadata": {},
   "outputs": [
    {
     "name": "stdout",
     "output_type": "stream",
     "text": [
      "ısparta, adıyaman, diyarbakır, aydın, balıkesir, ağrı\n"
     ]
    }
   ],
   "source": [
    "iller = \"ISPARTA, ADIYAMAN, DİYARBAKIR, AYDIN, BALIKESİR, AĞRI\"\n",
    "\n",
    "iller = iller.replace(\"I\", \"ı\").replace(\"İ\", \"i\").lower()\n",
    "print(iller)\n",
    "\n",
    "# metotlar bu şekilde uç uca da eklenebilir"
   ]
  },
  {
   "cell_type": "code",
   "execution_count": 35,
   "metadata": {},
   "outputs": [
    {
     "data": {
      "text/plain": [
       "'KALEM'"
      ]
     },
     "execution_count": 35,
     "metadata": {},
     "output_type": "execute_result"
    }
   ],
   "source": [
    "# upper()\n",
    "\n",
    "kardiz = \"kalem\"\n",
    "kardiz.upper()"
   ]
  },
  {
   "cell_type": "code",
   "execution_count": 37,
   "metadata": {},
   "outputs": [
    {
     "name": "stdout",
     "output_type": "stream",
     "text": [
      "parçalı bulutlu\n"
     ]
    }
   ],
   "source": [
    "şehir = input(\"Hava durumunu öğrenmek için bir şehir adı girin: \")\n",
    "şehir = şehir.upper()\n",
    "\n",
    "if şehir == \"ADANA\":\n",
    "    print(\"parçalı bulutlu\")\n",
    "\n",
    "elif şehir == \"ERZURUM\":\n",
    "    print(\"karla karışık yağmurlu\")\n",
    "\n",
    "elif şehir == \"ANTAKYA\":\n",
    "    print(\"açık ve güneşli\")\n",
    "\n",
    "else:\n",
    "    print(\"Girdiğiniz şehir veritabanında yok!\")"
   ]
  },
  {
   "cell_type": "code",
   "execution_count": 38,
   "metadata": {},
   "outputs": [
    {
     "data": {
      "text/plain": [
       "'ISTANBUL'"
      ]
     },
     "execution_count": 38,
     "metadata": {},
     "output_type": "execute_result"
    }
   ],
   "source": [
    "kardiz = \"istanbul\"\n",
    "kardiz.upper()\n",
    "\n",
    "# lowerdaki sorun burada da geçerli ingilizce harfler"
   ]
  },
  {
   "cell_type": "code",
   "execution_count": 39,
   "metadata": {},
   "outputs": [
    {
     "name": "stdout",
     "output_type": "stream",
     "text": [
      "İSTANBUL, İZMİR, SİİRT, MERSİN\n"
     ]
    }
   ],
   "source": [
    "iller = \"istanbul, izmir, siirt, mersin\"\n",
    "\n",
    "iller = iller.replace(\"i\", \"İ\").upper()\n",
    "print(iller)"
   ]
  },
  {
   "cell_type": "code",
   "execution_count": 40,
   "metadata": {},
   "outputs": [
    {
     "data": {
      "text/plain": [
       "True"
      ]
     },
     "execution_count": 40,
     "metadata": {},
     "output_type": "execute_result"
    }
   ],
   "source": [
    "# islower() isupper()\n",
    "\n",
    "# bunlar sorgulayıcı metotlardandır\n",
    "\n",
    "# Küçük mü büyük mü?\n",
    "\n",
    "kardiz = \"istihza\"\n",
    "kardiz.islower()"
   ]
  },
  {
   "cell_type": "code",
   "execution_count": 41,
   "metadata": {},
   "outputs": [
    {
     "data": {
      "text/plain": [
       "False"
      ]
     },
     "execution_count": 41,
     "metadata": {},
     "output_type": "execute_result"
    }
   ],
   "source": [
    "kardiz = \"Ankara\"\n",
    "kardiz.islower()"
   ]
  },
  {
   "cell_type": "code",
   "execution_count": 42,
   "metadata": {},
   "outputs": [
    {
     "name": "stdout",
     "output_type": "stream",
     "text": [
      "Lütfen isminizi sadece küçük harflerle yazın\n"
     ]
    }
   ],
   "source": [
    "veri = input(\"Adınız: \")\n",
    "\n",
    "if not veri.islower():\n",
    "    print(\"Lütfen isminizi sadece küçük harflerle yazın\")"
   ]
  },
  {
   "cell_type": "code",
   "execution_count": 43,
   "metadata": {},
   "outputs": [
    {
     "data": {
      "text/plain": [
       "True"
      ]
     },
     "execution_count": 43,
     "metadata": {},
     "output_type": "execute_result"
    }
   ],
   "source": [
    "kardiz = \"İSTİHZA\"\n",
    "kardiz.isupper()"
   ]
  },
  {
   "cell_type": "code",
   "execution_count": 44,
   "metadata": {},
   "outputs": [
    {
     "data": {
      "text/plain": [
       "False"
      ]
     },
     "execution_count": 44,
     "metadata": {},
     "output_type": "execute_result"
    }
   ],
   "source": [
    "kardiz = \"python\"\n",
    "kardiz.isupper()"
   ]
  },
  {
   "cell_type": "code",
   "execution_count": 45,
   "metadata": {},
   "outputs": [
    {
     "name": "stdout",
     "output_type": "stream",
     "text": [
      "Tamamı büyük harflerden oluşan kelimeler kullanmayın!\n"
     ]
    }
   ],
   "source": [
    "veri = input(\"mesajınız: \")\n",
    "böl = veri.split()\n",
    "\n",
    "for i in böl:\n",
    "    if i.isupper():\n",
    "        print(\"Tamamı büyük harflerden oluşan kelimeler kullanmayın!\")"
   ]
  },
  {
   "cell_type": "code",
   "execution_count": 46,
   "metadata": {},
   "outputs": [
    {
     "data": {
      "text/plain": [
       "True"
      ]
     },
     "execution_count": 46,
     "metadata": {},
     "output_type": "execute_result"
    }
   ],
   "source": [
    "# endswith()\n",
    "\n",
    "# sorgulayıcı metot\n",
    "\n",
    "# neyle bitiyor?\n",
    "\n",
    "kardiz = \"istihza\"\n",
    "kardiz.endswith(\"a\")"
   ]
  },
  {
   "cell_type": "code",
   "execution_count": 47,
   "metadata": {},
   "outputs": [
    {
     "data": {
      "text/plain": [
       "False"
      ]
     },
     "execution_count": 47,
     "metadata": {},
     "output_type": "execute_result"
    }
   ],
   "source": [
    "kardiz.endswith(\"z\")"
   ]
  },
  {
   "cell_type": "code",
   "execution_count": 48,
   "metadata": {},
   "outputs": [
    {
     "name": "stdout",
     "output_type": "stream",
     "text": [
      "tkinter.mp3\n",
      "sarki.mp3\n",
      "falanca.mp3\n",
      "c++.mp3\n"
     ]
    }
   ],
   "source": [
    "d1 = \"python.ogg\"\n",
    "d2 = \"tkinter.mp3\"\n",
    "d3 = \"pygtk.ogg\"\n",
    "d4 = \"movie.avi\"\n",
    "d5 = \"sarki.mp3\"\n",
    "d6 = \"filanca.ogg\"\n",
    "d7 = \"falanca.mp3\"\n",
    "d8 = \"dosya.avi\"\n",
    "d9 = \"perl.ogg\"\n",
    "d10 = \"c.avi\"\n",
    "d11 = \"c++.mp3\"\n",
    "\n",
    "for i in d1, d2, d3, d4, d5, d6, d7, d8, d9, d10, d11:\n",
    "    if i.endswith(\".mp3\"):\n",
    "        print(i)\n",
    "\n",
    "# for i in d1, d2, d3, d4, d5, d6, d7, d8, d9, d10, d11:\n",
    "#     if i[-4:len(i)] == \".mp3\":\n",
    "#         print(i)\n",
    "# ALTERNATİF YÖNTEM"
   ]
  },
  {
   "cell_type": "code",
   "execution_count": 49,
   "metadata": {},
   "outputs": [
    {
     "data": {
      "text/plain": [
       "True"
      ]
     },
     "execution_count": 49,
     "metadata": {},
     "output_type": "execute_result"
    }
   ],
   "source": [
    "# startswith()\n",
    "\n",
    "# sorgulayıcı metot\n",
    "\n",
    "# neyle başlar?\n",
    "\n",
    "kardiz = \"python\"\n",
    "kardiz.startswith(\"p\")"
   ]
  },
  {
   "cell_type": "code",
   "execution_count": 50,
   "metadata": {},
   "outputs": [
    {
     "data": {
      "text/plain": [
       "False"
      ]
     },
     "execution_count": 50,
     "metadata": {},
     "output_type": "execute_result"
    }
   ],
   "source": [
    "kardiz.startswith(\"a\")"
   ]
  },
  {
   "cell_type": "code",
   "execution_count": 51,
   "metadata": {},
   "outputs": [
    {
     "name": "stdout",
     "output_type": "stream",
     "text": [
      "python.ogg\n",
      "pygtk.ogg\n",
      "perl.ogg\n"
     ]
    }
   ],
   "source": [
    "d1 = \"python.ogg\"\n",
    "d2 = \"tkinter.mp3\"\n",
    "d3 = \"pygtk.ogg\"\n",
    "d4 = \"movie.avi\"\n",
    "d5 = \"sarki.mp3\"\n",
    "d6 = \"filanca.ogg\"\n",
    "d7 = \"falanca.mp3\"\n",
    "d8 = \"dosya.avi\"\n",
    "d9 = \"perl.ogg\"\n",
    "d10 = \"c.avi\"\n",
    "d11 = \"c++.mp3\"\n",
    "\n",
    "for i in d1, d2, d3, d4, d5, d6, d7, d8, d9, d10, d11:\n",
    "    if i.startswith(\"p\"):\n",
    "        print(i)\n",
    "\n",
    "# for i in d1, d2, d3, d4, d5, d6, d7, d8, d9, d10, d11:\n",
    "#     if i[0] == \"p\":\n",
    "#         print(i)\n",
    "# ALTERNATİF YÖNTEM"
   ]
  },
  {
   "cell_type": "code",
   "execution_count": null,
   "metadata": {},
   "outputs": [],
   "source": []
  }
 ],
 "metadata": {
  "kernelspec": {
   "display_name": "Python 3.11.0 64-bit",
   "language": "python",
   "name": "python3"
  },
  "language_info": {
   "codemirror_mode": {
    "name": "ipython",
    "version": 3
   },
   "file_extension": ".py",
   "mimetype": "text/x-python",
   "name": "python",
   "nbconvert_exporter": "python",
   "pygments_lexer": "ipython3",
   "version": "3.11.0"
  },
  "orig_nbformat": 4,
  "vscode": {
   "interpreter": {
    "hash": "7c542dbbc07e6010b76b61de8a453dc04d29cd1fae7fbaa29851ecbad9aefb83"
   }
  }
 },
 "nbformat": 4,
 "nbformat_minor": 2
}
