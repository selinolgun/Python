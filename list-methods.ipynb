{
 "cells": [
  {
   "cell_type": "code",
   "execution_count": 35,
   "metadata": {},
   "outputs": [
    {
     "name": "stdout",
     "output_type": "stream",
     "text": [
      "['y', 's', 's', 'g', 'b', 'a', 'a']\n",
      "11\n",
      "7\n",
      "2\n",
      "2\n",
      "[]\n"
     ]
    }
   ],
   "source": [
    "numbers = [1, 10, 5, 16, 4, 9, 10]\n",
    "letters = [\"a\", \"g\",\"s\",\"b\",\"y\",\"a\",\"s\"]\n",
    "\n",
    "val = min(numbers)\n",
    "val = max(numbers)\n",
    "val = max(letters)\n",
    "val = min(letters)\n",
    "\n",
    "val = numbers[3:6]\n",
    "val = numbers[:3]\n",
    "val = numbers[4:]\n",
    "\n",
    "numbers[4]= 40\n",
    "\n",
    "numbers.append(49)\n",
    "numbers.append(59)\n",
    "numbers.insert(3, 78)\n",
    "numbers.insert(-1, 52)\n",
    "\n",
    "# numbers.pop()\n",
    "# numbers.pop(0)\n",
    "# numbers.pop(-1)\n",
    "# numbers.remove(59)\n",
    "\n",
    "numbers.sort()\n",
    "letters.sort()\n",
    "numbers.reverse()\n",
    "letters.reverse()\n",
    "\n",
    "print(letters)\n",
    "print(len(numbers))\n",
    "print(len(letters))\n",
    "\n",
    "print(numbers.count(10))\n",
    "print(letters.count(\"a\"))\n",
    "\n",
    "numbers.clear()\n",
    "print(numbers)"
   ]
  },
  {
   "cell_type": "code",
   "execution_count": null,
   "metadata": {},
   "outputs": [],
   "source": []
  }
 ],
 "metadata": {
  "kernelspec": {
   "display_name": "Python 3.11.0 64-bit",
   "language": "python",
   "name": "python3"
  },
  "language_info": {
   "codemirror_mode": {
    "name": "ipython",
    "version": 3
   },
   "file_extension": ".py",
   "mimetype": "text/x-python",
   "name": "python",
   "nbconvert_exporter": "python",
   "pygments_lexer": "ipython3",
   "version": "3.11.0"
  },
  "orig_nbformat": 4,
  "vscode": {
   "interpreter": {
    "hash": "7c542dbbc07e6010b76b61de8a453dc04d29cd1fae7fbaa29851ecbad9aefb83"
   }
  }
 },
 "nbformat": 4,
 "nbformat_minor": 2
}
