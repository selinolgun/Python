{
 "cells": [
  {
   "cell_type": "code",
   "execution_count": 1,
   "metadata": {},
   "outputs": [
    {
     "data": {
      "text/plain": [
       "1980"
      ]
     },
     "execution_count": 1,
     "metadata": {},
     "output_type": "execute_result"
    }
   ],
   "source": [
    "# Onlu Sayma Sistemi\n",
    "\n",
    "(0 * (10 ** 0)) + (8 * (10 ** 1)) + (9 * (10 ** 2)) + (1 * (10 ** 3))"
   ]
  },
  {
   "cell_type": "code",
   "execution_count": 2,
   "metadata": {},
   "outputs": [
    {
     "data": {
      "text/plain": [
       "(0, 1, 2, 3, 4, 5, 6, 7)"
      ]
     },
     "execution_count": 2,
     "metadata": {},
     "output_type": "execute_result"
    }
   ],
   "source": [
    "# Sekizli Sayma Sistemi\n",
    "\n",
    "0, 1, 2, 3, 4, 5, 6, 7"
   ]
  },
  {
   "cell_type": "code",
   "execution_count": 4,
   "metadata": {},
   "outputs": [
    {
     "data": {
      "text/plain": [
       "(10, 11, 12, 13, 14, 15, 16, 17, 20)"
      ]
     },
     "execution_count": 4,
     "metadata": {},
     "output_type": "execute_result"
    }
   ],
   "source": [
    "10, 11, 12, 13, 14, 15, 16, 17, 20"
   ]
  },
  {
   "cell_type": "code",
   "execution_count": 5,
   "metadata": {},
   "outputs": [
    {
     "name": "stdout",
     "output_type": "stream",
     "text": [
      "onlu  sekizli \n",
      "  0     0  \n",
      "  1     1  \n",
      "  2     2  \n",
      "  3     3  \n",
      "  4     4  \n",
      "  5     5  \n",
      "  6     6  \n",
      "  7     7  \n",
      "  8    10  \n",
      "  9    11  \n",
      " 10    12  \n",
      " 11    13  \n",
      " 12    14  \n",
      " 13    15  \n",
      " 14    16  \n",
      " 15    17  \n",
      " 16    20  \n"
     ]
    }
   ],
   "source": [
    "sayı_sistemleri = [\"onlu\", \"sekizli\"]\n",
    "\n",
    "print((\"{:^5} \"*len(sayı_sistemleri)).format(*sayı_sistemleri))\n",
    "\n",
    "for i in range(17):\n",
    "    print(\"{0:^5} {0:^5o}\".format(i))"
   ]
  },
  {
   "cell_type": "code",
   "execution_count": 6,
   "metadata": {},
   "outputs": [
    {
     "data": {
      "text/plain": [
       "1980"
      ]
     },
     "execution_count": 6,
     "metadata": {},
     "output_type": "execute_result"
    }
   ],
   "source": [
    "(4 * (8 ** 0)) + (7 * (8 ** 1)) + (6 * (8 ** 2)) + (3 * (8 ** 3))"
   ]
  },
  {
   "cell_type": "code",
   "execution_count": 7,
   "metadata": {},
   "outputs": [
    {
     "ename": "NameError",
     "evalue": "name 'a' is not defined",
     "output_type": "error",
     "traceback": [
      "\u001b[1;31m---------------------------------------------------------------------------\u001b[0m",
      "\u001b[1;31mNameError\u001b[0m                                 Traceback (most recent call last)",
      "Cell \u001b[1;32mIn [7], line 3\u001b[0m\n\u001b[0;32m      1\u001b[0m \u001b[39m# On Altılı Sayma Sistemi\u001b[39;00m\n\u001b[1;32m----> 3\u001b[0m \u001b[39m0\u001b[39m, \u001b[39m1\u001b[39m, \u001b[39m2\u001b[39m, \u001b[39m3\u001b[39m, \u001b[39m4\u001b[39m, \u001b[39m5\u001b[39m, \u001b[39m6\u001b[39m, \u001b[39m7\u001b[39m, \u001b[39m8\u001b[39m, \u001b[39m9\u001b[39m, a, b, c, d, e, f\n",
      "\u001b[1;31mNameError\u001b[0m: name 'a' is not defined"
     ]
    }
   ],
   "source": [
    "# On Altılı Sayma Sistemi\n",
    "\n",
    "0, 1, 2, 3, 4, 5, 6, 7, 8, 9, a, b, c, d, e, f"
   ]
  },
  {
   "cell_type": "code",
   "execution_count": 8,
   "metadata": {},
   "outputs": [
    {
     "name": "stdout",
     "output_type": "stream",
     "text": [
      "  onlu   sekizli  on altılı \n",
      "   0        0        0    \n",
      "   1        1        1    \n",
      "   2        2        2    \n",
      "   3        3        3    \n",
      "   4        4        4    \n",
      "   5        5        5    \n",
      "   6        6        6    \n",
      "   7        7        7    \n",
      "   8        10       8    \n",
      "   9        11       9    \n",
      "   10       12       a    \n",
      "   11       13       b    \n",
      "   12       14       c    \n",
      "   13       15       d    \n",
      "   14       16       e    \n",
      "   15       17       f    \n",
      "   16       20       10   \n"
     ]
    }
   ],
   "source": [
    "sayı_sistemleri = [\"onlu\", \"sekizli\", \"on altılı\"]\n",
    "\n",
    "print((\"{:^8} \"*len(sayı_sistemleri)).format(*sayı_sistemleri))\n",
    "\n",
    "for i in range(17):\n",
    "    print(\"{0:^8} {0:^8o} {0:^8x}\".format(i))"
   ]
  },
  {
   "cell_type": "code",
   "execution_count": 9,
   "metadata": {},
   "outputs": [
    {
     "data": {
      "text/plain": [
       "1980"
      ]
     },
     "execution_count": 9,
     "metadata": {},
     "output_type": "execute_result"
    }
   ],
   "source": [
    "# a –> 10\n",
    "\n",
    "# b –> 11\n",
    "\n",
    "# c –> 12\n",
    "\n",
    "# d –> 13\n",
    "\n",
    "# e –> 14\n",
    "\n",
    "# f –> 15\n",
    "\n",
    "(12 * (16 ** 0)) + (11 * (16 ** 1)) + (7 * (16 ** 2))"
   ]
  },
  {
   "cell_type": "code",
   "execution_count": 10,
   "metadata": {},
   "outputs": [
    {
     "name": "stdout",
     "output_type": "stream",
     "text": [
      "  onlu     sekizli  on altılı   ikili   \n",
      "    0         0         0         0    \n",
      "    1         1         1         1    \n",
      "    2         2         2        10    \n",
      "    3         3         3        11    \n",
      "    4         4         4        100   \n",
      "    5         5         5        101   \n",
      "    6         6         6        110   \n",
      "    7         7         7        111   \n",
      "    8        10         8       1000   \n",
      "    9        11         9       1001   \n",
      "   10        12         a       1010   \n",
      "   11        13         b       1011   \n",
      "   12        14         c       1100   \n",
      "   13        15         d       1101   \n",
      "   14        16         e       1110   \n",
      "   15        17         f       1111   \n",
      "   16        20        10       10000  \n"
     ]
    }
   ],
   "source": [
    "# İkili Sayma Sistemi\n",
    "\n",
    "sayı_sistemleri = [\"onlu\", \"sekizli\", \"on altılı\", \"ikili\"]\n",
    "\n",
    "print((\"{:^9} \"*len(sayı_sistemleri)).format(*sayı_sistemleri))\n",
    "\n",
    "for i in range(17):\n",
    "    print(\"{0:^9} {0:^9o} {0:^9x} {0:^9b}\".format(i))"
   ]
  },
  {
   "cell_type": "code",
   "execution_count": 11,
   "metadata": {},
   "outputs": [
    {
     "data": {
      "text/plain": [
       "12"
      ]
     },
     "execution_count": 11,
     "metadata": {},
     "output_type": "execute_result"
    }
   ],
   "source": [
    "(0 * (2 ** 0)) + (0 * (2 ** 1)) + (1 * (2 ** 2)) + (1 * (2 ** 3))"
   ]
  },
  {
   "cell_type": "code",
   "execution_count": 12,
   "metadata": {},
   "outputs": [
    {
     "data": {
      "text/plain": [
       "'0b10'"
      ]
     },
     "execution_count": 12,
     "metadata": {},
     "output_type": "execute_result"
    }
   ],
   "source": [
    "# Sayma Sistemlerini Birbirlerine Dönüştürmek\n",
    "\n",
    "# Fonksiyon Kullanarak\n",
    "\n",
    "# bin() -> İkiliye dönüştürür\n",
    "\n",
    "bin(2)"
   ]
  },
  {
   "cell_type": "code",
   "execution_count": 13,
   "metadata": {},
   "outputs": [
    {
     "data": {
      "text/plain": [
       "'10'"
      ]
     },
     "execution_count": 13,
     "metadata": {},
     "output_type": "execute_result"
    }
   ],
   "source": [
    "bin(2)[2:]"
   ]
  },
  {
   "cell_type": "code",
   "execution_count": 14,
   "metadata": {},
   "outputs": [
    {
     "data": {
      "text/plain": [
       "'0xa'"
      ]
     },
     "execution_count": 14,
     "metadata": {},
     "output_type": "execute_result"
    }
   ],
   "source": [
    "# hex() -> Onaltılıya dönüştürür\n",
    "\n",
    "hex(10)"
   ]
  },
  {
   "cell_type": "code",
   "execution_count": 15,
   "metadata": {},
   "outputs": [
    {
     "data": {
      "text/plain": [
       "'a'"
      ]
     },
     "execution_count": 15,
     "metadata": {},
     "output_type": "execute_result"
    }
   ],
   "source": [
    "hex(10)[2:]"
   ]
  },
  {
   "cell_type": "code",
   "execution_count": 16,
   "metadata": {},
   "outputs": [
    {
     "data": {
      "text/plain": [
       "'0o12'"
      ]
     },
     "execution_count": 16,
     "metadata": {},
     "output_type": "execute_result"
    }
   ],
   "source": [
    "# oct() -> Sekizliye dönüştürür\n",
    "\n",
    "oct(10)"
   ]
  },
  {
   "cell_type": "code",
   "execution_count": 17,
   "metadata": {},
   "outputs": [
    {
     "data": {
      "text/plain": [
       "'12'"
      ]
     },
     "execution_count": 17,
     "metadata": {},
     "output_type": "execute_result"
    }
   ],
   "source": [
    "oct(10)[2:]"
   ]
  },
  {
   "cell_type": "code",
   "execution_count": 18,
   "metadata": {},
   "outputs": [
    {
     "data": {
      "text/plain": [
       "1980"
      ]
     },
     "execution_count": 18,
     "metadata": {},
     "output_type": "execute_result"
    }
   ],
   "source": [
    "# int() -> Onluya dönüştürür\n",
    "\n",
    "int('7bc', 16)\n",
    "\n",
    "# birinci parametre karakter dizisi olmalı\n",
    "# ikinci parametre dönüştürmek istediğimiz sayının hangi sayma sisteminde olduğunu belirtmeliyiz"
   ]
  },
  {
   "cell_type": "code",
   "execution_count": 19,
   "metadata": {},
   "outputs": [
    {
     "data": {
      "text/plain": [
       "12"
      ]
     },
     "execution_count": 19,
     "metadata": {},
     "output_type": "execute_result"
    }
   ],
   "source": [
    "int('1100', 2)"
   ]
  },
  {
   "cell_type": "code",
   "execution_count": 20,
   "metadata": {},
   "outputs": [
    {
     "data": {
      "text/plain": [
       "4352"
      ]
     },
     "execution_count": 20,
     "metadata": {},
     "output_type": "execute_result"
    }
   ],
   "source": [
    "int('1100', 16)"
   ]
  },
  {
   "cell_type": "code",
   "execution_count": 21,
   "metadata": {},
   "outputs": [
    {
     "data": {
      "text/plain": [
       "'1100'"
      ]
     },
     "execution_count": 21,
     "metadata": {},
     "output_type": "execute_result"
    }
   ],
   "source": [
    "# Biçimlendirme Yoluyla\n",
    "\n",
    "# b -> ikiliye dönüştürür\n",
    "\n",
    "'{:b}'.format(12)"
   ]
  },
  {
   "cell_type": "code",
   "execution_count": 22,
   "metadata": {},
   "outputs": [
    {
     "data": {
      "text/plain": [
       "'7bc'"
      ]
     },
     "execution_count": 22,
     "metadata": {},
     "output_type": "execute_result"
    }
   ],
   "source": [
    "# x -> onaltılıya dönüştürür\n",
    "\n",
    "'{:x}'.format(1980)"
   ]
  },
  {
   "cell_type": "code",
   "execution_count": 23,
   "metadata": {},
   "outputs": [
    {
     "data": {
      "text/plain": [
       "'3674'"
      ]
     },
     "execution_count": 23,
     "metadata": {},
     "output_type": "execute_result"
    }
   ],
   "source": [
    "# o -> sekizliye dönüştürür\n",
    "\n",
    "'{:o}'.format(1980)"
   ]
  },
  {
   "cell_type": "code",
   "execution_count": 24,
   "metadata": {},
   "outputs": [
    {
     "data": {
      "text/plain": [
       "'7bc sayısının onlu karşılığı 1980 sayısıdır.'"
      ]
     },
     "execution_count": 24,
     "metadata": {},
     "output_type": "execute_result"
    }
   ],
   "source": [
    "# d -> onluya dönüştürür\n",
    "\n",
    "n = '7bc'\n",
    "\"{} sayısının onlu karşılığı {:d} sayısıdır.\".format(n, int(n, 16))"
   ]
  },
  {
   "cell_type": "code",
   "execution_count": 25,
   "metadata": {},
   "outputs": [
    {
     "data": {
      "text/plain": [
       "'7bc sayısının onlu karşılığı 1980 sayısıdır.'"
      ]
     },
     "execution_count": 25,
     "metadata": {},
     "output_type": "execute_result"
    }
   ],
   "source": [
    "n = '7bc'\n",
    "\"{} sayısının onlu karşılığı {} sayısıdır.\".format(n, int(n, 16))\n",
    "\n",
    "# :d yazmasanız da aynı sonucu verir"
   ]
  },
  {
   "cell_type": "code",
   "execution_count": null,
   "metadata": {},
   "outputs": [],
   "source": [
    "# Sayma Sistemlerinin Birbirlerine Karşı Avantajları\n",
    "\n",
    "# Sistemin sayısı büyüdükçe kapladığı bayt değeri düşer \n",
    "# Çünkü ikili sisteme kıyasla onaltılı sistemde daha az rakamla daha büyük sayılar yazılabilir\n",
    "# Bu nedenle her rakam belli bir bayta karşılık geldiği için en az bayt onaltılı,onlu,sekizli,ikili olarak sıralanır"
   ]
  }
 ],
 "metadata": {
  "kernelspec": {
   "display_name": "Python 3.11.0 64-bit",
   "language": "python",
   "name": "python3"
  },
  "language_info": {
   "codemirror_mode": {
    "name": "ipython",
    "version": 3
   },
   "file_extension": ".py",
   "mimetype": "text/x-python",
   "name": "python",
   "nbconvert_exporter": "python",
   "pygments_lexer": "ipython3",
   "version": "3.11.0"
  },
  "orig_nbformat": 4,
  "vscode": {
   "interpreter": {
    "hash": "7c542dbbc07e6010b76b61de8a453dc04d29cd1fae7fbaa29851ecbad9aefb83"
   }
  }
 },
 "nbformat": 4,
 "nbformat_minor": 2
}
