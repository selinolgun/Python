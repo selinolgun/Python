{
 "cells": [
  {
   "cell_type": "code",
   "execution_count": 9,
   "metadata": {},
   "outputs": [
    {
     "name": "stdout",
     "output_type": "stream",
     "text": [
      "sayı tek : 1\n",
      "sayı çift: 2\n",
      "sayı tek : 3\n",
      "sayı çift: 4\n",
      "sayı tek : 5\n",
      "sayı çift: 6\n",
      "sayı tek : 7\n",
      "sayı çift: 8\n",
      "sayı tek : 9\n",
      "sayı çift: 10\n",
      "sayı tek : 11\n",
      "sayı çift: 12\n",
      "sayı tek : 13\n",
      "sayı çift: 14\n",
      "sayı tek : 15\n",
      "sayı çift: 16\n",
      "sayı tek : 17\n",
      "sayı çift: 18\n",
      "sayı tek : 19\n",
      "sayı çift: 20\n",
      "sayı tek : 21\n",
      "sayı çift: 22\n",
      "sayı tek : 23\n",
      "sayı çift: 24\n",
      "sayı tek : 25\n",
      "sayı çift: 26\n",
      "sayı tek : 27\n",
      "sayı çift: 28\n",
      "sayı tek : 29\n",
      "sayı çift: 30\n",
      "sayı tek : 31\n",
      "sayı çift: 32\n",
      "sayı tek : 33\n",
      "sayı çift: 34\n",
      "sayı tek : 35\n",
      "sayı çift: 36\n",
      "sayı tek : 37\n",
      "sayı çift: 38\n",
      "sayı tek : 39\n",
      "sayı çift: 40\n",
      "sayı tek : 41\n",
      "sayı çift: 42\n",
      "sayı tek : 43\n",
      "sayı çift: 44\n",
      "sayı tek : 45\n",
      "sayı çift: 46\n",
      "sayı tek : 47\n",
      "sayı çift: 48\n",
      "sayı tek : 49\n",
      "sayı çift: 50\n",
      "sayı tek : 51\n",
      "sayı çift: 52\n",
      "sayı tek : 53\n",
      "sayı çift: 54\n",
      "sayı tek : 55\n",
      "sayı çift: 56\n",
      "sayı tek : 57\n",
      "sayı çift: 58\n",
      "sayı tek : 59\n",
      "sayı çift: 60\n",
      "sayı tek : 61\n",
      "sayı çift: 62\n",
      "sayı tek : 63\n",
      "sayı çift: 64\n",
      "sayı tek : 65\n",
      "sayı çift: 66\n",
      "sayı tek : 67\n",
      "sayı çift: 68\n",
      "sayı tek : 69\n",
      "sayı çift: 70\n",
      "sayı tek : 71\n",
      "sayı çift: 72\n",
      "sayı tek : 73\n",
      "sayı çift: 74\n",
      "sayı tek : 75\n",
      "sayı çift: 76\n",
      "sayı tek : 77\n",
      "sayı çift: 78\n",
      "sayı tek : 79\n",
      "sayı çift: 80\n",
      "sayı tek : 81\n",
      "sayı çift: 82\n",
      "sayı tek : 83\n",
      "sayı çift: 84\n",
      "sayı tek : 85\n",
      "sayı çift: 86\n",
      "sayı tek : 87\n",
      "sayı çift: 88\n",
      "sayı tek : 89\n",
      "sayı çift: 90\n",
      "sayı tek : 91\n",
      "sayı çift: 92\n",
      "sayı tek : 93\n",
      "sayı çift: 94\n",
      "sayı tek : 95\n",
      "sayı çift: 96\n",
      "sayı tek : 97\n",
      "sayı çift: 98\n",
      "sayı tek : 99\n",
      "sayı çift: 100\n",
      "Bitti.\n"
     ]
    }
   ],
   "source": [
    "# 1-100 e kadar\n",
    "\n",
    "x = 1\n",
    "\n",
    "while x <= 100:\n",
    "    if x % 2 == 1:\n",
    "        print(f\"sayı tek : {x}\")\n",
    "    else:\n",
    "        print(f\"sayı çift: {x}\")\n",
    "    x += 1\n",
    "print(\"Bitti.\")"
   ]
  },
  {
   "cell_type": "code",
   "execution_count": 12,
   "metadata": {},
   "outputs": [
    {
     "name": "stdout",
     "output_type": "stream",
     "text": [
      "Merhaba  Sonay\n"
     ]
    }
   ],
   "source": [
    "name = \"\"\n",
    "\n",
    "while not name.strip():\n",
    "    name = input(\"İsminizi giriniz: \")\n",
    "\n",
    "print(f\"Merhaba {name}\")"
   ]
  },
  {
   "cell_type": "code",
   "execution_count": null,
   "metadata": {},
   "outputs": [],
   "source": []
  }
 ],
 "metadata": {
  "kernelspec": {
   "display_name": "Python 3.11.0 64-bit",
   "language": "python",
   "name": "python3"
  },
  "language_info": {
   "codemirror_mode": {
    "name": "ipython",
    "version": 3
   },
   "file_extension": ".py",
   "mimetype": "text/x-python",
   "name": "python",
   "nbconvert_exporter": "python",
   "pygments_lexer": "ipython3",
   "version": "3.11.0"
  },
  "orig_nbformat": 4,
  "vscode": {
   "interpreter": {
    "hash": "7c542dbbc07e6010b76b61de8a453dc04d29cd1fae7fbaa29851ecbad9aefb83"
   }
  }
 },
 "nbformat": 4,
 "nbformat_minor": 2
}
