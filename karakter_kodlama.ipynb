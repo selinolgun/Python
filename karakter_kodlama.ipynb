{
 "cells": [
  {
   "cell_type": "code",
   "execution_count": 1,
   "metadata": {},
   "outputs": [
    {
     "name": "stdout",
     "output_type": "stream",
     "text": [
      "\n",
      "\n",
      "0    '\\x00'\t1    '\\x01'\t2    '\\x02'\t3    '\\x03'\t\n",
      "\n",
      "4    '\\x04'\t5    '\\x05'\t6    '\\x06'\t7    '\\x07'\t\n",
      "\n",
      "8    '\\x08'\t9      '\\t'\t10     '\\n'\t11   '\\x0b'\t\n",
      "\n",
      "12   '\\x0c'\t13     '\\r'\t14   '\\x0e'\t15   '\\x0f'\t\n",
      "\n",
      "16   '\\x10'\t17   '\\x11'\t18   '\\x12'\t19   '\\x13'\t\n",
      "\n",
      "20   '\\x14'\t21   '\\x15'\t22   '\\x16'\t23   '\\x17'\t\n",
      "\n",
      "24   '\\x18'\t25   '\\x19'\t26   '\\x1a'\t27   '\\x1b'\t\n",
      "\n",
      "28   '\\x1c'\t29   '\\x1d'\t30   '\\x1e'\t31   '\\x1f'\t\n",
      "\n",
      "32      ' '\t33      '!'\t34      '\"'\t35      '#'\t\n",
      "\n",
      "36      '$'\t37      '%'\t38      '&'\t39      \"'\"\t\n",
      "\n",
      "40      '('\t41      ')'\t42      '*'\t43      '+'\t\n",
      "\n",
      "44      ','\t45      '-'\t46      '.'\t47      '/'\t\n",
      "\n",
      "48      '0'\t49      '1'\t50      '2'\t51      '3'\t\n",
      "\n",
      "52      '4'\t53      '5'\t54      '6'\t55      '7'\t\n",
      "\n",
      "56      '8'\t57      '9'\t58      ':'\t59      ';'\t\n",
      "\n",
      "60      '<'\t61      '='\t62      '>'\t63      '?'\t\n",
      "\n",
      "64      '@'\t65      'A'\t66      'B'\t67      'C'\t\n",
      "\n",
      "68      'D'\t69      'E'\t70      'F'\t71      'G'\t\n",
      "\n",
      "72      'H'\t73      'I'\t74      'J'\t75      'K'\t\n",
      "\n",
      "76      'L'\t77      'M'\t78      'N'\t79      'O'\t\n",
      "\n",
      "80      'P'\t81      'Q'\t82      'R'\t83      'S'\t\n",
      "\n",
      "84      'T'\t85      'U'\t86      'V'\t87      'W'\t\n",
      "\n",
      "88      'X'\t89      'Y'\t90      'Z'\t91      '['\t\n",
      "\n",
      "92     '\\\\'\t93      ']'\t94      '^'\t95      '_'\t\n",
      "\n",
      "96      '`'\t97      'a'\t98      'b'\t99      'c'\t\n",
      "\n",
      "100     'd'\t101     'e'\t102     'f'\t103     'g'\t\n",
      "\n",
      "104     'h'\t105     'i'\t106     'j'\t107     'k'\t\n",
      "\n",
      "108     'l'\t109     'm'\t110     'n'\t111     'o'\t\n",
      "\n",
      "112     'p'\t113     'q'\t114     'r'\t115     's'\t\n",
      "\n",
      "116     't'\t117     'u'\t118     'v'\t119     'w'\t\n",
      "\n",
      "120     'x'\t121     'y'\t122     'z'\t123     '{'\t\n",
      "\n",
      "124     '|'\t125     '}'\t126     '~'\t127  '\\x7f'\t"
     ]
    }
   ],
   "source": [
    "# ASCII\n",
    "\n",
    "# 7 Bitlik Bir Sistem\n",
    "\n",
    "for i in range(128):\n",
    "    if i % 4 == 0:\n",
    "        print(\"\\n\")\n",
    "\n",
    "    print(\"{:<3}{:>8}\\t\".format(i, repr(chr(i))), sep=\"\", end=\"\")"
   ]
  },
  {
   "cell_type": "code",
   "execution_count": 2,
   "metadata": {},
   "outputs": [
    {
     "data": {
      "text/plain": [
       "b'\\x80'"
      ]
     },
     "execution_count": 2,
     "metadata": {},
     "output_type": "execute_result"
    }
   ],
   "source": [
    "# Genişletilmiş ASCII\n",
    "\n",
    "\"Ç\".encode(\"cp857\")"
   ]
  },
  {
   "cell_type": "code",
   "execution_count": 3,
   "metadata": {},
   "outputs": [
    {
     "data": {
      "text/plain": [
       "b'\\x9f'"
      ]
     },
     "execution_count": 3,
     "metadata": {},
     "output_type": "execute_result"
    }
   ],
   "source": [
    "\"ş\".encode(\"cp857\")"
   ]
  },
  {
   "cell_type": "code",
   "execution_count": 4,
   "metadata": {},
   "outputs": [
    {
     "ename": "UnicodeEncodeError",
     "evalue": "'ascii' codec can't encode character '\\xc7' in position 0: ordinal not in range(128)",
     "output_type": "error",
     "traceback": [
      "\u001b[1;31m---------------------------------------------------------------------------\u001b[0m",
      "\u001b[1;31mUnicodeEncodeError\u001b[0m                        Traceback (most recent call last)",
      "Cell \u001b[1;32mIn [4], line 1\u001b[0m\n\u001b[1;32m----> 1\u001b[0m \u001b[39m\"\u001b[39;49m\u001b[39mÇ\u001b[39;49m\u001b[39m\"\u001b[39;49m\u001b[39m.\u001b[39;49mencode(\u001b[39m\"\u001b[39;49m\u001b[39mascii\u001b[39;49m\u001b[39m\"\u001b[39;49m)\n",
      "\u001b[1;31mUnicodeEncodeError\u001b[0m: 'ascii' codec can't encode character '\\xc7' in position 0: ordinal not in range(128)"
     ]
    }
   ],
   "source": [
    "\"Ç\".encode(\"ascii\")"
   ]
  },
  {
   "cell_type": "code",
   "execution_count": 5,
   "metadata": {},
   "outputs": [
    {
     "data": {
      "text/plain": [
       "'1111111'"
      ]
     },
     "execution_count": 5,
     "metadata": {},
     "output_type": "execute_result"
    }
   ],
   "source": [
    "# 1 Karakter == 1 Bayt\n",
    "\n",
    "bin(127)[2:]"
   ]
  },
  {
   "cell_type": "code",
   "execution_count": 6,
   "metadata": {},
   "outputs": [
    {
     "data": {
      "text/plain": [
       "7"
      ]
     },
     "execution_count": 6,
     "metadata": {},
     "output_type": "execute_result"
    }
   ],
   "source": [
    "(127).bit_length()"
   ]
  },
  {
   "cell_type": "code",
   "execution_count": 7,
   "metadata": {},
   "outputs": [
    {
     "data": {
      "text/plain": [
       "8"
      ]
     },
     "execution_count": 7,
     "metadata": {},
     "output_type": "execute_result"
    }
   ],
   "source": [
    "(128).bit_length()"
   ]
  },
  {
   "cell_type": "code",
   "execution_count": 8,
   "metadata": {},
   "outputs": [
    {
     "data": {
      "text/plain": [
       "'11111111'"
      ]
     },
     "execution_count": 8,
     "metadata": {},
     "output_type": "execute_result"
    }
   ],
   "source": [
    "bin(255)[2:]"
   ]
  },
  {
   "cell_type": "code",
   "execution_count": 9,
   "metadata": {},
   "outputs": [
    {
     "data": {
      "text/plain": [
       "8"
      ]
     },
     "execution_count": 9,
     "metadata": {},
     "output_type": "execute_result"
    }
   ],
   "source": [
    "(255).bit_length()"
   ]
  },
  {
   "cell_type": "code",
   "execution_count": 10,
   "metadata": {},
   "outputs": [
    {
     "data": {
      "text/plain": [
       "9"
      ]
     },
     "execution_count": 10,
     "metadata": {},
     "output_type": "execute_result"
    }
   ],
   "source": [
    "(256).bit_length()"
   ]
  },
  {
   "cell_type": "code",
   "execution_count": 12,
   "metadata": {},
   "outputs": [
    {
     "data": {
      "text/plain": [
       "97"
      ]
     },
     "execution_count": 12,
     "metadata": {},
     "output_type": "execute_result"
    }
   ],
   "source": [
    "# UNICODE\n",
    "\n",
    "# Sınırsız Bitlik Bir İşlem\n",
    "\n",
    "int(\"61\", 16)"
   ]
  },
  {
   "cell_type": "code",
   "execution_count": 13,
   "metadata": {},
   "outputs": [
    {
     "name": "stdout",
     "output_type": "stream",
     "text": [
      "a    b'a'           1              \n",
      "b    b'b'           1              \n",
      "c    b'c'           1              \n",
      "ç    b'\\xc3\\xa7'    2              \n",
      "d    b'd'           1              \n",
      "e    b'e'           1              \n",
      "f    b'f'           1              \n",
      "g    b'g'           1              \n",
      "ğ    b'\\xc4\\x9f'    2              \n",
      "h    b'h'           1              \n",
      "ı    b'\\xc4\\xb1'    2              \n",
      "i    b'i'           1              \n",
      "j    b'j'           1              \n",
      "k    b'k'           1              \n",
      "l    b'l'           1              \n",
      "m    b'm'           1              \n",
      "n    b'n'           1              \n",
      "o    b'o'           1              \n",
      "ö    b'\\xc3\\xb6'    2              \n",
      "p    b'p'           1              \n",
      "r    b'r'           1              \n",
      "s    b's'           1              \n",
      "ş    b'\\xc5\\x9f'    2              \n",
      "t    b't'           1              \n",
      "u    b'u'           1              \n",
      "ü    b'\\xc3\\xbc'    2              \n",
      "v    b'v'           1              \n",
      "y    b'y'           1              \n",
      "z    b'z'           1              \n"
     ]
    }
   ],
   "source": [
    "# UTF-8 Kod Çözücüsü\n",
    "\n",
    "# 1 Karakter != 1 Bayt\n",
    "\n",
    "harfler = \"abcçdefgğhıijklmnoöprsştuüvyz\"\n",
    "for s in harfler:\n",
    "    print(\"{:<5}{:<15}{:<15}\".format(s,\n",
    "                                     str(s.encode(\"utf-8\")),\n",
    "                                     len(s.encode(\"utf-8\"))))"
   ]
  },
  {
   "cell_type": "code",
   "execution_count": 14,
   "metadata": {},
   "outputs": [
    {
     "data": {
      "text/plain": [
       "b'\\xc3\\xa7'"
      ]
     },
     "execution_count": 14,
     "metadata": {},
     "output_type": "execute_result"
    }
   ],
   "source": [
    "'ç'.encode('utf-8')"
   ]
  },
  {
   "cell_type": "code",
   "execution_count": 15,
   "metadata": {},
   "outputs": [
    {
     "data": {
      "text/plain": [
       "50087"
      ]
     },
     "execution_count": 15,
     "metadata": {},
     "output_type": "execute_result"
    }
   ],
   "source": [
    "int('c3a7', 16)"
   ]
  },
  {
   "cell_type": "code",
   "execution_count": 16,
   "metadata": {},
   "outputs": [
    {
     "data": {
      "text/plain": [
       "'0b1100001110100111'"
      ]
     },
     "execution_count": 16,
     "metadata": {},
     "output_type": "execute_result"
    }
   ],
   "source": [
    "bin(50087)"
   ]
  },
  {
   "cell_type": "code",
   "execution_count": 17,
   "metadata": {},
   "outputs": [
    {
     "data": {
      "text/plain": [
       "16"
      ]
     },
     "execution_count": 17,
     "metadata": {},
     "output_type": "execute_result"
    }
   ],
   "source": [
    "(50087).bit_length()"
   ]
  },
  {
   "cell_type": "code",
   "execution_count": 18,
   "metadata": {},
   "outputs": [
    {
     "data": {
      "text/plain": [
       "b'a'"
      ]
     },
     "execution_count": 18,
     "metadata": {},
     "output_type": "execute_result"
    }
   ],
   "source": [
    "\"a\".encode(\"utf-8\")"
   ]
  },
  {
   "cell_type": "code",
   "execution_count": 19,
   "metadata": {},
   "outputs": [
    {
     "data": {
      "text/plain": [
       "97"
      ]
     },
     "execution_count": 19,
     "metadata": {},
     "output_type": "execute_result"
    }
   ],
   "source": [
    "ord(\"a\")"
   ]
  },
  {
   "cell_type": "code",
   "execution_count": 20,
   "metadata": {},
   "outputs": [
    {
     "name": "stdout",
     "output_type": "stream",
     "text": [
      "'İ' karakteri UTF-8 ile b'\\xc4\\xb0' olarak ve 304 sayısıyla temsil edilir.\n",
      "'İ' karakteri cp1254 ile b'\\xdd' olarak ve 304 sayısıyla temsil edilir.\n",
      "'İ' karakteri latin-1 ile temsil edilemez!\n",
      "'İ' karakteri ASCII ile temsil edilemez!\n"
     ]
    }
   ],
   "source": [
    "kod_çözücüler = ['UTF-8', 'cp1254', 'latin-1', 'ASCII']\n",
    "\n",
    "harf = 'İ'\n",
    "\n",
    "for kç in kod_çözücüler:\n",
    "    try:\n",
    "        print(\"'{}' karakteri {} ile {} olarak \"\n",
    "              \"ve {} sayısıyla temsil edilir.\".format(harf, kç,\n",
    "                                                      harf.encode(kç),\n",
    "                                                      ord(harf)))\n",
    "    except UnicodeEncodeError:\n",
    "        print(\"'{}' karakteri {} ile temsil edilemez!\".format(harf, kç))"
   ]
  },
  {
   "cell_type": "code",
   "execution_count": 21,
   "metadata": {},
   "outputs": [
    {
     "ename": "UnicodeEncodeError",
     "evalue": "'ascii' codec can't encode character '\\xfc' in position 4: ordinal not in range(128)",
     "output_type": "error",
     "traceback": [
      "\u001b[1;31m---------------------------------------------------------------------------\u001b[0m",
      "\u001b[1;31mUnicodeEncodeError\u001b[0m                        Traceback (most recent call last)",
      "Cell \u001b[1;32mIn [21], line 15\u001b[0m\n\u001b[0;32m      1\u001b[0m \u001b[39m# Eksik karakterler ve encode Metodu\u001b[39;00m\n\u001b[0;32m      2\u001b[0m \n\u001b[0;32m      3\u001b[0m \u001b[39m# ‘strict’\u001b[39;00m\n\u001b[1;32m   (...)\u001b[0m\n\u001b[0;32m     12\u001b[0m \u001b[39m# ‘xmlcharrefreplace’\u001b[39;00m\n\u001b[0;32m     13\u001b[0m \u001b[39m# Temsil edilemeyen karakter yerine XML karşılığı koyulur\u001b[39;00m\n\u001b[1;32m---> 15\u001b[0m \u001b[39m\"\u001b[39;49m\u001b[39mbu Türkçe bir cümledir.\u001b[39;49m\u001b[39m\"\u001b[39;49m\u001b[39m.\u001b[39;49mencode(\u001b[39m\"\u001b[39;49m\u001b[39mascii\u001b[39;49m\u001b[39m\"\u001b[39;49m, errors\u001b[39m=\u001b[39;49m\u001b[39m\"\u001b[39;49m\u001b[39mstrict\u001b[39;49m\u001b[39m\"\u001b[39;49m)\n",
      "\u001b[1;31mUnicodeEncodeError\u001b[0m: 'ascii' codec can't encode character '\\xfc' in position 4: ordinal not in range(128)"
     ]
    }
   ],
   "source": [
    "# Eksik karakterler ve encode Metodu\n",
    "\n",
    "# ‘strict’\n",
    "# Karakter temsil edilemiyorsa hata verilir\n",
    "\n",
    "# ‘ignore’\n",
    "# Temsil edilemeyen karakter görmezden gelinir\n",
    "\n",
    "# ‘replace’\n",
    "# Temsil edilemeyen karakterin yerine bir ‘?’ işareti koyulur\n",
    "\n",
    "# ‘xmlcharrefreplace’\n",
    "# Temsil edilemeyen karakter yerine XML karşılığı koyulur\n",
    "\n",
    "\"bu Türkçe bir cümledir.\".encode(\"ascii\", errors=\"strict\")"
   ]
  },
  {
   "cell_type": "code",
   "execution_count": 22,
   "metadata": {},
   "outputs": [
    {
     "ename": "UnicodeEncodeError",
     "evalue": "'ascii' codec can't encode character '\\xfc' in position 4: ordinal not in range(128)",
     "output_type": "error",
     "traceback": [
      "\u001b[1;31m---------------------------------------------------------------------------\u001b[0m",
      "\u001b[1;31mUnicodeEncodeError\u001b[0m                        Traceback (most recent call last)",
      "Cell \u001b[1;32mIn [22], line 1\u001b[0m\n\u001b[1;32m----> 1\u001b[0m \u001b[39m\"\u001b[39;49m\u001b[39mbu Türkçe bir cümledir.\u001b[39;49m\u001b[39m\"\u001b[39;49m\u001b[39m.\u001b[39;49mencode(\u001b[39m\"\u001b[39;49m\u001b[39mascii\u001b[39;49m\u001b[39m\"\u001b[39;49m)\n",
      "\u001b[1;31mUnicodeEncodeError\u001b[0m: 'ascii' codec can't encode character '\\xfc' in position 4: ordinal not in range(128)"
     ]
    }
   ],
   "source": [
    "\"bu Türkçe bir cümledir.\".encode(\"ascii\")"
   ]
  },
  {
   "cell_type": "code",
   "execution_count": 23,
   "metadata": {},
   "outputs": [
    {
     "data": {
      "text/plain": [
       "b'bu Trke bir cmledir.'"
      ]
     },
     "execution_count": 23,
     "metadata": {},
     "output_type": "execute_result"
    }
   ],
   "source": [
    "\"bu Türkçe bir cümledir.\".encode(\"ascii\", errors=\"ignore\")"
   ]
  },
  {
   "cell_type": "code",
   "execution_count": 24,
   "metadata": {},
   "outputs": [
    {
     "data": {
      "text/plain": [
       "b'bu T?rk?e bir c?mledir.'"
      ]
     },
     "execution_count": 24,
     "metadata": {},
     "output_type": "execute_result"
    }
   ],
   "source": [
    "\"bu Türkçe bir cümledir.\".encode(\"ascii\", errors=\"replace\")"
   ]
  },
  {
   "cell_type": "code",
   "execution_count": 25,
   "metadata": {},
   "outputs": [
    {
     "data": {
      "text/plain": [
       "b'bu T&#252;rk&#231;e bir c&#252;mledir.'"
      ]
     },
     "execution_count": 25,
     "metadata": {},
     "output_type": "execute_result"
    }
   ],
   "source": [
    "\"bu Türkçe bir cümledir.\".encode(\"ascii\", errors=\"xmlcharrefreplace\")"
   ]
  },
  {
   "cell_type": "code",
   "execution_count": 26,
   "metadata": {},
   "outputs": [
    {
     "data": {
      "text/plain": [
       "'cp1254'"
      ]
     },
     "execution_count": 26,
     "metadata": {},
     "output_type": "execute_result"
    }
   ],
   "source": [
    "# Dosyalar ve Karakter Kodlama\n",
    "\n",
    "# encoding\n",
    "\n",
    "import locale\n",
    "locale.getpreferredencoding()"
   ]
  },
  {
   "cell_type": "code",
   "execution_count": 27,
   "metadata": {},
   "outputs": [],
   "source": [
    "# f = open(dosya, encoding='utf-8')\n",
    "\n",
    "# f = open(\"belge.txt\", encoding=\"utf-8\")\n",
    "# f.read(50)"
   ]
  },
  {
   "cell_type": "code",
   "execution_count": 28,
   "metadata": {},
   "outputs": [],
   "source": [
    "# errors\n",
    "\n",
    "# f = open(dosya_adı, encoding='utf-8', errors='strict')"
   ]
  },
  {
   "cell_type": "code",
   "execution_count": 29,
   "metadata": {},
   "outputs": [],
   "source": [
    "# f = open(dosya_adı, encoding='utf-8', errors='ignore')"
   ]
  },
  {
   "cell_type": "code",
   "execution_count": 30,
   "metadata": {},
   "outputs": [],
   "source": [
    "# f = open(dosya_adı, encoding='utf-8', errors='replace')"
   ]
  },
  {
   "cell_type": "code",
   "execution_count": 31,
   "metadata": {},
   "outputs": [
    {
     "data": {
      "text/plain": [
       "'Python programlama dili'"
      ]
     },
     "execution_count": 31,
     "metadata": {},
     "output_type": "execute_result"
    }
   ],
   "source": [
    "# Konu ile İlgili Fonksiyonlar\n",
    "\n",
    "# repr()\n",
    "\n",
    "\"Python programlama dili\""
   ]
  },
  {
   "cell_type": "code",
   "execution_count": 32,
   "metadata": {},
   "outputs": [
    {
     "name": "stdout",
     "output_type": "stream",
     "text": [
      "Python programlama dili\n"
     ]
    }
   ],
   "source": [
    "print(\"Python programlama dili\")"
   ]
  },
  {
   "cell_type": "code",
   "execution_count": 33,
   "metadata": {},
   "outputs": [
    {
     "name": "stdout",
     "output_type": "stream",
     "text": [
      "elma \n"
     ]
    }
   ],
   "source": [
    "a = \"elma \"\n",
    "print(a)"
   ]
  },
  {
   "cell_type": "code",
   "execution_count": 34,
   "metadata": {},
   "outputs": [
    {
     "name": "stdout",
     "output_type": "stream",
     "text": [
      "23 kilo elma  kaldı!\n"
     ]
    }
   ],
   "source": [
    "print(\"{} kilo {} kaldı!\".format(23, a))"
   ]
  },
  {
   "cell_type": "code",
   "execution_count": 35,
   "metadata": {},
   "outputs": [
    {
     "data": {
      "text/plain": [
       "'elma '"
      ]
     },
     "execution_count": 35,
     "metadata": {},
     "output_type": "execute_result"
    }
   ],
   "source": [
    "a"
   ]
  },
  {
   "cell_type": "code",
   "execution_count": 36,
   "metadata": {},
   "outputs": [
    {
     "name": "stdout",
     "output_type": "stream",
     "text": [
      "23 kilo elma kaldı!\n"
     ]
    }
   ],
   "source": [
    "print(\"{} kilo {} kaldı!\".format(23, a.strip()))"
   ]
  },
  {
   "cell_type": "code",
   "execution_count": 37,
   "metadata": {},
   "outputs": [
    {
     "name": "stdout",
     "output_type": "stream",
     "text": [
      "'karakter dizisi\\n'\n"
     ]
    }
   ],
   "source": [
    "print(repr(\"karakter dizisi\\n\"))"
   ]
  },
  {
   "cell_type": "code",
   "execution_count": 38,
   "metadata": {},
   "outputs": [
    {
     "name": "stdout",
     "output_type": "stream",
     "text": [
      "\\n\n"
     ]
    }
   ],
   "source": [
    "print(r\"\\n\")"
   ]
  },
  {
   "cell_type": "code",
   "execution_count": 40,
   "metadata": {},
   "outputs": [
    {
     "name": "stdout",
     "output_type": "stream",
     "text": [
      "'\\n'\n"
     ]
    }
   ],
   "source": [
    "yeni_satır = \"\\n\"\n",
    "print(repr('\\n'))"
   ]
  },
  {
   "cell_type": "code",
   "execution_count": 41,
   "metadata": {},
   "outputs": [
    {
     "data": {
      "text/plain": [
       "\"'asds'\""
      ]
     },
     "execution_count": 41,
     "metadata": {},
     "output_type": "execute_result"
    }
   ],
   "source": [
    "# ascii()\n",
    "\n",
    "repr(\"asds\")"
   ]
  },
  {
   "cell_type": "code",
   "execution_count": 42,
   "metadata": {},
   "outputs": [
    {
     "data": {
      "text/plain": [
       "\"'asds'\""
      ]
     },
     "execution_count": 42,
     "metadata": {},
     "output_type": "execute_result"
    }
   ],
   "source": [
    "ascii(\"asds\")"
   ]
  },
  {
   "cell_type": "code",
   "execution_count": 43,
   "metadata": {},
   "outputs": [
    {
     "data": {
      "text/plain": [
       "\"'İ'\""
      ]
     },
     "execution_count": 43,
     "metadata": {},
     "output_type": "execute_result"
    }
   ],
   "source": [
    "repr(\"İ\")"
   ]
  },
  {
   "cell_type": "code",
   "execution_count": 44,
   "metadata": {},
   "outputs": [
    {
     "data": {
      "text/plain": [
       "\"'\\\\u0130'\""
      ]
     },
     "execution_count": 44,
     "metadata": {},
     "output_type": "execute_result"
    }
   ],
   "source": [
    "ascii(\"İ\")"
   ]
  },
  {
   "cell_type": "code",
   "execution_count": 46,
   "metadata": {},
   "outputs": [
    {
     "data": {
      "text/plain": [
       "10"
      ]
     },
     "execution_count": 46,
     "metadata": {},
     "output_type": "execute_result"
    }
   ],
   "source": [
    "# ord()\n",
    "\n",
    "ord(\"\\n\")"
   ]
  },
  {
   "cell_type": "code",
   "execution_count": 47,
   "metadata": {},
   "outputs": [
    {
     "data": {
      "text/plain": [
       "8364"
      ]
     },
     "execution_count": 47,
     "metadata": {},
     "output_type": "execute_result"
    }
   ],
   "source": [
    "ord(\"€\")"
   ]
  },
  {
   "cell_type": "code",
   "execution_count": 48,
   "metadata": {},
   "outputs": [
    {
     "data": {
      "text/plain": [
       "'\\n'"
      ]
     },
     "execution_count": 48,
     "metadata": {},
     "output_type": "execute_result"
    }
   ],
   "source": [
    "# chr()\n",
    "\n",
    "chr(10)"
   ]
  },
  {
   "cell_type": "code",
   "execution_count": 49,
   "metadata": {},
   "outputs": [
    {
     "data": {
      "text/plain": [
       "'€'"
      ]
     },
     "execution_count": 49,
     "metadata": {},
     "output_type": "execute_result"
    }
   ],
   "source": [
    "chr(8364)"
   ]
  },
  {
   "cell_type": "code",
   "execution_count": null,
   "metadata": {},
   "outputs": [],
   "source": []
  }
 ],
 "metadata": {
  "kernelspec": {
   "display_name": "Python 3.11.0 64-bit",
   "language": "python",
   "name": "python3"
  },
  "language_info": {
   "codemirror_mode": {
    "name": "ipython",
    "version": 3
   },
   "file_extension": ".py",
   "mimetype": "text/x-python",
   "name": "python",
   "nbconvert_exporter": "python",
   "pygments_lexer": "ipython3",
   "version": "3.11.0"
  },
  "orig_nbformat": 4,
  "vscode": {
   "interpreter": {
    "hash": "7c542dbbc07e6010b76b61de8a453dc04d29cd1fae7fbaa29851ecbad9aefb83"
   }
  }
 },
 "nbformat": 4,
 "nbformat_minor": 2
}
