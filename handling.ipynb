{
 "cells": [
  {
   "cell_type": "code",
   "execution_count": 9,
   "metadata": {},
   "outputs": [
    {
     "name": "stdout",
     "output_type": "stream",
     "text": [
      "5.0\n"
     ]
    }
   ],
   "source": [
    "# error handling => hata yönetimi\n",
    "\n",
    "try:\n",
    "    x = int(input(\"x: \"))\n",
    "    y = int(input(\"y: \"))\n",
    "    print(x/y)\n",
    "except ZeroDivisionError:\n",
    "    print(\"y için 0 girilemez\")\n",
    "except ValueError:\n",
    "    print(\"x veya y için sayısal değer girmelisiniz.\")"
   ]
  },
  {
   "cell_type": "code",
   "execution_count": 14,
   "metadata": {},
   "outputs": [
    {
     "name": "stdout",
     "output_type": "stream",
     "text": [
      "yanlış bilgi girdiniz.\n",
      "invalid literal for int() with base 10: '2a'\n"
     ]
    }
   ],
   "source": [
    "try:\n",
    "    x = int(input(\"x: \"))\n",
    "    y = int(input(\"y: \"))\n",
    "    print(x/y)\n",
    "except (ZeroDivisionError, ValueError) as e:\n",
    "    print(\"yanlış bilgi girdiniz.\")\n",
    "    print(e)\n"
   ]
  },
  {
   "cell_type": "code",
   "execution_count": 17,
   "metadata": {},
   "outputs": [
    {
     "name": "stdout",
     "output_type": "stream",
     "text": [
      "yanlış bilgi girdiniz.\n"
     ]
    }
   ],
   "source": [
    "try:\n",
    "    x = int(input(\"x: \"))\n",
    "    y = int(input(\"y: \"))\n",
    "    print(x/y)\n",
    "except:\n",
    "    print(\"yanlış bilgi girdiniz.\")"
   ]
  },
  {
   "cell_type": "code",
   "execution_count": 19,
   "metadata": {},
   "outputs": [
    {
     "name": "stdout",
     "output_type": "stream",
     "text": [
      "5.0\n",
      "her şey yolunda\n"
     ]
    }
   ],
   "source": [
    "try:\n",
    "    x = int(input(\"x: \"))\n",
    "    y = int(input(\"y: \"))\n",
    "    print(x/y)\n",
    "except:\n",
    "    print(\"yanlış bilgi girdiniz.\")\n",
    "else:\n",
    "    print(\"her şey yolunda\")"
   ]
  },
  {
   "cell_type": "code",
   "execution_count": 21,
   "metadata": {},
   "outputs": [
    {
     "name": "stdout",
     "output_type": "stream",
     "text": [
      "yanlış bilgi girdiniz.\n",
      "yanlış bilgi girdiniz.\n",
      "5.0\n"
     ]
    }
   ],
   "source": [
    "while True:\n",
    "    try:\n",
    "        x = int(input(\"x: \"))\n",
    "        y = int(input(\"y: \"))\n",
    "        print(x/y)\n",
    "    except:\n",
    "        print(\"yanlış bilgi girdiniz.\")\n",
    "    else:\n",
    "        break"
   ]
  },
  {
   "cell_type": "code",
   "execution_count": 23,
   "metadata": {},
   "outputs": [
    {
     "name": "stdout",
     "output_type": "stream",
     "text": [
      "yanlış bilgi girdiniz. division by zero\n",
      "yanlış bilgi girdiniz. invalid literal for int() with base 10: '2a'\n",
      "5.0\n"
     ]
    }
   ],
   "source": [
    "while True:\n",
    "    try:\n",
    "        x = int(input(\"x: \"))\n",
    "        y = int(input(\"y: \"))\n",
    "        print(x/y)\n",
    "    except Exception as ex:\n",
    "        print(\"yanlış bilgi girdiniz.\", ex)\n",
    "    else:\n",
    "        break"
   ]
  },
  {
   "cell_type": "code",
   "execution_count": 25,
   "metadata": {},
   "outputs": [
    {
     "name": "stdout",
     "output_type": "stream",
     "text": [
      "yanlış bilgi girdiniz. division by zero\n",
      "try except sonlandı.\n",
      "2.0\n",
      "try except sonlandı.\n"
     ]
    }
   ],
   "source": [
    "while True:\n",
    "    try:\n",
    "        x = int(input(\"x: \"))\n",
    "        y = int(input(\"y: \"))\n",
    "        print(x/y)\n",
    "    except Exception as ex:\n",
    "        print(\"yanlış bilgi girdiniz.\", ex)\n",
    "    else:\n",
    "        break\n",
    "    finally:\n",
    "        print(\"try except sonlandı.\")"
   ]
  },
  {
   "cell_type": "code",
   "execution_count": null,
   "metadata": {},
   "outputs": [],
   "source": []
  }
 ],
 "metadata": {
  "kernelspec": {
   "display_name": "Python 3.11.0 64-bit",
   "language": "python",
   "name": "python3"
  },
  "language_info": {
   "codemirror_mode": {
    "name": "ipython",
    "version": 3
   },
   "file_extension": ".py",
   "mimetype": "text/x-python",
   "name": "python",
   "nbconvert_exporter": "python",
   "pygments_lexer": "ipython3",
   "version": "3.11.0"
  },
  "orig_nbformat": 4,
  "vscode": {
   "interpreter": {
    "hash": "7c542dbbc07e6010b76b61de8a453dc04d29cd1fae7fbaa29851ecbad9aefb83"
   }
  }
 },
 "nbformat": 4,
 "nbformat_minor": 2
}
