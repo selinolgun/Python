{
 "cells": [
  {
   "cell_type": "code",
   "execution_count": 4,
   "metadata": {},
   "outputs": [
    {
     "name": "stdout",
     "output_type": "stream",
     "text": [
      "True\n"
     ]
    }
   ],
   "source": [
    "x = int(input(\"Bir sayı giriniz: \"))\n",
    "result = 0 < x < 100\n",
    "print(result)"
   ]
  },
  {
   "cell_type": "code",
   "execution_count": 6,
   "metadata": {},
   "outputs": [
    {
     "name": "stdout",
     "output_type": "stream",
     "text": [
      "False\n"
     ]
    }
   ],
   "source": [
    "y = int(input(\"Bir sayı giriniz: \"))\n",
    "result = (y > 0) and (y % 2 == 0)\n",
    "print(result)"
   ]
  },
  {
   "cell_type": "code",
   "execution_count": 26,
   "metadata": {},
   "outputs": [
    {
     "name": "stdout",
     "output_type": "stream",
     "text": [
      "Hatalı giriş yaptınız.\n"
     ]
    }
   ],
   "source": [
    "email = \"sonay.gmail\"\n",
    "parola = \"abc123\"\n",
    "h = input(\"Email: \")\n",
    "ı = input(\"Parola: \")\n",
    "result = (email == h) and (parola == ı)\n",
    "if result == True:\n",
    "    print(\"Başarıyla giriş yaptınız.\")\n",
    "else:\n",
    "    print(\"Hatalı giriş yaptınız.\")"
   ]
  },
  {
   "cell_type": "code",
   "execution_count": 8,
   "metadata": {},
   "outputs": [
    {
     "name": "stdout",
     "output_type": "stream",
     "text": [
      "(False, True, False)\n"
     ]
    }
   ],
   "source": [
    "b = int(input(\"1.Sayı: \"))\n",
    "c = int(input(\"2.Sayı: \"))\n",
    "d = int(input(\"3.Sayı: \"))\n",
    "result = (b > c), (c > d), (b > d)\n",
    "print(result)"
   ]
  },
  {
   "cell_type": "code",
   "execution_count": 51,
   "metadata": {},
   "outputs": [
    {
     "name": "stdout",
     "output_type": "stream",
     "text": [
      "Dersten Geçtin\n"
     ]
    }
   ],
   "source": [
    "e = int(input(\"1.Vize: \"))\n",
    "f = int(input(\"2.Vize: \"))\n",
    "g = int(input(\"Final: \"))\n",
    "ortalama = ((((e+f)/2))*0.60)+(g*0.40)\n",
    "result = ((ortalama >= 50) and (g >= 50)) or (g >= 70)\n",
    "if result == True:\n",
    "    print(\"Dersten Geçtin\")\n",
    "else:\n",
    "    print(\"Dersten Kaldın\")"
   ]
  },
  {
   "cell_type": "code",
   "execution_count": 50,
   "metadata": {},
   "outputs": [
    {
     "name": "stdout",
     "output_type": "stream",
     "text": [
      "22.7\n",
      "Normal\n"
     ]
    }
   ],
   "source": [
    "ad = input(\"isim soyisim: \")\n",
    "kilo = float(input(\"kilo: \"))\n",
    "boy = float(input(\"boy: \"))\n",
    "formül = float(kilo / (boy**2))\n",
    "formül = round(formül,1)\n",
    "print(formül)\n",
    "if (0 >= formül <= 18.4):\n",
    "    print(\"Zayıf\")\n",
    "elif (18.5 <= formül <= 24.9):\n",
    "    print(\"Normal\")\n",
    "elif (25.0 <= formül <= 29.9):\n",
    "    print(\"Fazla Kilolu\")\n",
    "else:\n",
    "    print(\"Şişman(Obez)\")"
   ]
  }
 ],
 "metadata": {
  "kernelspec": {
   "display_name": "Python 3.11.0 64-bit",
   "language": "python",
   "name": "python3"
  },
  "language_info": {
   "codemirror_mode": {
    "name": "ipython",
    "version": 3
   },
   "file_extension": ".py",
   "mimetype": "text/x-python",
   "name": "python",
   "nbconvert_exporter": "python",
   "pygments_lexer": "ipython3",
   "version": "3.11.0"
  },
  "orig_nbformat": 4,
  "vscode": {
   "interpreter": {
    "hash": "7c542dbbc07e6010b76b61de8a453dc04d29cd1fae7fbaa29851ecbad9aefb83"
   }
  }
 },
 "nbformat": 4,
 "nbformat_minor": 2
}
