{
 "cells": [
  {
   "cell_type": "code",
   "execution_count": 1,
   "metadata": {},
   "outputs": [
    {
     "name": "stdout",
     "output_type": "stream",
     "text": [
      "sonay\n"
     ]
    }
   ],
   "source": [
    "def changeName(n):\n",
    "    n = \"ada\"\n",
    "\n",
    "name = \"sonay\"\n",
    "\n",
    "changeName(name)\n",
    "print(name)"
   ]
  },
  {
   "cell_type": "code",
   "execution_count": 5,
   "metadata": {},
   "outputs": [
    {
     "name": "stdout",
     "output_type": "stream",
     "text": [
      "['ankara', 'izmir']\n"
     ]
    }
   ],
   "source": [
    "def change(n):\n",
    "    n[0] = \"istanbul\"\n",
    "\n",
    "sehirler = [\"ankara\",\"izmir\"]\n",
    "change(sehirler[:])\n",
    "\n",
    "print(sehirler)"
   ]
  },
  {
   "cell_type": "code",
   "execution_count": 13,
   "metadata": {},
   "outputs": [
    {
     "name": "stdout",
     "output_type": "stream",
     "text": [
      "(10, 20, 50)\n",
      "10\n",
      "50\n",
      "80\n",
      "(10, 20, 30)\n",
      "10\n",
      "30\n",
      "60\n",
      "(10, 20, 30, 50, 60, 10, 20)\n",
      "10\n",
      "30\n",
      "200\n"
     ]
    }
   ],
   "source": [
    "def add(*params):\n",
    "    print(params)\n",
    "    print(params[0])\n",
    "    print(params[2])\n",
    "    return sum((params))\n",
    "\n",
    "print(add(10, 20, 50))\n",
    "print(add(10, 20, 30))\n",
    "print(add(10, 20, 30, 50, 60, 10, 20))"
   ]
  },
  {
   "cell_type": "code",
   "execution_count": 14,
   "metadata": {},
   "outputs": [
    {
     "name": "stdout",
     "output_type": "stream",
     "text": [
      "80\n",
      "60\n",
      "200\n"
     ]
    }
   ],
   "source": [
    "def add(*params):\n",
    "    sum = 0\n",
    "    for n in params:\n",
    "        sum = sum + n\n",
    "    return sum\n",
    "\n",
    "print(add(10, 20, 50))\n",
    "print(add(10, 20, 30))\n",
    "print(add(10, 20, 30, 50, 60, 10, 20))"
   ]
  },
  {
   "cell_type": "code",
   "execution_count": 17,
   "metadata": {},
   "outputs": [
    {
     "name": "stdout",
     "output_type": "stream",
     "text": [
      "name is Sonay\n",
      "age is 26\n",
      "city is Manisa\n",
      "name is Selin\n",
      "age is 25\n",
      "city is Balıkesir\n",
      "phone is 123456\n",
      "name is Ada\n",
      "age is 24\n",
      "city is İzmir\n",
      "phone is 123456\n",
      "email is ada@gmail.com\n"
     ]
    }
   ],
   "source": [
    "def displayUser(**args):\n",
    "    for key, value in args.items():\n",
    "        print(\"{} is {}\".format(key, value))\n",
    "\n",
    "displayUser(name = \"Sonay\", age = 26, city = \"Manisa\")\n",
    "displayUser(name = \"Selin\", age = 25, city = \"Balıkesir\", phone = 123456)\n",
    "displayUser(name = \"Ada\", age = 24, city = \"İzmir\", phone = 123456, email = \"ada@gmail.com\")\n"
   ]
  },
  {
   "cell_type": "code",
   "execution_count": 18,
   "metadata": {},
   "outputs": [
    {
     "name": "stdout",
     "output_type": "stream",
     "text": [
      "10\n",
      "20\n",
      "(30, 40, 50)\n",
      "{'key1': 'value 1', 'key2': 'value 2'}\n"
     ]
    }
   ],
   "source": [
    "def myfunc(a, b, *args, **kwargs):\n",
    "    print(a)\n",
    "    print(b)\n",
    "    print(args)\n",
    "    print(kwargs)\n",
    "\n",
    "myfunc(10,20,30,40,50, key1 = \"value 1\",key2 = \"value 2\")"
   ]
  },
  {
   "cell_type": "code",
   "execution_count": null,
   "metadata": {},
   "outputs": [],
   "source": []
  }
 ],
 "metadata": {
  "kernelspec": {
   "display_name": "Python 3.11.0 64-bit",
   "language": "python",
   "name": "python3"
  },
  "language_info": {
   "codemirror_mode": {
    "name": "ipython",
    "version": 3
   },
   "file_extension": ".py",
   "mimetype": "text/x-python",
   "name": "python",
   "nbconvert_exporter": "python",
   "pygments_lexer": "ipython3",
   "version": "3.11.0"
  },
  "orig_nbformat": 4,
  "vscode": {
   "interpreter": {
    "hash": "7c542dbbc07e6010b76b61de8a453dc04d29cd1fae7fbaa29851ecbad9aefb83"
   }
  }
 },
 "nbformat": 4,
 "nbformat_minor": 2
}
