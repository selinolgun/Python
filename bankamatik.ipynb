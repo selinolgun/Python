{
 "cells": [
  {
   "cell_type": "code",
   "execution_count": 14,
   "metadata": {},
   "outputs": [
    {
     "name": "stdout",
     "output_type": "stream",
     "text": [
      "Merhaba Sonay Ilıca\n",
      "Paranızı alabilirsiniz.\n",
      "13245678 nolu hesabınızda 0 TL bulunmaktadır. Ek hesap limitiniz ise 2000 TL bulunmaktadır.\n",
      "Merhaba Sonay Ilıca\n",
      "Paranızı alabilirsiniz.\n",
      "13245678 nolu hesabınızda 0 TL bulunmaktadır. Ek hesap limitiniz ise 0 TL bulunmaktadır.\n"
     ]
    }
   ],
   "source": [
    "# bankamatik uygulaması\n",
    "\n",
    "# ad = \"Sonay\"\n",
    "# hesapNo = 13245678\n",
    "# bakiye = 3000\n",
    "\n",
    "hesapA = {\n",
    "    \"ad\" : \"Sonay Ilıca\",\n",
    "    \"hesapNo\" : \"13245678\",\n",
    "    \"bakiye\" : 3000,\n",
    "    \"ekHesap\" : 2000\n",
    "}\n",
    "\n",
    "hesapB = {\n",
    "    \"ad\" : \"Selin Olgun\",\n",
    "    \"hesapNo\" : \"12345678\",\n",
    "    \"bakiye\" : 2000,\n",
    "    \"ekHesap\" : 1000\n",
    "}\n",
    "\n",
    "def paraCek(hesap, miktar):\n",
    "    print(f\"Merhaba {hesap['ad']}\")\n",
    "\n",
    "    if (hesap[\"bakiye\"] >= miktar):\n",
    "        hesap[\"bakiye\"] -= miktar\n",
    "        print(\"Paranızı alabilirsiniz.\")\n",
    "    else:\n",
    "        toplam = hesap[\"bakiye\"] + hesap[\"ekHesap\"]\n",
    "\n",
    "        if (toplam >= miktar):\n",
    "            ekHesapKullanimi = input(\"Ek hesap kullanılsın mı? E/H\")\n",
    "\n",
    "            if ekHesapKullanimi == \"E\":\n",
    "                bakiye = hesap[\"bakiye\"]\n",
    "\n",
    "                ekHesapKullanilacakMiktar = miktar - hesap['bakiye']\n",
    "                hesap['bakiye'] = 0\n",
    "                hesap[\"ekHesap\"] -= ekHesapKullanilacakMiktar\n",
    "                print(\"Paranızı alabilirsiniz.\")\n",
    "            else:\n",
    "                print(f\"{hesap['hesapNo']} nolu hesabınızda {hesap['bakiye']} bulunmaktadır.\")\n",
    "        else:\n",
    "            print(\"Üzgünüz. Bakiye yetersiz.\")\n",
    "\n",
    "\n",
    "def bakiyeSorgula(hesap):\n",
    "    print(f\"{hesap['hesapNo']} nolu hesabınızda {hesap['bakiye']} TL bulunmaktadır. Ek hesap limitiniz ise {hesap['ekHesap']} TL bulunmaktadır.\")\n",
    "\n",
    "paraCek(hesapA, 3000)\n",
    "bakiyeSorgula(hesapA)\n",
    "\n",
    "\n",
    "paraCek(hesapA, 2000)\n",
    "bakiyeSorgula(hesapA)"
   ]
  },
  {
   "cell_type": "code",
   "execution_count": null,
   "metadata": {},
   "outputs": [],
   "source": []
  }
 ],
 "metadata": {
  "kernelspec": {
   "display_name": "Python 3.11.0 64-bit",
   "language": "python",
   "name": "python3"
  },
  "language_info": {
   "codemirror_mode": {
    "name": "ipython",
    "version": 3
   },
   "file_extension": ".py",
   "mimetype": "text/x-python",
   "name": "python",
   "nbconvert_exporter": "python",
   "pygments_lexer": "ipython3",
   "version": "3.11.0"
  },
  "orig_nbformat": 4,
  "vscode": {
   "interpreter": {
    "hash": "7c542dbbc07e6010b76b61de8a453dc04d29cd1fae7fbaa29851ecbad9aefb83"
   }
  }
 },
 "nbformat": 4,
 "nbformat_minor": 2
}
