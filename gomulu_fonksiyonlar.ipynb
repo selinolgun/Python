{
 "cells": [
  {
   "cell_type": "code",
   "execution_count": 1,
   "metadata": {},
   "outputs": [
    {
     "data": {
      "text/plain": [
       "20"
      ]
     },
     "execution_count": 1,
     "metadata": {},
     "output_type": "execute_result"
    }
   ],
   "source": [
    "# abs()\n",
    "\n",
    "abs(-20)"
   ]
  },
  {
   "cell_type": "code",
   "execution_count": 2,
   "metadata": {},
   "outputs": [
    {
     "data": {
      "text/plain": [
       "20"
      ]
     },
     "execution_count": 2,
     "metadata": {},
     "output_type": "execute_result"
    }
   ],
   "source": [
    "abs(20)"
   ]
  },
  {
   "cell_type": "code",
   "execution_count": 3,
   "metadata": {},
   "outputs": [
    {
     "data": {
      "text/plain": [
       "20.0"
      ]
     },
     "execution_count": 3,
     "metadata": {},
     "output_type": "execute_result"
    }
   ],
   "source": [
    "abs(20.0)"
   ]
  },
  {
   "cell_type": "code",
   "execution_count": 4,
   "metadata": {},
   "outputs": [
    {
     "data": {
      "text/plain": [
       "20.223748416156685"
      ]
     },
     "execution_count": 4,
     "metadata": {},
     "output_type": "execute_result"
    }
   ],
   "source": [
    "abs(20+3j)"
   ]
  },
  {
   "cell_type": "code",
   "execution_count": 5,
   "metadata": {},
   "outputs": [
    {
     "data": {
      "text/plain": [
       "12"
      ]
     },
     "execution_count": 5,
     "metadata": {},
     "output_type": "execute_result"
    }
   ],
   "source": [
    "# round()\n",
    "\n",
    "round(12.4)"
   ]
  },
  {
   "cell_type": "code",
   "execution_count": 6,
   "metadata": {},
   "outputs": [
    {
     "data": {
      "text/plain": [
       "13"
      ]
     },
     "execution_count": 6,
     "metadata": {},
     "output_type": "execute_result"
    }
   ],
   "source": [
    "round(12.7)"
   ]
  },
  {
   "cell_type": "code",
   "execution_count": 7,
   "metadata": {},
   "outputs": [
    {
     "data": {
      "text/plain": [
       "2"
      ]
     },
     "execution_count": 7,
     "metadata": {},
     "output_type": "execute_result"
    }
   ],
   "source": [
    "round(1.5)"
   ]
  },
  {
   "cell_type": "code",
   "execution_count": 8,
   "metadata": {},
   "outputs": [
    {
     "data": {
      "text/plain": [
       "12"
      ]
     },
     "execution_count": 8,
     "metadata": {},
     "output_type": "execute_result"
    }
   ],
   "source": [
    "round(12.5)"
   ]
  },
  {
   "cell_type": "code",
   "execution_count": 9,
   "metadata": {},
   "outputs": [
    {
     "data": {
      "text/plain": [
       "3.142857142857143"
      ]
     },
     "execution_count": 9,
     "metadata": {},
     "output_type": "execute_result"
    }
   ],
   "source": [
    "22/7"
   ]
  },
  {
   "cell_type": "code",
   "execution_count": 10,
   "metadata": {},
   "outputs": [
    {
     "data": {
      "text/plain": [
       "3"
      ]
     },
     "execution_count": 10,
     "metadata": {},
     "output_type": "execute_result"
    }
   ],
   "source": [
    "round(22/7)"
   ]
  },
  {
   "cell_type": "code",
   "execution_count": 11,
   "metadata": {},
   "outputs": [
    {
     "data": {
      "text/plain": [
       "3.0"
      ]
     },
     "execution_count": 11,
     "metadata": {},
     "output_type": "execute_result"
    }
   ],
   "source": [
    "round(22/7, 0)"
   ]
  },
  {
   "cell_type": "code",
   "execution_count": 12,
   "metadata": {},
   "outputs": [
    {
     "data": {
      "text/plain": [
       "3.1"
      ]
     },
     "execution_count": 12,
     "metadata": {},
     "output_type": "execute_result"
    }
   ],
   "source": [
    "round(22/7, 1)"
   ]
  },
  {
   "cell_type": "code",
   "execution_count": 13,
   "metadata": {},
   "outputs": [
    {
     "data": {
      "text/plain": [
       "3.14"
      ]
     },
     "execution_count": 13,
     "metadata": {},
     "output_type": "execute_result"
    }
   ],
   "source": [
    "round(22/7, 2)"
   ]
  },
  {
   "cell_type": "code",
   "execution_count": 14,
   "metadata": {},
   "outputs": [
    {
     "data": {
      "text/plain": [
       "3.143"
      ]
     },
     "execution_count": 14,
     "metadata": {},
     "output_type": "execute_result"
    }
   ],
   "source": [
    "round(22/7, 3)"
   ]
  },
  {
   "cell_type": "code",
   "execution_count": 15,
   "metadata": {},
   "outputs": [
    {
     "data": {
      "text/plain": [
       "3.1429"
      ]
     },
     "execution_count": 15,
     "metadata": {},
     "output_type": "execute_result"
    }
   ],
   "source": [
    "round(22/7, 4)"
   ]
  },
  {
   "cell_type": "code",
   "execution_count": 16,
   "metadata": {},
   "outputs": [
    {
     "data": {
      "text/plain": [
       "True"
      ]
     },
     "execution_count": 16,
     "metadata": {},
     "output_type": "execute_result"
    }
   ],
   "source": [
    "# all()\n",
    "\n",
    "liste = [1, 2, 3, 4]\n",
    "all(liste)"
   ]
  },
  {
   "cell_type": "code",
   "execution_count": 17,
   "metadata": {},
   "outputs": [
    {
     "data": {
      "text/plain": [
       "False"
      ]
     },
     "execution_count": 17,
     "metadata": {},
     "output_type": "execute_result"
    }
   ],
   "source": [
    "liste = [0, 1, 2, 3, 4]\n",
    "all(liste)"
   ]
  },
  {
   "cell_type": "code",
   "execution_count": 18,
   "metadata": {},
   "outputs": [
    {
     "data": {
      "text/plain": [
       "False"
      ]
     },
     "execution_count": 18,
     "metadata": {},
     "output_type": "execute_result"
    }
   ],
   "source": [
    "liste = ['ahmet', 'mehmet', '']\n",
    "all(liste)"
   ]
  },
  {
   "cell_type": "code",
   "execution_count": 19,
   "metadata": {},
   "outputs": [
    {
     "data": {
      "text/plain": [
       "True"
      ]
     },
     "execution_count": 19,
     "metadata": {},
     "output_type": "execute_result"
    }
   ],
   "source": [
    "a = 3\n",
    "t1 = a == 3         #sayı 3 mü?\n",
    "t2 = a < 4          #sayı 4'ten küçük mü?\n",
    "t3 = a % 2 == 1     #sayı bir tek sayı mı?\n",
    "all([t1, t2, t3])   #sayı bu özelliklerin hepsine sahip mi?"
   ]
  },
  {
   "cell_type": "code",
   "execution_count": 20,
   "metadata": {},
   "outputs": [
    {
     "data": {
      "text/plain": [
       "True"
      ]
     },
     "execution_count": 20,
     "metadata": {},
     "output_type": "execute_result"
    }
   ],
   "source": [
    "# any()\n",
    "\n",
    "liste = ['ahmet', 'mehmet', '']\n",
    "any(liste)"
   ]
  },
  {
   "cell_type": "code",
   "execution_count": 21,
   "metadata": {},
   "outputs": [
    {
     "data": {
      "text/plain": [
       "False"
      ]
     },
     "execution_count": 21,
     "metadata": {},
     "output_type": "execute_result"
    }
   ],
   "source": [
    "l = ['', 0, [], (), set(), dict()]\n",
    "any(l)\n"
   ]
  },
  {
   "cell_type": "code",
   "execution_count": 22,
   "metadata": {},
   "outputs": [
    {
     "name": "stdout",
     "output_type": "stream",
     "text": [
      "'istihza'\n"
     ]
    }
   ],
   "source": [
    "# ascii()\n",
    "\n",
    "a = 'istihza'\n",
    "print(ascii(a))"
   ]
  },
  {
   "cell_type": "code",
   "execution_count": 23,
   "metadata": {},
   "outputs": [
    {
     "name": "stdout",
     "output_type": "stream",
     "text": [
      "\n",
      "\n"
     ]
    }
   ],
   "source": [
    "print('\\n')"
   ]
  },
  {
   "cell_type": "code",
   "execution_count": 24,
   "metadata": {},
   "outputs": [
    {
     "name": "stdout",
     "output_type": "stream",
     "text": [
      "'\\n!'\n"
     ]
    }
   ],
   "source": [
    "print(ascii('\\n!'))"
   ]
  },
  {
   "cell_type": "code",
   "execution_count": 25,
   "metadata": {},
   "outputs": [
    {
     "name": "stdout",
     "output_type": "stream",
     "text": [
      "'\\u0131\\u015f\\u0131k'\n"
     ]
    }
   ],
   "source": [
    "a = 'ışık'\n",
    "print(ascii(a))"
   ]
  },
  {
   "cell_type": "code",
   "execution_count": 26,
   "metadata": {},
   "outputs": [
    {
     "name": "stdout",
     "output_type": "stream",
     "text": [
      "'\\u0131'\n",
      "'\\u015f'\n",
      "'\\u0131'\n",
      "'k'\n"
     ]
    }
   ],
   "source": [
    "for i in a:\n",
    "    print(ascii(i))"
   ]
  },
  {
   "cell_type": "code",
   "execution_count": 27,
   "metadata": {},
   "outputs": [
    {
     "name": "stdout",
     "output_type": "stream",
     "text": [
      "['elma', 'armut', 'erik']\n"
     ]
    }
   ],
   "source": [
    "liste = ['elma', 'armut', 'erik']\n",
    "temsil = ascii(liste)\n",
    "print(temsil)"
   ]
  },
  {
   "cell_type": "code",
   "execution_count": 28,
   "metadata": {},
   "outputs": [
    {
     "name": "stdout",
     "output_type": "stream",
     "text": [
      "<class 'str'>\n"
     ]
    }
   ],
   "source": [
    "print(type(temsil))"
   ]
  },
  {
   "cell_type": "code",
   "execution_count": 29,
   "metadata": {},
   "outputs": [
    {
     "data": {
      "text/plain": [
       "'['"
      ]
     },
     "execution_count": 29,
     "metadata": {},
     "output_type": "execute_result"
    }
   ],
   "source": [
    "temsil[0]"
   ]
  },
  {
   "cell_type": "code",
   "execution_count": 30,
   "metadata": {},
   "outputs": [
    {
     "data": {
      "text/plain": [
       "\"'\\\\u015feker'\""
      ]
     },
     "execution_count": 30,
     "metadata": {},
     "output_type": "execute_result"
    }
   ],
   "source": [
    "# repr()\n",
    "\n",
    "ascii('şeker')"
   ]
  },
  {
   "cell_type": "code",
   "execution_count": 31,
   "metadata": {},
   "outputs": [
    {
     "data": {
      "text/plain": [
       "\"'şeker'\""
      ]
     },
     "execution_count": 31,
     "metadata": {},
     "output_type": "execute_result"
    }
   ],
   "source": [
    "repr('şeker')"
   ]
  },
  {
   "cell_type": "code",
   "execution_count": 32,
   "metadata": {},
   "outputs": [
    {
     "data": {
      "text/plain": [
       "False"
      ]
     },
     "execution_count": 32,
     "metadata": {},
     "output_type": "execute_result"
    }
   ],
   "source": [
    "# bool()\n",
    "\n",
    "bool(0)"
   ]
  },
  {
   "cell_type": "code",
   "execution_count": 33,
   "metadata": {},
   "outputs": [
    {
     "data": {
      "text/plain": [
       "True"
      ]
     },
     "execution_count": 33,
     "metadata": {},
     "output_type": "execute_result"
    }
   ],
   "source": [
    "bool(1)"
   ]
  },
  {
   "cell_type": "code",
   "execution_count": 34,
   "metadata": {},
   "outputs": [
    {
     "data": {
      "text/plain": [
       "False"
      ]
     },
     "execution_count": 34,
     "metadata": {},
     "output_type": "execute_result"
    }
   ],
   "source": [
    "bool([])"
   ]
  },
  {
   "cell_type": "code",
   "execution_count": 35,
   "metadata": {},
   "outputs": [
    {
     "data": {
      "text/plain": [
       "'0b1100'"
      ]
     },
     "execution_count": 35,
     "metadata": {},
     "output_type": "execute_result"
    }
   ],
   "source": [
    "# bin()\n",
    "\n",
    "bin(12)"
   ]
  },
  {
   "cell_type": "code",
   "execution_count": 36,
   "metadata": {},
   "outputs": [
    {
     "data": {
      "text/plain": [
       "b'\\x00\\x00\\x00\\x00\\x00\\x00\\x00\\x00\\x00\\x00'"
      ]
     },
     "execution_count": 36,
     "metadata": {},
     "output_type": "execute_result"
    }
   ],
   "source": [
    "# bytes()\n",
    "\n",
    "bytes(10)"
   ]
  },
  {
   "cell_type": "code",
   "execution_count": 37,
   "metadata": {},
   "outputs": [
    {
     "data": {
      "text/plain": [
       "0"
      ]
     },
     "execution_count": 37,
     "metadata": {},
     "output_type": "execute_result"
    }
   ],
   "source": [
    "a = bytes(10)\n",
    "a[0]"
   ]
  },
  {
   "cell_type": "code",
   "execution_count": 38,
   "metadata": {},
   "outputs": [
    {
     "data": {
      "text/plain": [
       "0"
      ]
     },
     "execution_count": 38,
     "metadata": {},
     "output_type": "execute_result"
    }
   ],
   "source": [
    "a[2]"
   ]
  },
  {
   "cell_type": "code",
   "execution_count": 39,
   "metadata": {},
   "outputs": [
    {
     "data": {
      "text/plain": [
       "0"
      ]
     },
     "execution_count": 39,
     "metadata": {},
     "output_type": "execute_result"
    }
   ],
   "source": [
    "a[1]"
   ]
  },
  {
   "cell_type": "code",
   "execution_count": 40,
   "metadata": {},
   "outputs": [
    {
     "ename": "TypeError",
     "evalue": "string argument without an encoding",
     "output_type": "error",
     "traceback": [
      "\u001b[1;31m---------------------------------------------------------------------------\u001b[0m",
      "\u001b[1;31mTypeError\u001b[0m                                 Traceback (most recent call last)",
      "Cell \u001b[1;32mIn [40], line 1\u001b[0m\n\u001b[1;32m----> 1\u001b[0m \u001b[39mbytes\u001b[39;49m(\u001b[39m'\u001b[39;49m\u001b[39mistihza\u001b[39;49m\u001b[39m'\u001b[39;49m)\n",
      "\u001b[1;31mTypeError\u001b[0m: string argument without an encoding"
     ]
    }
   ],
   "source": [
    "bytes('istihza')"
   ]
  },
  {
   "cell_type": "code",
   "execution_count": 41,
   "metadata": {},
   "outputs": [
    {
     "data": {
      "text/plain": [
       "b'\\xfd\\xfe\\xfdk'"
      ]
     },
     "execution_count": 41,
     "metadata": {},
     "output_type": "execute_result"
    }
   ],
   "source": [
    "'ışık'.encode('cp1254')"
   ]
  },
  {
   "cell_type": "code",
   "execution_count": 42,
   "metadata": {},
   "outputs": [
    {
     "data": {
      "text/plain": [
       "b'\\xfd\\xfe\\xfdk'"
      ]
     },
     "execution_count": 42,
     "metadata": {},
     "output_type": "execute_result"
    }
   ],
   "source": [
    "bytes('ışık', 'cp1254')"
   ]
  },
  {
   "cell_type": "code",
   "execution_count": 43,
   "metadata": {},
   "outputs": [
    {
     "data": {
      "text/plain": [
       "b'istihza'"
      ]
     },
     "execution_count": 43,
     "metadata": {},
     "output_type": "execute_result"
    }
   ],
   "source": [
    "bytes('istihza', encoding='ascii')"
   ]
  },
  {
   "cell_type": "code",
   "execution_count": 44,
   "metadata": {},
   "outputs": [
    {
     "ename": "UnicodeEncodeError",
     "evalue": "'ascii' codec can't encode character '\\u015f' in position 0: ordinal not in range(128)",
     "output_type": "error",
     "traceback": [
      "\u001b[1;31m---------------------------------------------------------------------------\u001b[0m",
      "\u001b[1;31mUnicodeEncodeError\u001b[0m                        Traceback (most recent call last)",
      "Cell \u001b[1;32mIn [44], line 1\u001b[0m\n\u001b[1;32m----> 1\u001b[0m \u001b[39mbytes\u001b[39;49m(\u001b[39m'\u001b[39;49m\u001b[39mşeker\u001b[39;49m\u001b[39m'\u001b[39;49m, \u001b[39m'\u001b[39;49m\u001b[39mascii\u001b[39;49m\u001b[39m'\u001b[39;49m)\n",
      "\u001b[1;31mUnicodeEncodeError\u001b[0m: 'ascii' codec can't encode character '\\u015f' in position 0: ordinal not in range(128)"
     ]
    }
   ],
   "source": [
    "bytes('şeker', 'ascii')"
   ]
  },
  {
   "cell_type": "code",
   "execution_count": 45,
   "metadata": {},
   "outputs": [
    {
     "ename": "UnicodeEncodeError",
     "evalue": "'charmap' codec can't encode character '\\u20ac' in position 0: character maps to <undefined>",
     "output_type": "error",
     "traceback": [
      "\u001b[1;31m---------------------------------------------------------------------------\u001b[0m",
      "\u001b[1;31mUnicodeEncodeError\u001b[0m                        Traceback (most recent call last)",
      "Cell \u001b[1;32mIn [45], line 1\u001b[0m\n\u001b[1;32m----> 1\u001b[0m \u001b[39mbytes\u001b[39;49m(\u001b[39m'\u001b[39;49m\u001b[39m€\u001b[39;49m\u001b[39m'\u001b[39;49m, \u001b[39m'\u001b[39;49m\u001b[39mcp857\u001b[39;49m\u001b[39m'\u001b[39;49m)\n",
      "File \u001b[1;32mc:\\Users\\Fallrytme\\AppData\\Local\\Programs\\Python\\Python311\\Lib\\encodings\\cp857.py:12\u001b[0m, in \u001b[0;36mCodec.encode\u001b[1;34m(self, input, errors)\u001b[0m\n\u001b[0;32m     11\u001b[0m \u001b[39mdef\u001b[39;00m \u001b[39mencode\u001b[39m(\u001b[39mself\u001b[39m,\u001b[39minput\u001b[39m,errors\u001b[39m=\u001b[39m\u001b[39m'\u001b[39m\u001b[39mstrict\u001b[39m\u001b[39m'\u001b[39m):\n\u001b[1;32m---> 12\u001b[0m     \u001b[39mreturn\u001b[39;00m codecs\u001b[39m.\u001b[39;49mcharmap_encode(\u001b[39minput\u001b[39;49m,errors,encoding_map)\n",
      "\u001b[1;31mUnicodeEncodeError\u001b[0m: 'charmap' codec can't encode character '\\u20ac' in position 0: character maps to <undefined>"
     ]
    }
   ],
   "source": [
    "bytes('€', 'cp857')"
   ]
  },
  {
   "cell_type": "code",
   "execution_count": 46,
   "metadata": {},
   "outputs": [
    {
     "data": {
      "text/plain": [
       "b'???k'"
      ]
     },
     "execution_count": 46,
     "metadata": {},
     "output_type": "execute_result"
    }
   ],
   "source": [
    "bytes('ışık', encoding='ascii', errors='replace')"
   ]
  },
  {
   "cell_type": "code",
   "execution_count": 47,
   "metadata": {},
   "outputs": [
    {
     "data": {
      "text/plain": [
       "b'?eker'"
      ]
     },
     "execution_count": 47,
     "metadata": {},
     "output_type": "execute_result"
    }
   ],
   "source": [
    "bytes('şeker', encoding='ascii', errors='replace')"
   ]
  },
  {
   "cell_type": "code",
   "execution_count": 48,
   "metadata": {},
   "outputs": [
    {
     "data": {
      "text/plain": [
       "b'?'"
      ]
     },
     "execution_count": 48,
     "metadata": {},
     "output_type": "execute_result"
    }
   ],
   "source": [
    "bytes('€', encoding='cp857', errors='replace')"
   ]
  },
  {
   "cell_type": "code",
   "execution_count": 49,
   "metadata": {},
   "outputs": [
    {
     "data": {
      "text/plain": [
       "b''"
      ]
     },
     "execution_count": 49,
     "metadata": {},
     "output_type": "execute_result"
    }
   ],
   "source": [
    "bytes('€', encoding='cp857', errors='ignore')"
   ]
  },
  {
   "cell_type": "code",
   "execution_count": 50,
   "metadata": {},
   "outputs": [
    {
     "data": {
      "text/plain": [
       "b'&#8364;'"
      ]
     },
     "execution_count": 50,
     "metadata": {},
     "output_type": "execute_result"
    }
   ],
   "source": [
    "bytes('€', encoding='cp857', errors='xmlcharrefreplace')"
   ]
  },
  {
   "cell_type": "code",
   "execution_count": 51,
   "metadata": {},
   "outputs": [
    {
     "data": {
      "text/plain": [
       "b'\\x9feker'"
      ]
     },
     "execution_count": 51,
     "metadata": {},
     "output_type": "execute_result"
    }
   ],
   "source": [
    "bytes('şeker', encoding='cp857', errors='xmlcharrefreplace')"
   ]
  },
  {
   "cell_type": "code",
   "execution_count": 52,
   "metadata": {},
   "outputs": [
    {
     "data": {
      "text/plain": [
       "b'A\\n\\x0c\\x0b\\x0fB'"
      ]
     },
     "execution_count": 52,
     "metadata": {},
     "output_type": "execute_result"
    }
   ],
   "source": [
    "bytes([65, 10, 12, 11, 15, 66])"
   ]
  },
  {
   "cell_type": "code",
   "execution_count": 53,
   "metadata": {},
   "outputs": [
    {
     "data": {
      "text/plain": [
       "105"
      ]
     },
     "execution_count": 53,
     "metadata": {},
     "output_type": "execute_result"
    }
   ],
   "source": [
    "# bytearray()\n",
    "\n",
    "a = bytes('istihza', 'ascii')\n",
    "a[0]"
   ]
  },
  {
   "cell_type": "code",
   "execution_count": 54,
   "metadata": {},
   "outputs": [
    {
     "ename": "TypeError",
     "evalue": "'bytes' object does not support item assignment",
     "output_type": "error",
     "traceback": [
      "\u001b[1;31m---------------------------------------------------------------------------\u001b[0m",
      "\u001b[1;31mTypeError\u001b[0m                                 Traceback (most recent call last)",
      "Cell \u001b[1;32mIn [54], line 1\u001b[0m\n\u001b[1;32m----> 1\u001b[0m a[\u001b[39m0\u001b[39;49m] \u001b[39m=\u001b[39m \u001b[39m106\u001b[39m\n",
      "\u001b[1;31mTypeError\u001b[0m: 'bytes' object does not support item assignment"
     ]
    }
   ],
   "source": [
    "a[0] = 106"
   ]
  },
  {
   "cell_type": "code",
   "execution_count": 55,
   "metadata": {},
   "outputs": [
    {
     "data": {
      "text/plain": [
       "bytearray(b'adana')"
      ]
     },
     "execution_count": 55,
     "metadata": {},
     "output_type": "execute_result"
    }
   ],
   "source": [
    "a = bytearray('adana', 'ascii')\n",
    "a"
   ]
  },
  {
   "cell_type": "code",
   "execution_count": 56,
   "metadata": {},
   "outputs": [
    {
     "data": {
      "text/plain": [
       "bytearray(b'Adana')"
      ]
     },
     "execution_count": 56,
     "metadata": {},
     "output_type": "execute_result"
    }
   ],
   "source": [
    "a[0] = 65\n",
    "a"
   ]
  },
  {
   "cell_type": "code",
   "execution_count": 57,
   "metadata": {},
   "outputs": [
    {
     "data": {
      "text/plain": [
       "'\\n'"
      ]
     },
     "execution_count": 57,
     "metadata": {},
     "output_type": "execute_result"
    }
   ],
   "source": [
    "# chr()\n",
    "\n",
    "chr(10)"
   ]
  },
  {
   "cell_type": "code",
   "execution_count": 58,
   "metadata": {},
   "outputs": [
    {
     "data": {
      "text/plain": [
       "'A'"
      ]
     },
     "execution_count": 58,
     "metadata": {},
     "output_type": "execute_result"
    }
   ],
   "source": [
    "chr(65)"
   ]
  },
  {
   "cell_type": "code",
   "execution_count": 59,
   "metadata": {},
   "outputs": [
    {
     "data": {
      "text/plain": [
       "'ı'"
      ]
     },
     "execution_count": 59,
     "metadata": {},
     "output_type": "execute_result"
    }
   ],
   "source": [
    "chr(305)"
   ]
  },
  {
   "cell_type": "code",
   "execution_count": 60,
   "metadata": {},
   "outputs": [],
   "source": [
    "# list()\n",
    "\n",
    "l = list()"
   ]
  },
  {
   "cell_type": "code",
   "execution_count": 61,
   "metadata": {},
   "outputs": [
    {
     "data": {
      "text/plain": [
       "['i', 's', 't', 'i', 'h', 'z', 'a']"
      ]
     },
     "execution_count": 61,
     "metadata": {},
     "output_type": "execute_result"
    }
   ],
   "source": [
    "list('istihza')"
   ]
  },
  {
   "cell_type": "code",
   "execution_count": 62,
   "metadata": {},
   "outputs": [
    {
     "data": {
      "text/plain": [
       "['elma', 'armut', 'erik']"
      ]
     },
     "execution_count": 62,
     "metadata": {},
     "output_type": "execute_result"
    }
   ],
   "source": [
    "s = {'elma': 44, 'armut': 10, 'erik': 100}\n",
    "list(s)"
   ]
  },
  {
   "cell_type": "code",
   "execution_count": 63,
   "metadata": {},
   "outputs": [
    {
     "data": {
      "text/plain": [
       "[44, 10, 100]"
      ]
     },
     "execution_count": 63,
     "metadata": {},
     "output_type": "execute_result"
    }
   ],
   "source": [
    "list(s.values())"
   ]
  },
  {
   "cell_type": "code",
   "execution_count": 64,
   "metadata": {},
   "outputs": [],
   "source": [
    "# set()\n",
    "\n",
    "k = set()"
   ]
  },
  {
   "cell_type": "code",
   "execution_count": 65,
   "metadata": {},
   "outputs": [
    {
     "data": {
      "text/plain": [
       "{'a', 'h', 'i', 's', 't', 'z'}"
      ]
     },
     "execution_count": 65,
     "metadata": {},
     "output_type": "execute_result"
    }
   ],
   "source": [
    "i = 'istihza'\n",
    "set(i)"
   ]
  },
  {
   "cell_type": "code",
   "execution_count": 66,
   "metadata": {},
   "outputs": [
    {
     "data": {
      "text/plain": [
       "('a',)"
      ]
     },
     "execution_count": 66,
     "metadata": {},
     "output_type": "execute_result"
    }
   ],
   "source": [
    "# tuple()\n",
    "\n",
    "tuple('a')"
   ]
  },
  {
   "cell_type": "code",
   "execution_count": 67,
   "metadata": {},
   "outputs": [
    {
     "data": {
      "text/plain": [
       "frozenset({'a', 'h', 'i', 's', 't', 'z'})"
      ]
     },
     "execution_count": 67,
     "metadata": {},
     "output_type": "execute_result"
    }
   ],
   "source": [
    "# frozenset()\n",
    "\n",
    "s = set('istihza')\n",
    "df = frozenset(s)\n",
    "df"
   ]
  },
  {
   "cell_type": "code",
   "execution_count": 68,
   "metadata": {},
   "outputs": [
    {
     "data": {
      "text/plain": [
       "(12+0j)"
      ]
     },
     "execution_count": 68,
     "metadata": {},
     "output_type": "execute_result"
    }
   ],
   "source": [
    "# complex()\n",
    "\n",
    "12+0j"
   ]
  },
  {
   "cell_type": "code",
   "execution_count": 69,
   "metadata": {},
   "outputs": [
    {
     "data": {
      "text/plain": [
       "(15+0j)"
      ]
     },
     "execution_count": 69,
     "metadata": {},
     "output_type": "execute_result"
    }
   ],
   "source": [
    "complex(15)"
   ]
  },
  {
   "cell_type": "code",
   "execution_count": 70,
   "metadata": {},
   "outputs": [
    {
     "data": {
      "text/plain": [
       "(15+2j)"
      ]
     },
     "execution_count": 70,
     "metadata": {},
     "output_type": "execute_result"
    }
   ],
   "source": [
    "complex(15, 2)"
   ]
  },
  {
   "cell_type": "code",
   "execution_count": 71,
   "metadata": {},
   "outputs": [
    {
     "data": {
      "text/plain": [
       "134.0"
      ]
     },
     "execution_count": 71,
     "metadata": {},
     "output_type": "execute_result"
    }
   ],
   "source": [
    "# float()\n",
    "\n",
    "float('134')"
   ]
  },
  {
   "cell_type": "code",
   "execution_count": 72,
   "metadata": {},
   "outputs": [
    {
     "data": {
      "text/plain": [
       "12.0"
      ]
     },
     "execution_count": 72,
     "metadata": {},
     "output_type": "execute_result"
    }
   ],
   "source": [
    "float(12)"
   ]
  },
  {
   "cell_type": "code",
   "execution_count": 73,
   "metadata": {},
   "outputs": [
    {
     "data": {
      "text/plain": [
       "10"
      ]
     },
     "execution_count": 73,
     "metadata": {},
     "output_type": "execute_result"
    }
   ],
   "source": [
    "# int()\n",
    "\n",
    "int('10')"
   ]
  },
  {
   "cell_type": "code",
   "execution_count": 74,
   "metadata": {},
   "outputs": [
    {
     "data": {
      "text/plain": [
       "12"
      ]
     },
     "execution_count": 74,
     "metadata": {},
     "output_type": "execute_result"
    }
   ],
   "source": [
    "int(12.4)"
   ]
  },
  {
   "cell_type": "code",
   "execution_count": 75,
   "metadata": {},
   "outputs": [
    {
     "data": {
      "text/plain": [
       "10"
      ]
     },
     "execution_count": 75,
     "metadata": {},
     "output_type": "execute_result"
    }
   ],
   "source": [
    "int('12', 8)"
   ]
  },
  {
   "cell_type": "code",
   "execution_count": 76,
   "metadata": {},
   "outputs": [
    {
     "data": {
      "text/plain": [
       "1231"
      ]
     },
     "execution_count": 76,
     "metadata": {},
     "output_type": "execute_result"
    }
   ],
   "source": [
    "int('4cf', 16)"
   ]
  },
  {
   "cell_type": "code",
   "execution_count": 77,
   "metadata": {},
   "outputs": [
    {
     "data": {
      "text/plain": [
       "'12'"
      ]
     },
     "execution_count": 77,
     "metadata": {},
     "output_type": "execute_result"
    }
   ],
   "source": [
    "# str()\n",
    "\n",
    "str(12)"
   ]
  },
  {
   "cell_type": "code",
   "execution_count": 78,
   "metadata": {},
   "outputs": [],
   "source": [
    "bayt = b'istihza'"
   ]
  },
  {
   "cell_type": "code",
   "execution_count": 79,
   "metadata": {},
   "outputs": [
    {
     "name": "stdout",
     "output_type": "stream",
     "text": [
      "istihza\n"
     ]
    }
   ],
   "source": [
    "kardiz = str(bayt, encoding='utf-8')\n",
    "print(kardiz)"
   ]
  },
  {
   "cell_type": "code",
   "execution_count": 80,
   "metadata": {},
   "outputs": [
    {
     "name": "stdout",
     "output_type": "stream",
     "text": [
      "b'kad\\xc4\\xb1n'\n"
     ]
    }
   ],
   "source": [
    "bayt = bytes('kadın', encoding='utf-8')\n",
    "print(bayt)"
   ]
  },
  {
   "cell_type": "code",
   "execution_count": 81,
   "metadata": {},
   "outputs": [
    {
     "ename": "UnicodeDecodeError",
     "evalue": "'ascii' codec can't decode byte 0xc4 in position 3: ordinal not in range(128)",
     "output_type": "error",
     "traceback": [
      "\u001b[1;31m---------------------------------------------------------------------------\u001b[0m",
      "\u001b[1;31mUnicodeDecodeError\u001b[0m                        Traceback (most recent call last)",
      "Cell \u001b[1;32mIn [81], line 1\u001b[0m\n\u001b[1;32m----> 1\u001b[0m kardiz \u001b[39m=\u001b[39m \u001b[39mstr\u001b[39;49m(bayt, encoding\u001b[39m=\u001b[39;49m\u001b[39m'\u001b[39;49m\u001b[39mascii\u001b[39;49m\u001b[39m'\u001b[39;49m)\n",
      "\u001b[1;31mUnicodeDecodeError\u001b[0m: 'ascii' codec can't decode byte 0xc4 in position 3: ordinal not in range(128)"
     ]
    }
   ],
   "source": [
    "kardiz = str(bayt, encoding='ascii')"
   ]
  },
  {
   "cell_type": "code",
   "execution_count": 82,
   "metadata": {},
   "outputs": [
    {
     "name": "stdout",
     "output_type": "stream",
     "text": [
      "kadn\n"
     ]
    }
   ],
   "source": [
    "kardiz = str(bayt, encoding='ascii', errors='ignore')\n",
    "print(kardiz)"
   ]
  },
  {
   "cell_type": "code",
   "execution_count": 83,
   "metadata": {},
   "outputs": [],
   "source": [
    "# dict()\n",
    "\n",
    "s = dict()"
   ]
  },
  {
   "cell_type": "code",
   "execution_count": 84,
   "metadata": {},
   "outputs": [],
   "source": [
    "s = dict(a=1, b=2, c=3)"
   ]
  },
  {
   "cell_type": "code",
   "execution_count": 85,
   "metadata": {},
   "outputs": [
    {
     "data": {
      "text/plain": [
       "{'a': 1, 'b': 2, 'c': 3}"
      ]
     },
     "execution_count": 85,
     "metadata": {},
     "output_type": "execute_result"
    }
   ],
   "source": [
    "öğeler = (['a', 1], ['b', 2], ['c', 3])\n",
    "dict(öğeler)"
   ]
  },
  {
   "cell_type": "code",
   "execution_count": 86,
   "metadata": {},
   "outputs": [
    {
     "data": {
      "text/plain": [
       "True"
      ]
     },
     "execution_count": 86,
     "metadata": {},
     "output_type": "execute_result"
    }
   ],
   "source": [
    "# callable()\n",
    "\n",
    "callable(open)"
   ]
  },
  {
   "cell_type": "code",
   "execution_count": 87,
   "metadata": {},
   "outputs": [
    {
     "data": {
      "text/plain": [
       "False"
      ]
     },
     "execution_count": 87,
     "metadata": {},
     "output_type": "execute_result"
    }
   ],
   "source": [
    "import sys\n",
    "callable(sys.version)"
   ]
  },
  {
   "cell_type": "code",
   "execution_count": 88,
   "metadata": {},
   "outputs": [
    {
     "data": {
      "text/plain": [
       "97"
      ]
     },
     "execution_count": 88,
     "metadata": {},
     "output_type": "execute_result"
    }
   ],
   "source": [
    "# ord()\n",
    "\n",
    "ord('a')"
   ]
  },
  {
   "cell_type": "code",
   "execution_count": 89,
   "metadata": {},
   "outputs": [
    {
     "data": {
      "text/plain": [
       "305"
      ]
     },
     "execution_count": 89,
     "metadata": {},
     "output_type": "execute_result"
    }
   ],
   "source": [
    "ord('ı')"
   ]
  },
  {
   "cell_type": "code",
   "execution_count": 90,
   "metadata": {},
   "outputs": [
    {
     "data": {
      "text/plain": [
       "'0o12'"
      ]
     },
     "execution_count": 90,
     "metadata": {},
     "output_type": "execute_result"
    }
   ],
   "source": [
    "# oct()\n",
    "\n",
    "oct(10)"
   ]
  },
  {
   "cell_type": "code",
   "execution_count": 91,
   "metadata": {},
   "outputs": [
    {
     "data": {
      "text/plain": [
       "'0x131'"
      ]
     },
     "execution_count": 91,
     "metadata": {},
     "output_type": "execute_result"
    }
   ],
   "source": [
    "# hex()\n",
    "\n",
    "hex(305)"
   ]
  },
  {
   "cell_type": "code",
   "execution_count": 92,
   "metadata": {},
   "outputs": [
    {
     "data": {
      "text/plain": [
       "5"
      ]
     },
     "execution_count": 92,
     "metadata": {},
     "output_type": "execute_result"
    }
   ],
   "source": [
    "# eval(), exec(), globals(), locals(), compile()\n",
    "\n",
    "5"
   ]
  },
  {
   "cell_type": "code",
   "execution_count": 93,
   "metadata": {},
   "outputs": [
    {
     "data": {
      "text/plain": [
       "27"
      ]
     },
     "execution_count": 93,
     "metadata": {},
     "output_type": "execute_result"
    }
   ],
   "source": [
    "23 + 4"
   ]
  },
  {
   "cell_type": "code",
   "execution_count": 94,
   "metadata": {},
   "outputs": [
    {
     "data": {
      "text/plain": [
       "[0, 1, 2, 3, 4, 5, 6, 7, 8, 9]"
      ]
     },
     "execution_count": 94,
     "metadata": {},
     "output_type": "execute_result"
    }
   ],
   "source": [
    "[i for i in range(10)]"
   ]
  },
  {
   "cell_type": "code",
   "execution_count": 95,
   "metadata": {},
   "outputs": [
    {
     "data": {
      "text/plain": [
       "3"
      ]
     },
     "execution_count": 95,
     "metadata": {},
     "output_type": "execute_result"
    }
   ],
   "source": [
    "len([1, 2, 3])"
   ]
  },
  {
   "cell_type": "code",
   "execution_count": 96,
   "metadata": {},
   "outputs": [],
   "source": [
    "a = 5"
   ]
  },
  {
   "cell_type": "code",
   "execution_count": 97,
   "metadata": {},
   "outputs": [
    {
     "name": "stdout",
     "output_type": "stream",
     "text": [
      "5\n"
     ]
    }
   ],
   "source": [
    "if a:\n",
    "    print(a)"
   ]
  },
  {
   "cell_type": "code",
   "execution_count": 98,
   "metadata": {},
   "outputs": [
    {
     "name": "stdout",
     "output_type": "stream",
     "text": [
      "0\n",
      "1\n",
      "2\n",
      "3\n",
      "4\n",
      "5\n",
      "6\n",
      "7\n",
      "8\n",
      "9\n"
     ]
    }
   ],
   "source": [
    "for i in range(10):\n",
    "    print(i)"
   ]
  },
  {
   "cell_type": "code",
   "execution_count": 99,
   "metadata": {},
   "outputs": [
    {
     "ename": "SyntaxError",
     "evalue": "invalid syntax (<string>, line 1)",
     "output_type": "error",
     "traceback": [
      "Traceback \u001b[1;36m(most recent call last)\u001b[0m:\n",
      "\u001b[0m  File \u001b[0;32m~\\AppData\\Roaming\\Python\\Python311\\site-packages\\IPython\\core\\interactiveshell.py:3433\u001b[0m in \u001b[0;35mrun_code\u001b[0m\n    exec(code_obj, self.user_global_ns, self.user_ns)\u001b[0m\n",
      "\u001b[1;36m  Cell \u001b[1;32mIn [99], line 1\u001b[1;36m\n\u001b[1;33m    eval('a = 5')\u001b[1;36m\n",
      "\u001b[1;36m  File \u001b[1;32m<string>:1\u001b[1;36m\u001b[0m\n\u001b[1;33m    a = 5\u001b[0m\n\u001b[1;37m      ^\u001b[0m\n\u001b[1;31mSyntaxError\u001b[0m\u001b[1;31m:\u001b[0m invalid syntax\n"
     ]
    }
   ],
   "source": [
    "eval('a = 5')"
   ]
  },
  {
   "cell_type": "code",
   "execution_count": 100,
   "metadata": {},
   "outputs": [
    {
     "data": {
      "text/plain": [
       "30"
      ]
     },
     "execution_count": 100,
     "metadata": {},
     "output_type": "execute_result"
    }
   ],
   "source": [
    "eval('5 + 25')"
   ]
  },
  {
   "cell_type": "code",
   "execution_count": 102,
   "metadata": {},
   "outputs": [
    {
     "name": "stdout",
     "output_type": "stream",
     "text": [
      "5\n"
     ]
    }
   ],
   "source": [
    "exec('a = 5')\n",
    "print(a)"
   ]
  },
  {
   "cell_type": "code",
   "execution_count": 103,
   "metadata": {},
   "outputs": [
    {
     "name": "stdout",
     "output_type": "stream",
     "text": [
      "10\n"
     ]
    }
   ],
   "source": [
    "a = 20\n",
    "exec('a = 10')\n",
    "print(a)"
   ]
  },
  {
   "cell_type": "code",
   "execution_count": 104,
   "metadata": {},
   "outputs": [
    {
     "data": {
      "text/plain": [
       "{'__name__': '__main__',\n",
       " '__doc__': 'Automatically created module for IPython interactive environment',\n",
       " '__package__': None,\n",
       " '__loader__': None,\n",
       " '__spec__': None,\n",
       " '__builtin__': <module 'builtins' (built-in)>,\n",
       " '__builtins__': <module 'builtins' (built-in)>,\n",
       " '_ih': ['',\n",
       "  '# abs()\\n\\nabs(-20)',\n",
       "  'abs(20)',\n",
       "  'abs(20.0)',\n",
       "  'abs(20+3j)',\n",
       "  '# round()\\n\\nround(12.4)',\n",
       "  'round(12.7)',\n",
       "  'round(1.5)',\n",
       "  'round(12.5)',\n",
       "  '22/7',\n",
       "  'round(22/7)',\n",
       "  'round(22/7, 0)',\n",
       "  'round(22/7, 1)',\n",
       "  'round(22/7, 2)',\n",
       "  'round(22/7, 3)',\n",
       "  'round(22/7, 4)',\n",
       "  '# all()\\n\\nliste = [1, 2, 3, 4]\\nall(liste)',\n",
       "  'liste = [0, 1, 2, 3, 4]\\nall(liste)',\n",
       "  \"liste = ['ahmet', 'mehmet', '']\\nall(liste)\",\n",
       "  \"a = 3\\nt1 = a == 3         #sayı 3 mü?\\nt2 = a < 4          #sayı 4'ten küçük mü?\\nt3 = a % 2 == 1     #sayı bir tek sayı mı?\\nall([t1, t2, t3])   #sayı bu özelliklerin hepsine sahip mi?\",\n",
       "  \"# any()\\n\\nliste = ['ahmet', 'mehmet', '']\\nany(liste)\",\n",
       "  \"l = ['', 0, [], (), set(), dict()]\\nany(l)\",\n",
       "  \"# ascii()\\n\\na = 'istihza'\\nprint(ascii(a))\",\n",
       "  \"print('\\\\n')\",\n",
       "  \"print(ascii('\\\\n!'))\",\n",
       "  \"a = 'ışık'\\nprint(ascii(a))\",\n",
       "  'for i in a:\\n    print(ascii(i))',\n",
       "  \"liste = ['elma', 'armut', 'erik']\\ntemsil = ascii(liste)\\nprint(temsil)\",\n",
       "  'print(type(temsil))',\n",
       "  'temsil[0]',\n",
       "  \"# repr()\\n\\nascii('şeker')\",\n",
       "  \"repr('şeker')\",\n",
       "  '# bool()\\n\\nbool(0)',\n",
       "  'bool(1)',\n",
       "  'bool([])',\n",
       "  '# bin()\\n\\nbin(12)',\n",
       "  '# bytes()\\n\\nbytes(10)',\n",
       "  'a = bytes(10)\\na[0]',\n",
       "  'a[2]',\n",
       "  'a[1]',\n",
       "  \"bytes('istihza')\",\n",
       "  \"'ışık'.encode('cp1254')\",\n",
       "  \"bytes('ışık', 'cp1254')\",\n",
       "  \"bytes('istihza', encoding='ascii')\",\n",
       "  \"bytes('şeker', 'ascii')\",\n",
       "  \"bytes('€', 'cp857')\",\n",
       "  \"bytes('ışık', encoding='ascii', errors='replace')\",\n",
       "  \"bytes('şeker', encoding='ascii', errors='replace')\",\n",
       "  \"bytes('€', encoding='cp857', errors='replace')\",\n",
       "  \"bytes('€', encoding='cp857', errors='ignore')\",\n",
       "  \"bytes('€', encoding='cp857', errors='xmlcharrefreplace')\",\n",
       "  \"bytes('şeker', encoding='cp857', errors='xmlcharrefreplace')\",\n",
       "  'bytes([65, 10, 12, 11, 15, 66])',\n",
       "  \"# bytearray()\\n\\na = bytes('istihza', 'ascii')\\na[0]\",\n",
       "  'a[0] = 106',\n",
       "  \"a = bytearray('adana', 'ascii')\\na\",\n",
       "  'a[0] = 65\\na',\n",
       "  '# chr()\\n\\nchr(10)',\n",
       "  'chr(65)',\n",
       "  'chr(305)',\n",
       "  '# list()\\n\\nl = list()',\n",
       "  \"list('istihza')\",\n",
       "  \"s = {'elma': 44, 'armut': 10, 'erik': 100}\\nlist(s)\",\n",
       "  'list(s.values())',\n",
       "  '# set()\\n\\nk = set()',\n",
       "  \"i = 'istihza'\\nset(i)\",\n",
       "  \"# tuple()\\n\\ntuple('a')\",\n",
       "  \"# frozenset()\\n\\ns = set('istihza')\\ndf = frozenset(s)\\ndf\",\n",
       "  '# complex()\\n\\n12+0j',\n",
       "  'complex(15)',\n",
       "  'complex(15, 2)',\n",
       "  \"# float()\\n\\nfloat('134')\",\n",
       "  'float(12)',\n",
       "  \"# int()\\n\\nint('10')\",\n",
       "  'int(12.4)',\n",
       "  \"int('12', 8)\",\n",
       "  \"int('4cf', 16)\",\n",
       "  '# str()\\n\\nstr(12)',\n",
       "  \"bayt = b'istihza'\",\n",
       "  \"kardiz = str(bayt, encoding='utf-8')\\nprint(kardiz)\",\n",
       "  \"bayt = bytes('kadın', encoding='utf-8')\\nprint(bayt)\",\n",
       "  \"kardiz = str(bayt, encoding='ascii')\",\n",
       "  \"kardiz = str(bayt, encoding='ascii', errors='ignore')\\nprint(kardiz)\",\n",
       "  '# dict()\\n\\ns = dict()',\n",
       "  's = dict(a=1, b=2, c=3)',\n",
       "  \"öğeler = (['a', 1], ['b', 2], ['c', 3])\\ndict(öğeler)\",\n",
       "  '# callable()\\n\\ncallable(open)',\n",
       "  'import sys\\ncallable(sys.version)',\n",
       "  \"# ord()\\n\\nord('a')\",\n",
       "  \"ord('ı')\",\n",
       "  '# oct()\\n\\noct(10)',\n",
       "  '# hex()\\n\\nhex(305)',\n",
       "  '# eval(), exec(), globals(), locals(), compile()\\n\\n5',\n",
       "  '23 + 4',\n",
       "  '[i for i in range(10)]',\n",
       "  'len([1, 2, 3])',\n",
       "  'a = 5',\n",
       "  'if a:\\n    print(a)',\n",
       "  'for i in range(10):\\n    print(i)',\n",
       "  \"eval('a = 5')\",\n",
       "  \"eval('5 + 25')\",\n",
       "  \"exec('a = 5')\",\n",
       "  \"exec('a = 5')\\nprint(a)\",\n",
       "  \"a = 20\\nexec('a = 10')\\nprint(a)\",\n",
       "  'globals()'],\n",
       " '_oh': {1: 20,\n",
       "  2: 20,\n",
       "  3: 20.0,\n",
       "  4: 20.223748416156685,\n",
       "  5: 12,\n",
       "  6: 13,\n",
       "  7: 2,\n",
       "  8: 12,\n",
       "  9: 3.142857142857143,\n",
       "  10: 3,\n",
       "  11: 3.0,\n",
       "  12: 3.1,\n",
       "  13: 3.14,\n",
       "  14: 3.143,\n",
       "  15: 3.1429,\n",
       "  16: True,\n",
       "  17: False,\n",
       "  18: False,\n",
       "  19: True,\n",
       "  20: True,\n",
       "  21: False,\n",
       "  29: '[',\n",
       "  30: \"'\\\\u015feker'\",\n",
       "  31: \"'şeker'\",\n",
       "  32: False,\n",
       "  33: True,\n",
       "  34: False,\n",
       "  35: '0b1100',\n",
       "  36: b'\\x00\\x00\\x00\\x00\\x00\\x00\\x00\\x00\\x00\\x00',\n",
       "  37: 0,\n",
       "  38: 0,\n",
       "  39: 0,\n",
       "  41: b'\\xfd\\xfe\\xfdk',\n",
       "  42: b'\\xfd\\xfe\\xfdk',\n",
       "  43: b'istihza',\n",
       "  46: b'???k',\n",
       "  47: b'?eker',\n",
       "  48: b'?',\n",
       "  49: b'',\n",
       "  50: b'&#8364;',\n",
       "  51: b'\\x9feker',\n",
       "  52: b'A\\n\\x0c\\x0b\\x0fB',\n",
       "  53: 105,\n",
       "  55: bytearray(b'Adana'),\n",
       "  56: bytearray(b'Adana'),\n",
       "  57: '\\n',\n",
       "  58: 'A',\n",
       "  59: 'ı',\n",
       "  61: ['i', 's', 't', 'i', 'h', 'z', 'a'],\n",
       "  62: ['elma', 'armut', 'erik'],\n",
       "  63: [44, 10, 100],\n",
       "  65: {'a', 'h', 'i', 's', 't', 'z'},\n",
       "  66: ('a',),\n",
       "  67: frozenset({'a', 'h', 'i', 's', 't', 'z'}),\n",
       "  68: (12+0j),\n",
       "  69: (15+0j),\n",
       "  70: (15+2j),\n",
       "  71: 134.0,\n",
       "  72: 12.0,\n",
       "  73: 10,\n",
       "  74: 12,\n",
       "  75: 10,\n",
       "  76: 1231,\n",
       "  77: '12',\n",
       "  85: {'a': 1, 'b': 2, 'c': 3},\n",
       "  86: True,\n",
       "  87: False,\n",
       "  88: 97,\n",
       "  89: 305,\n",
       "  90: '0o12',\n",
       "  91: '0x131',\n",
       "  92: 5,\n",
       "  93: 27,\n",
       "  94: [0, 1, 2, 3, 4, 5, 6, 7, 8, 9],\n",
       "  95: 3,\n",
       "  100: 30},\n",
       " '_dh': [WindowsPath('c:/Users/Fallrytme/Desktop/python_temelleri'),\n",
       "  WindowsPath('c:/Users/Fallrytme/Desktop/python_temelleri')],\n",
       " 'In': ['',\n",
       "  '# abs()\\n\\nabs(-20)',\n",
       "  'abs(20)',\n",
       "  'abs(20.0)',\n",
       "  'abs(20+3j)',\n",
       "  '# round()\\n\\nround(12.4)',\n",
       "  'round(12.7)',\n",
       "  'round(1.5)',\n",
       "  'round(12.5)',\n",
       "  '22/7',\n",
       "  'round(22/7)',\n",
       "  'round(22/7, 0)',\n",
       "  'round(22/7, 1)',\n",
       "  'round(22/7, 2)',\n",
       "  'round(22/7, 3)',\n",
       "  'round(22/7, 4)',\n",
       "  '# all()\\n\\nliste = [1, 2, 3, 4]\\nall(liste)',\n",
       "  'liste = [0, 1, 2, 3, 4]\\nall(liste)',\n",
       "  \"liste = ['ahmet', 'mehmet', '']\\nall(liste)\",\n",
       "  \"a = 3\\nt1 = a == 3         #sayı 3 mü?\\nt2 = a < 4          #sayı 4'ten küçük mü?\\nt3 = a % 2 == 1     #sayı bir tek sayı mı?\\nall([t1, t2, t3])   #sayı bu özelliklerin hepsine sahip mi?\",\n",
       "  \"# any()\\n\\nliste = ['ahmet', 'mehmet', '']\\nany(liste)\",\n",
       "  \"l = ['', 0, [], (), set(), dict()]\\nany(l)\",\n",
       "  \"# ascii()\\n\\na = 'istihza'\\nprint(ascii(a))\",\n",
       "  \"print('\\\\n')\",\n",
       "  \"print(ascii('\\\\n!'))\",\n",
       "  \"a = 'ışık'\\nprint(ascii(a))\",\n",
       "  'for i in a:\\n    print(ascii(i))',\n",
       "  \"liste = ['elma', 'armut', 'erik']\\ntemsil = ascii(liste)\\nprint(temsil)\",\n",
       "  'print(type(temsil))',\n",
       "  'temsil[0]',\n",
       "  \"# repr()\\n\\nascii('şeker')\",\n",
       "  \"repr('şeker')\",\n",
       "  '# bool()\\n\\nbool(0)',\n",
       "  'bool(1)',\n",
       "  'bool([])',\n",
       "  '# bin()\\n\\nbin(12)',\n",
       "  '# bytes()\\n\\nbytes(10)',\n",
       "  'a = bytes(10)\\na[0]',\n",
       "  'a[2]',\n",
       "  'a[1]',\n",
       "  \"bytes('istihza')\",\n",
       "  \"'ışık'.encode('cp1254')\",\n",
       "  \"bytes('ışık', 'cp1254')\",\n",
       "  \"bytes('istihza', encoding='ascii')\",\n",
       "  \"bytes('şeker', 'ascii')\",\n",
       "  \"bytes('€', 'cp857')\",\n",
       "  \"bytes('ışık', encoding='ascii', errors='replace')\",\n",
       "  \"bytes('şeker', encoding='ascii', errors='replace')\",\n",
       "  \"bytes('€', encoding='cp857', errors='replace')\",\n",
       "  \"bytes('€', encoding='cp857', errors='ignore')\",\n",
       "  \"bytes('€', encoding='cp857', errors='xmlcharrefreplace')\",\n",
       "  \"bytes('şeker', encoding='cp857', errors='xmlcharrefreplace')\",\n",
       "  'bytes([65, 10, 12, 11, 15, 66])',\n",
       "  \"# bytearray()\\n\\na = bytes('istihza', 'ascii')\\na[0]\",\n",
       "  'a[0] = 106',\n",
       "  \"a = bytearray('adana', 'ascii')\\na\",\n",
       "  'a[0] = 65\\na',\n",
       "  '# chr()\\n\\nchr(10)',\n",
       "  'chr(65)',\n",
       "  'chr(305)',\n",
       "  '# list()\\n\\nl = list()',\n",
       "  \"list('istihza')\",\n",
       "  \"s = {'elma': 44, 'armut': 10, 'erik': 100}\\nlist(s)\",\n",
       "  'list(s.values())',\n",
       "  '# set()\\n\\nk = set()',\n",
       "  \"i = 'istihza'\\nset(i)\",\n",
       "  \"# tuple()\\n\\ntuple('a')\",\n",
       "  \"# frozenset()\\n\\ns = set('istihza')\\ndf = frozenset(s)\\ndf\",\n",
       "  '# complex()\\n\\n12+0j',\n",
       "  'complex(15)',\n",
       "  'complex(15, 2)',\n",
       "  \"# float()\\n\\nfloat('134')\",\n",
       "  'float(12)',\n",
       "  \"# int()\\n\\nint('10')\",\n",
       "  'int(12.4)',\n",
       "  \"int('12', 8)\",\n",
       "  \"int('4cf', 16)\",\n",
       "  '# str()\\n\\nstr(12)',\n",
       "  \"bayt = b'istihza'\",\n",
       "  \"kardiz = str(bayt, encoding='utf-8')\\nprint(kardiz)\",\n",
       "  \"bayt = bytes('kadın', encoding='utf-8')\\nprint(bayt)\",\n",
       "  \"kardiz = str(bayt, encoding='ascii')\",\n",
       "  \"kardiz = str(bayt, encoding='ascii', errors='ignore')\\nprint(kardiz)\",\n",
       "  '# dict()\\n\\ns = dict()',\n",
       "  's = dict(a=1, b=2, c=3)',\n",
       "  \"öğeler = (['a', 1], ['b', 2], ['c', 3])\\ndict(öğeler)\",\n",
       "  '# callable()\\n\\ncallable(open)',\n",
       "  'import sys\\ncallable(sys.version)',\n",
       "  \"# ord()\\n\\nord('a')\",\n",
       "  \"ord('ı')\",\n",
       "  '# oct()\\n\\noct(10)',\n",
       "  '# hex()\\n\\nhex(305)',\n",
       "  '# eval(), exec(), globals(), locals(), compile()\\n\\n5',\n",
       "  '23 + 4',\n",
       "  '[i for i in range(10)]',\n",
       "  'len([1, 2, 3])',\n",
       "  'a = 5',\n",
       "  'if a:\\n    print(a)',\n",
       "  'for i in range(10):\\n    print(i)',\n",
       "  \"eval('a = 5')\",\n",
       "  \"eval('5 + 25')\",\n",
       "  \"exec('a = 5')\",\n",
       "  \"exec('a = 5')\\nprint(a)\",\n",
       "  \"a = 20\\nexec('a = 10')\\nprint(a)\",\n",
       "  'globals()'],\n",
       " 'Out': {1: 20,\n",
       "  2: 20,\n",
       "  3: 20.0,\n",
       "  4: 20.223748416156685,\n",
       "  5: 12,\n",
       "  6: 13,\n",
       "  7: 2,\n",
       "  8: 12,\n",
       "  9: 3.142857142857143,\n",
       "  10: 3,\n",
       "  11: 3.0,\n",
       "  12: 3.1,\n",
       "  13: 3.14,\n",
       "  14: 3.143,\n",
       "  15: 3.1429,\n",
       "  16: True,\n",
       "  17: False,\n",
       "  18: False,\n",
       "  19: True,\n",
       "  20: True,\n",
       "  21: False,\n",
       "  29: '[',\n",
       "  30: \"'\\\\u015feker'\",\n",
       "  31: \"'şeker'\",\n",
       "  32: False,\n",
       "  33: True,\n",
       "  34: False,\n",
       "  35: '0b1100',\n",
       "  36: b'\\x00\\x00\\x00\\x00\\x00\\x00\\x00\\x00\\x00\\x00',\n",
       "  37: 0,\n",
       "  38: 0,\n",
       "  39: 0,\n",
       "  41: b'\\xfd\\xfe\\xfdk',\n",
       "  42: b'\\xfd\\xfe\\xfdk',\n",
       "  43: b'istihza',\n",
       "  46: b'???k',\n",
       "  47: b'?eker',\n",
       "  48: b'?',\n",
       "  49: b'',\n",
       "  50: b'&#8364;',\n",
       "  51: b'\\x9feker',\n",
       "  52: b'A\\n\\x0c\\x0b\\x0fB',\n",
       "  53: 105,\n",
       "  55: bytearray(b'Adana'),\n",
       "  56: bytearray(b'Adana'),\n",
       "  57: '\\n',\n",
       "  58: 'A',\n",
       "  59: 'ı',\n",
       "  61: ['i', 's', 't', 'i', 'h', 'z', 'a'],\n",
       "  62: ['elma', 'armut', 'erik'],\n",
       "  63: [44, 10, 100],\n",
       "  65: {'a', 'h', 'i', 's', 't', 'z'},\n",
       "  66: ('a',),\n",
       "  67: frozenset({'a', 'h', 'i', 's', 't', 'z'}),\n",
       "  68: (12+0j),\n",
       "  69: (15+0j),\n",
       "  70: (15+2j),\n",
       "  71: 134.0,\n",
       "  72: 12.0,\n",
       "  73: 10,\n",
       "  74: 12,\n",
       "  75: 10,\n",
       "  76: 1231,\n",
       "  77: '12',\n",
       "  85: {'a': 1, 'b': 2, 'c': 3},\n",
       "  86: True,\n",
       "  87: False,\n",
       "  88: 97,\n",
       "  89: 305,\n",
       "  90: '0o12',\n",
       "  91: '0x131',\n",
       "  92: 5,\n",
       "  93: 27,\n",
       "  94: [0, 1, 2, 3, 4, 5, 6, 7, 8, 9],\n",
       "  95: 3,\n",
       "  100: 30},\n",
       " 'get_ipython': <bound method InteractiveShell.get_ipython of <ipykernel.zmqshell.ZMQInteractiveShell object at 0x000001B0C4F6A7D0>>,\n",
       " 'exit': <IPython.core.autocall.ZMQExitAutocall at 0x1b0c4f71710>,\n",
       " 'quit': <IPython.core.autocall.ZMQExitAutocall at 0x1b0c4f71710>,\n",
       " 'open': <function io.open(file, mode='r', buffering=-1, encoding=None, errors=None, newline=None, closefd=True, opener=None)>,\n",
       " '_': 30,\n",
       " '__': 3,\n",
       " '___': [0, 1, 2, 3, 4, 5, 6, 7, 8, 9],\n",
       " 'os': <module 'os' (frozen)>,\n",
       " 'sys': <module 'sys' (built-in)>,\n",
       " '__vsc_ipynb_file__': 'c:\\\\Users\\\\Fallrytme\\\\Desktop\\\\python_temelleri\\\\gomulu_fonksiyonlar.ipynb',\n",
       " '_i': \"a = 20\\nexec('a = 10')\\nprint(a)\",\n",
       " '_ii': \"exec('a = 5')\\nprint(a)\",\n",
       " '_iii': \"exec('a = 5')\",\n",
       " '_i1': '# abs()\\n\\nabs(-20)',\n",
       " '_1': 20,\n",
       " '_i2': 'abs(20)',\n",
       " '_2': 20,\n",
       " '_i3': 'abs(20.0)',\n",
       " '_3': 20.0,\n",
       " '_i4': 'abs(20+3j)',\n",
       " '_4': 20.223748416156685,\n",
       " '_i5': '# round()\\n\\nround(12.4)',\n",
       " '_5': 12,\n",
       " '_i6': 'round(12.7)',\n",
       " '_6': 13,\n",
       " '_i7': 'round(1.5)',\n",
       " '_7': 2,\n",
       " '_i8': 'round(12.5)',\n",
       " '_8': 12,\n",
       " '_i9': '22/7',\n",
       " '_9': 3.142857142857143,\n",
       " '_i10': 'round(22/7)',\n",
       " '_10': 3,\n",
       " '_i11': 'round(22/7, 0)',\n",
       " '_11': 3.0,\n",
       " '_i12': 'round(22/7, 1)',\n",
       " '_12': 3.1,\n",
       " '_i13': 'round(22/7, 2)',\n",
       " '_13': 3.14,\n",
       " '_i14': 'round(22/7, 3)',\n",
       " '_14': 3.143,\n",
       " '_i15': 'round(22/7, 4)',\n",
       " '_15': 3.1429,\n",
       " '_i16': '# all()\\n\\nliste = [1, 2, 3, 4]\\nall(liste)',\n",
       " 'liste': ['elma', 'armut', 'erik'],\n",
       " '_16': True,\n",
       " '_i17': 'liste = [0, 1, 2, 3, 4]\\nall(liste)',\n",
       " '_17': False,\n",
       " '_i18': \"liste = ['ahmet', 'mehmet', '']\\nall(liste)\",\n",
       " '_18': False,\n",
       " '_i19': \"a = 3\\nt1 = a == 3         #sayı 3 mü?\\nt2 = a < 4          #sayı 4'ten küçük mü?\\nt3 = a % 2 == 1     #sayı bir tek sayı mı?\\nall([t1, t2, t3])   #sayı bu özelliklerin hepsine sahip mi?\",\n",
       " 'a': 10,\n",
       " 't1': True,\n",
       " 't2': True,\n",
       " 't3': True,\n",
       " '_19': True,\n",
       " '_i20': \"# any()\\n\\nliste = ['ahmet', 'mehmet', '']\\nany(liste)\",\n",
       " '_20': True,\n",
       " '_i21': \"l = ['', 0, [], (), set(), dict()]\\nany(l)\",\n",
       " 'l': [],\n",
       " '_21': False,\n",
       " '_i22': \"# ascii()\\n\\na = 'istihza'\\nprint(ascii(a))\",\n",
       " '_i23': \"print('\\\\n')\",\n",
       " '_i24': \"print(ascii('\\\\n!'))\",\n",
       " '_i25': \"a = 'ışık'\\nprint(ascii(a))\",\n",
       " '_i26': 'for i in a:\\n    print(ascii(i))',\n",
       " 'i': 9,\n",
       " '_i27': \"liste = ['elma', 'armut', 'erik']\\ntemsil = ascii(liste)\\nprint(temsil)\",\n",
       " 'temsil': \"['elma', 'armut', 'erik']\",\n",
       " '_i28': 'print(type(temsil))',\n",
       " '_i29': 'temsil[0]',\n",
       " '_29': '[',\n",
       " '_i30': \"# repr()\\n\\nascii('şeker')\",\n",
       " '_30': \"'\\\\u015feker'\",\n",
       " '_i31': \"repr('şeker')\",\n",
       " '_31': \"'şeker'\",\n",
       " '_i32': '# bool()\\n\\nbool(0)',\n",
       " '_32': False,\n",
       " '_i33': 'bool(1)',\n",
       " '_33': True,\n",
       " '_i34': 'bool([])',\n",
       " '_34': False,\n",
       " '_i35': '# bin()\\n\\nbin(12)',\n",
       " '_35': '0b1100',\n",
       " '_i36': '# bytes()\\n\\nbytes(10)',\n",
       " '_36': b'\\x00\\x00\\x00\\x00\\x00\\x00\\x00\\x00\\x00\\x00',\n",
       " '_i37': 'a = bytes(10)\\na[0]',\n",
       " '_37': 0,\n",
       " '_i38': 'a[2]',\n",
       " '_38': 0,\n",
       " '_i39': 'a[1]',\n",
       " '_39': 0,\n",
       " '_i40': \"bytes('istihza')\",\n",
       " '_i41': \"'ışık'.encode('cp1254')\",\n",
       " '_41': b'\\xfd\\xfe\\xfdk',\n",
       " '_i42': \"bytes('ışık', 'cp1254')\",\n",
       " '_42': b'\\xfd\\xfe\\xfdk',\n",
       " '_i43': \"bytes('istihza', encoding='ascii')\",\n",
       " '_43': b'istihza',\n",
       " '_i44': \"bytes('şeker', 'ascii')\",\n",
       " '_i45': \"bytes('€', 'cp857')\",\n",
       " '_i46': \"bytes('ışık', encoding='ascii', errors='replace')\",\n",
       " '_46': b'???k',\n",
       " '_i47': \"bytes('şeker', encoding='ascii', errors='replace')\",\n",
       " '_47': b'?eker',\n",
       " '_i48': \"bytes('€', encoding='cp857', errors='replace')\",\n",
       " '_48': b'?',\n",
       " '_i49': \"bytes('€', encoding='cp857', errors='ignore')\",\n",
       " '_49': b'',\n",
       " '_i50': \"bytes('€', encoding='cp857', errors='xmlcharrefreplace')\",\n",
       " '_50': b'&#8364;',\n",
       " '_i51': \"bytes('şeker', encoding='cp857', errors='xmlcharrefreplace')\",\n",
       " '_51': b'\\x9feker',\n",
       " '_i52': 'bytes([65, 10, 12, 11, 15, 66])',\n",
       " '_52': b'A\\n\\x0c\\x0b\\x0fB',\n",
       " '_i53': \"# bytearray()\\n\\na = bytes('istihza', 'ascii')\\na[0]\",\n",
       " '_53': 105,\n",
       " '_i54': 'a[0] = 106',\n",
       " '_i55': \"a = bytearray('adana', 'ascii')\\na\",\n",
       " '_55': bytearray(b'Adana'),\n",
       " '_i56': 'a[0] = 65\\na',\n",
       " '_56': bytearray(b'Adana'),\n",
       " '_i57': '# chr()\\n\\nchr(10)',\n",
       " '_57': '\\n',\n",
       " '_i58': 'chr(65)',\n",
       " '_58': 'A',\n",
       " '_i59': 'chr(305)',\n",
       " '_59': 'ı',\n",
       " '_i60': '# list()\\n\\nl = list()',\n",
       " '_i61': \"list('istihza')\",\n",
       " '_61': ['i', 's', 't', 'i', 'h', 'z', 'a'],\n",
       " '_i62': \"s = {'elma': 44, 'armut': 10, 'erik': 100}\\nlist(s)\",\n",
       " 's': {'a': 1, 'b': 2, 'c': 3},\n",
       " '_62': ['elma', 'armut', 'erik'],\n",
       " '_i63': 'list(s.values())',\n",
       " '_63': [44, 10, 100],\n",
       " '_i64': '# set()\\n\\nk = set()',\n",
       " 'k': set(),\n",
       " '_i65': \"i = 'istihza'\\nset(i)\",\n",
       " '_65': {'a', 'h', 'i', 's', 't', 'z'},\n",
       " '_i66': \"# tuple()\\n\\ntuple('a')\",\n",
       " '_66': ('a',),\n",
       " '_i67': \"# frozenset()\\n\\ns = set('istihza')\\ndf = frozenset(s)\\ndf\",\n",
       " 'df': frozenset({'a', 'h', 'i', 's', 't', 'z'}),\n",
       " '_67': frozenset({'a', 'h', 'i', 's', 't', 'z'}),\n",
       " '_i68': '# complex()\\n\\n12+0j',\n",
       " '_68': (12+0j),\n",
       " '_i69': 'complex(15)',\n",
       " '_69': (15+0j),\n",
       " '_i70': 'complex(15, 2)',\n",
       " '_70': (15+2j),\n",
       " '_i71': \"# float()\\n\\nfloat('134')\",\n",
       " '_71': 134.0,\n",
       " '_i72': 'float(12)',\n",
       " '_72': 12.0,\n",
       " '_i73': \"# int()\\n\\nint('10')\",\n",
       " '_73': 10,\n",
       " '_i74': 'int(12.4)',\n",
       " '_74': 12,\n",
       " '_i75': \"int('12', 8)\",\n",
       " '_75': 10,\n",
       " '_i76': \"int('4cf', 16)\",\n",
       " '_76': 1231,\n",
       " '_i77': '# str()\\n\\nstr(12)',\n",
       " '_77': '12',\n",
       " '_i78': \"bayt = b'istihza'\",\n",
       " 'bayt': b'kad\\xc4\\xb1n',\n",
       " '_i79': \"kardiz = str(bayt, encoding='utf-8')\\nprint(kardiz)\",\n",
       " 'kardiz': 'kadn',\n",
       " '_i80': \"bayt = bytes('kadın', encoding='utf-8')\\nprint(bayt)\",\n",
       " '_i81': \"kardiz = str(bayt, encoding='ascii')\",\n",
       " '_i82': \"kardiz = str(bayt, encoding='ascii', errors='ignore')\\nprint(kardiz)\",\n",
       " '_i83': '# dict()\\n\\ns = dict()',\n",
       " '_i84': 's = dict(a=1, b=2, c=3)',\n",
       " '_i85': \"öğeler = (['a', 1], ['b', 2], ['c', 3])\\ndict(öğeler)\",\n",
       " 'öğeler': (['a', 1], ['b', 2], ['c', 3]),\n",
       " '_85': {'a': 1, 'b': 2, 'c': 3},\n",
       " '_i86': '# callable()\\n\\ncallable(open)',\n",
       " '_86': True,\n",
       " '_i87': 'import sys\\ncallable(sys.version)',\n",
       " '_87': False,\n",
       " '_i88': \"# ord()\\n\\nord('a')\",\n",
       " '_88': 97,\n",
       " '_i89': \"ord('ı')\",\n",
       " '_89': 305,\n",
       " '_i90': '# oct()\\n\\noct(10)',\n",
       " '_90': '0o12',\n",
       " '_i91': '# hex()\\n\\nhex(305)',\n",
       " '_91': '0x131',\n",
       " '_i92': '# eval(), exec(), globals(), locals(), compile()\\n\\n5',\n",
       " '_92': 5,\n",
       " '_i93': '23 + 4',\n",
       " '_93': 27,\n",
       " '_i94': '[i for i in range(10)]',\n",
       " '_94': [0, 1, 2, 3, 4, 5, 6, 7, 8, 9],\n",
       " '_i95': 'len([1, 2, 3])',\n",
       " '_95': 3,\n",
       " '_i96': 'a = 5',\n",
       " '_i97': 'if a:\\n    print(a)',\n",
       " '_i98': 'for i in range(10):\\n    print(i)',\n",
       " '_i99': \"eval('a = 5')\",\n",
       " '_i100': \"eval('5 + 25')\",\n",
       " '_100': 30,\n",
       " '_i101': \"exec('a = 5')\",\n",
       " '_i102': \"exec('a = 5')\\nprint(a)\",\n",
       " '_i103': \"a = 20\\nexec('a = 10')\\nprint(a)\",\n",
       " '_i104': 'globals()'}"
      ]
     },
     "execution_count": 104,
     "metadata": {},
     "output_type": "execute_result"
    }
   ],
   "source": [
    "globals()"
   ]
  },
  {
   "cell_type": "code",
   "execution_count": 105,
   "metadata": {},
   "outputs": [],
   "source": [
    "x = 10"
   ]
  },
  {
   "cell_type": "code",
   "execution_count": 108,
   "metadata": {},
   "outputs": [
    {
     "data": {
      "text/plain": [
       "23"
      ]
     },
     "execution_count": 108,
     "metadata": {},
     "output_type": "execute_result"
    }
   ],
   "source": [
    "globals()['z'] = 23\n",
    "z"
   ]
  },
  {
   "cell_type": "code",
   "execution_count": 109,
   "metadata": {},
   "outputs": [
    {
     "name": "stdout",
     "output_type": "stream",
     "text": [
      "{'param1': 10, 'param2': 20, 'x': 10}\n"
     ]
    }
   ],
   "source": [
    "def fonksiyon(param1, param2):\n",
    "    x = 10\n",
    "    print(locals())\n",
    "\n",
    "fonksiyon(10, 20)"
   ]
  },
  {
   "cell_type": "code",
   "execution_count": 110,
   "metadata": {},
   "outputs": [
    {
     "name": "stdout",
     "output_type": "stream",
     "text": [
      "3\n"
     ]
    }
   ],
   "source": [
    "a = 20\n",
    "exec('a = 3')\n",
    "print(a)"
   ]
  },
  {
   "cell_type": "code",
   "execution_count": 113,
   "metadata": {},
   "outputs": [
    {
     "data": {
      "text/plain": [
       "20"
      ]
     },
     "execution_count": 113,
     "metadata": {},
     "output_type": "execute_result"
    }
   ],
   "source": [
    "a = 20\n",
    "ia = {}\n",
    "exec('a = 3', ia)\n",
    "a"
   ]
  },
  {
   "cell_type": "code",
   "execution_count": 112,
   "metadata": {},
   "outputs": [
    {
     "data": {
      "text/plain": [
       "3"
      ]
     },
     "execution_count": 112,
     "metadata": {},
     "output_type": "execute_result"
    }
   ],
   "source": [
    "ia['a']"
   ]
  },
  {
   "cell_type": "code",
   "execution_count": 114,
   "metadata": {},
   "outputs": [
    {
     "name": "stdout",
     "output_type": "stream",
     "text": [
      "Copyright (c) 2001-2022 Python Software Foundation.\n",
      "All Rights Reserved.\n",
      "\n",
      "Copyright (c) 2000 BeOpen.com.\n",
      "All Rights Reserved.\n",
      "\n",
      "Copyright (c) 1995-2001 Corporation for National Research Initiatives.\n",
      "All Rights Reserved.\n",
      "\n",
      "Copyright (c) 1991-1995 Stichting Mathematisch Centrum, Amsterdam.\n",
      "All Rights Reserved.\n"
     ]
    }
   ],
   "source": [
    "# copyright()\n",
    "\n",
    "copyright()"
   ]
  },
  {
   "cell_type": "code",
   "execution_count": 115,
   "metadata": {},
   "outputs": [
    {
     "name": "stdout",
     "output_type": "stream",
     "text": [
      "    Thanks to CWI, CNRI, BeOpen.com, Zope Corporation and a cast of thousands\n",
      "    for supporting Python development.  See www.python.org for more information.\n"
     ]
    }
   ],
   "source": [
    "# credits()\n",
    "\n",
    "credits()"
   ]
  },
  {
   "cell_type": "code",
   "execution_count": 116,
   "metadata": {},
   "outputs": [
    {
     "name": "stdout",
     "output_type": "stream",
     "text": [
      "A. HISTORY OF THE SOFTWARE\n",
      "==========================\n",
      "\n",
      "Python was created in the early 1990s by Guido van Rossum at Stichting\n",
      "Mathematisch Centrum (CWI, see http://www.cwi.nl) in the Netherlands\n",
      "as a successor of a language called ABC.  Guido remains Python's\n",
      "principal author, although it includes many contributions from others.\n",
      "\n",
      "In 1995, Guido continued his work on Python at the Corporation for\n",
      "National Research Initiatives (CNRI, see http://www.cnri.reston.va.us)\n",
      "in Reston, Virginia where he released several versions of the\n",
      "software.\n",
      "\n",
      "In May 2000, Guido and the Python core development team moved to\n",
      "BeOpen.com to form the BeOpen PythonLabs team.  In October of the same\n",
      "year, the PythonLabs team moved to Digital Creations, which became\n",
      "Zope Corporation.  In 2001, the Python Software Foundation (PSF, see\n",
      "https://www.python.org/psf/) was formed, a non-profit organization\n",
      "created specifically to own Python-related Intellectual Property.\n",
      "Zope Corporation was a sponsoring member of the PSF.\n",
      "\n",
      "All Python releases are Open Source (see http://www.opensource.org for\n",
      "the Open Source Definition).  Historically, most, but not all, Python\n",
      "releases have also been GPL-compatible; the table below summarizes\n",
      "the various releases.\n",
      "\n",
      "    Release         Derived     Year        Owner       GPL-\n",
      "                    from                                compatible? (1)\n",
      "\n",
      "    0.9.0 thru 1.2              1991-1995   CWI         yes\n",
      "    1.3 thru 1.5.2  1.2         1995-1999   CNRI        yes\n",
      "    1.6             1.5.2       2000        CNRI        no\n",
      "    2.0             1.6         2000        BeOpen.com  no\n",
      "    1.6.1           1.6         2001        CNRI        yes (2)\n",
      "    2.1             2.0+1.6.1   2001        PSF         no\n",
      "    2.0.1           2.0+1.6.1   2001        PSF         yes\n",
      "    2.1.1           2.1+2.0.1   2001        PSF         yes\n",
      "    2.1.2           2.1.1       2002        PSF         yes\n",
      "    2.1.3           2.1.2       2002        PSF         yes\n",
      "    2.2 and above   2.1.1       2001-now    PSF         yes\n",
      "\n",
      "Footnotes:\n",
      "\n",
      "(1) GPL-compatible doesn't mean that we're distributing Python under\n",
      "    the GPL.  All Python licenses, unlike the GPL, let you distribute\n",
      "    a modified version without making your changes open source.  The\n"
     ]
    }
   ],
   "source": [
    "# license()\n",
    "\n",
    "license()"
   ]
  },
  {
   "cell_type": "code",
   "execution_count": 117,
   "metadata": {},
   "outputs": [
    {
     "data": {
      "text/plain": [
       "['In',\n",
       " 'Out',\n",
       " '_',\n",
       " '_1',\n",
       " '_10',\n",
       " '_100',\n",
       " '_104',\n",
       " '_106',\n",
       " '_108',\n",
       " '_11',\n",
       " '_111',\n",
       " '_112',\n",
       " '_113',\n",
       " '_12',\n",
       " '_13',\n",
       " '_14',\n",
       " '_15',\n",
       " '_16',\n",
       " '_17',\n",
       " '_18',\n",
       " '_19',\n",
       " '_2',\n",
       " '_20',\n",
       " '_21',\n",
       " '_29',\n",
       " '_3',\n",
       " '_30',\n",
       " '_31',\n",
       " '_32',\n",
       " '_33',\n",
       " '_34',\n",
       " '_35',\n",
       " '_36',\n",
       " '_37',\n",
       " '_38',\n",
       " '_39',\n",
       " '_4',\n",
       " '_41',\n",
       " '_42',\n",
       " '_43',\n",
       " '_46',\n",
       " '_47',\n",
       " '_48',\n",
       " '_49',\n",
       " '_5',\n",
       " '_50',\n",
       " '_51',\n",
       " '_52',\n",
       " '_53',\n",
       " '_55',\n",
       " '_56',\n",
       " '_57',\n",
       " '_58',\n",
       " '_59',\n",
       " '_6',\n",
       " '_61',\n",
       " '_62',\n",
       " '_63',\n",
       " '_65',\n",
       " '_66',\n",
       " '_67',\n",
       " '_68',\n",
       " '_69',\n",
       " '_7',\n",
       " '_70',\n",
       " '_71',\n",
       " '_72',\n",
       " '_73',\n",
       " '_74',\n",
       " '_75',\n",
       " '_76',\n",
       " '_77',\n",
       " '_8',\n",
       " '_85',\n",
       " '_86',\n",
       " '_87',\n",
       " '_88',\n",
       " '_89',\n",
       " '_9',\n",
       " '_90',\n",
       " '_91',\n",
       " '_92',\n",
       " '_93',\n",
       " '_94',\n",
       " '_95',\n",
       " '__',\n",
       " '___',\n",
       " '__builtin__',\n",
       " '__builtins__',\n",
       " '__doc__',\n",
       " '__loader__',\n",
       " '__name__',\n",
       " '__package__',\n",
       " '__spec__',\n",
       " '__vsc_ipynb_file__',\n",
       " '_dh',\n",
       " '_i',\n",
       " '_i1',\n",
       " '_i10',\n",
       " '_i100',\n",
       " '_i101',\n",
       " '_i102',\n",
       " '_i103',\n",
       " '_i104',\n",
       " '_i105',\n",
       " '_i106',\n",
       " '_i107',\n",
       " '_i108',\n",
       " '_i109',\n",
       " '_i11',\n",
       " '_i110',\n",
       " '_i111',\n",
       " '_i112',\n",
       " '_i113',\n",
       " '_i114',\n",
       " '_i115',\n",
       " '_i116',\n",
       " '_i117',\n",
       " '_i12',\n",
       " '_i13',\n",
       " '_i14',\n",
       " '_i15',\n",
       " '_i16',\n",
       " '_i17',\n",
       " '_i18',\n",
       " '_i19',\n",
       " '_i2',\n",
       " '_i20',\n",
       " '_i21',\n",
       " '_i22',\n",
       " '_i23',\n",
       " '_i24',\n",
       " '_i25',\n",
       " '_i26',\n",
       " '_i27',\n",
       " '_i28',\n",
       " '_i29',\n",
       " '_i3',\n",
       " '_i30',\n",
       " '_i31',\n",
       " '_i32',\n",
       " '_i33',\n",
       " '_i34',\n",
       " '_i35',\n",
       " '_i36',\n",
       " '_i37',\n",
       " '_i38',\n",
       " '_i39',\n",
       " '_i4',\n",
       " '_i40',\n",
       " '_i41',\n",
       " '_i42',\n",
       " '_i43',\n",
       " '_i44',\n",
       " '_i45',\n",
       " '_i46',\n",
       " '_i47',\n",
       " '_i48',\n",
       " '_i49',\n",
       " '_i5',\n",
       " '_i50',\n",
       " '_i51',\n",
       " '_i52',\n",
       " '_i53',\n",
       " '_i54',\n",
       " '_i55',\n",
       " '_i56',\n",
       " '_i57',\n",
       " '_i58',\n",
       " '_i59',\n",
       " '_i6',\n",
       " '_i60',\n",
       " '_i61',\n",
       " '_i62',\n",
       " '_i63',\n",
       " '_i64',\n",
       " '_i65',\n",
       " '_i66',\n",
       " '_i67',\n",
       " '_i68',\n",
       " '_i69',\n",
       " '_i7',\n",
       " '_i70',\n",
       " '_i71',\n",
       " '_i72',\n",
       " '_i73',\n",
       " '_i74',\n",
       " '_i75',\n",
       " '_i76',\n",
       " '_i77',\n",
       " '_i78',\n",
       " '_i79',\n",
       " '_i8',\n",
       " '_i80',\n",
       " '_i81',\n",
       " '_i82',\n",
       " '_i83',\n",
       " '_i84',\n",
       " '_i85',\n",
       " '_i86',\n",
       " '_i87',\n",
       " '_i88',\n",
       " '_i89',\n",
       " '_i9',\n",
       " '_i90',\n",
       " '_i91',\n",
       " '_i92',\n",
       " '_i93',\n",
       " '_i94',\n",
       " '_i95',\n",
       " '_i96',\n",
       " '_i97',\n",
       " '_i98',\n",
       " '_i99',\n",
       " '_ih',\n",
       " '_ii',\n",
       " '_iii',\n",
       " '_oh',\n",
       " 'a',\n",
       " 'bayt',\n",
       " 'df',\n",
       " 'exit',\n",
       " 'fonksiyon',\n",
       " 'get_ipython',\n",
       " 'i',\n",
       " 'ia',\n",
       " 'k',\n",
       " 'kardiz',\n",
       " 'l',\n",
       " 'liste',\n",
       " 'open',\n",
       " 'os',\n",
       " 'quit',\n",
       " 's',\n",
       " 'sys',\n",
       " 't1',\n",
       " 't2',\n",
       " 't3',\n",
       " 'temsil',\n",
       " 'x',\n",
       " 'z',\n",
       " 'öğeler']"
      ]
     },
     "execution_count": 117,
     "metadata": {},
     "output_type": "execute_result"
    }
   ],
   "source": [
    "# dir()\n",
    "\n",
    "dir()"
   ]
  },
  {
   "cell_type": "code",
   "execution_count": 118,
   "metadata": {},
   "outputs": [
    {
     "data": {
      "text/plain": [
       "['__add__',\n",
       " '__class__',\n",
       " '__contains__',\n",
       " '__delattr__',\n",
       " '__dir__',\n",
       " '__doc__',\n",
       " '__eq__',\n",
       " '__format__',\n",
       " '__ge__',\n",
       " '__getattribute__',\n",
       " '__getitem__',\n",
       " '__getnewargs__',\n",
       " '__getstate__',\n",
       " '__gt__',\n",
       " '__hash__',\n",
       " '__init__',\n",
       " '__init_subclass__',\n",
       " '__iter__',\n",
       " '__le__',\n",
       " '__len__',\n",
       " '__lt__',\n",
       " '__mod__',\n",
       " '__mul__',\n",
       " '__ne__',\n",
       " '__new__',\n",
       " '__reduce__',\n",
       " '__reduce_ex__',\n",
       " '__repr__',\n",
       " '__rmod__',\n",
       " '__rmul__',\n",
       " '__setattr__',\n",
       " '__sizeof__',\n",
       " '__str__',\n",
       " '__subclasshook__',\n",
       " 'capitalize',\n",
       " 'casefold',\n",
       " 'center',\n",
       " 'count',\n",
       " 'encode',\n",
       " 'endswith',\n",
       " 'expandtabs',\n",
       " 'find',\n",
       " 'format',\n",
       " 'format_map',\n",
       " 'index',\n",
       " 'isalnum',\n",
       " 'isalpha',\n",
       " 'isascii',\n",
       " 'isdecimal',\n",
       " 'isdigit',\n",
       " 'isidentifier',\n",
       " 'islower',\n",
       " 'isnumeric',\n",
       " 'isprintable',\n",
       " 'isspace',\n",
       " 'istitle',\n",
       " 'isupper',\n",
       " 'join',\n",
       " 'ljust',\n",
       " 'lower',\n",
       " 'lstrip',\n",
       " 'maketrans',\n",
       " 'partition',\n",
       " 'removeprefix',\n",
       " 'removesuffix',\n",
       " 'replace',\n",
       " 'rfind',\n",
       " 'rindex',\n",
       " 'rjust',\n",
       " 'rpartition',\n",
       " 'rsplit',\n",
       " 'rstrip',\n",
       " 'split',\n",
       " 'splitlines',\n",
       " 'startswith',\n",
       " 'strip',\n",
       " 'swapcase',\n",
       " 'title',\n",
       " 'translate',\n",
       " 'upper',\n",
       " 'zfill']"
      ]
     },
     "execution_count": 118,
     "metadata": {},
     "output_type": "execute_result"
    }
   ],
   "source": [
    "dir('')"
   ]
  },
  {
   "cell_type": "code",
   "execution_count": 119,
   "metadata": {},
   "outputs": [
    {
     "data": {
      "text/plain": [
       "['__add__',\n",
       " '__class__',\n",
       " '__class_getitem__',\n",
       " '__contains__',\n",
       " '__delattr__',\n",
       " '__delitem__',\n",
       " '__dir__',\n",
       " '__doc__',\n",
       " '__eq__',\n",
       " '__format__',\n",
       " '__ge__',\n",
       " '__getattribute__',\n",
       " '__getitem__',\n",
       " '__getstate__',\n",
       " '__gt__',\n",
       " '__hash__',\n",
       " '__iadd__',\n",
       " '__imul__',\n",
       " '__init__',\n",
       " '__init_subclass__',\n",
       " '__iter__',\n",
       " '__le__',\n",
       " '__len__',\n",
       " '__lt__',\n",
       " '__mul__',\n",
       " '__ne__',\n",
       " '__new__',\n",
       " '__reduce__',\n",
       " '__reduce_ex__',\n",
       " '__repr__',\n",
       " '__reversed__',\n",
       " '__rmul__',\n",
       " '__setattr__',\n",
       " '__setitem__',\n",
       " '__sizeof__',\n",
       " '__str__',\n",
       " '__subclasshook__',\n",
       " 'append',\n",
       " 'clear',\n",
       " 'copy',\n",
       " 'count',\n",
       " 'extend',\n",
       " 'index',\n",
       " 'insert',\n",
       " 'pop',\n",
       " 'remove',\n",
       " 'reverse',\n",
       " 'sort']"
      ]
     },
     "execution_count": 119,
     "metadata": {},
     "output_type": "execute_result"
    }
   ],
   "source": [
    "dir([])"
   ]
  },
  {
   "cell_type": "code",
   "execution_count": 120,
   "metadata": {},
   "outputs": [
    {
     "data": {
      "text/plain": [
       "['__class__',\n",
       " '__class_getitem__',\n",
       " '__contains__',\n",
       " '__delattr__',\n",
       " '__delitem__',\n",
       " '__dir__',\n",
       " '__doc__',\n",
       " '__eq__',\n",
       " '__format__',\n",
       " '__ge__',\n",
       " '__getattribute__',\n",
       " '__getitem__',\n",
       " '__getstate__',\n",
       " '__gt__',\n",
       " '__hash__',\n",
       " '__init__',\n",
       " '__init_subclass__',\n",
       " '__ior__',\n",
       " '__iter__',\n",
       " '__le__',\n",
       " '__len__',\n",
       " '__lt__',\n",
       " '__ne__',\n",
       " '__new__',\n",
       " '__or__',\n",
       " '__reduce__',\n",
       " '__reduce_ex__',\n",
       " '__repr__',\n",
       " '__reversed__',\n",
       " '__ror__',\n",
       " '__setattr__',\n",
       " '__setitem__',\n",
       " '__sizeof__',\n",
       " '__str__',\n",
       " '__subclasshook__',\n",
       " 'clear',\n",
       " 'copy',\n",
       " 'fromkeys',\n",
       " 'get',\n",
       " 'items',\n",
       " 'keys',\n",
       " 'pop',\n",
       " 'popitem',\n",
       " 'setdefault',\n",
       " 'update',\n",
       " 'values']"
      ]
     },
     "execution_count": 120,
     "metadata": {},
     "output_type": "execute_result"
    }
   ],
   "source": [
    "dir({})"
   ]
  },
  {
   "cell_type": "code",
   "execution_count": 121,
   "metadata": {},
   "outputs": [
    {
     "data": {
      "text/plain": [
       "(5, 0)"
      ]
     },
     "execution_count": 121,
     "metadata": {},
     "output_type": "execute_result"
    }
   ],
   "source": [
    "# divmod()\n",
    "\n",
    "divmod(10, 2)"
   ]
  },
  {
   "cell_type": "code",
   "execution_count": 122,
   "metadata": {},
   "outputs": [
    {
     "data": {
      "text/plain": [
       "(3, 1)"
      ]
     },
     "execution_count": 122,
     "metadata": {},
     "output_type": "execute_result"
    }
   ],
   "source": [
    "divmod(10, 3)"
   ]
  },
  {
   "cell_type": "code",
   "execution_count": 123,
   "metadata": {},
   "outputs": [
    {
     "data": {
      "text/plain": [
       "<enumerate at 0x1b0c5cc9b70>"
      ]
     },
     "execution_count": 123,
     "metadata": {},
     "output_type": "execute_result"
    }
   ],
   "source": [
    "# enumerate()\n",
    "\n",
    "enumerate('istihza')"
   ]
  },
  {
   "cell_type": "code",
   "execution_count": 124,
   "metadata": {},
   "outputs": [
    {
     "data": {
      "text/plain": [
       "[(0, 'i'), (1, 's'), (2, 't'), (3, 'i'), (4, 'h'), (5, 'z'), (6, 'a')]"
      ]
     },
     "execution_count": 124,
     "metadata": {},
     "output_type": "execute_result"
    }
   ],
   "source": [
    "list(enumerate('istihza'))"
   ]
  },
  {
   "cell_type": "code",
   "execution_count": 125,
   "metadata": {},
   "outputs": [
    {
     "data": {
      "text/plain": [
       "[(0, 'i'), (1, 's'), (2, 't'), (3, 'i'), (4, 'h'), (5, 'z'), (6, 'a')]"
      ]
     },
     "execution_count": 125,
     "metadata": {},
     "output_type": "execute_result"
    }
   ],
   "source": [
    "[i for i in enumerate('istihza')]"
   ]
  },
  {
   "cell_type": "code",
   "execution_count": 126,
   "metadata": {},
   "outputs": [
    {
     "name": "stdout",
     "output_type": "stream",
     "text": [
      "(0, 'i') (1, 's') (2, 't') (3, 'i') (4, 'h') (5, 'z') (6, 'a')\n"
     ]
    }
   ],
   "source": [
    "print(*enumerate('istihza'))"
   ]
  },
  {
   "cell_type": "code",
   "execution_count": 127,
   "metadata": {},
   "outputs": [
    {
     "name": "stdout",
     "output_type": "stream",
     "text": [
      "(0, 'i')\n",
      "(1, 's')\n",
      "(2, 't')\n",
      "(3, 'i')\n",
      "(4, 'h')\n",
      "(5, 'z')\n",
      "(6, 'a')\n"
     ]
    }
   ],
   "source": [
    "for i in enumerate('istihza'):\n",
    "    print(i)"
   ]
  },
  {
   "cell_type": "code",
   "execution_count": 128,
   "metadata": {},
   "outputs": [
    {
     "name": "stdout",
     "output_type": "stream",
     "text": [
      "0.  i\n",
      "1.  s\n",
      "2.  t\n",
      "3.  i\n",
      "4.  h\n",
      "5.  z\n",
      "6.  a\n"
     ]
    }
   ],
   "source": [
    "for sıra, öğe in enumerate('istihza'):\n",
    "    print(\"{}. {:>2}\".format(sıra, öğe))"
   ]
  },
  {
   "cell_type": "code",
   "execution_count": 129,
   "metadata": {},
   "outputs": [
    {
     "name": "stdout",
     "output_type": "stream",
     "text": [
      "1.  i\n",
      "2.  s\n",
      "3.  t\n",
      "4.  i\n",
      "5.  h\n",
      "6.  z\n",
      "7.  a\n"
     ]
    }
   ],
   "source": [
    "for sıra, öğe in enumerate('istihza', 1):\n",
    "    print(\"{}. {:>2}\".format(sıra, öğe))\n"
   ]
  },
  {
   "cell_type": "code",
   "execution_count": 130,
   "metadata": {},
   "outputs": [
    {
     "ename": "",
     "evalue": "",
     "output_type": "error",
     "traceback": [
      "\u001b[1;31mGeçerli hücrede veya önceki bir hücrede kod yürütülürken Çekirdek kilitlendi. Hatanın olası nedenini belirlemek için lütfen hücrelerdeki kodu gözden geçirin. Daha fazla bilgi için <a href='https://aka.ms/vscodeJupyterKernelCrash'>buraya</a> tıklayın. Daha fazla ayrıntı için Jupyter <a href='command:jupyter.viewOutput'>günlüğünü</a> görüntüleyin."
     ]
    }
   ],
   "source": [
    "# exit()\n",
    "\n",
    "exit()"
   ]
  },
  {
   "cell_type": "code",
   "execution_count": 1,
   "metadata": {},
   "outputs": [
    {
     "name": "stdout",
     "output_type": "stream",
     "text": [
      "Help on built-in function dir in module builtins:\n",
      "\n",
      "dir(...)\n",
      "    dir([object]) -> list of strings\n",
      "    \n",
      "    If called without an argument, return the names in the current scope.\n",
      "    Else, return an alphabetized list of names comprising (some of) the attributes\n",
      "    of the given object, and of attributes reachable from it.\n",
      "    If the object supplies a method named __dir__, it will be used; otherwise\n",
      "    the default dir() logic is used and returns:\n",
      "      for a module object: the module's attributes.\n",
      "      for a class object:  its attributes, and recursively the attributes\n",
      "        of its bases.\n",
      "      for any other object: its attributes, its class's attributes, and\n",
      "        recursively the attributes of its class's base classes.\n",
      "\n"
     ]
    }
   ],
   "source": [
    "# help()\n",
    "\n",
    "help(dir)"
   ]
  },
  {
   "cell_type": "code",
   "execution_count": 2,
   "metadata": {},
   "outputs": [
    {
     "name": "stdout",
     "output_type": "stream",
     "text": [
      "\n",
      "Welcome to Python 3.11's help utility!\n",
      "\n",
      "If this is your first time using Python, you should definitely check out\n",
      "the tutorial on the internet at https://docs.python.org/3.11/tutorial/.\n",
      "\n",
      "Enter the name of any module, keyword, or topic to get help on writing\n",
      "Python programs and using Python modules.  To quit this help utility and\n",
      "return to the interpreter, just type \"quit\".\n",
      "\n",
      "To get a list of available modules, keywords, symbols, or topics, type\n",
      "\"modules\", \"keywords\", \"symbols\", or \"topics\".  Each module also comes\n",
      "with a one-line summary of what it does; to list the modules whose name\n",
      "or summary contain a given string such as \"spam\", type \"modules spam\".\n",
      "\n",
      "Help on built-in function dir in module builtins:\n",
      "\n",
      "dir(...)\n",
      "    dir([object]) -> list of strings\n",
      "    \n",
      "    If called without an argument, return the names in the current scope.\n",
      "    Else, return an alphabetized list of names comprising (some of) the attributes\n",
      "    of the given object, and of attributes reachable from it.\n",
      "    If the object supplies a method named __dir__, it will be used; otherwise\n",
      "    the default dir() logic is used and returns:\n",
      "      for a module object: the module's attributes.\n",
      "      for a class object:  its attributes, and recursively the attributes\n",
      "        of its bases.\n",
      "      for any other object: its attributes, its class's attributes, and\n",
      "        recursively the attributes of its class's base classes.\n",
      "\n",
      "\n",
      "You are now leaving help and returning to the Python interpreter.\n",
      "If you want to ask for help on a particular object directly from the\n",
      "interpreter, you can type \"help(object)\".  Executing \"help('string')\"\n",
      "has the same effect as typing a particular string at the help> prompt.\n"
     ]
    }
   ],
   "source": [
    "help()"
   ]
  },
  {
   "cell_type": "code",
   "execution_count": 3,
   "metadata": {},
   "outputs": [
    {
     "data": {
      "text/plain": [
       "140724632541512"
      ]
     },
     "execution_count": 3,
     "metadata": {},
     "output_type": "execute_result"
    }
   ],
   "source": [
    "# id()\n",
    "\n",
    "a = 50\n",
    "id(a)"
   ]
  },
  {
   "cell_type": "code",
   "execution_count": 4,
   "metadata": {},
   "outputs": [
    {
     "data": {
      "text/plain": [
       "2508001881296"
      ]
     },
     "execution_count": 4,
     "metadata": {},
     "output_type": "execute_result"
    }
   ],
   "source": [
    "kardiz = \"Elveda Zalim Dünya!\"\n",
    "id(kardiz)"
   ]
  },
  {
   "cell_type": "code",
   "execution_count": 5,
   "metadata": {},
   "outputs": [
    {
     "data": {
      "text/plain": [
       "'Başarı'"
      ]
     },
     "execution_count": 5,
     "metadata": {},
     "output_type": "execute_result"
    }
   ],
   "source": [
    "# input()\n",
    "\n",
    "input(\"Ne istiyorsun?\")"
   ]
  },
  {
   "cell_type": "code",
   "execution_count": 6,
   "metadata": {},
   "outputs": [
    {
     "data": {
      "text/plain": [
       "'12.00'"
      ]
     },
     "execution_count": 6,
     "metadata": {},
     "output_type": "execute_result"
    }
   ],
   "source": [
    "# format()\n",
    "\n",
    "format(12, '.2f')"
   ]
  },
  {
   "cell_type": "code",
   "execution_count": 7,
   "metadata": {},
   "outputs": [
    {
     "data": {
      "text/plain": [
       "'12.00'"
      ]
     },
     "execution_count": 7,
     "metadata": {},
     "output_type": "execute_result"
    }
   ],
   "source": [
    "'{:.2f}'.format(12)"
   ]
  },
  {
   "cell_type": "code",
   "execution_count": 9,
   "metadata": {},
   "outputs": [
    {
     "name": "stdout",
     "output_type": "stream",
     "text": [
      "175\n",
      "355\n",
      "13\n",
      "207\n",
      "397\n",
      "31\n",
      "241\n",
      "123\n",
      "249\n",
      "153\n"
     ]
    }
   ],
   "source": [
    "# filter()\n",
    "\n",
    "l = [400, 176, 64, 175, 355, 13, 207, 298, 397, 386, 31, 120, 120, 236, 241, 123, 249, 364, 292, 153]\n",
    "for i in l:\n",
    "    if i % 2 == 1:\n",
    "            print(i)"
   ]
  },
  {
   "cell_type": "code",
   "execution_count": 10,
   "metadata": {},
   "outputs": [
    {
     "data": {
      "text/plain": [
       "[175, 355, 13, 207, 397, 31, 241, 123, 249, 153]"
      ]
     },
     "execution_count": 10,
     "metadata": {},
     "output_type": "execute_result"
    }
   ],
   "source": [
    "[i for i in l if i % 2 == 1]"
   ]
  },
  {
   "cell_type": "code",
   "execution_count": 11,
   "metadata": {},
   "outputs": [
    {
     "name": "stdout",
     "output_type": "stream",
     "text": [
      "175 355 13 207 397 31 241 123 249 153\n"
     ]
    }
   ],
   "source": [
    "def tek(sayı):\n",
    "    return sayı % 2 == 1\n",
    "\n",
    "print(*filter(tek, l))"
   ]
  },
  {
   "cell_type": "code",
   "execution_count": 12,
   "metadata": {},
   "outputs": [
    {
     "name": "stdout",
     "output_type": "stream",
     "text": [
      "False\n"
     ]
    }
   ],
   "source": [
    "print(tek(12))"
   ]
  },
  {
   "cell_type": "code",
   "execution_count": 13,
   "metadata": {},
   "outputs": [
    {
     "name": "stdout",
     "output_type": "stream",
     "text": [
      "True\n"
     ]
    }
   ],
   "source": [
    "print(tek(117))"
   ]
  },
  {
   "cell_type": "code",
   "execution_count": 14,
   "metadata": {},
   "outputs": [
    {
     "data": {
      "text/plain": [
       "[175, 355, 13, 207, 397, 31, 241, 123, 249, 153]"
      ]
     },
     "execution_count": 14,
     "metadata": {},
     "output_type": "execute_result"
    }
   ],
   "source": [
    "list(filter(tek, l))"
   ]
  },
  {
   "cell_type": "code",
   "execution_count": 15,
   "metadata": {},
   "outputs": [
    {
     "name": "stdout",
     "output_type": "stream",
     "text": [
      "175 355 13 207 397 31 241 123 249 153\n"
     ]
    }
   ],
   "source": [
    "print(*filter(tek, l))"
   ]
  },
  {
   "cell_type": "code",
   "execution_count": 16,
   "metadata": {},
   "outputs": [
    {
     "data": {
      "text/plain": [
       "[175, 355, 13, 207, 397, 31, 241, 123, 249, 153]"
      ]
     },
     "execution_count": 16,
     "metadata": {},
     "output_type": "execute_result"
    }
   ],
   "source": [
    "[i for i in filter(tek, l)]"
   ]
  },
  {
   "cell_type": "code",
   "execution_count": 17,
   "metadata": {},
   "outputs": [
    {
     "name": "stdout",
     "output_type": "stream",
     "text": [
      "87 99 98 100 80\n"
     ]
    }
   ],
   "source": [
    "notlar = {'Ahmet'   : 60,\n",
    "          'Sinan'   : 50,\n",
    "          'Mehmet'  : 45,\n",
    "          'Ceren'   : 87,\n",
    "          'Selen'   : 99,\n",
    "          'Cem'     : 98,\n",
    "          'Can'     : 51,\n",
    "          'Kezban'  : 100,\n",
    "          'Hakan'   : 66,\n",
    "          'Mahmut'  : 80}\n",
    "\n",
    "def not_durumu(n):\n",
    "    if n in range(0, 50): return 'F'\n",
    "    if n in range(50, 70): return 'D'\n",
    "    if n in range(70, 80): return 'C'\n",
    "    if n in range(80, 90): return 'B'\n",
    "    if n in range(90, 101): return 'A'\n",
    "\n",
    "def süz(n):\n",
    "    return n >= 70\n",
    "\n",
    "print(*filter(süz, notlar.values()))"
   ]
  },
  {
   "cell_type": "code",
   "execution_count": 18,
   "metadata": {},
   "outputs": [
    {
     "data": {
      "text/plain": [
       "-2162542880328748878"
      ]
     },
     "execution_count": 18,
     "metadata": {},
     "output_type": "execute_result"
    }
   ],
   "source": [
    "# hash()\n",
    "\n",
    "hash('istihza')"
   ]
  },
  {
   "cell_type": "code",
   "execution_count": 19,
   "metadata": {},
   "outputs": [
    {
     "data": {
      "text/plain": [
       "2785193895100911999"
      ]
     },
     "execution_count": 19,
     "metadata": {},
     "output_type": "execute_result"
    }
   ],
   "source": [
    "hash('python')"
   ]
  },
  {
   "cell_type": "code",
   "execution_count": 20,
   "metadata": {},
   "outputs": [
    {
     "data": {
      "text/plain": [
       "str"
      ]
     },
     "execution_count": 20,
     "metadata": {},
     "output_type": "execute_result"
    }
   ],
   "source": [
    "# isinstance()\n",
    "\n",
    "type('istihza')"
   ]
  },
  {
   "cell_type": "code",
   "execution_count": 21,
   "metadata": {},
   "outputs": [
    {
     "data": {
      "text/plain": [
       "True"
      ]
     },
     "execution_count": 21,
     "metadata": {},
     "output_type": "execute_result"
    }
   ],
   "source": [
    "isinstance('istihza', str)"
   ]
  },
  {
   "cell_type": "code",
   "execution_count": 22,
   "metadata": {},
   "outputs": [
    {
     "data": {
      "text/plain": [
       "False"
      ]
     },
     "execution_count": 22,
     "metadata": {},
     "output_type": "execute_result"
    }
   ],
   "source": [
    "isinstance('istihza', list)"
   ]
  },
  {
   "cell_type": "code",
   "execution_count": 23,
   "metadata": {},
   "outputs": [
    {
     "data": {
      "text/plain": [
       "7"
      ]
     },
     "execution_count": 23,
     "metadata": {},
     "output_type": "execute_result"
    }
   ],
   "source": [
    "# len()\n",
    "\n",
    "len('istihza')"
   ]
  },
  {
   "cell_type": "code",
   "execution_count": 24,
   "metadata": {},
   "outputs": [
    {
     "data": {
      "text/plain": [
       "7"
      ]
     },
     "execution_count": 24,
     "metadata": {},
     "output_type": "execute_result"
    }
   ],
   "source": [
    "l = [1, 4, 5, 3, 2, 9, 10]\n",
    "len(l)"
   ]
  },
  {
   "cell_type": "code",
   "execution_count": 27,
   "metadata": {},
   "outputs": [
    {
     "name": "stdout",
     "output_type": "stream",
     "text": [
      "1\n",
      "16\n",
      "25\n",
      "16\n",
      "4\n",
      "81\n",
      "100\n"
     ]
    }
   ],
   "source": [
    "# map()\n",
    "\n",
    "l = [1, 4, 5, 4, 2, 9, 10]\n",
    "for i in l:\n",
    "    print(i ** 2)"
   ]
  },
  {
   "cell_type": "code",
   "execution_count": 28,
   "metadata": {},
   "outputs": [
    {
     "data": {
      "text/plain": [
       "[1, 16, 25, 16, 4, 81, 100]"
      ]
     },
     "execution_count": 28,
     "metadata": {},
     "output_type": "execute_result"
    }
   ],
   "source": [
    "def karesi(n):\n",
    "    return n ** 2\n",
    "\n",
    "list(map(karesi, l))"
   ]
  },
  {
   "cell_type": "code",
   "execution_count": 29,
   "metadata": {},
   "outputs": [
    {
     "data": {
      "text/plain": [
       "3"
      ]
     },
     "execution_count": 29,
     "metadata": {},
     "output_type": "execute_result"
    }
   ],
   "source": [
    "# max()\n",
    "\n",
    "max(1, 2, 3)"
   ]
  },
  {
   "cell_type": "code",
   "execution_count": 30,
   "metadata": {},
   "outputs": [
    {
     "data": {
      "text/plain": [
       "3"
      ]
     },
     "execution_count": 30,
     "metadata": {},
     "output_type": "execute_result"
    }
   ],
   "source": [
    "liste = [1, 2, 3]\n",
    "max(liste)"
   ]
  },
  {
   "cell_type": "code",
   "execution_count": 31,
   "metadata": {},
   "outputs": [
    {
     "data": {
      "text/plain": [
       "'abdullah'"
      ]
     },
     "execution_count": 31,
     "metadata": {},
     "output_type": "execute_result"
    }
   ],
   "source": [
    "isimler = ['ahmet', 'can', 'mehmet', 'selin', 'abdullah', 'kezban']\n",
    "max(isimler, key=len)\n"
   ]
  },
  {
   "cell_type": "code",
   "execution_count": 32,
   "metadata": {},
   "outputs": [
    {
     "name": "stdout",
     "output_type": "stream",
     "text": [
      "albay\n"
     ]
    }
   ],
   "source": [
    "askerler = {'ahmet'     : 'onbaşı',\n",
    "            'mehmet'    : 'teğmen',\n",
    "            'ali'       : 'yüzbaşı',\n",
    "            'cevat'     : 'albay',\n",
    "            'berkay'    : 'üsteğmen',\n",
    "            'mahmut'    : 'binbaşı'}\n",
    "\n",
    "def en_yüksek_rütbe(rütbe):\n",
    "    rütbeler = {'er'        : 0,\n",
    "                'onbaşı'    : 1,\n",
    "                'çavuş'     : 2,\n",
    "                'asteğmen'  : 3,\n",
    "                'teğmen'    : 4,\n",
    "                'üsteğmen'  : 5,\n",
    "                'yüzbaşı'   : 6,\n",
    "                'binbaşı'   : 7,\n",
    "                'yarbay'    : 8,\n",
    "                'albay'     : 9}\n",
    "    return rütbeler[rütbe]\n",
    "\n",
    "print(max(askerler.values(), key=en_yüksek_rütbe))"
   ]
  },
  {
   "cell_type": "code",
   "execution_count": 33,
   "metadata": {},
   "outputs": [
    {
     "name": "stdout",
     "output_type": "stream",
     "text": [
      "albay cevat\n"
     ]
    }
   ],
   "source": [
    "for k, v in askerler.items():\n",
    "    if askerler[k] in max(askerler.values(), key=en_yüksek_rütbe):\n",
    "        print(v, k)"
   ]
  },
  {
   "cell_type": "code",
   "execution_count": 34,
   "metadata": {},
   "outputs": [
    {
     "name": "stdout",
     "output_type": "stream",
     "text": [
      "albay cevat\n"
     ]
    }
   ],
   "source": [
    "for k, v in askerler.items():\n",
    "    if askerler[k] == max(askerler.values(), key=en_yüksek_rütbe):\n",
    "        print(v, k)"
   ]
  },
  {
   "cell_type": "code",
   "execution_count": 35,
   "metadata": {},
   "outputs": [
    {
     "data": {
      "text/plain": [
       "1"
      ]
     },
     "execution_count": 35,
     "metadata": {},
     "output_type": "execute_result"
    }
   ],
   "source": [
    "# min()\n",
    "\n",
    "liste = [1, 2, 3]\n",
    "min(liste)"
   ]
  },
  {
   "cell_type": "code",
   "execution_count": 36,
   "metadata": {},
   "outputs": [],
   "source": [
    "# open()\n",
    "\n",
    "open('/home/istihza/Desktop/dosya.txt')"
   ]
  },
  {
   "cell_type": "code",
   "execution_count": 37,
   "metadata": {},
   "outputs": [],
   "source": [
    "# ‘r’\n",
    "# Okuma kipidir. Öntanımlı değer budur.\n",
    "\n",
    "# ‘w’\n",
    "# Yazma kipidir. Eğer belirtilen adda dosya zaten varsa o dosya silinir.\n",
    "\n",
    "# ‘x’\n",
    "# Yeni bir dosya oluşturulup yazma kipinde açılır.\n",
    "\n",
    "# ‘a’\n",
    "# Dosya ekleme kipinde açılır. Bu kip ile, varolan bir dosyanın sonuna eklemeler yapılabilir.\n",
    "\n",
    "# ‘b’\n",
    "# Dosyaları ikili kipte açmak için kullanılır.\n",
    "\n",
    "# ‘t’\n",
    "# Dosyaları metin kipinde açmak için kullanılır. Öntanımlı değerdir.\n",
    "\n",
    "# ‘+’\n",
    "# Aynı dosya üzerinde hem okuma hem de yazma işlemleri yapılmasını sağlar."
   ]
  },
  {
   "cell_type": "code",
   "execution_count": 38,
   "metadata": {},
   "outputs": [
    {
     "data": {
      "text/plain": [
       "8"
      ]
     },
     "execution_count": 38,
     "metadata": {},
     "output_type": "execute_result"
    }
   ],
   "source": [
    "# pow()\n",
    "\n",
    "pow(2, 3)"
   ]
  },
  {
   "cell_type": "code",
   "execution_count": 39,
   "metadata": {},
   "outputs": [
    {
     "data": {
      "text/plain": [
       "0"
      ]
     },
     "execution_count": 39,
     "metadata": {},
     "output_type": "execute_result"
    }
   ],
   "source": [
    "pow(2, 3, 2)"
   ]
  },
  {
   "cell_type": "code",
   "execution_count": 40,
   "metadata": {},
   "outputs": [
    {
     "data": {
      "text/plain": [
       "0"
      ]
     },
     "execution_count": 40,
     "metadata": {},
     "output_type": "execute_result"
    }
   ],
   "source": [
    "(2 ** 3) % 2"
   ]
  },
  {
   "cell_type": "code",
   "execution_count": 41,
   "metadata": {},
   "outputs": [
    {
     "data": {
      "text/plain": [
       "144"
      ]
     },
     "execution_count": 41,
     "metadata": {},
     "output_type": "execute_result"
    }
   ],
   "source": [
    "pow(12, 2)"
   ]
  },
  {
   "cell_type": "code",
   "execution_count": 42,
   "metadata": {},
   "outputs": [
    {
     "name": "stdout",
     "output_type": "stream",
     "text": [
      "Hello World\n"
     ]
    }
   ],
   "source": [
    "# print()\n",
    "\n",
    "print(\"Hello World\")"
   ]
  },
  {
   "cell_type": "code",
   "execution_count": 43,
   "metadata": {},
   "outputs": [
    {
     "ename": "",
     "evalue": "",
     "output_type": "error",
     "traceback": [
      "\u001b[1;31mGeçerli hücrede veya önceki bir hücrede kod yürütülürken Çekirdek kilitlendi. Hatanın olası nedenini belirlemek için lütfen hücrelerdeki kodu gözden geçirin. Daha fazla bilgi için <a href='https://aka.ms/vscodeJupyterKernelCrash'>buraya</a> tıklayın. Daha fazla ayrıntı için Jupyter <a href='command:jupyter.viewOutput'>günlüğünü</a> görüntüleyin."
     ]
    }
   ],
   "source": [
    "# quit()\n",
    "\n",
    "quit()"
   ]
  },
  {
   "cell_type": "code",
   "execution_count": 2,
   "metadata": {},
   "outputs": [
    {
     "name": "stdout",
     "output_type": "stream",
     "text": [
      "range(0, 10)\n"
     ]
    }
   ],
   "source": [
    "# range()\n",
    "\n",
    "l = range(0, 10)\n",
    "print(l)"
   ]
  },
  {
   "cell_type": "code",
   "execution_count": 3,
   "metadata": {},
   "outputs": [
    {
     "data": {
      "text/plain": [
       "range"
      ]
     },
     "execution_count": 3,
     "metadata": {},
     "output_type": "execute_result"
    }
   ],
   "source": [
    "type(l)"
   ]
  },
  {
   "cell_type": "code",
   "execution_count": 4,
   "metadata": {},
   "outputs": [
    {
     "data": {
      "text/plain": [
       "[0, 1, 2, 3, 4, 5, 6, 7, 8, 9]"
      ]
     },
     "execution_count": 4,
     "metadata": {},
     "output_type": "execute_result"
    }
   ],
   "source": [
    "list(l)"
   ]
  },
  {
   "cell_type": "code",
   "execution_count": 5,
   "metadata": {},
   "outputs": [
    {
     "data": {
      "text/plain": [
       "(0, 1, 2, 3, 4, 5, 6, 7, 8, 9)"
      ]
     },
     "execution_count": 5,
     "metadata": {},
     "output_type": "execute_result"
    }
   ],
   "source": [
    "tuple(l)"
   ]
  },
  {
   "cell_type": "code",
   "execution_count": 6,
   "metadata": {},
   "outputs": [
    {
     "data": {
      "text/plain": [
       "{0, 1, 2, 3, 4, 5, 6, 7, 8, 9}"
      ]
     },
     "execution_count": 6,
     "metadata": {},
     "output_type": "execute_result"
    }
   ],
   "source": [
    "set(l)"
   ]
  },
  {
   "cell_type": "code",
   "execution_count": 7,
   "metadata": {},
   "outputs": [
    {
     "data": {
      "text/plain": [
       "frozenset({0, 1, 2, 3, 4, 5, 6, 7, 8, 9})"
      ]
     },
     "execution_count": 7,
     "metadata": {},
     "output_type": "execute_result"
    }
   ],
   "source": [
    "frozenset(l)"
   ]
  },
  {
   "cell_type": "code",
   "execution_count": 8,
   "metadata": {},
   "outputs": [
    {
     "name": "stdout",
     "output_type": "stream",
     "text": [
      "0\n",
      "1\n",
      "2\n",
      "3\n",
      "4\n",
      "5\n",
      "6\n",
      "7\n",
      "8\n",
      "9\n"
     ]
    }
   ],
   "source": [
    "for i in range(10):\n",
    "    print(i)"
   ]
  },
  {
   "cell_type": "code",
   "execution_count": 9,
   "metadata": {},
   "outputs": [
    {
     "name": "stdout",
     "output_type": "stream",
     "text": [
      "0, 1, 2, 3, 4, 5, 6, 7, 8, 9\n"
     ]
    }
   ],
   "source": [
    "print(*range(10), sep=', ')"
   ]
  },
  {
   "cell_type": "code",
   "execution_count": 10,
   "metadata": {},
   "outputs": [
    {
     "data": {
      "text/plain": [
       "range(0, 10)"
      ]
     },
     "execution_count": 10,
     "metadata": {},
     "output_type": "execute_result"
    }
   ],
   "source": [
    "range(0, 10)"
   ]
  },
  {
   "cell_type": "code",
   "execution_count": 11,
   "metadata": {},
   "outputs": [
    {
     "data": {
      "text/plain": [
       "[0, 2, 4, 6, 8]"
      ]
     },
     "execution_count": 11,
     "metadata": {},
     "output_type": "execute_result"
    }
   ],
   "source": [
    "list(range(0, 10, 2))"
   ]
  },
  {
   "cell_type": "code",
   "execution_count": 12,
   "metadata": {},
   "outputs": [
    {
     "data": {
      "text/plain": [
       "['ışık', 'çiğdem', 'ayşe', 'veli', 'mehmet', 'ahmet']"
      ]
     },
     "execution_count": 12,
     "metadata": {},
     "output_type": "execute_result"
    }
   ],
   "source": [
    "# reversed()\n",
    "\n",
    "isimler = ['ahmet', 'mehmet', 'veli', 'ayşe', 'çiğdem', 'ışık']\n",
    "isimler[::-1]"
   ]
  },
  {
   "cell_type": "code",
   "execution_count": 13,
   "metadata": {},
   "outputs": [
    {
     "data": {
      "text/plain": [
       "<list_reverseiterator at 0x1e8fe4ad540>"
      ]
     },
     "execution_count": 13,
     "metadata": {},
     "output_type": "execute_result"
    }
   ],
   "source": [
    "reversed(isimler)"
   ]
  },
  {
   "cell_type": "code",
   "execution_count": 14,
   "metadata": {},
   "outputs": [
    {
     "data": {
      "text/plain": [
       "['ışık', 'çiğdem', 'ayşe', 'veli', 'mehmet', 'ahmet']"
      ]
     },
     "execution_count": 14,
     "metadata": {},
     "output_type": "execute_result"
    }
   ],
   "source": [
    "list(reversed(isimler))"
   ]
  },
  {
   "cell_type": "code",
   "execution_count": 15,
   "metadata": {},
   "outputs": [
    {
     "data": {
      "text/plain": [
       "['a', 'e', 'h', 'm', 't']"
      ]
     },
     "execution_count": 15,
     "metadata": {},
     "output_type": "execute_result"
    }
   ],
   "source": [
    "# sorted()\n",
    "\n",
    "sorted('ahmet')"
   ]
  },
  {
   "cell_type": "code",
   "execution_count": 16,
   "metadata": {},
   "outputs": [
    {
     "data": {
      "text/plain": [
       "['armut', 'badem', 'elma', 'kiraz']"
      ]
     },
     "execution_count": 16,
     "metadata": {},
     "output_type": "execute_result"
    }
   ],
   "source": [
    "sorted(('elma', 'armut', 'kiraz', 'badem'))"
   ]
  },
  {
   "cell_type": "code",
   "execution_count": 17,
   "metadata": {},
   "outputs": [
    {
     "data": {
      "text/plain": [
       "['armut', 'badem', 'elma', 'kiraz']"
      ]
     },
     "execution_count": 17,
     "metadata": {},
     "output_type": "execute_result"
    }
   ],
   "source": [
    "sorted(['elma', 'armut', 'kiraz', 'badem'])"
   ]
  },
  {
   "cell_type": "code",
   "execution_count": 18,
   "metadata": {},
   "outputs": [
    {
     "data": {
      "text/plain": [
       "['ahmet', 'selin', 'zeynep', 'çiğdem', 'ışık', 'şebnem']"
      ]
     },
     "execution_count": 18,
     "metadata": {},
     "output_type": "execute_result"
    }
   ],
   "source": [
    "isimler = ['ahmet', 'çiğdem', 'ışık', 'şebnem', 'zeynep', 'selin']\n",
    "sorted(isimler)"
   ]
  },
  {
   "cell_type": "code",
   "execution_count": 19,
   "metadata": {},
   "outputs": [
    {
     "data": {
      "text/plain": [
       "['ahmet', 'çiğdem', 'ışık', 'selin', 'şebnem', 'zeynep']"
      ]
     },
     "execution_count": 19,
     "metadata": {},
     "output_type": "execute_result"
    }
   ],
   "source": [
    "import locale\n",
    "locale.setlocale(locale.LC_ALL, 'Turkish_Turkey.1254')\n",
    "sorted(isimler, key=locale.strxfrm)"
   ]
  },
  {
   "cell_type": "code",
   "execution_count": 20,
   "metadata": {},
   "outputs": [
    {
     "data": {
      "text/plain": [
       "['a', 'd', 'f', 'g', 'h', 'i', 'ı', 'k']"
      ]
     },
     "execution_count": 20,
     "metadata": {},
     "output_type": "execute_result"
    }
   ],
   "source": [
    "sorted('afgdhkıi', key=locale.strxfrm)"
   ]
  },
  {
   "cell_type": "code",
   "execution_count": 21,
   "metadata": {},
   "outputs": [
    {
     "data": {
      "text/plain": [
       "[4, 9, 10, 14, 20]"
      ]
     },
     "execution_count": 21,
     "metadata": {},
     "output_type": "execute_result"
    }
   ],
   "source": [
    "sorted([10, 9, 4, 14, 20])"
   ]
  },
  {
   "cell_type": "code",
   "execution_count": 26,
   "metadata": {},
   "outputs": [
    {
     "data": {
      "text/plain": [
       "['ahmet', 'can', 'çiğdem', 'ışık', 'ismail', 'şule']"
      ]
     },
     "execution_count": 26,
     "metadata": {},
     "output_type": "execute_result"
    }
   ],
   "source": [
    "harfler = \"abcçdefgğhıijklmnoöprsştuüvyz\"\n",
    "çevrim = {'a': 0, 'b': 1, 'c': 2, 'ç': 3, 'd': 4,\n",
    "          'e': 5, 'f': 6, 'g': 7, 'ğ': 8, 'h': 9,\n",
    "          'ı': 10, 'i': 11, 'j': 12, 'k': 13,\n",
    "          'l': 14, 'm': 15, 'n': 16, 'o': 17,\n",
    "          'ö': 18, 'p': 19, 'r': 20, 's': 21,\n",
    "          'ş': 22, 't': 23, 'u': 24, 'ü': 25,\n",
    "          'v': 26, 'y': 27, 'z': 28}\n",
    "çevrim = {i: harfler.index(i) for i in harfler}\n",
    "isimler = [\"ahmet\", \"ışık\", \"ismail\",\n",
    "           \"çiğdem\", \"can\", \"şule\"]\n",
    "sorted(isimler, key=lambda x: çevrim.get(x[0]))"
   ]
  },
  {
   "cell_type": "code",
   "execution_count": 27,
   "metadata": {},
   "outputs": [
    {
     "name": "stdout",
     "output_type": "stream",
     "text": [
      "['ahmet', 'can', 'çiğdem', 'ışık', 'ismail', 'iskender', 'şule']\n"
     ]
    }
   ],
   "source": [
    "harfler = \"abcçdefgğhıijklmnoöprsştuüvyz\"\n",
    "çevrim = {i: harfler.index(i) for i in harfler}\n",
    "\n",
    "isimler = [\"ahmet\", \"ışık\", \"ismail\", \"çiğdem\",\n",
    "           \"can\", \"şule\", \"iskender\"]\n",
    "\n",
    "print(sorted(isimler, key=lambda x: çevrim.get(x[0])))"
   ]
  },
  {
   "cell_type": "code",
   "execution_count": 28,
   "metadata": {},
   "outputs": [
    {
     "name": "stdout",
     "output_type": "stream",
     "text": [
      "ahmet\n",
      "can\n",
      "cigdem\n",
      "çiğdem\n",
      "ışık\n",
      "iskender\n",
      "ismail\n",
      "ismet\n",
      "ismıt\n",
      "ismit\n",
      "şule\n"
     ]
    }
   ],
   "source": [
    "harfler = 'abcçdefgğhıijklmnoöprsştuüvyz'\n",
    "çevrim = {i: harfler.index(i) for i in harfler}\n",
    "\n",
    "def sırala(kelime):\n",
    "    return ([çevrim.get(kelime[i]) for i in range(len(kelime))])\n",
    "\n",
    "isimler = ['ahmet', 'can', 'iskender', 'cigdem',\n",
    "           'ismet', 'ismail', 'ismit', 'çiğdem',\n",
    "           'ismıt', 'ışık', 'şule']\n",
    "\n",
    "print(*sorted(isimler, key=sırala), sep='\\n')"
   ]
  },
  {
   "cell_type": "code",
   "execution_count": 1,
   "metadata": {},
   "outputs": [
    {
     "data": {
      "text/plain": [
       "['ahmet', 'mehmet']"
      ]
     },
     "execution_count": 1,
     "metadata": {},
     "output_type": "execute_result"
    }
   ],
   "source": [
    "# slice()\n",
    "\n",
    "l = ['ahmet', 'mehmet', 'ayşe', 'senem', 'salih']\n",
    "l[0:2]"
   ]
  },
  {
   "cell_type": "code",
   "execution_count": 2,
   "metadata": {},
   "outputs": [
    {
     "data": {
      "text/plain": [
       "['ahmet', 'ayşe', 'salih']"
      ]
     },
     "execution_count": 2,
     "metadata": {},
     "output_type": "execute_result"
    }
   ],
   "source": [
    "l[::2]"
   ]
  },
  {
   "cell_type": "code",
   "execution_count": 3,
   "metadata": {},
   "outputs": [
    {
     "data": {
      "text/plain": [
       "6"
      ]
     },
     "execution_count": 3,
     "metadata": {},
     "output_type": "execute_result"
    }
   ],
   "source": [
    "# sum()\n",
    "\n",
    "l = [1, 2, 3]\n",
    "sum(l)"
   ]
  },
  {
   "cell_type": "code",
   "execution_count": 4,
   "metadata": {},
   "outputs": [
    {
     "data": {
      "text/plain": [
       "16"
      ]
     },
     "execution_count": 4,
     "metadata": {},
     "output_type": "execute_result"
    }
   ],
   "source": [
    "l = [1, 2, 3]\n",
    "sum(l, 10)"
   ]
  },
  {
   "cell_type": "code",
   "execution_count": 5,
   "metadata": {},
   "outputs": [
    {
     "data": {
      "text/plain": [
       "str"
      ]
     },
     "execution_count": 5,
     "metadata": {},
     "output_type": "execute_result"
    }
   ],
   "source": [
    "# type()\n",
    "\n",
    "type('elma')"
   ]
  },
  {
   "cell_type": "code",
   "execution_count": 6,
   "metadata": {},
   "outputs": [
    {
     "data": {
      "text/plain": [
       "<zip at 0x1c639172700>"
      ]
     },
     "execution_count": 6,
     "metadata": {},
     "output_type": "execute_result"
    }
   ],
   "source": [
    "# zip()\n",
    "\n",
    "a1 = ['a', 'b', 'c']\n",
    "a2 = ['d', 'e', 'f']\n",
    "zip(a1, a2)"
   ]
  },
  {
   "cell_type": "code",
   "execution_count": 7,
   "metadata": {},
   "outputs": [
    {
     "name": "stdout",
     "output_type": "stream",
     "text": [
      "('a', 'd') ('b', 'e') ('c', 'f')\n"
     ]
    }
   ],
   "source": [
    "print(*zip(a1, a2))"
   ]
  },
  {
   "cell_type": "code",
   "execution_count": 8,
   "metadata": {},
   "outputs": [
    {
     "data": {
      "text/plain": [
       "[('a', 'd'), ('b', 'e'), ('c', 'f')]"
      ]
     },
     "execution_count": 8,
     "metadata": {},
     "output_type": "execute_result"
    }
   ],
   "source": [
    "list(zip(a1, a2))"
   ]
  },
  {
   "cell_type": "code",
   "execution_count": 9,
   "metadata": {},
   "outputs": [
    {
     "name": "stdout",
     "output_type": "stream",
     "text": [
      "a d\n",
      "b e\n",
      "c f\n"
     ]
    }
   ],
   "source": [
    "for a, b in zip(a1, a2):\n",
    "    print(a, b)"
   ]
  },
  {
   "cell_type": "code",
   "execution_count": 10,
   "metadata": {},
   "outputs": [
    {
     "name": "stdout",
     "output_type": "stream",
     "text": [
      "isim: ahmet / yaş: 25\n",
      "isim: mehmet / yaş: 40\n",
      "isim: zeynep / yaş: 35\n",
      "isim: ilker / yaş: 20\n"
     ]
    }
   ],
   "source": [
    "isimler = ['ahmet', 'mehmet', 'zeynep', 'ilker']\n",
    "yaşlar = [25, 40, 35, 20]\n",
    "for i, y in zip(isimler, yaşlar):\n",
    "    print('isim: {} / yaş: {}'.format(i, y))"
   ]
  },
  {
   "cell_type": "code",
   "execution_count": 11,
   "metadata": {},
   "outputs": [
    {
     "data": {
      "text/plain": [
       "{'__name__': '__main__',\n",
       " '__doc__': 'Automatically created module for IPython interactive environment',\n",
       " '__package__': None,\n",
       " '__loader__': None,\n",
       " '__spec__': None,\n",
       " '__builtin__': <module 'builtins' (built-in)>,\n",
       " '__builtins__': <module 'builtins' (built-in)>,\n",
       " '_ih': ['',\n",
       "  \"# slice()\\n\\nl = ['ahmet', 'mehmet', 'ayşe', 'senem', 'salih']\\nl[0:2]\",\n",
       "  'l[::2]',\n",
       "  '# sum()\\n\\nl = [1, 2, 3]\\nsum(l)',\n",
       "  'l = [1, 2, 3]\\nsum(l, 10)',\n",
       "  \"# type()\\n\\ntype('elma')\",\n",
       "  \"# zip()\\n\\na1 = ['a', 'b', 'c']\\na2 = ['d', 'e', 'f']\\nzip(a1, a2)\",\n",
       "  'print(*zip(a1, a2))',\n",
       "  'list(zip(a1, a2))',\n",
       "  'for a, b in zip(a1, a2):\\n    print(a, b)',\n",
       "  \"isimler = ['ahmet', 'mehmet', 'zeynep', 'ilker']\\nyaşlar = [25, 40, 35, 20]\\nfor i, y in zip(isimler, yaşlar):\\n    print('isim: {} / yaş: {}'.format(i, y))\",\n",
       "  '# vars()\\n\\nvars()'],\n",
       " '_oh': {1: ['ahmet', 'mehmet'],\n",
       "  2: ['ahmet', 'ayşe', 'salih'],\n",
       "  3: 6,\n",
       "  4: 16,\n",
       "  5: str,\n",
       "  6: <zip at 0x1c639172700>,\n",
       "  8: [('a', 'd'), ('b', 'e'), ('c', 'f')]},\n",
       " '_dh': [WindowsPath('c:/Users/Fallrytme/Desktop/python_temelleri'),\n",
       "  WindowsPath('c:/Users/Fallrytme/Desktop/python_temelleri')],\n",
       " 'In': ['',\n",
       "  \"# slice()\\n\\nl = ['ahmet', 'mehmet', 'ayşe', 'senem', 'salih']\\nl[0:2]\",\n",
       "  'l[::2]',\n",
       "  '# sum()\\n\\nl = [1, 2, 3]\\nsum(l)',\n",
       "  'l = [1, 2, 3]\\nsum(l, 10)',\n",
       "  \"# type()\\n\\ntype('elma')\",\n",
       "  \"# zip()\\n\\na1 = ['a', 'b', 'c']\\na2 = ['d', 'e', 'f']\\nzip(a1, a2)\",\n",
       "  'print(*zip(a1, a2))',\n",
       "  'list(zip(a1, a2))',\n",
       "  'for a, b in zip(a1, a2):\\n    print(a, b)',\n",
       "  \"isimler = ['ahmet', 'mehmet', 'zeynep', 'ilker']\\nyaşlar = [25, 40, 35, 20]\\nfor i, y in zip(isimler, yaşlar):\\n    print('isim: {} / yaş: {}'.format(i, y))\",\n",
       "  '# vars()\\n\\nvars()'],\n",
       " 'Out': {1: ['ahmet', 'mehmet'],\n",
       "  2: ['ahmet', 'ayşe', 'salih'],\n",
       "  3: 6,\n",
       "  4: 16,\n",
       "  5: str,\n",
       "  6: <zip at 0x1c639172700>,\n",
       "  8: [('a', 'd'), ('b', 'e'), ('c', 'f')]},\n",
       " 'get_ipython': <bound method InteractiveShell.get_ipython of <ipykernel.zmqshell.ZMQInteractiveShell object at 0x000001C638E3A4D0>>,\n",
       " 'exit': <IPython.core.autocall.ZMQExitAutocall at 0x1c638e812d0>,\n",
       " 'quit': <IPython.core.autocall.ZMQExitAutocall at 0x1c638e812d0>,\n",
       " 'open': <function io.open(file, mode='r', buffering=-1, encoding=None, errors=None, newline=None, closefd=True, opener=None)>,\n",
       " '_': [('a', 'd'), ('b', 'e'), ('c', 'f')],\n",
       " '__': <zip at 0x1c639172700>,\n",
       " '___': str,\n",
       " 'os': <module 'os' (frozen)>,\n",
       " 'sys': <module 'sys' (built-in)>,\n",
       " '__vsc_ipynb_file__': 'c:\\\\Users\\\\Fallrytme\\\\Desktop\\\\python_temelleri\\\\gomulu_fonksiyonlar.ipynb',\n",
       " '_i': \"isimler = ['ahmet', 'mehmet', 'zeynep', 'ilker']\\nyaşlar = [25, 40, 35, 20]\\nfor i, y in zip(isimler, yaşlar):\\n    print('isim: {} / yaş: {}'.format(i, y))\",\n",
       " '_ii': 'for a, b in zip(a1, a2):\\n    print(a, b)',\n",
       " '_iii': 'list(zip(a1, a2))',\n",
       " '_i1': \"# slice()\\n\\nl = ['ahmet', 'mehmet', 'ayşe', 'senem', 'salih']\\nl[0:2]\",\n",
       " 'l': [1, 2, 3],\n",
       " '_1': ['ahmet', 'mehmet'],\n",
       " '_i2': 'l[::2]',\n",
       " '_2': ['ahmet', 'ayşe', 'salih'],\n",
       " '_i3': '# sum()\\n\\nl = [1, 2, 3]\\nsum(l)',\n",
       " '_3': 6,\n",
       " '_i4': 'l = [1, 2, 3]\\nsum(l, 10)',\n",
       " '_4': 16,\n",
       " '_i5': \"# type()\\n\\ntype('elma')\",\n",
       " '_5': str,\n",
       " '_i6': \"# zip()\\n\\na1 = ['a', 'b', 'c']\\na2 = ['d', 'e', 'f']\\nzip(a1, a2)\",\n",
       " 'a1': ['a', 'b', 'c'],\n",
       " 'a2': ['d', 'e', 'f'],\n",
       " '_6': <zip at 0x1c639172700>,\n",
       " '_i7': 'print(*zip(a1, a2))',\n",
       " '_i8': 'list(zip(a1, a2))',\n",
       " '_8': [('a', 'd'), ('b', 'e'), ('c', 'f')],\n",
       " '_i9': 'for a, b in zip(a1, a2):\\n    print(a, b)',\n",
       " 'a': 'c',\n",
       " 'b': 'f',\n",
       " '_i10': \"isimler = ['ahmet', 'mehmet', 'zeynep', 'ilker']\\nyaşlar = [25, 40, 35, 20]\\nfor i, y in zip(isimler, yaşlar):\\n    print('isim: {} / yaş: {}'.format(i, y))\",\n",
       " 'isimler': ['ahmet', 'mehmet', 'zeynep', 'ilker'],\n",
       " 'yaşlar': [25, 40, 35, 20],\n",
       " 'i': 'ilker',\n",
       " 'y': 20,\n",
       " '_i11': '# vars()\\n\\nvars()'}"
      ]
     },
     "execution_count": 11,
     "metadata": {},
     "output_type": "execute_result"
    }
   ],
   "source": [
    "# vars()\n",
    "\n",
    "vars()"
   ]
  },
  {
   "cell_type": "code",
   "execution_count": 12,
   "metadata": {},
   "outputs": [
    {
     "data": {
      "text/plain": [
       "mappingproxy({'__new__': <function dict.__new__(*args, **kwargs)>,\n",
       "              '__repr__': <slot wrapper '__repr__' of 'dict' objects>,\n",
       "              '__hash__': None,\n",
       "              '__getattribute__': <slot wrapper '__getattribute__' of 'dict' objects>,\n",
       "              '__lt__': <slot wrapper '__lt__' of 'dict' objects>,\n",
       "              '__le__': <slot wrapper '__le__' of 'dict' objects>,\n",
       "              '__eq__': <slot wrapper '__eq__' of 'dict' objects>,\n",
       "              '__ne__': <slot wrapper '__ne__' of 'dict' objects>,\n",
       "              '__gt__': <slot wrapper '__gt__' of 'dict' objects>,\n",
       "              '__ge__': <slot wrapper '__ge__' of 'dict' objects>,\n",
       "              '__iter__': <slot wrapper '__iter__' of 'dict' objects>,\n",
       "              '__init__': <slot wrapper '__init__' of 'dict' objects>,\n",
       "              '__or__': <slot wrapper '__or__' of 'dict' objects>,\n",
       "              '__ror__': <slot wrapper '__ror__' of 'dict' objects>,\n",
       "              '__ior__': <slot wrapper '__ior__' of 'dict' objects>,\n",
       "              '__len__': <slot wrapper '__len__' of 'dict' objects>,\n",
       "              '__getitem__': <method '__getitem__' of 'dict' objects>,\n",
       "              '__setitem__': <slot wrapper '__setitem__' of 'dict' objects>,\n",
       "              '__delitem__': <slot wrapper '__delitem__' of 'dict' objects>,\n",
       "              '__contains__': <method '__contains__' of 'dict' objects>,\n",
       "              '__sizeof__': <method '__sizeof__' of 'dict' objects>,\n",
       "              'get': <method 'get' of 'dict' objects>,\n",
       "              'setdefault': <method 'setdefault' of 'dict' objects>,\n",
       "              'pop': <method 'pop' of 'dict' objects>,\n",
       "              'popitem': <method 'popitem' of 'dict' objects>,\n",
       "              'keys': <method 'keys' of 'dict' objects>,\n",
       "              'items': <method 'items' of 'dict' objects>,\n",
       "              'values': <method 'values' of 'dict' objects>,\n",
       "              'update': <method 'update' of 'dict' objects>,\n",
       "              'fromkeys': <method 'fromkeys' of 'dict' objects>,\n",
       "              'clear': <method 'clear' of 'dict' objects>,\n",
       "              'copy': <method 'copy' of 'dict' objects>,\n",
       "              '__reversed__': <method '__reversed__' of 'dict' objects>,\n",
       "              '__class_getitem__': <method '__class_getitem__' of 'dict' objects>,\n",
       "              '__doc__': \"dict() -> new empty dictionary\\ndict(mapping) -> new dictionary initialized from a mapping object's\\n    (key, value) pairs\\ndict(iterable) -> new dictionary initialized as if via:\\n    d = {}\\n    for k, v in iterable:\\n        d[k] = v\\ndict(**kwargs) -> new dictionary initialized with the name=value pairs\\n    in the keyword argument list.  For example:  dict(one=1, two=2)\"})"
      ]
     },
     "execution_count": 12,
     "metadata": {},
     "output_type": "execute_result"
    }
   ],
   "source": [
    "vars(str)\n",
    "vars(list)\n",
    "vars(dict)"
   ]
  },
  {
   "cell_type": "code",
   "execution_count": null,
   "metadata": {},
   "outputs": [],
   "source": []
  }
 ],
 "metadata": {
  "kernelspec": {
   "display_name": "Python 3.11.0 64-bit",
   "language": "python",
   "name": "python3"
  },
  "language_info": {
   "codemirror_mode": {
    "name": "ipython",
    "version": 3
   },
   "file_extension": ".py",
   "mimetype": "text/x-python",
   "name": "python",
   "nbconvert_exporter": "python",
   "pygments_lexer": "ipython3",
   "version": "3.11.0"
  },
  "orig_nbformat": 4,
  "vscode": {
   "interpreter": {
    "hash": "7c542dbbc07e6010b76b61de8a453dc04d29cd1fae7fbaa29851ecbad9aefb83"
   }
  }
 },
 "nbformat": 4,
 "nbformat_minor": 2
}
