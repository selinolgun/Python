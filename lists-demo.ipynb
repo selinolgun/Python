{
 "cells": [
  {
   "cell_type": "code",
   "execution_count": 2,
   "metadata": {},
   "outputs": [
    {
     "name": "stdout",
     "output_type": "stream",
     "text": [
      "['BMW', 'Mercedes', 'Opel', 'Mazda']\n"
     ]
    }
   ],
   "source": [
    "eco = [\"BMW\",\"Mercedes\",\"Opel\",\"Mazda\"]\n",
    "print(eco)"
   ]
  },
  {
   "cell_type": "code",
   "execution_count": 3,
   "metadata": {},
   "outputs": [
    {
     "data": {
      "text/plain": [
       "4"
      ]
     },
     "execution_count": 3,
     "metadata": {},
     "output_type": "execute_result"
    }
   ],
   "source": [
    "len(eco)"
   ]
  },
  {
   "cell_type": "code",
   "execution_count": 10,
   "metadata": {},
   "outputs": [
    {
     "name": "stdout",
     "output_type": "stream",
     "text": [
      "['BMW', 'Mazda']\n"
     ]
    }
   ],
   "source": [
    "print(eco[0:4:3])"
   ]
  },
  {
   "cell_type": "code",
   "execution_count": 38,
   "metadata": {},
   "outputs": [
    {
     "name": "stdout",
     "output_type": "stream",
     "text": [
      "['BMW', 'Mercedes', 'Opel', 'Toyota']\n"
     ]
    }
   ],
   "source": [
    "eco[-1]= \"Toyota\"\n",
    "print(eco)"
   ]
  },
  {
   "cell_type": "code",
   "execution_count": 39,
   "metadata": {},
   "outputs": [
    {
     "data": {
      "text/plain": [
       "True"
      ]
     },
     "execution_count": 39,
     "metadata": {},
     "output_type": "execute_result"
    }
   ],
   "source": [
    "\"Mercedes\" in eco"
   ]
  },
  {
   "cell_type": "code",
   "execution_count": 13,
   "metadata": {},
   "outputs": [
    {
     "name": "stdout",
     "output_type": "stream",
     "text": [
      "Opel\n"
     ]
    }
   ],
   "source": [
    "print(eco[-2])"
   ]
  },
  {
   "cell_type": "code",
   "execution_count": 18,
   "metadata": {},
   "outputs": [
    {
     "name": "stdout",
     "output_type": "stream",
     "text": [
      "['BMW', 'Mercedes', 'Opel']\n"
     ]
    }
   ],
   "source": [
    "print(eco[0:3:1])"
   ]
  },
  {
   "cell_type": "code",
   "execution_count": 41,
   "metadata": {},
   "outputs": [
    {
     "name": "stdout",
     "output_type": "stream",
     "text": [
      "['BMW', 'Mercedes', 'Renault', 'Toyota']\n"
     ]
    }
   ],
   "source": [
    "eco[-1]= \"Toyota\"\n",
    "eco[-2]= \"Renault\"\n",
    "print(eco)"
   ]
  },
  {
   "cell_type": "code",
   "execution_count": 44,
   "metadata": {},
   "outputs": [
    {
     "name": "stdout",
     "output_type": "stream",
     "text": [
      "['BMW', 'Mercedes', 'Renault', 'Toyota', 'Audi', 'Nissan']\n"
     ]
    }
   ],
   "source": [
    "# eko = str(eco) + \" Nissan\" + \" Audi\"\n",
    "# eko\n",
    "eco = eco + [\"Audi\",\"Nissan\"]\n",
    "print(eco)"
   ]
  },
  {
   "cell_type": "code",
   "execution_count": 45,
   "metadata": {},
   "outputs": [
    {
     "name": "stdout",
     "output_type": "stream",
     "text": [
      "['BMW', 'Mercedes', 'Renault', 'Toyota', 'Audi']\n"
     ]
    }
   ],
   "source": [
    "# eco.delete\n",
    "del eco[-1]\n",
    "print(eco)"
   ]
  },
  {
   "cell_type": "code",
   "execution_count": 46,
   "metadata": {},
   "outputs": [
    {
     "name": "stdout",
     "output_type": "stream",
     "text": [
      "['Audi', 'Toyota', 'Renault', 'Mercedes', 'BMW']\n"
     ]
    }
   ],
   "source": [
    "print(eco[::-1])"
   ]
  },
  {
   "cell_type": "code",
   "execution_count": 36,
   "metadata": {},
   "outputs": [
    {
     "name": "stdout",
     "output_type": "stream",
     "text": [
      "Yiğit Bilgi 2010, (70,60,70) Sena Turan 1999, (80,80,70) Ahmet Turan 1998, (80,70,90)\n"
     ]
    }
   ],
   "source": [
    "studentA = \"Yiğit Bilgi 2010, (70,60,70)\"\n",
    "studentB = \"Sena Turan 1999, (80,80,70)\"\n",
    "studentC = \"Ahmet Turan 1998, (80,70,90)\"\n",
    "top = studentA + \" \" + studentB + \" \" + studentC\n",
    "print(top)"
   ]
  },
  {
   "cell_type": "code",
   "execution_count": 37,
   "metadata": {},
   "outputs": [
    {
     "name": "stdout",
     "output_type": "stream",
     "text": [
      "Yiğit Bilgi 2010, (70,60,70) Sena Turan 1999, (80,80,70) Ahmet Turan 1998, (80,70,90)\n"
     ]
    }
   ],
   "source": [
    "print(top)"
   ]
  },
  {
   "cell_type": "code",
   "execution_count": null,
   "metadata": {},
   "outputs": [],
   "source": []
  }
 ],
 "metadata": {
  "kernelspec": {
   "display_name": "Python 3.11.0 64-bit",
   "language": "python",
   "name": "python3"
  },
  "language_info": {
   "codemirror_mode": {
    "name": "ipython",
    "version": 3
   },
   "file_extension": ".py",
   "mimetype": "text/x-python",
   "name": "python",
   "nbconvert_exporter": "python",
   "pygments_lexer": "ipython3",
   "version": "3.11.0"
  },
  "orig_nbformat": 4,
  "vscode": {
   "interpreter": {
    "hash": "7c542dbbc07e6010b76b61de8a453dc04d29cd1fae7fbaa29851ecbad9aefb83"
   }
  }
 },
 "nbformat": 4,
 "nbformat_minor": 2
}
